{
 "cells": [
  {
   "cell_type": "markdown",
   "id": "720f6d88-12e4-4cc8-9f30-39fc6bf479e7",
   "metadata": {},
   "source": [
    "Trying to run all code in one notebook, which is \"bad practice\", because apparently the alternative \"good practice\" is to have no clue what the hell is even running so there's zero way to even get the code to run, let alone debug it or, heaven forbid, actually think about modeling. So, the following is all \"redundant\"."
   ]
  },
  {
   "cell_type": "code",
   "execution_count": 1,
   "id": "7cab4458-3839-4c06-8f3b-e5e08bc63a0d",
   "metadata": {},
   "outputs": [],
   "source": [
    "using Pkg; Pkg.instantiate()"
   ]
  },
  {
   "cell_type": "code",
   "execution_count": 2,
   "id": "81d2a017-cd25-4252-badd-816c88fa4609",
   "metadata": {},
   "outputs": [],
   "source": [
    "using DifferentiableStateSpaceModels, DifferenceEquations, LinearAlgebra, Zygote, Plots, Symbolics"
   ]
  },
  {
   "cell_type": "markdown",
   "id": "7bc568c1-4fcf-4e9e-8f34-bc6086d21fc2",
   "metadata": {},
   "source": [
    "The following is an attempt at replicating Schmitt-Grohe and Uribe 2003 in our syntax. Eventually I will add shocks to this to turn it into something we can estimate, a task which took an extremely short time to do in Dynare, but previous attempts to do so here were badly messed up, maybe due to syntax issues with the original code.\n",
    "\n",
    "This is trying to convert the Dynare code of Cesa Bianchi (2012) https://sites.google.com/site/ambropo/dynarecodes\n",
    "to SGU form as in their original matlab code in http://www.columbia.edu/~mu2166/closing/edeir_model.m"
   ]
  },
  {
   "cell_type": "code",
   "execution_count": 3,
   "id": "043be502-4945-4a57-87c0-042cd1104279",
   "metadata": {},
   "outputs": [
    {
     "name": "stdout",
     "output_type": "stream",
     "text": [
      "\u001b[36mBuilding model up to order 1\u001b[39m\n",
      "\u001b[36mSubstituting and simplifying\u001b[39m\n",
      "\u001b[36mBuilding model functions\u001b[39m\n",
      "\u001b[36mSaved sgu4 to /Users/dchilder/.julia/packages/DifferentiableStateSpaceModels/qRvKd/.function_cache/sgu4.jl\u001b[39m\n"
     ]
    },
    {
     "data": {
      "text/plain": [
       "\"/Users/dchilder/.julia/packages/DifferentiableStateSpaceModels/qRvKd/.function_cache/sgu4.jl\""
      ]
     },
     "execution_count": 3,
     "metadata": {},
     "output_type": "execute_result"
    }
   ],
   "source": [
    "∞ = Inf\n",
    "# Parameters\n",
    "@variables γ, ω, ρ, σe, δ, ψ, α, ϕ, β, r_w, d_bar #, ρ_u, σu, ρ_v, σv\n",
    "# x and y\n",
    "@variables t::Integer, d(..), c(..), h(..), GDP(..), i(..), k(..), a(..), λ(..), tb(..),\n",
    "               ca(..), riskpremium(..), r(..), kfu(..)  #, ζ(..), μ(..)\n",
    "@variables Ω_1\n",
    "x = [d, k, r, a, riskpremium]\n",
    "y = [c, h, GDP, i, kfu, λ, tb, ca]\n",
    "p = [γ, ω, ρ, σe, δ, ψ, α, ϕ, β, r_w, d_bar, Ω_1] #ρ_u, σu, ρ_v, σv\n",
    "    \n",
    "# Model equations\n",
    "H = [d(t+1) - (1 + exp(r(t))) * d(t) + exp(GDP(t)) - exp(c(t)) - exp(i(t)) -\n",
    "    (ϕ / 2) * (exp(k(t+1)) - exp(k(t)))^2, #Debt evolution\n",
    "    exp(GDP(t)) - exp(a(t)) * (exp(k(t))^α) * (exp(h(t))^(1 - α)), #Production function\n",
    "    exp(k(t + 1)) - exp(i(t)) - (1 - δ) * exp(k(t)), #Capital evolution\n",
    "    exp(λ(t)) - β * (1 + exp(r(t+1))) * exp(λ(t + 1)), #* exp(μ(t)), #Euler equation\n",
    "    (exp(c(t)) - ((exp(h(t))^ω) / ω))^(-γ) - exp(λ(t)), #Marginal utility\n",
    "    ((exp(c(t)) - ((exp(h(t))^ω) / ω))^(-γ)) * (exp(h(t))^(ω - 1)) -\n",
    "    exp(λ(t)) * (1 - α) * exp(GDP(t)) / exp(h(t)), #Labor FOC\n",
    "    exp(λ(t)) * (1 + ϕ * (exp(k(t + 1)) - exp(k(t)))) -\n",
    "    β *\n",
    "    exp(λ(t + 1)) * # exp(μ(t)) *\n",
    "    (α * exp(GDP(t + 1)) / exp(k(t + 1)) + 1 - δ + ϕ * (exp(kfu(t + 1)) - exp(k(t + 1)))), #Investment FOC\n",
    "    exp(r(t+1)) - r_w - riskpremium(t+1), #Interest rate\n",
    "    riskpremium(t+1) - ψ * (exp(d(t+1) - d_bar) - 1), # - ζ(t), #Risk premium\n",
    "    tb(t) - 1 +\n",
    "    ((exp(c(t)) + exp(i(t)) + (ϕ / 2) * (exp(k(t + 1)) - exp(k(t)))^2) / exp(GDP(t))), #Trade Balance\n",
    "    ca(t) - (1 / -exp(GDP(t))) * (d(t) - d(t + 1)), #Current Account\n",
    "    kfu(t) - k(t + 1), #auxiliary future variable\n",
    "    a(t + 1) - ρ * a(t)] #, #TFP evolution\n",
    "    # ζ(t + 1) - ρ_u * ζ(t), #Risk premium shock\n",
    "    # μ(t + 1) - ρ_v * μ(t)] #Demand shock\n",
    "    \n",
    "#Define representations for steady state\n",
    "\n",
    "hstar = ((1 - α) * (α / (r_w + δ))^(α / (1 - α)))^(1 / (ω - 1))\n",
    "kstar = hstar / (((r_w + δ) / α)^(1 / (1 - α)))\n",
    "istar = δ * kstar\n",
    "GDPstar = (kstar^α) * (hstar^(1 - α))\n",
    "cstar = GDPstar - istar - r_w * d_bar\n",
    "tbstar = GDPstar - cstar - istar\n",
    "λstar = (cstar - ((hstar^ω) / ω))^(-γ)\n",
    "    \n",
    "#Steady state values\n",
    "    \n",
    "steady_states_iv = [a(∞) ~ 0, kfu(∞) ~ log(kstar),\n",
    "                     d(∞) ~ d_bar, c(∞) ~ log(cstar), h(∞) ~ log(hstar),\n",
    "                     GDP(∞) ~ log(GDPstar), i(∞) ~ log(istar), k(∞) ~ log(kstar),\n",
    "                     λ(∞) ~ log(λstar), tb(∞) ~ tbstar, ca(∞) ~ 0, riskpremium(∞) ~ 0,\n",
    "                     r(∞) ~ log((1 - β) / β)] #,\n",
    "                     #ζ(∞) ~ 0,\n",
    "                     #μ(∞) ~ 0]\n",
    "\n",
    "n_ϵ = 1 # 3\n",
    "n_x = length(x)\n",
    "n_y = length(y)\n",
    "Γ = [σe;;]\n",
    "#zeros(Num, n_ϵ, n_ϵ) # make sure it is not a float64 matrix\n",
    "#Γ[1, 1] = σe\n",
    "#Γ[2, 2] = σu\n",
    "#Γ[3, 3] = σv\n",
    "η = [1.; 1.; 1.; 1.; 1.;] #zeros(n_x, n_ϵ) # η is n_x * n_ϵ matrix\n",
    "#η[1, 1] = 1 # e\n",
    "#η[2, 2] = 1 # u\n",
    "#η[3, 3] = 1 # v\n",
    "\n",
    "n_z = 3 # number of observables\n",
    "Q = zeros(n_z, n_x + n_y) # the order is [y, x]\n",
    "Q[1, 3] = 1.0 # y i.e. GDP\n",
    "Q[2, 8] = 1.0 # ca\n",
    "Q[3, 11] = 1.0 # r\n",
    "\n",
    "Ω = [Ω_1, Ω_1, Ω_1]\n",
    "    \n",
    "# Generates the files and includes if required.\n",
    "#overwrite_model_cache  = true\n",
    "  \n",
    "model_sgu4 = make_perturbation_model(H; t, y, x, p, steady_states_iv, Γ, Ω, η, Q, max_order = 1, model_name=\"sgu4\")  "
   ]
  },
  {
   "cell_type": "markdown",
   "id": "a7f5528a-242d-4b2f-b912-2f13ef3ad37c",
   "metadata": {},
   "source": [
    "Now check a bunch of results to make sure it's not doing something crazy."
   ]
  },
  {
   "cell_type": "code",
   "execution_count": 4,
   "id": "d321ab20-d6d0-4411-b197-85da2335a029",
   "metadata": {},
   "outputs": [
    {
     "data": {
      "text/plain": [
       "Main.sgu4"
      ]
     },
     "execution_count": 4,
     "metadata": {},
     "output_type": "execute_result"
    }
   ],
   "source": [
    "include(\"/Users/dchilder/.julia/packages/DifferentiableStateSpaceModels/FjzWj/.function_cache/sgu4.jl\")"
   ]
  },
  {
   "cell_type": "code",
   "execution_count": 5,
   "id": "f6d187e7-9235-4638-9c02-740687c02ebc",
   "metadata": {},
   "outputs": [
    {
     "data": {
      "text/plain": [
       "Perturbation Model: n_y = 8, n_x = 5, n_p = 12, n_ϵ = 1, n_z = 3\n",
       " y = [:c, :h, :GDP, :i, :kfu, :λ, :tb, :ca] \n",
       " x = [:d, :k, :r, :a, :riskpremium] \n",
       " p = [:γ, :ω, :ρ, :σe, :δ, :ψ, :α, :ϕ, :β, :r_w, :d_bar, :Ω_1]"
      ]
     },
     "execution_count": 5,
     "metadata": {},
     "output_type": "execute_result"
    }
   ],
   "source": [
    "model_sgu = DifferentiableStateSpaceModels.PerturbationModel(getfield(Main, Symbol(\"sgu4\")))"
   ]
  },
  {
   "cell_type": "code",
   "execution_count": 6,
   "id": "14fb0ac5-07ec-49bb-855f-f49b59bf471d",
   "metadata": {},
   "outputs": [
    {
     "data": {
      "text/latex": [
       "$\\begin{equation}\n",
       "\\left[\n",
       "\\begin{array}{c}\n",
       " - e^{c\\left( t \\right)} - e^{i\\left( t \\right)} - \\frac{1}{2} \\left(  - e^{k\\left( t \\right)} + e^{k\\left( 1 + t \\right)} \\right)^{2} \\phi - \\left( 1 + e^{r\\left( t \\right)} \\right) d\\left( t \\right) + d\\left( 1 + t \\right) + e^{\\mathrm{GDP}\\left( t \\right)} \\\\\n",
       " - \\left( e^{k\\left( t \\right)} \\right)^{\\alpha} \\left( e^{h\\left( t \\right)} \\right)^{1 - \\alpha} e^{a\\left( t \\right)} + e^{\\mathrm{GDP}\\left( t \\right)} \\\\\n",
       " - e^{i\\left( t \\right)} - \\left( 1 - \\delta \\right) e^{k\\left( t \\right)} + e^{k\\left( 1 + t \\right)} \\\\\n",
       " - \\beta \\left( 1 + e^{r\\left( 1 + t \\right)} \\right) e^{\\lambda\\left( 1 + t \\right)} + e^{\\lambda\\left( t \\right)} \\\\\n",
       "\\left( \\frac{ - \\left( e^{h\\left( t \\right)} \\right)^{\\omega}}{\\omega} + e^{c\\left( t \\right)} \\right)^{ - \\gamma} - e^{\\lambda\\left( t \\right)} \\\\\n",
       "\\left( e^{h\\left( t \\right)} \\right)^{-1 + \\omega} \\left( \\frac{ - \\left( e^{h\\left( t \\right)} \\right)^{\\omega}}{\\omega} + e^{c\\left( t \\right)} \\right)^{ - \\gamma} + \\frac{ - \\left( 1 - \\alpha \\right) e^{\\mathrm{GDP}\\left( t \\right)} e^{\\lambda\\left( t \\right)}}{e^{h\\left( t \\right)}} \\\\\n",
       "\\left( 1 + \\phi \\left(  - e^{k\\left( t \\right)} + e^{k\\left( 1 + t \\right)} \\right) \\right) e^{\\lambda\\left( t \\right)} - \\beta \\left( 1 - \\delta + \\phi \\left(  - e^{k\\left( 1 + t \\right)} + e^{\\mathrm{kfu}\\left( 1 + t \\right)} \\right) + \\frac{\\alpha e^{\\mathrm{GDP}\\left( 1 + t \\right)}}{e^{k\\left( 1 + t \\right)}} \\right) e^{\\lambda\\left( 1 + t \\right)} \\\\\n",
       " - r_{w} - \\mathrm{riskpremium}\\left( 1 + t \\right) + e^{r\\left( 1 + t \\right)} \\\\\n",
       " - \\psi \\left( -1 + e^{ - d_{bar} + d\\left( 1 + t \\right)} \\right) + \\mathrm{riskpremium}\\left( 1 + t \\right) \\\\\n",
       "-1 + \\frac{\\frac{1}{2} \\left(  - e^{k\\left( t \\right)} + e^{k\\left( 1 + t \\right)} \\right)^{2} \\phi + e^{c\\left( t \\right)} + e^{i\\left( t \\right)}}{e^{\\mathrm{GDP}\\left( t \\right)}} + \\mathrm{tb}\\left( t \\right) \\\\\n",
       "\\frac{ - d\\left( 1 + t \\right) + d\\left( t \\right)}{e^{\\mathrm{GDP}\\left( t \\right)}} + \\mathrm{ca}\\left( t \\right) \\\\\n",
       " - k\\left( 1 + t \\right) + \\mathrm{kfu}\\left( t \\right) \\\\\n",
       " - \\rho a\\left( t \\right) + a\\left( 1 + t \\right) \\\\\n",
       "\\end{array}\n",
       "\\right]\n",
       "\\end{equation}\n",
       "$"
      ],
      "text/plain": [
       "\"\\$\\\\begin{equation}\\n\\\\left[\\n\\\\begin{array}{c}\\n - e^{c\\\\left( t \\\\right)} - e^{i\\\\left( t \\\\right)} - \\\\frac{1}{2} \\\\left(  - e^{k\\\\left( t \\\\right)} + e^{k\\\\left( 1 + t \\\\right)} \\\\right)^{2} \\\\phi - \\\\left( 1 + e^{r\\\\left( t \\\\right)} \\\\right) d\\\\left( t \\\\right) + d\\\\left( 1 + t \\\\right) + e\" ⋯ 1626 bytes ⋯ \"\\\\\\\\\\n\\\\frac{ - d\\\\left( 1 + t \\\\right) + d\\\\left( t \\\\right)}{e^{\\\\mathrm{GDP}\\\\left( t \\\\right)}} + \\\\mathrm{ca}\\\\left( t \\\\right) \\\\\\\\\\n - k\\\\left( 1 + t \\\\right) + \\\\mathrm{kfu}\\\\left( t \\\\right) \\\\\\\\\\n - \\\\rho a\\\\left( t \\\\right) + a\\\\left( 1 + t \\\\right) \\\\\\\\\\n\\\\end{array}\\n\\\\right]\\n\\\\end{equation}\\n\\$\""
      ]
     },
     "execution_count": 6,
     "metadata": {},
     "output_type": "execute_result"
    }
   ],
   "source": [
    "model_H_latex(model_sgu)"
   ]
  },
  {
   "cell_type": "code",
   "execution_count": 7,
   "id": "2ccb715f-a07a-4197-a7b3-382ac042ded9",
   "metadata": {},
   "outputs": [
    {
     "name": "stdout",
     "output_type": "stream",
     "text": [
      "(model_sgu.n_x, model_sgu.n_y, model_sgu.n_ϵ, model_sgu.n_z) = (5, 8, 1, 3)\n"
     ]
    },
    {
     "data": {
      "text/plain": [
       "(5, 8, 1, 3)"
      ]
     },
     "execution_count": 7,
     "metadata": {},
     "output_type": "execute_result"
    }
   ],
   "source": [
    "@show model_sgu.n_x, model_sgu.n_y, model_sgu.n_ϵ, model_sgu.n_z"
   ]
  },
  {
   "cell_type": "code",
   "execution_count": 8,
   "id": "3597fd6e-0960-4957-9d35-2c08e3ade923",
   "metadata": {},
   "outputs": [
    {
     "name": "stdout",
     "output_type": "stream",
     "text": [
      "sol.retcode = :Success\n"
     ]
    },
    {
     "data": {
      "text/plain": [
       ":Success"
      ]
     },
     "execution_count": 8,
     "metadata": {},
     "output_type": "execute_result"
    }
   ],
   "source": [
    "p_f = (; γ = 2.0, ω = 1.455, σe = 0.0129, δ = 0.1, ψ = 0.000742,\n",
    "              ϕ = 0.028, r_w = 0.04, d_bar = 0.7442, Ω_1 = 0.00316)\n",
    "p_d = (; ρ = 0.42, α = 0.32, β = 1.0 / (1.0 + 0.04))\n",
    "\n",
    "sol = generate_perturbation(model_sgu, p_d, p_f) # Solution to the first-order model\n",
    "@show sol.retcode\n",
    "\n",
    "#verify_steady_state(model_sgu, p_d, p_f) # the final call checks the analytically provided steady-state solution"
   ]
  },
  {
   "cell_type": "markdown",
   "id": "e33bac2f-6311-4984-af68-3949743fda5c",
   "metadata": {},
   "source": [
    "Try 1: Nice to see a big `:FAILURE` there. Also, it thinks that `a` is undefined for some reason. Oh. Because it was. That will mess things up. Let's go back and fix it. \n",
    "\n",
    "Try 2: Added a and also d (for comparability to the SGU code) to the x list. Result: `:Blanchard_Kahn_Failure` Would be nice to know if BK failed with too many or too few stable eigenvalues.\n",
    "\n",
    "Try 3: Moved riskpremium from y to x. `sol.retcode = :Success` !! Save this and then check the rest of the tests."
   ]
  },
  {
   "cell_type": "code",
   "execution_count": 9,
   "id": "6fb48818-9d95-4649-8801-1fa373b7d83a",
   "metadata": {},
   "outputs": [
    {
     "name": "stdout",
     "output_type": "stream",
     "text": [
      "(sol.Q, sol.η, sol.Γ) = ([0.0 0.0 1.0 0.0 0.0 0.0 0.0 0.0 0.0 0.0 0.0 0.0 0.0; 0.0 0.0 0.0 0.0 0.0 0.0 0.0 1.0 0.0 0.0 0.0 0.0 0.0; 0.0 0.0 0.0 0.0 0.0 0.0 0.0 0.0 0.0 0.0 1.0 0.0 0.0], [1.0; 1.0; 1.0; 1.0; 1.0;;], [0.0129;;])\n",
      "(sol.n_y, sol.n_x, sol.n_ϵ, sol.n_z, sol.n_p) = (8, 5, 1, 3, 12)\n",
      "(sol.x_symbols, sol.y_symbols, sol.p_symbols) = ([:d, :k, :r, :a, :riskpremium], [:c, :h, :GDP, :i, :kfu, :λ, :tb, :ca], [:γ, :ω, :ρ, :σe, :δ, :ψ, :α, :ϕ, :β, :r_w, :d_bar, :Ω_1])\n"
     ]
    }
   ],
   "source": [
    "# A few checks\n",
    "@show sol.Q, sol.η, sol.Γ; # various matrices for loading of shocks and observations\n",
    "@show sol.n_y, sol.n_x, sol.n_ϵ, sol.n_z, sol.n_p # sizes of model\n",
    "@show sol.x_symbols, sol.y_symbols, sol.p_symbols; # the order of symbols for the x vector"
   ]
  },
  {
   "cell_type": "code",
   "execution_count": 10,
   "id": "6850129e-805e-425e-824c-23bd70ed9a82",
   "metadata": {},
   "outputs": [
    {
     "ename": "LoadError",
     "evalue": "DimensionMismatch(\"vectors must have same lengths\")",
     "output_type": "error",
     "traceback": [
      "DimensionMismatch(\"vectors must have same lengths\")",
      "",
      "Stacktrace:",
      " [1] hcat",
      "   @ ./array.jl:1804 [inlined]",
      " [2] verify_steady_state(m::PerturbationModel{1, true, Matrix{Float64}, Matrix{Float64}}, p_d::NamedTuple{(:ρ, :α, :β), Tuple{Float64, Float64, Float64}}, p_f::NamedTuple{(:γ, :ω, :σe, :δ, :ψ, :ϕ, :r_w, :d_bar, :Ω_1), NTuple{9, Float64}}; atol::Float64, args::Base.Pairs{Symbol, Union{}, Tuple{}, NamedTuple{(), Tuple{}}})",
      "   @ DifferentiableStateSpaceModels ~/.julia/packages/DifferentiableStateSpaceModels/qRvKd/src/generate_perturbation.jl:31",
      " [3] verify_steady_state(m::PerturbationModel{1, true, Matrix{Float64}, Matrix{Float64}}, p_d::NamedTuple{(:ρ, :α, :β), Tuple{Float64, Float64, Float64}}, p_f::NamedTuple{(:γ, :ω, :σe, :δ, :ψ, :ϕ, :r_w, :d_bar, :Ω_1), NTuple{9, Float64}})",
      "   @ DifferentiableStateSpaceModels ~/.julia/packages/DifferentiableStateSpaceModels/qRvKd/src/generate_perturbation.jl:27",
      " [4] top-level scope",
      "   @ In[10]:1",
      " [5] eval",
      "   @ ./boot.jl:373 [inlined]",
      " [6] include_string(mapexpr::typeof(REPL.softscope), mod::Module, code::String, filename::String)",
      "   @ Base ./loading.jl:1196"
     ]
    }
   ],
   "source": [
    "verify_steady_state(model_sgu, p_d, p_f) # this call checks the analytically provided steady-state solution"
   ]
  },
  {
   "cell_type": "markdown",
   "id": "d0e25129-e9a8-4406-bb96-53e6d34f4074",
   "metadata": {},
   "source": [
    "OK! We used the numerical steady state for above calculations, so in principle we shouldn't be worried about the error here, but we do want to fix it if we can just because analytical solutions are faster. `DimensionMismatch(\"vectors must have same lengths\")` indicates a straightforward problem of missing, added, or misshapen variables. I will come back to this later. "
   ]
  },
  {
   "cell_type": "code",
   "execution_count": 11,
   "id": "e190d512-3639-4c82-bdaa-85e76a21fa05",
   "metadata": {},
   "outputs": [
    {
     "data": {
      "text/plain": [
       "retcode: Success\n",
       "Interpolation: Piecewise constant interpolation\n",
       "t: 0:40\n",
       "u: 41-element Vector{Vector{Float64}}:\n",
       " [0.0, 0.0, 0.0, 0.0, 0.0]\n",
       " [0.0129, 0.0129, 0.0129, 0.0129, 0.0129]\n",
       " [0.0027990649237939168, 0.015036769679864337, 5.192265433638541e-5, 0.005417999999999999, 2.076906173455434e-6]\n",
       " [-0.017735832055043935, 0.01114608888355534, -0.0003289996846211031, 0.0022755599999999994, -1.3159987384844292e-5]\n",
       " [-0.034016808341698034, 0.007222844087337331, -0.0006310117947385765, 0.0009557351999999996, -2.5240471789543243e-5]\n",
       " [-0.04445653037145691, 0.004480257936713802, -0.0008246686383906297, 0.0004014087839999999, -3.2986745535625354e-5]\n",
       " [-0.05050529132424475, 0.002804360929176335, -0.0009368731540648597, 0.00016859168928000005, -3.747492616259453e-5]\n",
       " [-0.0537839809384365, 0.0018492848687290807, -0.0009976928464081251, 7.080850949760015e-5, -3.9907713856325115e-5]\n",
       " [-0.05545692694369774, 0.0013273411773502464, -0.0010287259948057255, 2.97395739889922e-5, -4.1149039792229125e-5]\n",
       " [-0.05624425185312483, 0.0010496318256911078, -0.0010433308718756, 1.249062107537687e-5, -4.1733234875024095e-5]\n",
       " [-0.056558858697390475, 0.0009042874288341364, -0.0010491668288367284, 5.2460608516584335e-6, -4.196667315346924e-5]\n",
       " [-0.056626954374576294, 0.0008287746831103904, -0.0010504300036485257, 2.2033455576966907e-6, -4.201720014594112e-5]\n",
       " [-0.05656877401801519, 0.000789398643809281, -0.001049350758034317, 9.254051342327587e-7, -4.1974030321372774e-5]\n",
       " ⋮\n",
       " [-0.05361619186031713, 0.0007119649234524752, -0.0009945803590090112, 3.6439308952811675e-13, -3.978321436036054e-5]\n",
       " [-0.05344037907876163, 0.0007096302324098428, -0.0009913190319111563, 1.530452383347346e-13, -3.965276127644635e-5]\n",
       " [-0.05326514265681228, 0.0007073032407977351, -0.0009880683962839951, 6.427914037203674e-14, -3.952273585135989e-5]\n",
       " [-0.05309048078194638, 0.0007049839006157779, -0.0009848284185052323, 2.699737876773923e-14, -3.939313674020937e-5]\n",
       " [-0.05291639160731364, 0.0007026721758533052, -0.0009815990643157945, 1.1339038435478005e-14, -3.9263962572631865e-5]\n",
       " [-0.05274287327278731, 0.0007003680362996736, -0.0009783802992103308, 4.762535038975282e-15, -3.913521196841332e-5]\n",
       " [-0.052569923915064626, 0.000698071454570181, -0.0009751720886245746, 2.000403156989497e-15, -3.9006883544983066e-5]\n",
       " [-0.052397541672504586, 0.0006957824046779294, -0.0009719743980250855, 8.403073125942948e-16, -3.8878975921003504e-5]\n",
       " [-0.05222572468743842, 0.0006935008613483655, -0.0009687871929521077, 3.5306660547571626e-16, -3.875148771808439e-5]\n",
       " [-0.0520544711072671, 0.0006912267996903764, -0.0009656104390399293, 1.484250574970211e-16, -3.862441756159725e-5]\n",
       " [-0.05188377908497702, 0.0006889601950384699, -0.000962444102026448, 6.247515783591484e-17, -3.8497764081058e-5]\n",
       " [-0.051713646779376746, 0.0006867010228770041, -0.0009592881477575624, 2.6375751942185386e-17, -3.837152591030258e-5]"
      ]
     },
     "execution_count": 11,
     "metadata": {},
     "output_type": "execute_result"
    }
   ],
   "source": [
    "#Generate an IRF to a TFP shock\n",
    "T = 40\n",
    "ϵ0 = [1.0]\n",
    "val1 = irf(sol, ϵ0, T) #e"
   ]
  },
  {
   "cell_type": "code",
   "execution_count": 12,
   "id": "8c0513b2-d512-44a1-a141-94e3144cdff6",
   "metadata": {},
   "outputs": [
    {
     "name": "stdout",
     "output_type": "stream",
     "text": [
      "[[0.0, 0.0, 0.0], [0.03196869677419358, -0.006795170741809863, 0.0129], [0.019205561242509488, -0.01381437758820732, 5.192265433638541e-5], [0.010968462947333387, -0.010952650707732835, -0.0003289996846211031], [0.006133614094276473, -0.007023081838863801, -0.0006310117947385765], [0.00344523596910187, -0.004069164205144455, -0.0008246686383906297], [0.0020013049761637464, -0.0022056627005070974, -0.0009368731540648597], [0.0012439398918700248, -0.0011254357801345934, -0.0009976928464081251], [0.0008532659771977536, -0.0005296546456812263, -0.0010287259948057255], [0.000654041847363166, -0.0002116444870894043, -0.0010433308718756], [0.0005531216069733385, -4.58097938226307e-5, -0.0010491668288367284], [0.0005020430454743829, 3.9139490915390295e-5, -0.0010504300036485257], [0.0004759877071327874, 8.200600340944907e-5, -0.001049350758034317], [0.0004623981951565074, 0.00010332170678245102, -0.0010470894966471992], [0.0004549806627361877, 0.00011373399325192299, -0.0010442404688164957], [0.0004506043239446809, 0.00011868208319351614, -0.0010411043290626872], [0.000447721314531253, 0.00012091275800445857, -0.001037831748996466], [0.0004455702002753643, 0.0001218006162924997, -0.0010344976595454741], [0.0004437779653966431, 0.0001220285872203247, -0.0010311390879885328], [0.00044216250618839135, 0.00012193396816584104, -0.0010277742302838091], [0.00044063517719985823, 0.00012168254252862178, -0.0010244119816370263], [0.00043915293008613956, 0.00012135546501432747, -0.0010210566658861474], [0.0004376948996017747, 0.00012099232778056292, -0.001017710369081723], [0.00043625098665588905, 0.00012061239029271352, -0.0010143740855467034], [0.0004348163066007685, 0.00012022499755832527, -0.0010110482785369995], [0.0004333884959129811, 0.0001198346734921357, -0.0010077331536261119], [0.00043196640817949855, 0.00011944360314362452, -0.001004428791643579], [0.00043054948381580005, 0.00011905283916971943, -0.0010011352131676424], [0.0004291374458722041, 0.00011866288690396171, -0.000997852409750225], [0.000427730153406019, 0.00011827398753174003, -0.0009945803590090112], [0.00042632753088090835, 0.00011788625492056697, -0.0009913190319111563], [0.00042492953420509926, 0.00011749974164216217, -0.0009880683962839951], [0.00042353613440772607, 0.00011711447078962943, -0.0009848284185052323], [0.00042214730979844845, 0.00011673045129439602, -0.0009815990643157945], [0.0004207630422039456, 0.00011634768529305756, -0.0009783802992103308], [0.00041938331516230604, 0.00011596617166769931, -0.0009751720886245746], [0.0004180081130571186, 0.00011558590774609201, -0.0009719743980250855], [0.0004166374207023393, 0.00011520689011768509, -0.0009687871929521077], [0.0004152712231432974, 0.0001148291150250161, -0.0009656104390399293], [0.00041390950556129396, 0.0001144525785513626, -0.000962444102026448], [0.00041255225322783454, 0.00011407727671065797, -0.0009592881477575624]]\n"
     ]
    }
   ],
   "source": [
    "println(val1.z) #Display IRF of observables"
   ]
  },
  {
   "cell_type": "code",
   "execution_count": 13,
   "id": "41b08428-cf45-4cdd-9cbf-5b99ee315028",
   "metadata": {},
   "outputs": [
    {
     "data": {
      "image/svg+xml": [
       "<?xml version=\"1.0\" encoding=\"utf-8\"?>\n",
       "<svg xmlns=\"http://www.w3.org/2000/svg\" xmlns:xlink=\"http://www.w3.org/1999/xlink\" width=\"600\" height=\"400\" viewBox=\"0 0 2400 1600\">\n",
       "<defs>\n",
       "  <clipPath id=\"clip130\">\n",
       "    <rect x=\"0\" y=\"0\" width=\"2400\" height=\"1600\"/>\n",
       "  </clipPath>\n",
       "</defs>\n",
       "<path clip-path=\"url(#clip130)\" d=\"\n",
       "M0 1600 L2400 1600 L2400 0 L0 0  Z\n",
       "  \" fill=\"#ffffff\" fill-rule=\"evenodd\" fill-opacity=\"1\"/>\n",
       "<defs>\n",
       "  <clipPath id=\"clip131\">\n",
       "    <rect x=\"480\" y=\"0\" width=\"1681\" height=\"1600\"/>\n",
       "  </clipPath>\n",
       "</defs>\n",
       "<path clip-path=\"url(#clip130)\" d=\"\n",
       "M224.584 1423.18 L2352.76 1423.18 L2352.76 47.2441 L224.584 47.2441  Z\n",
       "  \" fill=\"#ffffff\" fill-rule=\"evenodd\" fill-opacity=\"1\"/>\n",
       "<defs>\n",
       "  <clipPath id=\"clip132\">\n",
       "    <rect x=\"224\" y=\"47\" width=\"2129\" height=\"1377\"/>\n",
       "  </clipPath>\n",
       "</defs>\n",
       "<polyline clip-path=\"url(#clip132)\" style=\"stroke:#000000; stroke-linecap:butt; stroke-linejoin:round; stroke-width:2; stroke-opacity:0.1; fill:none\" points=\"\n",
       "  224.584,1423.18 224.584,47.2441 \n",
       "  \"/>\n",
       "<polyline clip-path=\"url(#clip132)\" style=\"stroke:#000000; stroke-linecap:butt; stroke-linejoin:round; stroke-width:2; stroke-opacity:0.1; fill:none\" points=\"\n",
       "  756.627,1423.18 756.627,47.2441 \n",
       "  \"/>\n",
       "<polyline clip-path=\"url(#clip132)\" style=\"stroke:#000000; stroke-linecap:butt; stroke-linejoin:round; stroke-width:2; stroke-opacity:0.1; fill:none\" points=\"\n",
       "  1288.67,1423.18 1288.67,47.2441 \n",
       "  \"/>\n",
       "<polyline clip-path=\"url(#clip132)\" style=\"stroke:#000000; stroke-linecap:butt; stroke-linejoin:round; stroke-width:2; stroke-opacity:0.1; fill:none\" points=\"\n",
       "  1820.71,1423.18 1820.71,47.2441 \n",
       "  \"/>\n",
       "<polyline clip-path=\"url(#clip132)\" style=\"stroke:#000000; stroke-linecap:butt; stroke-linejoin:round; stroke-width:2; stroke-opacity:0.1; fill:none\" points=\"\n",
       "  2352.76,1423.18 2352.76,47.2441 \n",
       "  \"/>\n",
       "<polyline clip-path=\"url(#clip130)\" style=\"stroke:#000000; stroke-linecap:butt; stroke-linejoin:round; stroke-width:4; stroke-opacity:1; fill:none\" points=\"\n",
       "  224.584,1423.18 2352.76,1423.18 \n",
       "  \"/>\n",
       "<polyline clip-path=\"url(#clip130)\" style=\"stroke:#000000; stroke-linecap:butt; stroke-linejoin:round; stroke-width:4; stroke-opacity:1; fill:none\" points=\"\n",
       "  224.584,1423.18 224.584,1404.28 \n",
       "  \"/>\n",
       "<polyline clip-path=\"url(#clip130)\" style=\"stroke:#000000; stroke-linecap:butt; stroke-linejoin:round; stroke-width:4; stroke-opacity:1; fill:none\" points=\"\n",
       "  756.627,1423.18 756.627,1404.28 \n",
       "  \"/>\n",
       "<polyline clip-path=\"url(#clip130)\" style=\"stroke:#000000; stroke-linecap:butt; stroke-linejoin:round; stroke-width:4; stroke-opacity:1; fill:none\" points=\"\n",
       "  1288.67,1423.18 1288.67,1404.28 \n",
       "  \"/>\n",
       "<polyline clip-path=\"url(#clip130)\" style=\"stroke:#000000; stroke-linecap:butt; stroke-linejoin:round; stroke-width:4; stroke-opacity:1; fill:none\" points=\"\n",
       "  1820.71,1423.18 1820.71,1404.28 \n",
       "  \"/>\n",
       "<polyline clip-path=\"url(#clip130)\" style=\"stroke:#000000; stroke-linecap:butt; stroke-linejoin:round; stroke-width:4; stroke-opacity:1; fill:none\" points=\"\n",
       "  2352.76,1423.18 2352.76,1404.28 \n",
       "  \"/>\n",
       "<path clip-path=\"url(#clip130)\" d=\"M224.584 1454.1 Q220.973 1454.1 219.144 1457.66 Q217.339 1461.2 217.339 1468.33 Q217.339 1475.44 219.144 1479.01 Q220.973 1482.55 224.584 1482.55 Q228.218 1482.55 230.024 1479.01 Q231.852 1475.44 231.852 1468.33 Q231.852 1461.2 230.024 1457.66 Q228.218 1454.1 224.584 1454.1 M224.584 1450.39 Q230.394 1450.39 233.45 1455 Q236.528 1459.58 236.528 1468.33 Q236.528 1477.06 233.45 1481.67 Q230.394 1486.25 224.584 1486.25 Q218.774 1486.25 215.695 1481.67 Q212.64 1477.06 212.64 1468.33 Q212.64 1459.58 215.695 1455 Q218.774 1450.39 224.584 1450.39 Z\" fill=\"#000000\" fill-rule=\"evenodd\" fill-opacity=\"1\" /><path clip-path=\"url(#clip130)\" d=\"M731.315 1481.64 L738.953 1481.64 L738.953 1455.28 L730.643 1456.95 L730.643 1452.69 L738.907 1451.02 L743.583 1451.02 L743.583 1481.64 L751.222 1481.64 L751.222 1485.58 L731.315 1485.58 L731.315 1481.64 Z\" fill=\"#000000\" fill-rule=\"evenodd\" fill-opacity=\"1\" /><path clip-path=\"url(#clip130)\" d=\"M770.666 1454.1 Q767.055 1454.1 765.226 1457.66 Q763.421 1461.2 763.421 1468.33 Q763.421 1475.44 765.226 1479.01 Q767.055 1482.55 770.666 1482.55 Q774.3 1482.55 776.106 1479.01 Q777.935 1475.44 777.935 1468.33 Q777.935 1461.2 776.106 1457.66 Q774.3 1454.1 770.666 1454.1 M770.666 1450.39 Q776.476 1450.39 779.532 1455 Q782.611 1459.58 782.611 1468.33 Q782.611 1477.06 779.532 1481.67 Q776.476 1486.25 770.666 1486.25 Q764.856 1486.25 761.777 1481.67 Q758.722 1477.06 758.722 1468.33 Q758.722 1459.58 761.777 1455 Q764.856 1450.39 770.666 1450.39 Z\" fill=\"#000000\" fill-rule=\"evenodd\" fill-opacity=\"1\" /><path clip-path=\"url(#clip130)\" d=\"M1267.44 1481.64 L1283.76 1481.64 L1283.76 1485.58 L1261.82 1485.58 L1261.82 1481.64 Q1264.48 1478.89 1269.06 1474.26 Q1273.67 1469.61 1274.85 1468.27 Q1277.1 1465.74 1277.98 1464.01 Q1278.88 1462.25 1278.88 1460.56 Q1278.88 1457.8 1276.93 1456.07 Q1275.01 1454.33 1271.91 1454.33 Q1269.71 1454.33 1267.26 1455.09 Q1264.83 1455.86 1262.05 1457.41 L1262.05 1452.69 Q1264.87 1451.55 1267.33 1450.97 Q1269.78 1450.39 1271.82 1450.39 Q1277.19 1450.39 1280.38 1453.08 Q1283.58 1455.77 1283.58 1460.26 Q1283.58 1462.39 1282.77 1464.31 Q1281.98 1466.2 1279.87 1468.8 Q1279.29 1469.47 1276.19 1472.69 Q1273.09 1475.88 1267.44 1481.64 Z\" fill=\"#000000\" fill-rule=\"evenodd\" fill-opacity=\"1\" /><path clip-path=\"url(#clip130)\" d=\"M1303.58 1454.1 Q1299.97 1454.1 1298.14 1457.66 Q1296.33 1461.2 1296.33 1468.33 Q1296.33 1475.44 1298.14 1479.01 Q1299.97 1482.55 1303.58 1482.55 Q1307.21 1482.55 1309.02 1479.01 Q1310.85 1475.44 1310.85 1468.33 Q1310.85 1461.2 1309.02 1457.66 Q1307.21 1454.1 1303.58 1454.1 M1303.58 1450.39 Q1309.39 1450.39 1312.44 1455 Q1315.52 1459.58 1315.52 1468.33 Q1315.52 1477.06 1312.44 1481.67 Q1309.39 1486.25 1303.58 1486.25 Q1297.77 1486.25 1294.69 1481.67 Q1291.63 1477.06 1291.63 1468.33 Q1291.63 1459.58 1294.69 1455 Q1297.77 1450.39 1303.58 1450.39 Z\" fill=\"#000000\" fill-rule=\"evenodd\" fill-opacity=\"1\" /><path clip-path=\"url(#clip130)\" d=\"M1809.56 1466.95 Q1812.91 1467.66 1814.79 1469.93 Q1816.69 1472.2 1816.69 1475.53 Q1816.69 1480.65 1813.17 1483.45 Q1809.65 1486.25 1803.17 1486.25 Q1800.99 1486.25 1798.68 1485.81 Q1796.38 1485.39 1793.93 1484.54 L1793.93 1480.02 Q1795.88 1481.16 1798.19 1481.74 Q1800.5 1482.32 1803.03 1482.32 Q1807.43 1482.32 1809.72 1480.58 Q1812.03 1478.84 1812.03 1475.53 Q1812.03 1472.48 1809.88 1470.77 Q1807.75 1469.03 1803.93 1469.03 L1799.9 1469.03 L1799.9 1465.19 L1804.12 1465.19 Q1807.56 1465.19 1809.39 1463.82 Q1811.22 1462.43 1811.22 1459.84 Q1811.22 1457.18 1809.32 1455.77 Q1807.45 1454.33 1803.93 1454.33 Q1802.01 1454.33 1799.81 1454.75 Q1797.61 1455.16 1794.97 1456.04 L1794.97 1451.88 Q1797.63 1451.14 1799.95 1450.77 Q1802.29 1450.39 1804.35 1450.39 Q1809.67 1450.39 1812.77 1452.83 Q1815.87 1455.23 1815.87 1459.35 Q1815.87 1462.22 1814.23 1464.21 Q1812.59 1466.18 1809.56 1466.95 Z\" fill=\"#000000\" fill-rule=\"evenodd\" fill-opacity=\"1\" /><path clip-path=\"url(#clip130)\" d=\"M1835.55 1454.1 Q1831.94 1454.1 1830.11 1457.66 Q1828.31 1461.2 1828.31 1468.33 Q1828.31 1475.44 1830.11 1479.01 Q1831.94 1482.55 1835.55 1482.55 Q1839.19 1482.55 1840.99 1479.01 Q1842.82 1475.44 1842.82 1468.33 Q1842.82 1461.2 1840.99 1457.66 Q1839.19 1454.1 1835.55 1454.1 M1835.55 1450.39 Q1841.36 1450.39 1844.42 1455 Q1847.5 1459.58 1847.5 1468.33 Q1847.5 1477.06 1844.42 1481.67 Q1841.36 1486.25 1835.55 1486.25 Q1829.74 1486.25 1826.66 1481.67 Q1823.61 1477.06 1823.61 1468.33 Q1823.61 1459.58 1826.66 1455 Q1829.74 1450.39 1835.55 1450.39 Z\" fill=\"#000000\" fill-rule=\"evenodd\" fill-opacity=\"1\" /><path clip-path=\"url(#clip130)\" d=\"M2340.93 1455.09 L2329.12 1473.54 L2340.93 1473.54 L2340.93 1455.09 M2339.7 1451.02 L2345.58 1451.02 L2345.58 1473.54 L2350.51 1473.54 L2350.51 1477.43 L2345.58 1477.43 L2345.58 1485.58 L2340.93 1485.58 L2340.93 1477.43 L2325.33 1477.43 L2325.33 1472.92 L2339.7 1451.02 Z\" fill=\"#000000\" fill-rule=\"evenodd\" fill-opacity=\"1\" /><path clip-path=\"url(#clip130)\" d=\"M2368.24 1454.1 Q2364.63 1454.1 2362.8 1457.66 Q2361 1461.2 2361 1468.33 Q2361 1475.44 2362.8 1479.01 Q2364.63 1482.55 2368.24 1482.55 Q2371.88 1482.55 2373.68 1479.01 Q2375.51 1475.44 2375.51 1468.33 Q2375.51 1461.2 2373.68 1457.66 Q2371.88 1454.1 2368.24 1454.1 M2368.24 1450.39 Q2374.05 1450.39 2377.11 1455 Q2380.19 1459.58 2380.19 1468.33 Q2380.19 1477.06 2377.11 1481.67 Q2374.05 1486.25 2368.24 1486.25 Q2362.43 1486.25 2359.35 1481.67 Q2356.3 1477.06 2356.3 1468.33 Q2356.3 1459.58 2359.35 1455 Q2362.43 1450.39 2368.24 1450.39 Z\" fill=\"#000000\" fill-rule=\"evenodd\" fill-opacity=\"1\" /><path clip-path=\"url(#clip130)\" d=\"M1287.73 1522.27 L1287.73 1532.4 L1299.79 1532.4 L1299.79 1536.95 L1287.73 1536.95 L1287.73 1556.3 Q1287.73 1560.66 1288.91 1561.9 Q1290.12 1563.14 1293.78 1563.14 L1299.79 1563.14 L1299.79 1568.04 L1293.78 1568.04 Q1287 1568.04 1284.42 1565.53 Q1281.84 1562.98 1281.84 1556.3 L1281.84 1536.95 L1277.55 1536.95 L1277.55 1532.4 L1281.84 1532.4 L1281.84 1522.27 L1287.73 1522.27 Z\" fill=\"#000000\" fill-rule=\"evenodd\" fill-opacity=\"1\" /><polyline clip-path=\"url(#clip132)\" style=\"stroke:#000000; stroke-linecap:butt; stroke-linejoin:round; stroke-width:2; stroke-opacity:0.1; fill:none\" points=\"\n",
       "  224.584,1264.2 2352.76,1264.2 \n",
       "  \"/>\n",
       "<polyline clip-path=\"url(#clip132)\" style=\"stroke:#000000; stroke-linecap:butt; stroke-linejoin:round; stroke-width:2; stroke-opacity:0.1; fill:none\" points=\"\n",
       "  224.584,1083.07 2352.76,1083.07 \n",
       "  \"/>\n",
       "<polyline clip-path=\"url(#clip132)\" style=\"stroke:#000000; stroke-linecap:butt; stroke-linejoin:round; stroke-width:2; stroke-opacity:0.1; fill:none\" points=\"\n",
       "  224.584,901.941 2352.76,901.941 \n",
       "  \"/>\n",
       "<polyline clip-path=\"url(#clip132)\" style=\"stroke:#000000; stroke-linecap:butt; stroke-linejoin:round; stroke-width:2; stroke-opacity:0.1; fill:none\" points=\"\n",
       "  224.584,720.81 2352.76,720.81 \n",
       "  \"/>\n",
       "<polyline clip-path=\"url(#clip132)\" style=\"stroke:#000000; stroke-linecap:butt; stroke-linejoin:round; stroke-width:2; stroke-opacity:0.1; fill:none\" points=\"\n",
       "  224.584,539.679 2352.76,539.679 \n",
       "  \"/>\n",
       "<polyline clip-path=\"url(#clip132)\" style=\"stroke:#000000; stroke-linecap:butt; stroke-linejoin:round; stroke-width:2; stroke-opacity:0.1; fill:none\" points=\"\n",
       "  224.584,358.548 2352.76,358.548 \n",
       "  \"/>\n",
       "<polyline clip-path=\"url(#clip132)\" style=\"stroke:#000000; stroke-linecap:butt; stroke-linejoin:round; stroke-width:2; stroke-opacity:0.1; fill:none\" points=\"\n",
       "  224.584,177.417 2352.76,177.417 \n",
       "  \"/>\n",
       "<polyline clip-path=\"url(#clip130)\" style=\"stroke:#000000; stroke-linecap:butt; stroke-linejoin:round; stroke-width:4; stroke-opacity:1; fill:none\" points=\"\n",
       "  224.584,1423.18 224.584,47.2441 \n",
       "  \"/>\n",
       "<polyline clip-path=\"url(#clip130)\" style=\"stroke:#000000; stroke-linecap:butt; stroke-linejoin:round; stroke-width:4; stroke-opacity:1; fill:none\" points=\"\n",
       "  224.584,1264.2 243.482,1264.2 \n",
       "  \"/>\n",
       "<polyline clip-path=\"url(#clip130)\" style=\"stroke:#000000; stroke-linecap:butt; stroke-linejoin:round; stroke-width:4; stroke-opacity:1; fill:none\" points=\"\n",
       "  224.584,1083.07 243.482,1083.07 \n",
       "  \"/>\n",
       "<polyline clip-path=\"url(#clip130)\" style=\"stroke:#000000; stroke-linecap:butt; stroke-linejoin:round; stroke-width:4; stroke-opacity:1; fill:none\" points=\"\n",
       "  224.584,901.941 243.482,901.941 \n",
       "  \"/>\n",
       "<polyline clip-path=\"url(#clip130)\" style=\"stroke:#000000; stroke-linecap:butt; stroke-linejoin:round; stroke-width:4; stroke-opacity:1; fill:none\" points=\"\n",
       "  224.584,720.81 243.482,720.81 \n",
       "  \"/>\n",
       "<polyline clip-path=\"url(#clip130)\" style=\"stroke:#000000; stroke-linecap:butt; stroke-linejoin:round; stroke-width:4; stroke-opacity:1; fill:none\" points=\"\n",
       "  224.584,539.679 243.482,539.679 \n",
       "  \"/>\n",
       "<polyline clip-path=\"url(#clip130)\" style=\"stroke:#000000; stroke-linecap:butt; stroke-linejoin:round; stroke-width:4; stroke-opacity:1; fill:none\" points=\"\n",
       "  224.584,358.548 243.482,358.548 \n",
       "  \"/>\n",
       "<polyline clip-path=\"url(#clip130)\" style=\"stroke:#000000; stroke-linecap:butt; stroke-linejoin:round; stroke-width:4; stroke-opacity:1; fill:none\" points=\"\n",
       "  224.584,177.417 243.482,177.417 \n",
       "  \"/>\n",
       "<path clip-path=\"url(#clip130)\" d=\"M52.4736 1264.65 L82.1494 1264.65 L82.1494 1268.59 L52.4736 1268.59 L52.4736 1264.65 Z\" fill=\"#000000\" fill-rule=\"evenodd\" fill-opacity=\"1\" /><path clip-path=\"url(#clip130)\" d=\"M102.242 1250 Q98.6308 1250 96.8021 1253.57 Q94.9965 1257.11 94.9965 1264.24 Q94.9965 1271.34 96.8021 1274.91 Q98.6308 1278.45 102.242 1278.45 Q105.876 1278.45 107.682 1274.91 Q109.51 1271.34 109.51 1264.24 Q109.51 1257.11 107.682 1253.57 Q105.876 1250 102.242 1250 M102.242 1246.3 Q108.052 1246.3 111.108 1250.91 Q114.186 1255.49 114.186 1264.24 Q114.186 1272.97 111.108 1277.57 Q108.052 1282.15 102.242 1282.15 Q96.4317 1282.15 93.353 1277.57 Q90.2975 1272.97 90.2975 1264.24 Q90.2975 1255.49 93.353 1250.91 Q96.4317 1246.3 102.242 1246.3 Z\" fill=\"#000000\" fill-rule=\"evenodd\" fill-opacity=\"1\" /><path clip-path=\"url(#clip130)\" d=\"M122.404 1275.6 L127.288 1275.6 L127.288 1281.48 L122.404 1281.48 L122.404 1275.6 Z\" fill=\"#000000\" fill-rule=\"evenodd\" fill-opacity=\"1\" /><path clip-path=\"url(#clip130)\" d=\"M147.473 1250 Q143.862 1250 142.033 1253.57 Q140.228 1257.11 140.228 1264.24 Q140.228 1271.34 142.033 1274.91 Q143.862 1278.45 147.473 1278.45 Q151.107 1278.45 152.913 1274.91 Q154.742 1271.34 154.742 1264.24 Q154.742 1257.11 152.913 1253.57 Q151.107 1250 147.473 1250 M147.473 1246.3 Q153.283 1246.3 156.339 1250.91 Q159.417 1255.49 159.417 1264.24 Q159.417 1272.97 156.339 1277.57 Q153.283 1282.15 147.473 1282.15 Q141.663 1282.15 138.584 1277.57 Q135.529 1272.97 135.529 1264.24 Q135.529 1255.49 138.584 1250.91 Q141.663 1246.3 147.473 1246.3 Z\" fill=\"#000000\" fill-rule=\"evenodd\" fill-opacity=\"1\" /><path clip-path=\"url(#clip130)\" d=\"M167.681 1246.92 L186.038 1246.92 L186.038 1250.86 L171.964 1250.86 L171.964 1259.33 Q172.982 1258.98 174.001 1258.82 Q175.019 1258.64 176.038 1258.64 Q181.825 1258.64 185.204 1261.81 Q188.584 1264.98 188.584 1270.4 Q188.584 1275.97 185.112 1279.08 Q181.64 1282.15 175.32 1282.15 Q173.144 1282.15 170.876 1281.78 Q168.63 1281.41 166.223 1280.67 L166.223 1275.97 Q168.306 1277.11 170.529 1277.66 Q172.751 1278.22 175.228 1278.22 Q179.232 1278.22 181.57 1276.11 Q183.908 1274.01 183.908 1270.4 Q183.908 1266.78 181.57 1264.68 Q179.232 1262.57 175.228 1262.57 Q173.353 1262.57 171.478 1262.99 Q169.626 1263.4 167.681 1264.28 L167.681 1246.92 Z\" fill=\"#000000\" fill-rule=\"evenodd\" fill-opacity=\"1\" /><path clip-path=\"url(#clip130)\" d=\"M50.9921 1083.52 L80.6679 1083.52 L80.6679 1087.46 L50.9921 1087.46 L50.9921 1083.52 Z\" fill=\"#000000\" fill-rule=\"evenodd\" fill-opacity=\"1\" /><path clip-path=\"url(#clip130)\" d=\"M100.76 1068.87 Q97.1493 1068.87 95.3206 1072.44 Q93.515 1075.98 93.515 1083.11 Q93.515 1090.21 95.3206 1093.78 Q97.1493 1097.32 100.76 1097.32 Q104.395 1097.32 106.2 1093.78 Q108.029 1090.21 108.029 1083.11 Q108.029 1075.98 106.2 1072.44 Q104.395 1068.87 100.76 1068.87 M100.76 1065.17 Q106.571 1065.17 109.626 1069.77 Q112.705 1074.36 112.705 1083.11 Q112.705 1091.83 109.626 1096.44 Q106.571 1101.02 100.76 1101.02 Q94.9502 1101.02 91.8715 1096.44 Q88.816 1091.83 88.816 1083.11 Q88.816 1074.36 91.8715 1069.77 Q94.9502 1065.17 100.76 1065.17 Z\" fill=\"#000000\" fill-rule=\"evenodd\" fill-opacity=\"1\" /><path clip-path=\"url(#clip130)\" d=\"M120.922 1094.47 L125.807 1094.47 L125.807 1100.35 L120.922 1100.35 L120.922 1094.47 Z\" fill=\"#000000\" fill-rule=\"evenodd\" fill-opacity=\"1\" /><path clip-path=\"url(#clip130)\" d=\"M145.992 1068.87 Q142.381 1068.87 140.552 1072.44 Q138.746 1075.98 138.746 1083.11 Q138.746 1090.21 140.552 1093.78 Q142.381 1097.32 145.992 1097.32 Q149.626 1097.32 151.431 1093.78 Q153.26 1090.21 153.26 1083.11 Q153.26 1075.98 151.431 1072.44 Q149.626 1068.87 145.992 1068.87 M145.992 1065.17 Q151.802 1065.17 154.857 1069.77 Q157.936 1074.36 157.936 1083.11 Q157.936 1091.83 154.857 1096.44 Q151.802 1101.02 145.992 1101.02 Q140.181 1101.02 137.103 1096.44 Q134.047 1091.83 134.047 1083.11 Q134.047 1074.36 137.103 1069.77 Q140.181 1065.17 145.992 1065.17 Z\" fill=\"#000000\" fill-rule=\"evenodd\" fill-opacity=\"1\" /><path clip-path=\"url(#clip130)\" d=\"M179.001 1069.87 L167.195 1088.32 L179.001 1088.32 L179.001 1069.87 M177.774 1065.79 L183.653 1065.79 L183.653 1088.32 L188.584 1088.32 L188.584 1092.2 L183.653 1092.2 L183.653 1100.35 L179.001 1100.35 L179.001 1092.2 L163.399 1092.2 L163.399 1087.69 L177.774 1065.79 Z\" fill=\"#000000\" fill-rule=\"evenodd\" fill-opacity=\"1\" /><path clip-path=\"url(#clip130)\" d=\"M52.1264 902.393 L81.8021 902.393 L81.8021 906.328 L52.1264 906.328 L52.1264 902.393 Z\" fill=\"#000000\" fill-rule=\"evenodd\" fill-opacity=\"1\" /><path clip-path=\"url(#clip130)\" d=\"M101.895 887.74 Q98.2835 887.74 96.4548 891.305 Q94.6493 894.847 94.6493 901.976 Q94.6493 909.083 96.4548 912.647 Q98.2835 916.189 101.895 916.189 Q105.529 916.189 107.334 912.647 Q109.163 909.083 109.163 901.976 Q109.163 894.847 107.334 891.305 Q105.529 887.74 101.895 887.74 M101.895 884.036 Q107.705 884.036 110.76 888.643 Q113.839 893.226 113.839 901.976 Q113.839 910.703 110.76 915.309 Q107.705 919.893 101.895 919.893 Q96.0845 919.893 93.0058 915.309 Q89.9503 910.703 89.9503 901.976 Q89.9503 893.226 93.0058 888.643 Q96.0845 884.036 101.895 884.036 Z\" fill=\"#000000\" fill-rule=\"evenodd\" fill-opacity=\"1\" /><path clip-path=\"url(#clip130)\" d=\"M122.057 913.342 L126.941 913.342 L126.941 919.221 L122.057 919.221 L122.057 913.342 Z\" fill=\"#000000\" fill-rule=\"evenodd\" fill-opacity=\"1\" /><path clip-path=\"url(#clip130)\" d=\"M147.126 887.74 Q143.515 887.74 141.686 891.305 Q139.881 894.847 139.881 901.976 Q139.881 909.083 141.686 912.647 Q143.515 916.189 147.126 916.189 Q150.76 916.189 152.566 912.647 Q154.394 909.083 154.394 901.976 Q154.394 894.847 152.566 891.305 Q150.76 887.74 147.126 887.74 M147.126 884.036 Q152.936 884.036 155.992 888.643 Q159.07 893.226 159.07 901.976 Q159.07 910.703 155.992 915.309 Q152.936 919.893 147.126 919.893 Q141.316 919.893 138.237 915.309 Q135.181 910.703 135.181 901.976 Q135.181 893.226 138.237 888.643 Q141.316 884.036 147.126 884.036 Z\" fill=\"#000000\" fill-rule=\"evenodd\" fill-opacity=\"1\" /><path clip-path=\"url(#clip130)\" d=\"M181.454 900.587 Q184.811 901.305 186.686 903.573 Q188.584 905.842 188.584 909.175 Q188.584 914.291 185.065 917.092 Q181.547 919.893 175.066 919.893 Q172.89 919.893 170.575 919.453 Q168.283 919.036 165.829 918.18 L165.829 913.666 Q167.774 914.8 170.089 915.379 Q172.404 915.958 174.927 915.958 Q179.325 915.958 181.616 914.221 Q183.931 912.485 183.931 909.175 Q183.931 906.12 181.778 904.407 Q179.649 902.671 175.829 902.671 L171.802 902.671 L171.802 898.828 L176.015 898.828 Q179.464 898.828 181.292 897.462 Q183.121 896.073 183.121 893.481 Q183.121 890.819 181.223 889.407 Q179.348 887.972 175.829 887.972 Q173.908 887.972 171.709 888.388 Q169.51 888.805 166.871 889.685 L166.871 885.518 Q169.533 884.777 171.848 884.407 Q174.186 884.036 176.246 884.036 Q181.57 884.036 184.672 886.467 Q187.774 888.874 187.774 892.995 Q187.774 895.865 186.13 897.856 Q184.487 899.823 181.454 900.587 Z\" fill=\"#000000\" fill-rule=\"evenodd\" fill-opacity=\"1\" /><path clip-path=\"url(#clip130)\" d=\"M53.0754 721.262 L82.7512 721.262 L82.7512 725.197 L53.0754 725.197 L53.0754 721.262 Z\" fill=\"#000000\" fill-rule=\"evenodd\" fill-opacity=\"1\" /><path clip-path=\"url(#clip130)\" d=\"M102.844 706.609 Q99.2326 706.609 97.4039 710.174 Q95.5984 713.716 95.5984 720.845 Q95.5984 727.952 97.4039 731.516 Q99.2326 735.058 102.844 735.058 Q106.478 735.058 108.283 731.516 Q110.112 727.952 110.112 720.845 Q110.112 713.716 108.283 710.174 Q106.478 706.609 102.844 706.609 M102.844 702.905 Q108.654 702.905 111.709 707.512 Q114.788 712.095 114.788 720.845 Q114.788 729.572 111.709 734.178 Q108.654 738.762 102.844 738.762 Q97.0335 738.762 93.9549 734.178 Q90.8993 729.572 90.8993 720.845 Q90.8993 712.095 93.9549 707.512 Q97.0335 702.905 102.844 702.905 Z\" fill=\"#000000\" fill-rule=\"evenodd\" fill-opacity=\"1\" /><path clip-path=\"url(#clip130)\" d=\"M123.006 732.211 L127.89 732.211 L127.89 738.09 L123.006 738.09 L123.006 732.211 Z\" fill=\"#000000\" fill-rule=\"evenodd\" fill-opacity=\"1\" /><path clip-path=\"url(#clip130)\" d=\"M148.075 706.609 Q144.464 706.609 142.635 710.174 Q140.83 713.716 140.83 720.845 Q140.83 727.952 142.635 731.516 Q144.464 735.058 148.075 735.058 Q151.709 735.058 153.515 731.516 Q155.343 727.952 155.343 720.845 Q155.343 713.716 153.515 710.174 Q151.709 706.609 148.075 706.609 M148.075 702.905 Q153.885 702.905 156.941 707.512 Q160.019 712.095 160.019 720.845 Q160.019 729.572 156.941 734.178 Q153.885 738.762 148.075 738.762 Q142.265 738.762 139.186 734.178 Q136.131 729.572 136.131 720.845 Q136.131 712.095 139.186 707.512 Q142.265 702.905 148.075 702.905 Z\" fill=\"#000000\" fill-rule=\"evenodd\" fill-opacity=\"1\" /><path clip-path=\"url(#clip130)\" d=\"M172.265 734.155 L188.584 734.155 L188.584 738.09 L166.64 738.09 L166.64 734.155 Q169.302 731.401 173.885 726.771 Q178.491 722.118 179.672 720.776 Q181.917 718.253 182.797 716.516 Q183.7 714.757 183.7 713.067 Q183.7 710.313 181.755 708.577 Q179.834 706.841 176.732 706.841 Q174.533 706.841 172.079 707.604 Q169.649 708.368 166.871 709.919 L166.871 705.197 Q169.695 704.063 172.149 703.484 Q174.603 702.905 176.64 702.905 Q182.01 702.905 185.204 705.591 Q188.399 708.276 188.399 712.766 Q188.399 714.896 187.589 716.817 Q186.802 718.715 184.695 721.308 Q184.116 721.979 181.015 725.197 Q177.913 728.391 172.265 734.155 Z\" fill=\"#000000\" fill-rule=\"evenodd\" fill-opacity=\"1\" /><path clip-path=\"url(#clip130)\" d=\"M52.7051 540.131 L82.3808 540.131 L82.3808 544.066 L52.7051 544.066 L52.7051 540.131 Z\" fill=\"#000000\" fill-rule=\"evenodd\" fill-opacity=\"1\" /><path clip-path=\"url(#clip130)\" d=\"M102.473 525.478 Q98.8622 525.478 97.0335 529.043 Q95.228 532.584 95.228 539.714 Q95.228 546.82 97.0335 550.385 Q98.8622 553.927 102.473 553.927 Q106.108 553.927 107.913 550.385 Q109.742 546.82 109.742 539.714 Q109.742 532.584 107.913 529.043 Q106.108 525.478 102.473 525.478 M102.473 521.774 Q108.283 521.774 111.339 526.381 Q114.418 530.964 114.418 539.714 Q114.418 548.441 111.339 553.047 Q108.283 557.631 102.473 557.631 Q96.6632 557.631 93.5845 553.047 Q90.529 548.441 90.529 539.714 Q90.529 530.964 93.5845 526.381 Q96.6632 521.774 102.473 521.774 Z\" fill=\"#000000\" fill-rule=\"evenodd\" fill-opacity=\"1\" /><path clip-path=\"url(#clip130)\" d=\"M122.635 551.08 L127.519 551.08 L127.519 556.959 L122.635 556.959 L122.635 551.08 Z\" fill=\"#000000\" fill-rule=\"evenodd\" fill-opacity=\"1\" /><path clip-path=\"url(#clip130)\" d=\"M147.705 525.478 Q144.093 525.478 142.265 529.043 Q140.459 532.584 140.459 539.714 Q140.459 546.82 142.265 550.385 Q144.093 553.927 147.705 553.927 Q151.339 553.927 153.144 550.385 Q154.973 546.82 154.973 539.714 Q154.973 532.584 153.144 529.043 Q151.339 525.478 147.705 525.478 M147.705 521.774 Q153.515 521.774 156.57 526.381 Q159.649 530.964 159.649 539.714 Q159.649 548.441 156.57 553.047 Q153.515 557.631 147.705 557.631 Q141.894 557.631 138.816 553.047 Q135.76 548.441 135.76 539.714 Q135.76 530.964 138.816 526.381 Q141.894 521.774 147.705 521.774 Z\" fill=\"#000000\" fill-rule=\"evenodd\" fill-opacity=\"1\" /><path clip-path=\"url(#clip130)\" d=\"M168.677 553.024 L176.316 553.024 L176.316 526.659 L168.005 528.325 L168.005 524.066 L176.269 522.399 L180.945 522.399 L180.945 553.024 L188.584 553.024 L188.584 556.959 L168.677 556.959 L168.677 553.024 Z\" fill=\"#000000\" fill-rule=\"evenodd\" fill-opacity=\"1\" /><path clip-path=\"url(#clip130)\" d=\"M101.246 344.347 Q97.6354 344.347 95.8067 347.912 Q94.0012 351.453 94.0012 358.583 Q94.0012 365.689 95.8067 369.254 Q97.6354 372.796 101.246 372.796 Q104.881 372.796 106.686 369.254 Q108.515 365.689 108.515 358.583 Q108.515 351.453 106.686 347.912 Q104.881 344.347 101.246 344.347 M101.246 340.643 Q107.057 340.643 110.112 345.25 Q113.191 349.833 113.191 358.583 Q113.191 367.31 110.112 371.916 Q107.057 376.5 101.246 376.5 Q95.4363 376.5 92.3576 371.916 Q89.3021 367.31 89.3021 358.583 Q89.3021 349.833 92.3576 345.25 Q95.4363 340.643 101.246 340.643 Z\" fill=\"#000000\" fill-rule=\"evenodd\" fill-opacity=\"1\" /><path clip-path=\"url(#clip130)\" d=\"M121.408 369.949 L126.293 369.949 L126.293 375.828 L121.408 375.828 L121.408 369.949 Z\" fill=\"#000000\" fill-rule=\"evenodd\" fill-opacity=\"1\" /><path clip-path=\"url(#clip130)\" d=\"M146.478 344.347 Q142.867 344.347 141.038 347.912 Q139.232 351.453 139.232 358.583 Q139.232 365.689 141.038 369.254 Q142.867 372.796 146.478 372.796 Q150.112 372.796 151.918 369.254 Q153.746 365.689 153.746 358.583 Q153.746 351.453 151.918 347.912 Q150.112 344.347 146.478 344.347 M146.478 340.643 Q152.288 340.643 155.343 345.25 Q158.422 349.833 158.422 358.583 Q158.422 367.31 155.343 371.916 Q152.288 376.5 146.478 376.5 Q140.668 376.5 137.589 371.916 Q134.533 367.31 134.533 358.583 Q134.533 349.833 137.589 345.25 Q140.668 340.643 146.478 340.643 Z\" fill=\"#000000\" fill-rule=\"evenodd\" fill-opacity=\"1\" /><path clip-path=\"url(#clip130)\" d=\"M176.64 344.347 Q173.029 344.347 171.2 347.912 Q169.394 351.453 169.394 358.583 Q169.394 365.689 171.2 369.254 Q173.029 372.796 176.64 372.796 Q180.274 372.796 182.079 369.254 Q183.908 365.689 183.908 358.583 Q183.908 351.453 182.079 347.912 Q180.274 344.347 176.64 344.347 M176.64 340.643 Q182.45 340.643 185.505 345.25 Q188.584 349.833 188.584 358.583 Q188.584 367.31 185.505 371.916 Q182.45 376.5 176.64 376.5 Q170.829 376.5 167.751 371.916 Q164.695 367.31 164.695 358.583 Q164.695 349.833 167.751 345.25 Q170.829 340.643 176.64 340.643 Z\" fill=\"#000000\" fill-rule=\"evenodd\" fill-opacity=\"1\" /><path clip-path=\"url(#clip130)\" d=\"M102.473 163.216 Q98.8622 163.216 97.0335 166.781 Q95.228 170.322 95.228 177.452 Q95.228 184.558 97.0335 188.123 Q98.8622 191.665 102.473 191.665 Q106.108 191.665 107.913 188.123 Q109.742 184.558 109.742 177.452 Q109.742 170.322 107.913 166.781 Q106.108 163.216 102.473 163.216 M102.473 159.512 Q108.283 159.512 111.339 164.119 Q114.418 168.702 114.418 177.452 Q114.418 186.179 111.339 190.785 Q108.283 195.369 102.473 195.369 Q96.6632 195.369 93.5845 190.785 Q90.529 186.179 90.529 177.452 Q90.529 168.702 93.5845 164.119 Q96.6632 159.512 102.473 159.512 Z\" fill=\"#000000\" fill-rule=\"evenodd\" fill-opacity=\"1\" /><path clip-path=\"url(#clip130)\" d=\"M122.635 188.818 L127.519 188.818 L127.519 194.697 L122.635 194.697 L122.635 188.818 Z\" fill=\"#000000\" fill-rule=\"evenodd\" fill-opacity=\"1\" /><path clip-path=\"url(#clip130)\" d=\"M147.705 163.216 Q144.093 163.216 142.265 166.781 Q140.459 170.322 140.459 177.452 Q140.459 184.558 142.265 188.123 Q144.093 191.665 147.705 191.665 Q151.339 191.665 153.144 188.123 Q154.973 184.558 154.973 177.452 Q154.973 170.322 153.144 166.781 Q151.339 163.216 147.705 163.216 M147.705 159.512 Q153.515 159.512 156.57 164.119 Q159.649 168.702 159.649 177.452 Q159.649 186.179 156.57 190.785 Q153.515 195.369 147.705 195.369 Q141.894 195.369 138.816 190.785 Q135.76 186.179 135.76 177.452 Q135.76 168.702 138.816 164.119 Q141.894 159.512 147.705 159.512 Z\" fill=\"#000000\" fill-rule=\"evenodd\" fill-opacity=\"1\" /><path clip-path=\"url(#clip130)\" d=\"M168.677 190.762 L176.316 190.762 L176.316 164.396 L168.005 166.063 L168.005 161.804 L176.269 160.137 L180.945 160.137 L180.945 190.762 L188.584 190.762 L188.584 194.697 L168.677 194.697 L168.677 190.762 Z\" fill=\"#000000\" fill-rule=\"evenodd\" fill-opacity=\"1\" /><polyline clip-path=\"url(#clip132)\" style=\"stroke:#009af9; stroke-linecap:butt; stroke-linejoin:round; stroke-width:4; stroke-opacity:1; fill:none\" points=\"\n",
       "  224.584,358.548 277.788,124.889 330.993,307.849 384.197,679.799 437.401,974.698 490.605,1163.79 543.81,1273.36 597.014,1332.74 650.218,1363.05 703.423,1377.31 \n",
       "  756.627,1383 809.831,1384.24 863.036,1383.18 916.24,1380.98 969.444,1378.19 1022.65,1375.13 1075.85,1371.94 1129.06,1368.68 1182.26,1365.4 1235.47,1362.12 \n",
       "  1288.67,1358.83 1341.87,1355.56 1395.08,1352.29 1448.28,1349.03 1501.49,1345.78 1554.69,1342.55 1607.9,1339.32 1661.1,1336.1 1714.3,1332.9 1767.51,1329.7 \n",
       "  1820.71,1326.52 1873.92,1323.35 1927.12,1320.18 1980.33,1317.03 2033.53,1313.89 2086.73,1310.75 2139.94,1307.63 2193.14,1304.52 2246.35,1301.42 2299.55,1298.32 \n",
       "  2352.76,1295.24 \n",
       "  \"/>\n",
       "<polyline clip-path=\"url(#clip132)\" style=\"stroke:#e26f46; stroke-linecap:butt; stroke-linejoin:round; stroke-width:4; stroke-opacity:1; fill:none\" points=\"\n",
       "  224.584,358.548 277.788,124.889 330.993,86.1857 384.197,156.658 437.401,227.72 490.605,277.397 543.81,307.753 597.014,325.052 650.218,334.506 703.423,339.536 \n",
       "  756.627,342.169 809.831,343.537 863.036,344.25 916.24,344.629 969.444,344.84 1022.65,344.967 1075.85,345.051 1129.06,345.115 1182.26,345.169 1235.47,345.217 \n",
       "  1288.67,345.263 1341.87,345.308 1395.08,345.352 1448.28,345.395 1501.49,345.439 1554.69,345.482 1607.9,345.525 1661.1,345.567 1714.3,345.61 1767.51,345.652 \n",
       "  1820.71,345.695 1873.92,345.737 1927.12,345.779 1980.33,345.821 2033.53,345.862 2086.73,345.904 2139.94,345.945 2193.14,345.987 2246.35,346.028 2299.55,346.069 \n",
       "  2352.76,346.11 \n",
       "  \"/>\n",
       "<polyline clip-path=\"url(#clip132)\" style=\"stroke:#3da44d; stroke-linecap:butt; stroke-linejoin:round; stroke-width:4; stroke-opacity:1; fill:none\" points=\"\n",
       "  224.584,358.548 277.788,124.889 330.993,357.608 384.197,364.507 437.401,369.978 490.605,373.486 543.81,375.518 597.014,376.62 650.218,377.182 703.423,377.446 \n",
       "  756.627,377.552 809.831,377.575 863.036,377.555 916.24,377.514 969.444,377.463 1022.65,377.406 1075.85,377.347 1129.06,377.286 1182.26,377.225 1235.47,377.164 \n",
       "  1288.67,377.104 1341.87,377.043 1395.08,376.982 1448.28,376.922 1501.49,376.861 1554.69,376.801 1607.9,376.742 1661.1,376.682 1714.3,376.622 1767.51,376.563 \n",
       "  1820.71,376.504 1873.92,376.445 1927.12,376.387 1980.33,376.328 2033.53,376.27 2086.73,376.212 2139.94,376.154 2193.14,376.096 2246.35,376.038 2299.55,375.981 \n",
       "  2352.76,375.924 \n",
       "  \"/>\n",
       "<polyline clip-path=\"url(#clip132)\" style=\"stroke:#c271d2; stroke-linecap:butt; stroke-linejoin:round; stroke-width:4; stroke-opacity:1; fill:none\" points=\"\n",
       "  224.584,358.548 277.788,124.889 330.993,260.411 384.197,317.331 437.401,341.237 490.605,351.278 543.81,355.495 597.014,357.266 650.218,358.01 703.423,358.322 \n",
       "  756.627,358.453 809.831,358.508 863.036,358.532 916.24,358.541 969.444,358.545 1022.65,358.547 1075.85,358.548 1129.06,358.548 1182.26,358.548 1235.47,358.548 \n",
       "  1288.67,358.548 1341.87,358.548 1395.08,358.548 1448.28,358.548 1501.49,358.548 1554.69,358.548 1607.9,358.548 1661.1,358.548 1714.3,358.548 1767.51,358.548 \n",
       "  1820.71,358.548 1873.92,358.548 1927.12,358.548 1980.33,358.548 2033.53,358.548 2086.73,358.548 2139.94,358.548 2193.14,358.548 2246.35,358.548 2299.55,358.548 \n",
       "  2352.76,358.548 \n",
       "  \"/>\n",
       "<polyline clip-path=\"url(#clip132)\" style=\"stroke:#ac8d18; stroke-linecap:butt; stroke-linejoin:round; stroke-width:4; stroke-opacity:1; fill:none\" points=\"\n",
       "  224.584,358.548 277.788,124.889 330.993,358.511 384.197,358.787 437.401,359.005 490.605,359.146 543.81,359.227 597.014,359.271 650.218,359.294 703.423,359.304 \n",
       "  756.627,359.308 809.831,359.309 863.036,359.309 916.24,359.307 969.444,359.305 1022.65,359.303 1075.85,359.3 1129.06,359.298 1182.26,359.295 1235.47,359.293 \n",
       "  1288.67,359.29 1341.87,359.288 1395.08,359.286 1448.28,359.283 1501.49,359.281 1554.69,359.278 1607.9,359.276 1661.1,359.274 1714.3,359.271 1767.51,359.269 \n",
       "  1820.71,359.267 1873.92,359.264 1927.12,359.262 1980.33,359.259 2033.53,359.257 2086.73,359.255 2139.94,359.252 2193.14,359.25 2246.35,359.248 2299.55,359.246 \n",
       "  2352.76,359.243 \n",
       "  \"/>\n",
       "<path clip-path=\"url(#clip130)\" d=\"\n",
       "M1755.59 404.149 L2281.82 404.149 L2281.82 93.1086 L1755.59 93.1086  Z\n",
       "  \" fill=\"#ffffff\" fill-rule=\"evenodd\" fill-opacity=\"1\"/>\n",
       "<polyline clip-path=\"url(#clip130)\" style=\"stroke:#000000; stroke-linecap:butt; stroke-linejoin:round; stroke-width:4; stroke-opacity:1; fill:none\" points=\"\n",
       "  1755.59,404.149 2281.82,404.149 2281.82,93.1086 1755.59,93.1086 1755.59,404.149 \n",
       "  \"/>\n",
       "<polyline clip-path=\"url(#clip130)\" style=\"stroke:#009af9; stroke-linecap:butt; stroke-linejoin:round; stroke-width:4; stroke-opacity:1; fill:none\" points=\"\n",
       "  1779.23,144.949 1921.11,144.949 \n",
       "  \"/>\n",
       "<path clip-path=\"url(#clip130)\" d=\"M1963.67 140.238 L1963.67 126.21 L1967.93 126.21 L1967.93 162.229 L1963.67 162.229 L1963.67 158.34 Q1962.33 160.655 1960.27 161.789 Q1958.23 162.9 1955.36 162.9 Q1950.66 162.9 1947.7 159.15 Q1944.76 155.4 1944.76 149.289 Q1944.76 143.178 1947.7 139.428 Q1950.66 135.678 1955.36 135.678 Q1958.23 135.678 1960.27 136.812 Q1962.33 137.923 1963.67 140.238 M1949.16 149.289 Q1949.16 153.988 1951.08 156.673 Q1953.02 159.335 1956.4 159.335 Q1959.78 159.335 1961.72 156.673 Q1963.67 153.988 1963.67 149.289 Q1963.67 144.59 1961.72 141.928 Q1959.78 139.243 1956.4 139.243 Q1953.02 139.243 1951.08 141.928 Q1949.16 144.59 1949.16 149.289 Z\" fill=\"#000000\" fill-rule=\"evenodd\" fill-opacity=\"1\" /><polyline clip-path=\"url(#clip130)\" style=\"stroke:#e26f46; stroke-linecap:butt; stroke-linejoin:round; stroke-width:4; stroke-opacity:1; fill:none\" points=\"\n",
       "  1779.23,196.789 1921.11,196.789 \n",
       "  \"/>\n",
       "<path clip-path=\"url(#clip130)\" d=\"M1944.76 178.05 L1949.04 178.05 L1949.04 199.323 L1961.75 188.143 L1967.19 188.143 L1953.44 200.272 L1967.77 214.069 L1962.21 214.069 L1949.04 201.407 L1949.04 214.069 L1944.76 214.069 L1944.76 178.05 Z\" fill=\"#000000\" fill-rule=\"evenodd\" fill-opacity=\"1\" /><polyline clip-path=\"url(#clip130)\" style=\"stroke:#3da44d; stroke-linecap:butt; stroke-linejoin:round; stroke-width:4; stroke-opacity:1; fill:none\" points=\"\n",
       "  1779.23,248.629 1921.11,248.629 \n",
       "  \"/>\n",
       "<path clip-path=\"url(#clip130)\" d=\"M1959.94 243.964 Q1959.22 243.548 1958.37 243.362 Q1957.53 243.154 1956.52 243.154 Q1952.91 243.154 1950.96 245.515 Q1949.04 247.853 1949.04 252.251 L1949.04 265.909 L1944.76 265.909 L1944.76 239.983 L1949.04 239.983 L1949.04 244.011 Q1950.38 241.649 1952.53 240.515 Q1954.69 239.358 1957.77 239.358 Q1958.21 239.358 1958.74 239.427 Q1959.27 239.474 1959.92 239.589 L1959.94 243.964 Z\" fill=\"#000000\" fill-rule=\"evenodd\" fill-opacity=\"1\" /><polyline clip-path=\"url(#clip130)\" style=\"stroke:#c271d2; stroke-linecap:butt; stroke-linejoin:round; stroke-width:4; stroke-opacity:1; fill:none\" points=\"\n",
       "  1779.23,300.469 1921.11,300.469 \n",
       "  \"/>\n",
       "<path clip-path=\"url(#clip130)\" d=\"M1958.16 304.716 Q1953 304.716 1951.01 305.897 Q1949.02 307.077 1949.02 309.925 Q1949.02 312.193 1950.5 313.536 Q1952 314.855 1954.57 314.855 Q1958.11 314.855 1960.24 312.355 Q1962.4 309.832 1962.4 305.665 L1962.4 304.716 L1958.16 304.716 M1966.66 302.957 L1966.66 317.749 L1962.4 317.749 L1962.4 313.813 Q1960.94 316.175 1958.76 317.309 Q1956.59 318.42 1953.44 318.42 Q1949.46 318.42 1947.1 316.198 Q1944.76 313.952 1944.76 310.202 Q1944.76 305.827 1947.67 303.605 Q1950.61 301.383 1956.42 301.383 L1962.4 301.383 L1962.4 300.966 Q1962.4 298.027 1960.45 296.429 Q1958.53 294.809 1955.03 294.809 Q1952.81 294.809 1950.71 295.341 Q1948.6 295.874 1946.66 296.939 L1946.66 293.003 Q1948.99 292.101 1951.19 291.661 Q1953.39 291.198 1955.47 291.198 Q1961.1 291.198 1963.88 294.114 Q1966.66 297.031 1966.66 302.957 Z\" fill=\"#000000\" fill-rule=\"evenodd\" fill-opacity=\"1\" /><polyline clip-path=\"url(#clip130)\" style=\"stroke:#ac8d18; stroke-linecap:butt; stroke-linejoin:round; stroke-width:4; stroke-opacity:1; fill:none\" points=\"\n",
       "  1779.23,352.309 1921.11,352.309 \n",
       "  \"/>\n",
       "<path clip-path=\"url(#clip130)\" d=\"M1959.94 347.644 Q1959.22 347.228 1958.37 347.042 Q1957.53 346.834 1956.52 346.834 Q1952.91 346.834 1950.96 349.195 Q1949.04 351.533 1949.04 355.931 L1949.04 369.589 L1944.76 369.589 L1944.76 343.663 L1949.04 343.663 L1949.04 347.691 Q1950.38 345.329 1952.53 344.195 Q1954.69 343.038 1957.77 343.038 Q1958.21 343.038 1958.74 343.107 Q1959.27 343.154 1959.92 343.269 L1959.94 347.644 Z\" fill=\"#000000\" fill-rule=\"evenodd\" fill-opacity=\"1\" /><path clip-path=\"url(#clip130)\" d=\"M1964.41 343.663 L1968.67 343.663 L1968.67 369.589 L1964.41 369.589 L1964.41 343.663 M1964.41 333.57 L1968.67 333.57 L1968.67 338.964 L1964.41 338.964 L1964.41 333.57 Z\" fill=\"#000000\" fill-rule=\"evenodd\" fill-opacity=\"1\" /><path clip-path=\"url(#clip130)\" d=\"M1994.11 344.427 L1994.11 348.454 Q1992.3 347.529 1990.36 347.066 Q1988.41 346.603 1986.33 346.603 Q1983.16 346.603 1981.56 347.575 Q1979.99 348.547 1979.99 350.491 Q1979.99 351.973 1981.12 352.829 Q1982.26 353.663 1985.68 354.427 L1987.14 354.751 Q1991.68 355.723 1993.58 357.505 Q1995.5 359.265 1995.5 362.436 Q1995.5 366.047 1992.63 368.153 Q1989.78 370.26 1984.78 370.26 Q1982.7 370.26 1980.43 369.843 Q1978.18 369.45 1975.68 368.64 L1975.68 364.241 Q1978.04 365.468 1980.34 366.093 Q1982.63 366.695 1984.87 366.695 Q1987.88 366.695 1989.5 365.677 Q1991.12 364.635 1991.12 362.76 Q1991.12 361.024 1989.94 360.098 Q1988.78 359.172 1984.83 358.316 L1983.34 357.968 Q1979.39 357.135 1977.63 355.422 Q1975.87 353.686 1975.87 350.677 Q1975.87 347.019 1978.46 345.029 Q1981.05 343.038 1985.82 343.038 Q1988.18 343.038 1990.27 343.385 Q1992.35 343.732 1994.11 344.427 Z\" fill=\"#000000\" fill-rule=\"evenodd\" fill-opacity=\"1\" /><path clip-path=\"url(#clip130)\" d=\"M2002.12 333.57 L2006.4 333.57 L2006.4 354.843 L2019.11 343.663 L2024.55 343.663 L2010.8 355.792 L2025.13 369.589 L2019.57 369.589 L2006.4 356.927 L2006.4 369.589 L2002.12 369.589 L2002.12 333.57 Z\" fill=\"#000000\" fill-rule=\"evenodd\" fill-opacity=\"1\" /><path clip-path=\"url(#clip130)\" d=\"M2033.85 365.7 L2033.85 379.45 L2029.57 379.45 L2029.57 343.663 L2033.85 343.663 L2033.85 347.598 Q2035.2 345.283 2037.23 344.172 Q2039.29 343.038 2042.14 343.038 Q2046.86 343.038 2049.8 346.788 Q2052.77 350.538 2052.77 356.649 Q2052.77 362.76 2049.8 366.51 Q2046.86 370.26 2042.14 370.26 Q2039.29 370.26 2037.23 369.149 Q2035.2 368.015 2033.85 365.7 M2048.34 356.649 Q2048.34 351.95 2046.4 349.288 Q2044.48 346.603 2041.1 346.603 Q2037.72 346.603 2035.78 349.288 Q2033.85 351.95 2033.85 356.649 Q2033.85 361.348 2035.78 364.033 Q2037.72 366.695 2041.1 366.695 Q2044.48 366.695 2046.4 364.033 Q2048.34 361.348 2048.34 356.649 Z\" fill=\"#000000\" fill-rule=\"evenodd\" fill-opacity=\"1\" /><path clip-path=\"url(#clip130)\" d=\"M2074.85 347.644 Q2074.13 347.228 2073.27 347.042 Q2072.44 346.834 2071.42 346.834 Q2067.81 346.834 2065.87 349.195 Q2063.95 351.533 2063.95 355.931 L2063.95 369.589 L2059.66 369.589 L2059.66 343.663 L2063.95 343.663 L2063.95 347.691 Q2065.29 345.329 2067.44 344.195 Q2069.59 343.038 2072.67 343.038 Q2073.11 343.038 2073.65 343.107 Q2074.18 343.154 2074.83 343.269 L2074.85 347.644 Z\" fill=\"#000000\" fill-rule=\"evenodd\" fill-opacity=\"1\" /><path clip-path=\"url(#clip130)\" d=\"M2100.45 355.561 L2100.45 357.644 L2080.87 357.644 Q2081.15 362.042 2083.51 364.357 Q2085.89 366.649 2090.13 366.649 Q2092.58 366.649 2094.87 366.047 Q2097.19 365.445 2099.46 364.241 L2099.46 368.269 Q2097.16 369.241 2094.76 369.751 Q2092.35 370.26 2089.87 370.26 Q2083.67 370.26 2080.03 366.649 Q2076.42 363.038 2076.42 356.88 Q2076.42 350.515 2079.85 346.788 Q2083.3 343.038 2089.13 343.038 Q2094.36 343.038 2097.4 346.417 Q2100.45 349.774 2100.45 355.561 M2096.19 354.311 Q2096.15 350.816 2094.22 348.732 Q2092.33 346.649 2089.18 346.649 Q2085.61 346.649 2083.46 348.663 Q2081.33 350.677 2081.01 354.334 L2096.19 354.311 Z\" fill=\"#000000\" fill-rule=\"evenodd\" fill-opacity=\"1\" /><path clip-path=\"url(#clip130)\" d=\"M2127.63 348.64 Q2129.22 345.769 2131.45 344.404 Q2133.67 343.038 2136.68 343.038 Q2140.73 343.038 2142.93 345.885 Q2145.13 348.709 2145.13 353.941 L2145.13 369.589 L2140.84 369.589 L2140.84 354.079 Q2140.84 350.353 2139.52 348.547 Q2138.21 346.742 2135.5 346.742 Q2132.19 346.742 2130.27 348.941 Q2128.34 351.14 2128.34 354.936 L2128.34 369.589 L2124.06 369.589 L2124.06 354.079 Q2124.06 350.329 2122.74 348.547 Q2121.42 346.742 2118.67 346.742 Q2115.4 346.742 2113.48 348.964 Q2111.56 351.163 2111.56 354.936 L2111.56 369.589 L2107.28 369.589 L2107.28 343.663 L2111.56 343.663 L2111.56 347.691 Q2113.02 345.306 2115.06 344.172 Q2117.09 343.038 2119.9 343.038 Q2122.72 343.038 2124.69 344.473 Q2126.68 345.908 2127.63 348.64 Z\" fill=\"#000000\" fill-rule=\"evenodd\" fill-opacity=\"1\" /><path clip-path=\"url(#clip130)\" d=\"M2153.62 343.663 L2157.88 343.663 L2157.88 369.589 L2153.62 369.589 L2153.62 343.663 M2153.62 333.57 L2157.88 333.57 L2157.88 338.964 L2153.62 338.964 L2153.62 333.57 Z\" fill=\"#000000\" fill-rule=\"evenodd\" fill-opacity=\"1\" /><path clip-path=\"url(#clip130)\" d=\"M2166.35 359.357 L2166.35 343.663 L2170.61 343.663 L2170.61 359.195 Q2170.61 362.876 2172.05 364.728 Q2173.48 366.556 2176.35 366.556 Q2179.8 366.556 2181.79 364.357 Q2183.81 362.158 2183.81 358.362 L2183.81 343.663 L2188.07 343.663 L2188.07 369.589 L2183.81 369.589 L2183.81 365.607 Q2182.26 367.968 2180.2 369.126 Q2178.16 370.26 2175.45 370.26 Q2170.98 370.26 2168.67 367.482 Q2166.35 364.704 2166.35 359.357 M2177.07 343.038 L2177.07 343.038 Z\" fill=\"#000000\" fill-rule=\"evenodd\" fill-opacity=\"1\" /><path clip-path=\"url(#clip130)\" d=\"M2217.02 348.64 Q2218.62 345.769 2220.84 344.404 Q2223.07 343.038 2226.08 343.038 Q2230.13 343.038 2232.33 345.885 Q2234.52 348.709 2234.52 353.941 L2234.52 369.589 L2230.24 369.589 L2230.24 354.079 Q2230.24 350.353 2228.92 348.547 Q2227.6 346.742 2224.89 346.742 Q2221.58 346.742 2219.66 348.941 Q2217.74 351.14 2217.74 354.936 L2217.74 369.589 L2213.46 369.589 L2213.46 354.079 Q2213.46 350.329 2212.14 348.547 Q2210.82 346.742 2208.07 346.742 Q2204.8 346.742 2202.88 348.964 Q2200.96 351.163 2200.96 354.936 L2200.96 369.589 L2196.68 369.589 L2196.68 343.663 L2200.96 343.663 L2200.96 347.691 Q2202.42 345.306 2204.45 344.172 Q2206.49 343.038 2209.29 343.038 Q2212.12 343.038 2214.08 344.473 Q2216.08 345.908 2217.02 348.64 Z\" fill=\"#000000\" fill-rule=\"evenodd\" fill-opacity=\"1\" /></svg>\n"
      ]
     },
     "execution_count": 13,
     "metadata": {},
     "output_type": "execute_result"
    }
   ],
   "source": [
    "#Now plot it\n",
    "plot(val1)"
   ]
  },
  {
   "cell_type": "markdown",
   "id": "2d187098-7a9b-40e2-8c80-cc22aecec8bc",
   "metadata": {},
   "source": [
    "Economically, the above IRF looks very sensible. Note the timing convention that the shock starts at $t=1$, not $t=0$, which affects the comparison to Dynare results, along with other timing differences (recall, Dynare uses convention that stock variables are the value at the end of a period, rather than the start.) While economically this result makes perfect sense, it will be valuable to compare quantities to Dynare to make sure nothing is off aside from the known timing differences. \n",
    "\n",
    "A few things are different: the TFP shock itself looks the same, which is a good sign, but in the Dynare results, capital `k` peaks immediately then falls, rather than continuing to grow for a period. The debt `d` displays a similar qualitative pattern, but the magnitude of the response is smaller. The interest rate response in Dynare appears slightly larger. Most disconcertingly, all variables including the risk premium move up the same amount at the start, which is definitely not what a TFP shock is supposed to do. This also gives me a sign as to what the error clearly was: $\\eta$ should not be $1$ in all entries, but should instead just impact `a`. This should be an easy fix, so let's try it again."
   ]
  },
  {
   "cell_type": "code",
   "execution_count": 15,
   "id": "e9a6485f-5c99-4c2a-8134-c20fbc5882a0",
   "metadata": {},
   "outputs": [
    {
     "name": "stdout",
     "output_type": "stream",
     "text": [
      "\u001b[36mModel already generated at /Users/dchilder/.julia/packages/DifferentiableStateSpaceModels/qRvKd/.function_cache/sgu5.jl\u001b[39m\n"
     ]
    },
    {
     "data": {
      "text/plain": [
       "\"/Users/dchilder/.julia/packages/DifferentiableStateSpaceModels/qRvKd/.function_cache/sgu5.jl\""
      ]
     },
     "execution_count": 15,
     "metadata": {},
     "output_type": "execute_result"
    }
   ],
   "source": [
    "∞ = Inf\n",
    "# Parameters\n",
    "@variables γ, ω, ρ, σe, δ, ψ, α, ϕ, β, r_w, d_bar #, ρ_u, σu, ρ_v, σv\n",
    "# x and y\n",
    "@variables t::Integer, d(..), c(..), h(..), GDP(..), i(..), k(..), a(..), λ(..), tb(..),\n",
    "               ca(..), riskpremium(..), r(..), kfu(..)  #, ζ(..), μ(..)\n",
    "@variables Ω_1\n",
    "x = [d, k, r, a, riskpremium]\n",
    "y = [c, h, GDP, i, kfu, λ, tb, ca]\n",
    "p = [γ, ω, ρ, σe, δ, ψ, α, ϕ, β, r_w, d_bar, Ω_1] #ρ_u, σu, ρ_v, σv\n",
    "    \n",
    "# Model equations\n",
    "H = [d(t+1) - (1 + exp(r(t))) * d(t) + exp(GDP(t)) - exp(c(t)) - exp(i(t)) -\n",
    "    (ϕ / 2) * (exp(k(t+1)) - exp(k(t)))^2, #Debt evolution\n",
    "    exp(GDP(t)) - exp(a(t)) * (exp(k(t))^α) * (exp(h(t))^(1 - α)), #Production function\n",
    "    exp(k(t + 1)) - exp(i(t)) - (1 - δ) * exp(k(t)), #Capital evolution\n",
    "    exp(λ(t)) - β * (1 + exp(r(t+1))) * exp(λ(t + 1)), #* exp(μ(t)), #Euler equation\n",
    "    (exp(c(t)) - ((exp(h(t))^ω) / ω))^(-γ) - exp(λ(t)), #Marginal utility\n",
    "    ((exp(c(t)) - ((exp(h(t))^ω) / ω))^(-γ)) * (exp(h(t))^(ω - 1)) -\n",
    "    exp(λ(t)) * (1 - α) * exp(GDP(t)) / exp(h(t)), #Labor FOC\n",
    "    exp(λ(t)) * (1 + ϕ * (exp(k(t + 1)) - exp(k(t)))) -\n",
    "    β *\n",
    "    exp(λ(t + 1)) * # exp(μ(t)) *\n",
    "    (α * exp(GDP(t + 1)) / exp(k(t + 1)) + 1 - δ + ϕ * (exp(kfu(t + 1)) - exp(k(t + 1)))), #Investment FOC\n",
    "    exp(r(t+1)) - r_w - riskpremium(t+1), #Interest rate\n",
    "    riskpremium(t+1) - ψ * (exp(d(t+1) - d_bar) - 1), # - ζ(t), #Risk premium\n",
    "    tb(t) - 1 +\n",
    "    ((exp(c(t)) + exp(i(t)) + (ϕ / 2) * (exp(k(t + 1)) - exp(k(t)))^2) / exp(GDP(t))), #Trade Balance\n",
    "    ca(t) - (1 / -exp(GDP(t))) * (d(t) - d(t + 1)), #Current Account\n",
    "    kfu(t) - k(t + 1), #auxiliary future variable\n",
    "    a(t + 1) - ρ * a(t)] #, #TFP evolution\n",
    "    # ζ(t + 1) - ρ_u * ζ(t), #Risk premium shock\n",
    "    # μ(t + 1) - ρ_v * μ(t)] #Demand shock\n",
    "    \n",
    "#Define representations for steady state\n",
    "\n",
    "hstar = ((1 - α) * (α / (r_w + δ))^(α / (1 - α)))^(1 / (ω - 1))\n",
    "kstar = hstar / (((r_w + δ) / α)^(1 / (1 - α)))\n",
    "istar = δ * kstar\n",
    "GDPstar = (kstar^α) * (hstar^(1 - α))\n",
    "cstar = GDPstar - istar - r_w * d_bar\n",
    "tbstar = GDPstar - cstar - istar\n",
    "λstar = (cstar - ((hstar^ω) / ω))^(-γ)\n",
    "    \n",
    "#Steady state values\n",
    "    \n",
    "steady_states_iv = [a(∞) ~ 0, kfu(∞) ~ log(kstar),\n",
    "                     d(∞) ~ d_bar, c(∞) ~ log(cstar), h(∞) ~ log(hstar),\n",
    "                     GDP(∞) ~ log(GDPstar), i(∞) ~ log(istar), k(∞) ~ log(kstar),\n",
    "                     λ(∞) ~ log(λstar), tb(∞) ~ tbstar, ca(∞) ~ 0, riskpremium(∞) ~ 0,\n",
    "                     r(∞) ~ log((1 - β) / β)] #,\n",
    "                     #ζ(∞) ~ 0,\n",
    "                     #μ(∞) ~ 0]\n",
    "\n",
    "n_ϵ = 1 # 3\n",
    "n_x = length(x)\n",
    "n_y = length(y)\n",
    "Γ = [σe;;]\n",
    "#zeros(Num, n_ϵ, n_ϵ) # make sure it is not a float64 matrix\n",
    "#Γ[1, 1] = σe\n",
    "#Γ[2, 2] = σu\n",
    "#Γ[3, 3] = σv\n",
    "η = [0.; 0.; 0.; 1.; 0.;] #zeros(n_x, n_ϵ) # η is n_x * n_ϵ matrix\n",
    "#η[1, 1] = 1 # e\n",
    "#η[2, 2] = 1 # u\n",
    "#η[3, 3] = 1 # v\n",
    "\n",
    "n_z = 3 # number of observables\n",
    "Q = zeros(n_z, n_x + n_y) # the order is [y, x]\n",
    "Q[1, 3] = 1.0 # y i.e. GDP\n",
    "Q[2, 8] = 1.0 # ca\n",
    "Q[3, 11] = 1.0 # r\n",
    "\n",
    "Ω = [Ω_1, Ω_1, Ω_1]\n",
    "    \n",
    "# Generates the files and includes if required.\n",
    "#overwrite_model_cache  = true\n",
    "  \n",
    "model_sgu5 = make_perturbation_model(H; t, y, x, p, steady_states_iv, Γ, Ω, η, Q, max_order = 1, model_name=\"sgu5\")  "
   ]
  },
  {
   "cell_type": "code",
   "execution_count": 16,
   "id": "02de05bb-79e4-4388-a25a-cc515523cd0b",
   "metadata": {},
   "outputs": [
    {
     "data": {
      "text/plain": [
       "Main.sgu5"
      ]
     },
     "execution_count": 16,
     "metadata": {},
     "output_type": "execute_result"
    }
   ],
   "source": [
    "include(\"/Users/dchilder/.julia/packages/DifferentiableStateSpaceModels/FjzWj/.function_cache/sgu5.jl\")"
   ]
  },
  {
   "cell_type": "code",
   "execution_count": 17,
   "id": "2c2bed85-2393-4b99-8bc5-9021351e53df",
   "metadata": {},
   "outputs": [
    {
     "data": {
      "text/plain": [
       "Perturbation Model: n_y = 8, n_x = 5, n_p = 12, n_ϵ = 1, n_z = 3\n",
       " y = [:c, :h, :GDP, :i, :kfu, :λ, :tb, :ca] \n",
       " x = [:d, :k, :r, :a, :riskpremium] \n",
       " p = [:γ, :ω, :ρ, :σe, :δ, :ψ, :α, :ϕ, :β, :r_w, :d_bar, :Ω_1]"
      ]
     },
     "execution_count": 17,
     "metadata": {},
     "output_type": "execute_result"
    }
   ],
   "source": [
    "model_sgu5 = DifferentiableStateSpaceModels.PerturbationModel(getfield(Main, Symbol(\"sgu5\")))"
   ]
  },
  {
   "cell_type": "code",
   "execution_count": 18,
   "id": "8e3618a1-395b-4fde-a72e-8fc8c485e002",
   "metadata": {},
   "outputs": [
    {
     "name": "stdout",
     "output_type": "stream",
     "text": [
      "sol2.retcode = :Success\n"
     ]
    },
    {
     "data": {
      "text/plain": [
       ":Success"
      ]
     },
     "execution_count": 18,
     "metadata": {},
     "output_type": "execute_result"
    }
   ],
   "source": [
    "p_f = (; γ = 2.0, ω = 1.455, σe = 0.0129, δ = 0.1, ψ = 0.000742,\n",
    "              ϕ = 0.028, r_w = 0.04, d_bar = 0.7442, Ω_1 = 0.00316)\n",
    "p_d = (; ρ = 0.42, α = 0.32, β = 1.0 / (1.0 + 0.04))\n",
    "\n",
    "sol2 = generate_perturbation(model_sgu5, p_d, p_f) # Solution to the first-order model\n",
    "@show sol2.retcode"
   ]
  },
  {
   "cell_type": "code",
   "execution_count": 19,
   "id": "246aa6c2-9500-47ac-a9d0-32b43c0f3cca",
   "metadata": {},
   "outputs": [
    {
     "data": {
      "text/plain": [
       "retcode: Success\n",
       "Interpolation: Piecewise constant interpolation\n",
       "t: 0:40\n",
       "u: 41-element Vector{Vector{Float64}}:\n",
       " [0.0, 0.0, 0.0, 0.0, 0.0]\n",
       " [0.0, 0.0, 0.0, 0.0129, 0.0]\n",
       " [0.011618843866396843, 0.008670175039611417, 0.00021552955372176072, 0.005417999999999997, 8.621182148867759e-6]\n",
       " [0.0015879026544893086, 0.007902671434934685, 2.945559424081043e-5, 0.0022755599999999972, 1.178223769631293e-6]\n",
       " [-0.009722449528285127, 0.005472747801792158, -0.00018035143874969975, 0.0009557351999999982, -7.214057549988476e-6]\n",
       " [-0.017835935906235813, 0.0034445218849599763, -0.0003308566110607117, 0.00040140878399999894, -1.3234264442428691e-5]\n",
       " [-0.02282213458474426, 0.002110693361049224, -0.00042335059654705835, 0.00016859168927999937, -1.6934023861882445e-5]\n",
       " [-0.025642049254086377, 0.0013197538611563653, -0.00047566001366336263, 7.080850949759962e-5, -1.9026400546534577e-5]\n",
       " [-0.02714462815385162, 0.0008769054068291149, -0.000503532852254012, 2.9739573988991744e-5, -2.0141314090160533e-5]\n",
       " [-0.027899264679777856, 0.0006376452757431397, -0.0005175313598099457, 1.249062107537645e-5, -2.0701254392397874e-5]\n",
       " [-0.02824682426583281, 0.0005113219848188808, -0.0005239785901312662, 5.246060851658032e-6, -2.0959143605250684e-5]\n",
       " [-0.02837908533126391, 0.0004455429310464352, -0.0005264320328950134, 2.2033455576962993e-6, -2.105728131580057e-5]\n",
       " [-0.028399829093329523, 0.000411459732171686, -0.0005268168296813305, 9.254051342323731e-7, -2.107267318725326e-5]\n",
       " ⋮\n",
       " [-0.026965054554023822, 0.00035806677278649385, -0.0005002017619772064, 3.643927281801198e-13, -2.0008070479088293e-5]\n",
       " [-0.026876633599318637, 0.00035689255740531324, -0.0004985615532674249, 1.5304487817163663e-13, -1.994246213069703e-5]\n",
       " [-0.026788502449443318, 0.000355722232567561, -0.0004969267204372376, 6.427878138995157e-14, -1.9877068817489538e-5]\n",
       " [-0.026700660225195953, 0.0003545557646246904, -0.0004952972471774487, 2.6997020962793863e-14, -1.9811889887097984e-5]\n",
       " [-0.026613106013287147, 0.00035339313089866205, -0.0004936731165465401, 1.1338681803812342e-14, -1.9746924661861643e-5]\n",
       " [-0.026525838885667265, 0.00035223431400312395, -0.0004920543113291912, 4.762179576741963e-15, -1.968217245316768e-5]\n",
       " [-0.026438857908808195, 0.00035107929911355935, -0.0004904408142084552, 2.000048860353811e-15, -1.961763256833824e-5]\n",
       " [-0.026352162148155073, 0.0003499280726559429, -0.0004888326078483396, 8.399541777341169e-16, -1.9553304313933618e-5]\n",
       " [-0.026265750670257475, 0.0003487806216771694, -0.000487229674933339, 3.527146285814607e-16, -1.9489186997333592e-5]\n",
       " [-0.026179622543786408, 0.0003476369335429296, -0.0004856319981873004, 1.4807423477159603e-16, -1.942527992749205e-5]\n",
       " [-0.026093776840016687, 0.00034649699579275783, -0.000484039560382372, 6.21254854946803e-17, -1.9361582415294913e-5]\n",
       " [-0.02600821263305294, 0.0003453607960704801, -0.00048245234434319417, 2.6027226212911887e-17, -1.92980937737278e-5]"
      ]
     },
     "execution_count": 19,
     "metadata": {},
     "output_type": "execute_result"
    }
   ],
   "source": [
    "#Generate an IRF to a TFP shock\n",
    "T = 40\n",
    "ϵ0 = [1.0]\n",
    "val1 = irf(sol2, ϵ0, T) #e"
   ]
  },
  {
   "cell_type": "code",
   "execution_count": 20,
   "id": "15b0fb0c-a1cc-48ee-8ae0-4f46b63110f8",
   "metadata": {},
   "outputs": [
    {
     "name": "stdout",
     "output_type": "stream",
     "text": [
      "[[0.0, 0.0, 0.0], [0.024218709677419386, 0.007816308816851771, 0.0], [0.01538067548186205, -0.006748083986455083, 0.00021552955372176072], [0.009019901445297542, -0.0076087781628254095, 2.945559424081043e-5], [0.005082201409696041, -0.00545816053994786, -0.00018035143874969975], [0.0028229924778804725, -0.0033543499802176345, -0.0003308566110607117], [0.0015845674023315076, -0.0018970324540201937, -0.00042335059654705835], [0.0009258113278366592, -0.0010108252453772347, -0.00047566001366336263], [0.0005826557904175717, -0.000507664290779794, -0.000503532852254012], [0.0004065309600653903, -0.00023381268292273354, -0.0005175313598099457], [0.00031703810925268655, -8.897557654983817e-5, -0.0005239785901312662], [0.000271807298686022, -1.3954886750560217e-5, -0.0005264320328950134], [0.0002489317622831532, 2.4272895322214514e-5, -0.0005268168296813305], [0.00023724569424207005, 4.347770960538219e-5, -0.0005261475206226801], [0.00023112033640948748, 5.2986892872247455e-5, -0.0005249486514930617], [0.00022774277349127796, 5.760877117994875e-5, -0.0005234875729147396], [0.00022571706558846942, 5.9788603090778534e-5, -0.0005218990490943786], [0.000224354391941511, 6.075688122653972e-5, -0.000520250417848641], [0.00022331644508178438, 6.112766315718524e-5, -0.0005185750869727621], [0.0002224377135538948, 6.120533151530029e-5, -0.0005168895320300108], [0.00022163748591759425, 6.113993984459412e-5, -0.0005152018354335767], [0.00022087650978321963, 6.1005126183122046e-5, -0.0005135159419692774], [0.00022013573814226895, 6.083689135474624e-5, -0.0005118337659026622], [0.00021940594491466647, 6.065277952631317e-5, -0.000510156228800337], [0.00021868266669740572, 6.046131701862524e-5, -0.000508483768460093], [0.00021796374528559306, 6.0266637574643887e-5, -0.0005068165875720562], [0.00021724813637382935, 6.007074086905323e-5, -0.0005051547748411207], [0.00021653533314447822, 5.987459205920794e-5, -0.0005034983638324714], [0.000215825087820262, 5.967865575308706e-5, -0.0005018473614977166], [0.00021511727734139567, 5.948315476168232e-5, -0.0005002017619772064], [0.00021441183864592621, 5.928819525685336e-5, -0.0004985615532674249], [0.00021370873751868483, 5.9093827214806946e-5, -0.0004969267204372376], [0.00021300795361101315, 5.890007356710108e-5, -0.0004952972471774487], [0.0002123094732424691, 5.870694424334695e-5, -0.0004936731165465401], [0.00021161328594423507, 5.851444292906921e-5, -0.0004920543113291912], [0.00021091938280023487, 5.83225703149851e-5, -0.0004904408142084552], [0.0002102277556513908, 5.8131325658114126e-5, -0.0004888326078483396], [0.0002095383967140671, 5.794070753130933e-5, -0.000487229674933339], [0.00020885129839716413, 5.775071418291454e-5, -0.0004856319981873004], [0.00020816645321444798, 5.756134370925051e-5, -0.000484039560382372], [0.0002074838537425189, 5.7372594137295805e-5, -0.00048245234434319417]]\n"
     ]
    }
   ],
   "source": [
    "println(val1.z) #Display IRF of observables"
   ]
  },
  {
   "cell_type": "code",
   "execution_count": 21,
   "id": "3210abe5-7aa1-4c5a-a783-5e33868db750",
   "metadata": {},
   "outputs": [
    {
     "data": {
      "image/svg+xml": [
       "<?xml version=\"1.0\" encoding=\"utf-8\"?>\n",
       "<svg xmlns=\"http://www.w3.org/2000/svg\" xmlns:xlink=\"http://www.w3.org/1999/xlink\" width=\"600\" height=\"400\" viewBox=\"0 0 2400 1600\">\n",
       "<defs>\n",
       "  <clipPath id=\"clip170\">\n",
       "    <rect x=\"0\" y=\"0\" width=\"2400\" height=\"1600\"/>\n",
       "  </clipPath>\n",
       "</defs>\n",
       "<path clip-path=\"url(#clip170)\" d=\"\n",
       "M0 1600 L2400 1600 L2400 0 L0 0  Z\n",
       "  \" fill=\"#ffffff\" fill-rule=\"evenodd\" fill-opacity=\"1\"/>\n",
       "<defs>\n",
       "  <clipPath id=\"clip171\">\n",
       "    <rect x=\"480\" y=\"0\" width=\"1681\" height=\"1600\"/>\n",
       "  </clipPath>\n",
       "</defs>\n",
       "<path clip-path=\"url(#clip170)\" d=\"\n",
       "M222.871 1423.18 L2352.76 1423.18 L2352.76 47.2441 L222.871 47.2441  Z\n",
       "  \" fill=\"#ffffff\" fill-rule=\"evenodd\" fill-opacity=\"1\"/>\n",
       "<defs>\n",
       "  <clipPath id=\"clip172\">\n",
       "    <rect x=\"222\" y=\"47\" width=\"2131\" height=\"1377\"/>\n",
       "  </clipPath>\n",
       "</defs>\n",
       "<polyline clip-path=\"url(#clip172)\" style=\"stroke:#000000; stroke-linecap:butt; stroke-linejoin:round; stroke-width:2; stroke-opacity:0.1; fill:none\" points=\"\n",
       "  222.871,1423.18 222.871,47.2441 \n",
       "  \"/>\n",
       "<polyline clip-path=\"url(#clip172)\" style=\"stroke:#000000; stroke-linecap:butt; stroke-linejoin:round; stroke-width:2; stroke-opacity:0.1; fill:none\" points=\"\n",
       "  755.342,1423.18 755.342,47.2441 \n",
       "  \"/>\n",
       "<polyline clip-path=\"url(#clip172)\" style=\"stroke:#000000; stroke-linecap:butt; stroke-linejoin:round; stroke-width:2; stroke-opacity:0.1; fill:none\" points=\"\n",
       "  1287.81,1423.18 1287.81,47.2441 \n",
       "  \"/>\n",
       "<polyline clip-path=\"url(#clip172)\" style=\"stroke:#000000; stroke-linecap:butt; stroke-linejoin:round; stroke-width:2; stroke-opacity:0.1; fill:none\" points=\"\n",
       "  1820.28,1423.18 1820.28,47.2441 \n",
       "  \"/>\n",
       "<polyline clip-path=\"url(#clip172)\" style=\"stroke:#000000; stroke-linecap:butt; stroke-linejoin:round; stroke-width:2; stroke-opacity:0.1; fill:none\" points=\"\n",
       "  2352.76,1423.18 2352.76,47.2441 \n",
       "  \"/>\n",
       "<polyline clip-path=\"url(#clip170)\" style=\"stroke:#000000; stroke-linecap:butt; stroke-linejoin:round; stroke-width:4; stroke-opacity:1; fill:none\" points=\"\n",
       "  222.871,1423.18 2352.76,1423.18 \n",
       "  \"/>\n",
       "<polyline clip-path=\"url(#clip170)\" style=\"stroke:#000000; stroke-linecap:butt; stroke-linejoin:round; stroke-width:4; stroke-opacity:1; fill:none\" points=\"\n",
       "  222.871,1423.18 222.871,1404.28 \n",
       "  \"/>\n",
       "<polyline clip-path=\"url(#clip170)\" style=\"stroke:#000000; stroke-linecap:butt; stroke-linejoin:round; stroke-width:4; stroke-opacity:1; fill:none\" points=\"\n",
       "  755.342,1423.18 755.342,1404.28 \n",
       "  \"/>\n",
       "<polyline clip-path=\"url(#clip170)\" style=\"stroke:#000000; stroke-linecap:butt; stroke-linejoin:round; stroke-width:4; stroke-opacity:1; fill:none\" points=\"\n",
       "  1287.81,1423.18 1287.81,1404.28 \n",
       "  \"/>\n",
       "<polyline clip-path=\"url(#clip170)\" style=\"stroke:#000000; stroke-linecap:butt; stroke-linejoin:round; stroke-width:4; stroke-opacity:1; fill:none\" points=\"\n",
       "  1820.28,1423.18 1820.28,1404.28 \n",
       "  \"/>\n",
       "<polyline clip-path=\"url(#clip170)\" style=\"stroke:#000000; stroke-linecap:butt; stroke-linejoin:round; stroke-width:4; stroke-opacity:1; fill:none\" points=\"\n",
       "  2352.76,1423.18 2352.76,1404.28 \n",
       "  \"/>\n",
       "<path clip-path=\"url(#clip170)\" d=\"M222.871 1454.1 Q219.26 1454.1 217.431 1457.66 Q215.626 1461.2 215.626 1468.33 Q215.626 1475.44 217.431 1479.01 Q219.26 1482.55 222.871 1482.55 Q226.505 1482.55 228.311 1479.01 Q230.14 1475.44 230.14 1468.33 Q230.14 1461.2 228.311 1457.66 Q226.505 1454.1 222.871 1454.1 M222.871 1450.39 Q228.681 1450.39 231.737 1455 Q234.815 1459.58 234.815 1468.33 Q234.815 1477.06 231.737 1481.67 Q228.681 1486.25 222.871 1486.25 Q217.061 1486.25 213.982 1481.67 Q210.927 1477.06 210.927 1468.33 Q210.927 1459.58 213.982 1455 Q217.061 1450.39 222.871 1450.39 Z\" fill=\"#000000\" fill-rule=\"evenodd\" fill-opacity=\"1\" /><path clip-path=\"url(#clip170)\" d=\"M730.03 1481.64 L737.669 1481.64 L737.669 1455.28 L729.359 1456.95 L729.359 1452.69 L737.622 1451.02 L742.298 1451.02 L742.298 1481.64 L749.937 1481.64 L749.937 1485.58 L730.03 1485.58 L730.03 1481.64 Z\" fill=\"#000000\" fill-rule=\"evenodd\" fill-opacity=\"1\" /><path clip-path=\"url(#clip170)\" d=\"M769.382 1454.1 Q765.77 1454.1 763.942 1457.66 Q762.136 1461.2 762.136 1468.33 Q762.136 1475.44 763.942 1479.01 Q765.77 1482.55 769.382 1482.55 Q773.016 1482.55 774.821 1479.01 Q776.65 1475.44 776.65 1468.33 Q776.65 1461.2 774.821 1457.66 Q773.016 1454.1 769.382 1454.1 M769.382 1450.39 Q775.192 1450.39 778.247 1455 Q781.326 1459.58 781.326 1468.33 Q781.326 1477.06 778.247 1481.67 Q775.192 1486.25 769.382 1486.25 Q763.571 1486.25 760.493 1481.67 Q757.437 1477.06 757.437 1468.33 Q757.437 1459.58 760.493 1455 Q763.571 1450.39 769.382 1450.39 Z\" fill=\"#000000\" fill-rule=\"evenodd\" fill-opacity=\"1\" /><path clip-path=\"url(#clip170)\" d=\"M1266.59 1481.64 L1282.91 1481.64 L1282.91 1485.58 L1260.96 1485.58 L1260.96 1481.64 Q1263.62 1478.89 1268.21 1474.26 Q1272.81 1469.61 1273.99 1468.27 Q1276.24 1465.74 1277.12 1464.01 Q1278.02 1462.25 1278.02 1460.56 Q1278.02 1457.8 1276.08 1456.07 Q1274.16 1454.33 1271.05 1454.33 Q1268.86 1454.33 1266.4 1455.09 Q1263.97 1455.86 1261.19 1457.41 L1261.19 1452.69 Q1264.02 1451.55 1266.47 1450.97 Q1268.92 1450.39 1270.96 1450.39 Q1276.33 1450.39 1279.53 1453.08 Q1282.72 1455.77 1282.72 1460.26 Q1282.72 1462.39 1281.91 1464.31 Q1281.12 1466.2 1279.02 1468.8 Q1278.44 1469.47 1275.34 1472.69 Q1272.23 1475.88 1266.59 1481.64 Z\" fill=\"#000000\" fill-rule=\"evenodd\" fill-opacity=\"1\" /><path clip-path=\"url(#clip170)\" d=\"M1302.72 1454.1 Q1299.11 1454.1 1297.28 1457.66 Q1295.48 1461.2 1295.48 1468.33 Q1295.48 1475.44 1297.28 1479.01 Q1299.11 1482.55 1302.72 1482.55 Q1306.36 1482.55 1308.16 1479.01 Q1309.99 1475.44 1309.99 1468.33 Q1309.99 1461.2 1308.16 1457.66 Q1306.36 1454.1 1302.72 1454.1 M1302.72 1450.39 Q1308.53 1450.39 1311.59 1455 Q1314.67 1459.58 1314.67 1468.33 Q1314.67 1477.06 1311.59 1481.67 Q1308.53 1486.25 1302.72 1486.25 Q1296.91 1486.25 1293.83 1481.67 Q1290.78 1477.06 1290.78 1468.33 Q1290.78 1459.58 1293.83 1455 Q1296.91 1450.39 1302.72 1450.39 Z\" fill=\"#000000\" fill-rule=\"evenodd\" fill-opacity=\"1\" /><path clip-path=\"url(#clip170)\" d=\"M1809.13 1466.95 Q1812.48 1467.66 1814.36 1469.93 Q1816.26 1472.2 1816.26 1475.53 Q1816.26 1480.65 1812.74 1483.45 Q1809.22 1486.25 1802.74 1486.25 Q1800.56 1486.25 1798.25 1485.81 Q1795.96 1485.39 1793.5 1484.54 L1793.5 1480.02 Q1795.45 1481.16 1797.76 1481.74 Q1800.08 1482.32 1802.6 1482.32 Q1807 1482.32 1809.29 1480.58 Q1811.6 1478.84 1811.6 1475.53 Q1811.6 1472.48 1809.45 1470.77 Q1807.32 1469.03 1803.5 1469.03 L1799.47 1469.03 L1799.47 1465.19 L1803.69 1465.19 Q1807.14 1465.19 1808.97 1463.82 Q1810.79 1462.43 1810.79 1459.84 Q1810.79 1457.18 1808.9 1455.77 Q1807.02 1454.33 1803.5 1454.33 Q1801.58 1454.33 1799.38 1454.75 Q1797.18 1455.16 1794.54 1456.04 L1794.54 1451.88 Q1797.21 1451.14 1799.52 1450.77 Q1801.86 1450.39 1803.92 1450.39 Q1809.24 1450.39 1812.34 1452.83 Q1815.45 1455.23 1815.45 1459.35 Q1815.45 1462.22 1813.8 1464.21 Q1812.16 1466.18 1809.13 1466.95 Z\" fill=\"#000000\" fill-rule=\"evenodd\" fill-opacity=\"1\" /><path clip-path=\"url(#clip170)\" d=\"M1835.12 1454.1 Q1831.51 1454.1 1829.68 1457.66 Q1827.88 1461.2 1827.88 1468.33 Q1827.88 1475.44 1829.68 1479.01 Q1831.51 1482.55 1835.12 1482.55 Q1838.76 1482.55 1840.56 1479.01 Q1842.39 1475.44 1842.39 1468.33 Q1842.39 1461.2 1840.56 1457.66 Q1838.76 1454.1 1835.12 1454.1 M1835.12 1450.39 Q1840.93 1450.39 1843.99 1455 Q1847.07 1459.58 1847.07 1468.33 Q1847.07 1477.06 1843.99 1481.67 Q1840.93 1486.25 1835.12 1486.25 Q1829.31 1486.25 1826.23 1481.67 Q1823.18 1477.06 1823.18 1468.33 Q1823.18 1459.58 1826.23 1455 Q1829.31 1450.39 1835.12 1450.39 Z\" fill=\"#000000\" fill-rule=\"evenodd\" fill-opacity=\"1\" /><path clip-path=\"url(#clip170)\" d=\"M2340.93 1455.09 L2329.12 1473.54 L2340.93 1473.54 L2340.93 1455.09 M2339.7 1451.02 L2345.58 1451.02 L2345.58 1473.54 L2350.51 1473.54 L2350.51 1477.43 L2345.58 1477.43 L2345.58 1485.58 L2340.93 1485.58 L2340.93 1477.43 L2325.33 1477.43 L2325.33 1472.92 L2339.7 1451.02 Z\" fill=\"#000000\" fill-rule=\"evenodd\" fill-opacity=\"1\" /><path clip-path=\"url(#clip170)\" d=\"M2368.24 1454.1 Q2364.63 1454.1 2362.8 1457.66 Q2361 1461.2 2361 1468.33 Q2361 1475.44 2362.8 1479.01 Q2364.63 1482.55 2368.24 1482.55 Q2371.88 1482.55 2373.68 1479.01 Q2375.51 1475.44 2375.51 1468.33 Q2375.51 1461.2 2373.68 1457.66 Q2371.88 1454.1 2368.24 1454.1 M2368.24 1450.39 Q2374.05 1450.39 2377.11 1455 Q2380.19 1459.58 2380.19 1468.33 Q2380.19 1477.06 2377.11 1481.67 Q2374.05 1486.25 2368.24 1486.25 Q2362.43 1486.25 2359.35 1481.67 Q2356.3 1477.06 2356.3 1468.33 Q2356.3 1459.58 2359.35 1455 Q2362.43 1450.39 2368.24 1450.39 Z\" fill=\"#000000\" fill-rule=\"evenodd\" fill-opacity=\"1\" /><path clip-path=\"url(#clip170)\" d=\"M1286.87 1522.27 L1286.87 1532.4 L1298.94 1532.4 L1298.94 1536.95 L1286.87 1536.95 L1286.87 1556.3 Q1286.87 1560.66 1288.05 1561.9 Q1289.26 1563.14 1292.92 1563.14 L1298.94 1563.14 L1298.94 1568.04 L1292.92 1568.04 Q1286.14 1568.04 1283.56 1565.53 Q1280.99 1562.98 1280.99 1556.3 L1280.99 1536.95 L1276.69 1536.95 L1276.69 1532.4 L1280.99 1532.4 L1280.99 1522.27 L1286.87 1522.27 Z\" fill=\"#000000\" fill-rule=\"evenodd\" fill-opacity=\"1\" /><polyline clip-path=\"url(#clip172)\" style=\"stroke:#000000; stroke-linecap:butt; stroke-linejoin:round; stroke-width:2; stroke-opacity:0.1; fill:none\" points=\"\n",
       "  222.871,1120.23 2352.76,1120.23 \n",
       "  \"/>\n",
       "<polyline clip-path=\"url(#clip172)\" style=\"stroke:#000000; stroke-linecap:butt; stroke-linejoin:round; stroke-width:2; stroke-opacity:0.1; fill:none\" points=\"\n",
       "  222.871,805.932 2352.76,805.932 \n",
       "  \"/>\n",
       "<polyline clip-path=\"url(#clip172)\" style=\"stroke:#000000; stroke-linecap:butt; stroke-linejoin:round; stroke-width:2; stroke-opacity:0.1; fill:none\" points=\"\n",
       "  222.871,491.632 2352.76,491.632 \n",
       "  \"/>\n",
       "<polyline clip-path=\"url(#clip172)\" style=\"stroke:#000000; stroke-linecap:butt; stroke-linejoin:round; stroke-width:2; stroke-opacity:0.1; fill:none\" points=\"\n",
       "  222.871,177.333 2352.76,177.333 \n",
       "  \"/>\n",
       "<polyline clip-path=\"url(#clip170)\" style=\"stroke:#000000; stroke-linecap:butt; stroke-linejoin:round; stroke-width:4; stroke-opacity:1; fill:none\" points=\"\n",
       "  222.871,1423.18 222.871,47.2441 \n",
       "  \"/>\n",
       "<polyline clip-path=\"url(#clip170)\" style=\"stroke:#000000; stroke-linecap:butt; stroke-linejoin:round; stroke-width:4; stroke-opacity:1; fill:none\" points=\"\n",
       "  222.871,1120.23 241.769,1120.23 \n",
       "  \"/>\n",
       "<polyline clip-path=\"url(#clip170)\" style=\"stroke:#000000; stroke-linecap:butt; stroke-linejoin:round; stroke-width:4; stroke-opacity:1; fill:none\" points=\"\n",
       "  222.871,805.932 241.769,805.932 \n",
       "  \"/>\n",
       "<polyline clip-path=\"url(#clip170)\" style=\"stroke:#000000; stroke-linecap:butt; stroke-linejoin:round; stroke-width:4; stroke-opacity:1; fill:none\" points=\"\n",
       "  222.871,491.632 241.769,491.632 \n",
       "  \"/>\n",
       "<polyline clip-path=\"url(#clip170)\" style=\"stroke:#000000; stroke-linecap:butt; stroke-linejoin:round; stroke-width:4; stroke-opacity:1; fill:none\" points=\"\n",
       "  222.871,177.333 241.769,177.333 \n",
       "  \"/>\n",
       "<path clip-path=\"url(#clip170)\" d=\"M51.3625 1120.68 L81.0383 1120.68 L81.0383 1124.62 L51.3625 1124.62 L51.3625 1120.68 Z\" fill=\"#000000\" fill-rule=\"evenodd\" fill-opacity=\"1\" /><path clip-path=\"url(#clip170)\" d=\"M101.131 1106.03 Q97.5197 1106.03 95.691 1109.6 Q93.8854 1113.14 93.8854 1120.27 Q93.8854 1127.37 95.691 1130.94 Q97.5197 1134.48 101.131 1134.48 Q104.765 1134.48 106.571 1130.94 Q108.399 1127.37 108.399 1120.27 Q108.399 1113.14 106.571 1109.6 Q104.765 1106.03 101.131 1106.03 M101.131 1102.33 Q106.941 1102.33 109.996 1106.93 Q113.075 1111.52 113.075 1120.27 Q113.075 1128.99 109.996 1133.6 Q106.941 1138.18 101.131 1138.18 Q95.3206 1138.18 92.2419 1133.6 Q89.1864 1128.99 89.1864 1120.27 Q89.1864 1111.52 92.2419 1106.93 Q95.3206 1102.33 101.131 1102.33 Z\" fill=\"#000000\" fill-rule=\"evenodd\" fill-opacity=\"1\" /><path clip-path=\"url(#clip170)\" d=\"M121.293 1131.63 L126.177 1131.63 L126.177 1137.51 L121.293 1137.51 L121.293 1131.63 Z\" fill=\"#000000\" fill-rule=\"evenodd\" fill-opacity=\"1\" /><path clip-path=\"url(#clip170)\" d=\"M146.362 1106.03 Q142.751 1106.03 140.922 1109.6 Q139.117 1113.14 139.117 1120.27 Q139.117 1127.37 140.922 1130.94 Q142.751 1134.48 146.362 1134.48 Q149.996 1134.48 151.802 1130.94 Q153.63 1127.37 153.63 1120.27 Q153.63 1113.14 151.802 1109.6 Q149.996 1106.03 146.362 1106.03 M146.362 1102.33 Q152.172 1102.33 155.228 1106.93 Q158.306 1111.52 158.306 1120.27 Q158.306 1128.99 155.228 1133.6 Q152.172 1138.18 146.362 1138.18 Q140.552 1138.18 137.473 1133.6 Q134.418 1128.99 134.418 1120.27 Q134.418 1111.52 137.473 1106.93 Q140.552 1102.33 146.362 1102.33 Z\" fill=\"#000000\" fill-rule=\"evenodd\" fill-opacity=\"1\" /><path clip-path=\"url(#clip170)\" d=\"M170.552 1133.58 L186.871 1133.58 L186.871 1137.51 L164.927 1137.51 L164.927 1133.58 Q167.589 1130.82 172.172 1126.19 Q176.778 1121.54 177.959 1120.2 Q180.204 1117.67 181.084 1115.94 Q181.987 1114.18 181.987 1112.49 Q181.987 1109.73 180.042 1108 Q178.121 1106.26 175.019 1106.26 Q172.82 1106.26 170.366 1107.03 Q167.936 1107.79 165.158 1109.34 L165.158 1104.62 Q167.982 1103.48 170.436 1102.91 Q172.89 1102.33 174.927 1102.33 Q180.297 1102.33 183.491 1105.01 Q186.686 1107.7 186.686 1112.19 Q186.686 1114.32 185.876 1116.24 Q185.089 1118.14 182.982 1120.73 Q182.403 1121.4 179.302 1124.62 Q176.2 1127.81 170.552 1133.58 Z\" fill=\"#000000\" fill-rule=\"evenodd\" fill-opacity=\"1\" /><path clip-path=\"url(#clip170)\" d=\"M50.9921 806.383 L80.6679 806.383 L80.6679 810.319 L50.9921 810.319 L50.9921 806.383 Z\" fill=\"#000000\" fill-rule=\"evenodd\" fill-opacity=\"1\" /><path clip-path=\"url(#clip170)\" d=\"M100.76 791.731 Q97.1493 791.731 95.3206 795.296 Q93.515 798.837 93.515 805.967 Q93.515 813.073 95.3206 816.638 Q97.1493 820.18 100.76 820.18 Q104.395 820.18 106.2 816.638 Q108.029 813.073 108.029 805.967 Q108.029 798.837 106.2 795.296 Q104.395 791.731 100.76 791.731 M100.76 788.027 Q106.571 788.027 109.626 792.634 Q112.705 797.217 112.705 805.967 Q112.705 814.694 109.626 819.3 Q106.571 823.883 100.76 823.883 Q94.9502 823.883 91.8715 819.3 Q88.816 814.694 88.816 805.967 Q88.816 797.217 91.8715 792.634 Q94.9502 788.027 100.76 788.027 Z\" fill=\"#000000\" fill-rule=\"evenodd\" fill-opacity=\"1\" /><path clip-path=\"url(#clip170)\" d=\"M120.922 817.332 L125.807 817.332 L125.807 823.212 L120.922 823.212 L120.922 817.332 Z\" fill=\"#000000\" fill-rule=\"evenodd\" fill-opacity=\"1\" /><path clip-path=\"url(#clip170)\" d=\"M145.992 791.731 Q142.381 791.731 140.552 795.296 Q138.746 798.837 138.746 805.967 Q138.746 813.073 140.552 816.638 Q142.381 820.18 145.992 820.18 Q149.626 820.18 151.431 816.638 Q153.26 813.073 153.26 805.967 Q153.26 798.837 151.431 795.296 Q149.626 791.731 145.992 791.731 M145.992 788.027 Q151.802 788.027 154.857 792.634 Q157.936 797.217 157.936 805.967 Q157.936 814.694 154.857 819.3 Q151.802 823.883 145.992 823.883 Q140.181 823.883 137.103 819.3 Q134.047 814.694 134.047 805.967 Q134.047 797.217 137.103 792.634 Q140.181 788.027 145.992 788.027 Z\" fill=\"#000000\" fill-rule=\"evenodd\" fill-opacity=\"1\" /><path clip-path=\"url(#clip170)\" d=\"M166.964 819.277 L174.603 819.277 L174.603 792.911 L166.292 794.578 L166.292 790.319 L174.556 788.652 L179.232 788.652 L179.232 819.277 L186.871 819.277 L186.871 823.212 L166.964 823.212 L166.964 819.277 Z\" fill=\"#000000\" fill-rule=\"evenodd\" fill-opacity=\"1\" /><path clip-path=\"url(#clip170)\" d=\"M99.5335 477.431 Q95.9224 477.431 94.0937 480.996 Q92.2882 484.537 92.2882 491.667 Q92.2882 498.774 94.0937 502.338 Q95.9224 505.88 99.5335 505.88 Q103.168 505.88 104.973 502.338 Q106.802 498.774 106.802 491.667 Q106.802 484.537 104.973 480.996 Q103.168 477.431 99.5335 477.431 M99.5335 473.727 Q105.344 473.727 108.399 478.334 Q111.478 482.917 111.478 491.667 Q111.478 500.394 108.399 505 Q105.344 509.584 99.5335 509.584 Q93.7234 509.584 90.6447 505 Q87.5892 500.394 87.5892 491.667 Q87.5892 482.917 90.6447 478.334 Q93.7234 473.727 99.5335 473.727 Z\" fill=\"#000000\" fill-rule=\"evenodd\" fill-opacity=\"1\" /><path clip-path=\"url(#clip170)\" d=\"M119.695 503.033 L124.58 503.033 L124.58 508.912 L119.695 508.912 L119.695 503.033 Z\" fill=\"#000000\" fill-rule=\"evenodd\" fill-opacity=\"1\" /><path clip-path=\"url(#clip170)\" d=\"M144.765 477.431 Q141.154 477.431 139.325 480.996 Q137.519 484.537 137.519 491.667 Q137.519 498.774 139.325 502.338 Q141.154 505.88 144.765 505.88 Q148.399 505.88 150.205 502.338 Q152.033 498.774 152.033 491.667 Q152.033 484.537 150.205 480.996 Q148.399 477.431 144.765 477.431 M144.765 473.727 Q150.575 473.727 153.63 478.334 Q156.709 482.917 156.709 491.667 Q156.709 500.394 153.63 505 Q150.575 509.584 144.765 509.584 Q138.955 509.584 135.876 505 Q132.82 500.394 132.82 491.667 Q132.82 482.917 135.876 478.334 Q138.955 473.727 144.765 473.727 Z\" fill=\"#000000\" fill-rule=\"evenodd\" fill-opacity=\"1\" /><path clip-path=\"url(#clip170)\" d=\"M174.927 477.431 Q171.316 477.431 169.487 480.996 Q167.681 484.537 167.681 491.667 Q167.681 498.774 169.487 502.338 Q171.316 505.88 174.927 505.88 Q178.561 505.88 180.366 502.338 Q182.195 498.774 182.195 491.667 Q182.195 484.537 180.366 480.996 Q178.561 477.431 174.927 477.431 M174.927 473.727 Q180.737 473.727 183.792 478.334 Q186.871 482.917 186.871 491.667 Q186.871 500.394 183.792 505 Q180.737 509.584 174.927 509.584 Q169.116 509.584 166.038 505 Q162.982 500.394 162.982 491.667 Q162.982 482.917 166.038 478.334 Q169.116 473.727 174.927 473.727 Z\" fill=\"#000000\" fill-rule=\"evenodd\" fill-opacity=\"1\" /><path clip-path=\"url(#clip170)\" d=\"M100.76 163.131 Q97.1493 163.131 95.3206 166.696 Q93.515 170.238 93.515 177.367 Q93.515 184.474 95.3206 188.039 Q97.1493 191.58 100.76 191.58 Q104.395 191.58 106.2 188.039 Q108.029 184.474 108.029 177.367 Q108.029 170.238 106.2 166.696 Q104.395 163.131 100.76 163.131 M100.76 159.428 Q106.571 159.428 109.626 164.034 Q112.705 168.617 112.705 177.367 Q112.705 186.094 109.626 190.701 Q106.571 195.284 100.76 195.284 Q94.9502 195.284 91.8715 190.701 Q88.816 186.094 88.816 177.367 Q88.816 168.617 91.8715 164.034 Q94.9502 159.428 100.76 159.428 Z\" fill=\"#000000\" fill-rule=\"evenodd\" fill-opacity=\"1\" /><path clip-path=\"url(#clip170)\" d=\"M120.922 188.733 L125.807 188.733 L125.807 194.613 L120.922 194.613 L120.922 188.733 Z\" fill=\"#000000\" fill-rule=\"evenodd\" fill-opacity=\"1\" /><path clip-path=\"url(#clip170)\" d=\"M145.992 163.131 Q142.381 163.131 140.552 166.696 Q138.746 170.238 138.746 177.367 Q138.746 184.474 140.552 188.039 Q142.381 191.58 145.992 191.58 Q149.626 191.58 151.431 188.039 Q153.26 184.474 153.26 177.367 Q153.26 170.238 151.431 166.696 Q149.626 163.131 145.992 163.131 M145.992 159.428 Q151.802 159.428 154.857 164.034 Q157.936 168.617 157.936 177.367 Q157.936 186.094 154.857 190.701 Q151.802 195.284 145.992 195.284 Q140.181 195.284 137.103 190.701 Q134.047 186.094 134.047 177.367 Q134.047 168.617 137.103 164.034 Q140.181 159.428 145.992 159.428 Z\" fill=\"#000000\" fill-rule=\"evenodd\" fill-opacity=\"1\" /><path clip-path=\"url(#clip170)\" d=\"M166.964 190.677 L174.603 190.677 L174.603 164.312 L166.292 165.978 L166.292 161.719 L174.556 160.053 L179.232 160.053 L179.232 190.677 L186.871 190.677 L186.871 194.613 L166.964 194.613 L166.964 190.677 Z\" fill=\"#000000\" fill-rule=\"evenodd\" fill-opacity=\"1\" /><polyline clip-path=\"url(#clip172)\" style=\"stroke:#009af9; stroke-linecap:butt; stroke-linejoin:round; stroke-width:4; stroke-opacity:1; fill:none\" points=\"\n",
       "  222.871,491.632 276.118,491.632 329.365,126.452 382.612,441.725 435.86,797.209 489.107,1052.22 542.354,1208.93 595.601,1297.56 648.848,1344.79 702.095,1368.51 \n",
       "  755.342,1379.43 808.589,1383.59 861.836,1384.24 915.084,1383.1 968.331,1381.07 1021.58,1378.6 1074.82,1375.91 1128.07,1373.11 1181.32,1370.27 1234.57,1367.42 \n",
       "  1287.81,1364.56 1341.06,1361.7 1394.31,1358.85 1447.55,1356.01 1500.8,1353.18 1554.05,1350.35 1607.3,1347.54 1660.54,1344.73 1713.79,1341.93 1767.04,1339.14 \n",
       "  1820.28,1336.36 1873.53,1333.59 1926.78,1330.83 1980.03,1328.08 2033.27,1325.34 2086.52,1322.6 2139.77,1319.88 2193.01,1317.16 2246.26,1314.46 2299.51,1311.76 \n",
       "  2352.76,1309.07 \n",
       "  \"/>\n",
       "<polyline clip-path=\"url(#clip172)\" style=\"stroke:#e26f46; stroke-linecap:butt; stroke-linejoin:round; stroke-width:4; stroke-opacity:1; fill:none\" points=\"\n",
       "  222.871,491.632 276.118,491.632 329.365,219.129 382.612,243.252 435.86,319.624 489.107,383.371 542.354,425.293 595.601,450.153 648.848,464.071 702.095,471.591 \n",
       "  755.342,475.562 808.589,477.629 861.836,478.7 915.084,479.259 968.331,479.557 1021.58,479.725 1074.82,479.827 1128.07,479.896 1181.32,479.95 1234.57,479.996 \n",
       "  1287.81,480.037 1341.06,480.077 1394.31,480.116 1447.55,480.154 1500.8,480.192 1554.05,480.229 1607.3,480.267 1660.54,480.304 1713.79,480.341 1767.04,480.378 \n",
       "  1820.28,480.415 1873.53,480.452 1926.78,480.489 1980.03,480.525 2033.27,480.562 2086.52,480.598 2139.77,480.634 2193.01,480.67 2246.26,480.706 2299.51,480.742 \n",
       "  2352.76,480.778 \n",
       "  \"/>\n",
       "<polyline clip-path=\"url(#clip172)\" style=\"stroke:#3da44d; stroke-linecap:butt; stroke-linejoin:round; stroke-width:4; stroke-opacity:1; fill:none\" points=\"\n",
       "  222.871,491.632 276.118,491.632 329.365,484.858 382.612,490.707 435.86,497.301 489.107,502.031 542.354,504.938 595.601,506.582 648.848,507.458 702.095,507.898 \n",
       "  755.342,508.101 808.589,508.178 861.836,508.19 915.084,508.169 968.331,508.131 1021.58,508.086 1074.82,508.036 1128.07,507.984 1181.32,507.931 1234.57,507.878 \n",
       "  1287.81,507.825 1341.06,507.772 1394.31,507.719 1447.55,507.667 1500.8,507.614 1554.05,507.562 1607.3,507.509 1660.54,507.457 1713.79,507.405 1767.04,507.354 \n",
       "  1820.28,507.302 1873.53,507.251 1926.78,507.2 1980.03,507.148 2033.27,507.098 2086.52,507.047 2139.77,506.996 2193.01,506.946 2246.26,506.896 2299.51,506.846 \n",
       "  2352.76,506.796 \n",
       "  \"/>\n",
       "<polyline clip-path=\"url(#clip172)\" style=\"stroke:#c271d2; stroke-linecap:butt; stroke-linejoin:round; stroke-width:4; stroke-opacity:1; fill:none\" points=\"\n",
       "  222.871,491.632 276.118,86.1857 329.365,321.345 382.612,420.112 435.86,461.594 489.107,479.016 542.354,486.334 595.601,489.407 648.848,490.698 702.095,491.24 \n",
       "  755.342,491.467 808.589,491.563 861.836,491.603 915.084,491.62 968.331,491.627 1021.58,491.63 1074.82,491.631 1128.07,491.632 1181.32,491.632 1234.57,491.632 \n",
       "  1287.81,491.632 1341.06,491.632 1394.31,491.632 1447.55,491.632 1500.8,491.632 1554.05,491.632 1607.3,491.632 1660.54,491.632 1713.79,491.632 1767.04,491.632 \n",
       "  1820.28,491.632 1873.53,491.632 1926.78,491.632 1980.03,491.632 2033.27,491.632 2086.52,491.632 2139.77,491.632 2193.01,491.632 2246.26,491.632 2299.51,491.632 \n",
       "  2352.76,491.632 \n",
       "  \"/>\n",
       "<polyline clip-path=\"url(#clip172)\" style=\"stroke:#ac8d18; stroke-linecap:butt; stroke-linejoin:round; stroke-width:4; stroke-opacity:1; fill:none\" points=\"\n",
       "  222.871,491.632 276.118,491.632 329.365,491.361 382.612,491.595 435.86,491.859 489.107,492.048 542.354,492.165 595.601,492.23 648.848,492.265 702.095,492.283 \n",
       "  755.342,492.291 808.589,492.294 861.836,492.295 915.084,492.294 968.331,492.292 1021.58,492.29 1074.82,492.288 1128.07,492.286 1181.32,492.284 1234.57,492.282 \n",
       "  1287.81,492.28 1341.06,492.278 1394.31,492.276 1447.55,492.274 1500.8,492.272 1554.05,492.27 1607.3,492.267 1660.54,492.265 1713.79,492.263 1767.04,492.261 \n",
       "  1820.28,492.259 1873.53,492.257 1926.78,492.255 1980.03,492.253 2033.27,492.251 2086.52,492.249 2139.77,492.247 2193.01,492.245 2246.26,492.243 2299.51,492.241 \n",
       "  2352.76,492.239 \n",
       "  \"/>\n",
       "<path clip-path=\"url(#clip170)\" d=\"\n",
       "M1755.34 404.149 L2281.76 404.149 L2281.76 93.1086 L1755.34 93.1086  Z\n",
       "  \" fill=\"#ffffff\" fill-rule=\"evenodd\" fill-opacity=\"1\"/>\n",
       "<polyline clip-path=\"url(#clip170)\" style=\"stroke:#000000; stroke-linecap:butt; stroke-linejoin:round; stroke-width:4; stroke-opacity:1; fill:none\" points=\"\n",
       "  1755.34,404.149 2281.76,404.149 2281.76,93.1086 1755.34,93.1086 1755.34,404.149 \n",
       "  \"/>\n",
       "<polyline clip-path=\"url(#clip170)\" style=\"stroke:#009af9; stroke-linecap:butt; stroke-linejoin:round; stroke-width:4; stroke-opacity:1; fill:none\" points=\"\n",
       "  1779,144.949 1921,144.949 \n",
       "  \"/>\n",
       "<path clip-path=\"url(#clip170)\" d=\"M1963.57 140.238 L1963.57 126.21 L1967.83 126.21 L1967.83 162.229 L1963.57 162.229 L1963.57 158.34 Q1962.23 160.655 1960.17 161.789 Q1958.13 162.9 1955.26 162.9 Q1950.56 162.9 1947.6 159.15 Q1944.66 155.4 1944.66 149.289 Q1944.66 143.178 1947.6 139.428 Q1950.56 135.678 1955.26 135.678 Q1958.13 135.678 1960.17 136.812 Q1962.23 137.923 1963.57 140.238 M1949.06 149.289 Q1949.06 153.988 1950.98 156.673 Q1952.93 159.335 1956.31 159.335 Q1959.69 159.335 1961.63 156.673 Q1963.57 153.988 1963.57 149.289 Q1963.57 144.59 1961.63 141.928 Q1959.69 139.243 1956.31 139.243 Q1952.93 139.243 1950.98 141.928 Q1949.06 144.59 1949.06 149.289 Z\" fill=\"#000000\" fill-rule=\"evenodd\" fill-opacity=\"1\" /><polyline clip-path=\"url(#clip170)\" style=\"stroke:#e26f46; stroke-linecap:butt; stroke-linejoin:round; stroke-width:4; stroke-opacity:1; fill:none\" points=\"\n",
       "  1779,196.789 1921,196.789 \n",
       "  \"/>\n",
       "<path clip-path=\"url(#clip170)\" d=\"M1944.66 178.05 L1948.94 178.05 L1948.94 199.323 L1961.65 188.143 L1967.09 188.143 L1953.34 200.272 L1967.67 214.069 L1962.12 214.069 L1948.94 201.407 L1948.94 214.069 L1944.66 214.069 L1944.66 178.05 Z\" fill=\"#000000\" fill-rule=\"evenodd\" fill-opacity=\"1\" /><polyline clip-path=\"url(#clip170)\" style=\"stroke:#3da44d; stroke-linecap:butt; stroke-linejoin:round; stroke-width:4; stroke-opacity:1; fill:none\" points=\"\n",
       "  1779,248.629 1921,248.629 \n",
       "  \"/>\n",
       "<path clip-path=\"url(#clip170)\" d=\"M1959.85 243.964 Q1959.13 243.548 1958.27 243.362 Q1957.44 243.154 1956.42 243.154 Q1952.81 243.154 1950.87 245.515 Q1948.94 247.853 1948.94 252.251 L1948.94 265.909 L1944.66 265.909 L1944.66 239.983 L1948.94 239.983 L1948.94 244.011 Q1950.29 241.649 1952.44 240.515 Q1954.59 239.358 1957.67 239.358 Q1958.11 239.358 1958.64 239.427 Q1959.18 239.474 1959.82 239.589 L1959.85 243.964 Z\" fill=\"#000000\" fill-rule=\"evenodd\" fill-opacity=\"1\" /><polyline clip-path=\"url(#clip170)\" style=\"stroke:#c271d2; stroke-linecap:butt; stroke-linejoin:round; stroke-width:4; stroke-opacity:1; fill:none\" points=\"\n",
       "  1779,300.469 1921,300.469 \n",
       "  \"/>\n",
       "<path clip-path=\"url(#clip170)\" d=\"M1958.06 304.716 Q1952.9 304.716 1950.91 305.897 Q1948.92 307.077 1948.92 309.925 Q1948.92 312.193 1950.4 313.536 Q1951.91 314.855 1954.48 314.855 Q1958.02 314.855 1960.15 312.355 Q1962.3 309.832 1962.3 305.665 L1962.3 304.716 L1958.06 304.716 M1966.56 302.957 L1966.56 317.749 L1962.3 317.749 L1962.3 313.813 Q1960.84 316.175 1958.67 317.309 Q1956.49 318.42 1953.34 318.42 Q1949.36 318.42 1947 316.198 Q1944.66 313.952 1944.66 310.202 Q1944.66 305.827 1947.58 303.605 Q1950.52 301.383 1956.33 301.383 L1962.3 301.383 L1962.3 300.966 Q1962.3 298.027 1960.36 296.429 Q1958.44 294.809 1954.94 294.809 Q1952.72 294.809 1950.61 295.341 Q1948.5 295.874 1946.56 296.939 L1946.56 293.003 Q1948.9 292.101 1951.1 291.661 Q1953.3 291.198 1955.38 291.198 Q1961 291.198 1963.78 294.114 Q1966.56 297.031 1966.56 302.957 Z\" fill=\"#000000\" fill-rule=\"evenodd\" fill-opacity=\"1\" /><polyline clip-path=\"url(#clip170)\" style=\"stroke:#ac8d18; stroke-linecap:butt; stroke-linejoin:round; stroke-width:4; stroke-opacity:1; fill:none\" points=\"\n",
       "  1779,352.309 1921,352.309 \n",
       "  \"/>\n",
       "<path clip-path=\"url(#clip170)\" d=\"M1959.85 347.644 Q1959.13 347.228 1958.27 347.042 Q1957.44 346.834 1956.42 346.834 Q1952.81 346.834 1950.87 349.195 Q1948.94 351.533 1948.94 355.931 L1948.94 369.589 L1944.66 369.589 L1944.66 343.663 L1948.94 343.663 L1948.94 347.691 Q1950.29 345.329 1952.44 344.195 Q1954.59 343.038 1957.67 343.038 Q1958.11 343.038 1958.64 343.107 Q1959.18 343.154 1959.82 343.269 L1959.85 347.644 Z\" fill=\"#000000\" fill-rule=\"evenodd\" fill-opacity=\"1\" /><path clip-path=\"url(#clip170)\" d=\"M1964.31 343.663 L1968.57 343.663 L1968.57 369.589 L1964.31 369.589 L1964.31 343.663 M1964.31 333.57 L1968.57 333.57 L1968.57 338.964 L1964.31 338.964 L1964.31 333.57 Z\" fill=\"#000000\" fill-rule=\"evenodd\" fill-opacity=\"1\" /><path clip-path=\"url(#clip170)\" d=\"M1994.01 344.427 L1994.01 348.454 Q1992.21 347.529 1990.26 347.066 Q1988.32 346.603 1986.24 346.603 Q1983.06 346.603 1981.47 347.575 Q1979.89 348.547 1979.89 350.491 Q1979.89 351.973 1981.03 352.829 Q1982.16 353.663 1985.59 354.427 L1987.05 354.751 Q1991.58 355.723 1993.48 357.505 Q1995.4 359.265 1995.4 362.436 Q1995.4 366.047 1992.53 368.153 Q1989.68 370.26 1984.68 370.26 Q1982.6 370.26 1980.33 369.843 Q1978.09 369.45 1975.59 368.64 L1975.59 364.241 Q1977.95 365.468 1980.24 366.093 Q1982.53 366.695 1984.78 366.695 Q1987.79 366.695 1989.41 365.677 Q1991.03 364.635 1991.03 362.76 Q1991.03 361.024 1989.85 360.098 Q1988.69 359.172 1984.73 358.316 L1983.25 357.968 Q1979.29 357.135 1977.53 355.422 Q1975.77 353.686 1975.77 350.677 Q1975.77 347.019 1978.37 345.029 Q1980.96 343.038 1985.73 343.038 Q1988.09 343.038 1990.17 343.385 Q1992.25 343.732 1994.01 344.427 Z\" fill=\"#000000\" fill-rule=\"evenodd\" fill-opacity=\"1\" /><path clip-path=\"url(#clip170)\" d=\"M2002.02 333.57 L2006.31 333.57 L2006.31 354.843 L2019.01 343.663 L2024.45 343.663 L2010.7 355.792 L2025.03 369.589 L2019.48 369.589 L2006.31 356.927 L2006.31 369.589 L2002.02 369.589 L2002.02 333.57 Z\" fill=\"#000000\" fill-rule=\"evenodd\" fill-opacity=\"1\" /><path clip-path=\"url(#clip170)\" d=\"M2033.76 365.7 L2033.76 379.45 L2029.48 379.45 L2029.48 343.663 L2033.76 343.663 L2033.76 347.598 Q2035.1 345.283 2037.14 344.172 Q2039.2 343.038 2042.05 343.038 Q2046.77 343.038 2049.71 346.788 Q2052.67 350.538 2052.67 356.649 Q2052.67 362.76 2049.71 366.51 Q2046.77 370.26 2042.05 370.26 Q2039.2 370.26 2037.14 369.149 Q2035.1 368.015 2033.76 365.7 M2048.25 356.649 Q2048.25 351.95 2046.3 349.288 Q2044.38 346.603 2041 346.603 Q2037.62 346.603 2035.68 349.288 Q2033.76 351.95 2033.76 356.649 Q2033.76 361.348 2035.68 364.033 Q2037.62 366.695 2041 366.695 Q2044.38 366.695 2046.3 364.033 Q2048.25 361.348 2048.25 356.649 Z\" fill=\"#000000\" fill-rule=\"evenodd\" fill-opacity=\"1\" /><path clip-path=\"url(#clip170)\" d=\"M2074.75 347.644 Q2074.04 347.228 2073.18 347.042 Q2072.35 346.834 2071.33 346.834 Q2067.72 346.834 2065.77 349.195 Q2063.85 351.533 2063.85 355.931 L2063.85 369.589 L2059.57 369.589 L2059.57 343.663 L2063.85 343.663 L2063.85 347.691 Q2065.19 345.329 2067.35 344.195 Q2069.5 343.038 2072.58 343.038 Q2073.02 343.038 2073.55 343.107 Q2074.08 343.154 2074.73 343.269 L2074.75 347.644 Z\" fill=\"#000000\" fill-rule=\"evenodd\" fill-opacity=\"1\" /><path clip-path=\"url(#clip170)\" d=\"M2100.36 355.561 L2100.36 357.644 L2080.77 357.644 Q2081.05 362.042 2083.41 364.357 Q2085.8 366.649 2090.03 366.649 Q2092.49 366.649 2094.78 366.047 Q2097.09 365.445 2099.36 364.241 L2099.36 368.269 Q2097.07 369.241 2094.66 369.751 Q2092.25 370.26 2089.78 370.26 Q2083.57 370.26 2079.94 366.649 Q2076.33 363.038 2076.33 356.88 Q2076.33 350.515 2079.75 346.788 Q2083.2 343.038 2089.04 343.038 Q2094.27 343.038 2097.3 346.417 Q2100.36 349.774 2100.36 355.561 M2096.1 354.311 Q2096.05 350.816 2094.13 348.732 Q2092.23 346.649 2089.08 346.649 Q2085.52 346.649 2083.36 348.663 Q2081.24 350.677 2080.91 354.334 L2096.1 354.311 Z\" fill=\"#000000\" fill-rule=\"evenodd\" fill-opacity=\"1\" /><path clip-path=\"url(#clip170)\" d=\"M2127.53 348.64 Q2129.13 345.769 2131.35 344.404 Q2133.57 343.038 2136.58 343.038 Q2140.63 343.038 2142.83 345.885 Q2145.03 348.709 2145.03 353.941 L2145.03 369.589 L2140.75 369.589 L2140.75 354.079 Q2140.75 350.353 2139.43 348.547 Q2138.11 346.742 2135.4 346.742 Q2132.09 346.742 2130.17 348.941 Q2128.25 351.14 2128.25 354.936 L2128.25 369.589 L2123.97 369.589 L2123.97 354.079 Q2123.97 350.329 2122.65 348.547 Q2121.33 346.742 2118.57 346.742 Q2115.31 346.742 2113.39 348.964 Q2111.47 351.163 2111.47 354.936 L2111.47 369.589 L2107.18 369.589 L2107.18 343.663 L2111.47 343.663 L2111.47 347.691 Q2112.92 345.306 2114.96 344.172 Q2117 343.038 2119.8 343.038 Q2122.62 343.038 2124.59 344.473 Q2126.58 345.908 2127.53 348.64 Z\" fill=\"#000000\" fill-rule=\"evenodd\" fill-opacity=\"1\" /><path clip-path=\"url(#clip170)\" d=\"M2153.53 343.663 L2157.79 343.663 L2157.79 369.589 L2153.53 369.589 L2153.53 343.663 M2153.53 333.57 L2157.79 333.57 L2157.79 338.964 L2153.53 338.964 L2153.53 333.57 Z\" fill=\"#000000\" fill-rule=\"evenodd\" fill-opacity=\"1\" /><path clip-path=\"url(#clip170)\" d=\"M2166.26 359.357 L2166.26 343.663 L2170.52 343.663 L2170.52 359.195 Q2170.52 362.876 2171.95 364.728 Q2173.39 366.556 2176.26 366.556 Q2179.71 366.556 2181.7 364.357 Q2183.71 362.158 2183.71 358.362 L2183.71 343.663 L2187.97 343.663 L2187.97 369.589 L2183.71 369.589 L2183.71 365.607 Q2182.16 367.968 2180.1 369.126 Q2178.06 370.26 2175.36 370.26 Q2170.89 370.26 2168.57 367.482 Q2166.26 364.704 2166.26 359.357 M2176.98 343.038 L2176.98 343.038 Z\" fill=\"#000000\" fill-rule=\"evenodd\" fill-opacity=\"1\" /><path clip-path=\"url(#clip170)\" d=\"M2216.93 348.64 Q2218.53 345.769 2220.75 344.404 Q2222.97 343.038 2225.98 343.038 Q2230.03 343.038 2232.23 345.885 Q2234.43 348.709 2234.43 353.941 L2234.43 369.589 L2230.15 369.589 L2230.15 354.079 Q2230.15 350.353 2228.83 348.547 Q2227.51 346.742 2224.8 346.742 Q2221.49 346.742 2219.57 348.941 Q2217.65 351.14 2217.65 354.936 L2217.65 369.589 L2213.36 369.589 L2213.36 354.079 Q2213.36 350.329 2212.04 348.547 Q2210.73 346.742 2207.97 346.742 Q2204.71 346.742 2202.79 348.964 Q2200.86 351.163 2200.86 354.936 L2200.86 369.589 L2196.58 369.589 L2196.58 343.663 L2200.86 343.663 L2200.86 347.691 Q2202.32 345.306 2204.36 344.172 Q2206.4 343.038 2209.2 343.038 Q2212.02 343.038 2213.99 344.473 Q2215.98 345.908 2216.93 348.64 Z\" fill=\"#000000\" fill-rule=\"evenodd\" fill-opacity=\"1\" /></svg>\n"
      ]
     },
     "execution_count": 21,
     "metadata": {},
     "output_type": "execute_result"
    }
   ],
   "source": [
    "#Now plot it\n",
    "plot(val1)"
   ]
  },
  {
   "cell_type": "markdown",
   "id": "525cdb5d-5691-4e29-9b1b-fa5a70d9fa18",
   "metadata": {},
   "source": [
    "Hooray! This looks right (ie, the same as Dynare) both qualitatively and quantitatively. The big difference of course is that `d` and `k` start to move one period after the shock in this plot, while they appear to move simultaneously in the Dynare IRF plot. That is not actually a real difference, due to the end of a period vs start of a period timing conventions. It is a reminder that when estimating it will be important to shift the Dynare series back by one."
   ]
  },
  {
   "cell_type": "markdown",
   "id": "b449bc26-c015-427f-9ef9-8b9136651673",
   "metadata": {},
   "source": [
    "Now that the version without the shocks passes the most basic tests (steady state equations, not actually used, aside), let's fix the version with added shocks."
   ]
  },
  {
   "cell_type": "code",
   "execution_count": 22,
   "id": "bdf6f03f-f004-4118-99e4-b02ad64d9eaa",
   "metadata": {},
   "outputs": [
    {
     "name": "stdout",
     "output_type": "stream",
     "text": [
      "\u001b[36mBuilding model up to order 1\u001b[39m\n",
      "\u001b[36mSubstituting and simplifying\u001b[39m\n",
      "\u001b[36mBuilding model functions\u001b[39m\n",
      "\u001b[36mSaved sguex to /Users/dchilder/.julia/packages/DifferentiableStateSpaceModels/qRvKd/.function_cache/sguex.jl\u001b[39m\n"
     ]
    },
    {
     "data": {
      "text/plain": [
       "\"/Users/dchilder/.julia/packages/DifferentiableStateSpaceModels/qRvKd/.function_cache/sguex.jl\""
      ]
     },
     "execution_count": 22,
     "metadata": {},
     "output_type": "execute_result"
    }
   ],
   "source": [
    "∞ = Inf\n",
    "# Parameters\n",
    "@variables γ, ω, ρ, σe, δ, ψ, α, ϕ, β, r_w, d_bar, ρ_u, σu, ρ_v, σv\n",
    "# x and y\n",
    "@variables t::Integer, d(..), c(..), h(..), GDP(..), i(..), k(..), a(..), λ(..), tb(..),\n",
    "               ca(..), riskpremium(..), r(..), kfu(..), ζ(..), μ(..)\n",
    "@variables Ω_1\n",
    "x = [d, k, r, a, riskpremium, ζ, μ]\n",
    "y = [c, h, GDP, i, kfu, λ, tb, ca]\n",
    "p = [γ, ω, ρ, σe, δ, ψ, α, ϕ, β, r_w, d_bar, Ω_1, ρ_u, σu, ρ_v, σv]\n",
    "    \n",
    "# Model equations\n",
    "H = [d(t+1) - (1 + exp(r(t))) * d(t) + exp(GDP(t)) - exp(c(t)) - exp(i(t)) -\n",
    "    (ϕ / 2) * (exp(k(t+1)) - exp(k(t)))^2, #Debt evolution\n",
    "    exp(GDP(t)) - exp(a(t)) * (exp(k(t))^α) * (exp(h(t))^(1 - α)), #Production function\n",
    "    exp(k(t + 1)) - exp(i(t)) - (1 - δ) * exp(k(t)), #Capital evolution\n",
    "    exp(λ(t)) - β * (1 + exp(r(t+1))) * exp(λ(t + 1)) * exp(μ(t)), #Euler equation\n",
    "    (exp(c(t)) - ((exp(h(t))^ω) / ω))^(-γ) - exp(λ(t)), #Marginal utility\n",
    "    ((exp(c(t)) - ((exp(h(t))^ω) / ω))^(-γ)) * (exp(h(t))^(ω - 1)) -\n",
    "    exp(λ(t)) * (1 - α) * exp(GDP(t)) / exp(h(t)), #Labor FOC\n",
    "    exp(λ(t)) * (1 + ϕ * (exp(k(t + 1)) - exp(k(t)))) -\n",
    "    β *\n",
    "    exp(λ(t + 1)) * exp(μ(t)) *\n",
    "    (α * exp(GDP(t + 1)) / exp(k(t + 1)) + 1 - δ + ϕ * (exp(kfu(t + 1)) - exp(k(t + 1)))), #Investment FOC\n",
    "    exp(r(t+1)) - r_w - riskpremium(t+1), #Interest rate\n",
    "    riskpremium(t+1) - ψ * (exp(d(t+1) - d_bar) - 1) - ζ(t), #Risk premium\n",
    "    tb(t) - 1 +\n",
    "    ((exp(c(t)) + exp(i(t)) + (ϕ / 2) * (exp(k(t + 1)) - exp(k(t)))^2) / exp(GDP(t))), #Trade Balance\n",
    "    ca(t) - (1 / -exp(GDP(t))) * (d(t) - d(t + 1)), #Current Account\n",
    "    kfu(t) - k(t + 1), #auxiliary future variable\n",
    "    a(t + 1) - ρ * a(t), #TFP evolution\n",
    "    ζ(t + 1) - ρ_u * ζ(t), #Risk premium shock\n",
    "    μ(t + 1) - ρ_v * μ(t)] #Demand shock\n",
    "    \n",
    "#Define representations for steady state\n",
    "\n",
    "hstar = ((1 - α) * (α / (r_w + δ))^(α / (1 - α)))^(1 / (ω - 1))\n",
    "kstar = hstar / (((r_w + δ) / α)^(1 / (1 - α)))\n",
    "istar = δ * kstar\n",
    "GDPstar = (kstar^α) * (hstar^(1 - α))\n",
    "cstar = GDPstar - istar - r_w * d_bar\n",
    "tbstar = GDPstar - cstar - istar\n",
    "λstar = (cstar - ((hstar^ω) / ω))^(-γ)\n",
    "    \n",
    "#Steady state values\n",
    "    \n",
    "steady_states_iv = [a(∞) ~ 0, kfu(∞) ~ log(kstar),\n",
    "                     d(∞) ~ d_bar, c(∞) ~ log(cstar), h(∞) ~ log(hstar),\n",
    "                     GDP(∞) ~ log(GDPstar), i(∞) ~ log(istar), k(∞) ~ log(kstar),\n",
    "                     λ(∞) ~ log(λstar), tb(∞) ~ tbstar, ca(∞) ~ 0, riskpremium(∞) ~ 0,\n",
    "                     r(∞) ~ log((1 - β) / β),\n",
    "                     ζ(∞) ~ 0,\n",
    "                     μ(∞) ~ 0]\n",
    "\n",
    "n_ϵ = 3\n",
    "n_x = length(x)\n",
    "n_y = length(y)\n",
    "Γ = zeros(Num, n_ϵ, n_ϵ) # make sure it is not a float64 matrix\n",
    "Γ[1, 1] = σe\n",
    "Γ[2, 2] = σu\n",
    "Γ[3, 3] = σv\n",
    "η = zeros(n_x, n_ϵ) # η is n_x * n_ϵ matrix\n",
    "η[4, 1] = 1 # e\n",
    "η[6, 2] = 1 # u\n",
    "η[7, 3] = 1 # v\n",
    "\n",
    "n_z = 3 # number of observables\n",
    "Q = zeros(n_z, n_x + n_y) # the order is [y, x]\n",
    "Q[1, 3] = 1.0 # y i.e. GDP\n",
    "Q[2, 8] = 1.0 # ca\n",
    "Q[3, 11] = 1.0 # r\n",
    "\n",
    "Ω = [Ω_1, Ω_1, Ω_1]\n",
    "    \n",
    "# Generates the files and includes if required.\n",
    "#overwrite_model_cache  = true\n",
    "  \n",
    "model_sguex = make_perturbation_model(H; t, y, x, p, steady_states_iv, Γ, Ω, η, Q, max_order = 1, model_name=\"sguex\")  "
   ]
  },
  {
   "cell_type": "code",
   "execution_count": 23,
   "id": "52bee6d0-5ea6-452b-8f42-73020601849f",
   "metadata": {},
   "outputs": [
    {
     "data": {
      "text/plain": [
       "Main.sguex"
      ]
     },
     "execution_count": 23,
     "metadata": {},
     "output_type": "execute_result"
    }
   ],
   "source": [
    "include(\"/Users/dchilder/.julia/packages/DifferentiableStateSpaceModels/FjzWj/.function_cache/sguex.jl\")"
   ]
  },
  {
   "cell_type": "code",
   "execution_count": 24,
   "id": "b6c131c5-013c-4056-9563-928ad58bbb4f",
   "metadata": {},
   "outputs": [
    {
     "data": {
      "text/plain": [
       "Perturbation Model: n_y = 8, n_x = 7, n_p = 16, n_ϵ = 3, n_z = 3\n",
       " y = [:c, :h, :GDP, :i, :kfu, :λ, :tb, :ca] \n",
       " x = [:d, :k, :r, :a, :riskpremium, :ζ, :μ] \n",
       " p = [:γ, :ω, :ρ, :σe, :δ, :ψ, :α, :ϕ, :β, :r_w, :d_bar, :Ω_1, :ρ_u, :σu, :ρ_v, :σv]"
      ]
     },
     "execution_count": 24,
     "metadata": {},
     "output_type": "execute_result"
    }
   ],
   "source": [
    "model_sguex = DifferentiableStateSpaceModels.PerturbationModel(getfield(Main, Symbol(\"sguex\")))"
   ]
  },
  {
   "cell_type": "code",
   "execution_count": 25,
   "id": "36e66f30-2c8f-4f82-9998-e9b1988c1927",
   "metadata": {},
   "outputs": [
    {
     "data": {
      "text/latex": [
       "$\\begin{equation}\n",
       "\\left[\n",
       "\\begin{array}{c}\n",
       " - e^{c\\left( t \\right)} - e^{i\\left( t \\right)} - \\frac{1}{2} \\left(  - e^{k\\left( t \\right)} + e^{k\\left( 1 + t \\right)} \\right)^{2} \\phi - \\left( 1 + e^{r\\left( t \\right)} \\right) d\\left( t \\right) + d\\left( 1 + t \\right) + e^{\\mathrm{GDP}\\left( t \\right)} \\\\\n",
       " - \\left( e^{k\\left( t \\right)} \\right)^{\\alpha} \\left( e^{h\\left( t \\right)} \\right)^{1 - \\alpha} e^{a\\left( t \\right)} + e^{\\mathrm{GDP}\\left( t \\right)} \\\\\n",
       " - e^{i\\left( t \\right)} - \\left( 1 - \\delta \\right) e^{k\\left( t \\right)} + e^{k\\left( 1 + t \\right)} \\\\\n",
       " - \\beta \\left( 1 + e^{r\\left( 1 + t \\right)} \\right) e^{\\mu\\left( t \\right)} e^{\\lambda\\left( 1 + t \\right)} + e^{\\lambda\\left( t \\right)} \\\\\n",
       "\\left( \\frac{ - \\left( e^{h\\left( t \\right)} \\right)^{\\omega}}{\\omega} + e^{c\\left( t \\right)} \\right)^{ - \\gamma} - e^{\\lambda\\left( t \\right)} \\\\\n",
       "\\left( e^{h\\left( t \\right)} \\right)^{-1 + \\omega} \\left( \\frac{ - \\left( e^{h\\left( t \\right)} \\right)^{\\omega}}{\\omega} + e^{c\\left( t \\right)} \\right)^{ - \\gamma} + \\frac{ - \\left( 1 - \\alpha \\right) e^{\\mathrm{GDP}\\left( t \\right)} e^{\\lambda\\left( t \\right)}}{e^{h\\left( t \\right)}} \\\\\n",
       "\\left( 1 + \\phi \\left(  - e^{k\\left( t \\right)} + e^{k\\left( 1 + t \\right)} \\right) \\right) e^{\\lambda\\left( t \\right)} - \\beta \\left( 1 - \\delta + \\phi \\left(  - e^{k\\left( 1 + t \\right)} + e^{\\mathrm{kfu}\\left( 1 + t \\right)} \\right) + \\frac{\\alpha e^{\\mathrm{GDP}\\left( 1 + t \\right)}}{e^{k\\left( 1 + t \\right)}} \\right) e^{\\mu\\left( t \\right)} e^{\\lambda\\left( 1 + t \\right)} \\\\\n",
       " - r_{w} - \\mathrm{riskpremium}\\left( 1 + t \\right) + e^{r\\left( 1 + t \\right)} \\\\\n",
       " - \\zeta\\left( t \\right) - \\psi \\left( -1 + e^{ - d_{bar} + d\\left( 1 + t \\right)} \\right) + \\mathrm{riskpremium}\\left( 1 + t \\right) \\\\\n",
       "-1 + \\frac{\\frac{1}{2} \\left(  - e^{k\\left( t \\right)} + e^{k\\left( 1 + t \\right)} \\right)^{2} \\phi + e^{c\\left( t \\right)} + e^{i\\left( t \\right)}}{e^{\\mathrm{GDP}\\left( t \\right)}} + \\mathrm{tb}\\left( t \\right) \\\\\n",
       "\\frac{ - d\\left( 1 + t \\right) + d\\left( t \\right)}{e^{\\mathrm{GDP}\\left( t \\right)}} + \\mathrm{ca}\\left( t \\right) \\\\\n",
       " - k\\left( 1 + t \\right) + \\mathrm{kfu}\\left( t \\right) \\\\\n",
       " - \\rho a\\left( t \\right) + a\\left( 1 + t \\right) \\\\\n",
       " - \\rho_{u} \\zeta\\left( t \\right) + \\zeta\\left( 1 + t \\right) \\\\\n",
       " - \\rho_{v} \\mu\\left( t \\right) + \\mu\\left( 1 + t \\right) \\\\\n",
       "\\end{array}\n",
       "\\right]\n",
       "\\end{equation}\n",
       "$"
      ],
      "text/plain": [
       "\"\\$\\\\begin{equation}\\n\\\\left[\\n\\\\begin{array}{c}\\n - e^{c\\\\left( t \\\\right)} - e^{i\\\\left( t \\\\right)} - \\\\frac{1}{2} \\\\left(  - e^{k\\\\left( t \\\\right)} + e^{k\\\\left( 1 + t \\\\right)} \\\\right)^{2} \\\\phi - \\\\left( 1 + e^{r\\\\left( t \\\\right)} \\\\right) d\\\\left( t \\\\right) + d\\\\left( 1 + t \\\\right) + e\" ⋯ 1824 bytes ⋯ \"\\\\left( 1 + t \\\\right) + \\\\mathrm{kfu}\\\\left( t \\\\right) \\\\\\\\\\n - \\\\rho a\\\\left( t \\\\right) + a\\\\left( 1 + t \\\\right) \\\\\\\\\\n - \\\\rho_{u} \\\\zeta\\\\left( t \\\\right) + \\\\zeta\\\\left( 1 + t \\\\right) \\\\\\\\\\n - \\\\rho_{v} \\\\mu\\\\left( t \\\\right) + \\\\mu\\\\left( 1 + t \\\\right) \\\\\\\\\\n\\\\end{array}\\n\\\\right]\\n\\\\end{equation}\\n\\$\""
      ]
     },
     "execution_count": 25,
     "metadata": {},
     "output_type": "execute_result"
    }
   ],
   "source": [
    "model_H_latex(model_sguex)"
   ]
  },
  {
   "cell_type": "code",
   "execution_count": 26,
   "id": "9c9c6d2c-89fc-4b7b-87f3-903ca5b5362d",
   "metadata": {},
   "outputs": [
    {
     "name": "stdout",
     "output_type": "stream",
     "text": [
      "(model_sguex.n_x, model_sguex.n_y, model_sguex.n_ϵ, model_sguex.n_z) = (7, 8, 3, 3)\n"
     ]
    },
    {
     "data": {
      "text/plain": [
       "(7, 8, 3, 3)"
      ]
     },
     "execution_count": 26,
     "metadata": {},
     "output_type": "execute_result"
    }
   ],
   "source": [
    "@show model_sguex.n_x, model_sguex.n_y, model_sguex.n_ϵ, model_sguex.n_z"
   ]
  },
  {
   "cell_type": "code",
   "execution_count": 27,
   "id": "c48d4ea6-0146-4038-916f-c2e15e58114e",
   "metadata": {},
   "outputs": [
    {
     "name": "stdout",
     "output_type": "stream",
     "text": [
      "sol.retcode = :Success\n"
     ]
    },
    {
     "data": {
      "text/plain": [
       ":Success"
      ]
     },
     "execution_count": 27,
     "metadata": {},
     "output_type": "execute_result"
    }
   ],
   "source": [
    "#Solve at a point: note extra parameters\n",
    "p_f = (; γ = 2.0, ω = 1.455, σe = 0.0129, δ = 0.1, ψ = 0.000742,\n",
    "              ϕ = 0.028, r_w = 0.04, d_bar = 0.7442, ρ_u = 0.2,\n",
    "              σu = 0.003, ρ_v = 0.4, σv = 0.1, Ω_1 = 0.00316)\n",
    "p_d = (; ρ = 0.42, α = 0.32, β = 1.0 / (1.0 + 0.04))\n",
    "\n",
    "sol = generate_perturbation(model_sguex, p_d, p_f) # Solution to the first-order model\n",
    "@show sol.retcode"
   ]
  },
  {
   "cell_type": "markdown",
   "id": "073ca6a6-a760-4a3a-8373-ea8dd6793732",
   "metadata": {},
   "source": [
    "Great to see `sol.retcode = :Success`: it means the model is not so nonsensical that it doesn't solve. The main thing that needs checking is the timing of the shock in equation (9), which defines the risk premium.  Is it right for $\\zeta(t)$ to enter into riskpremium(t+1), or should it be $\\zeta(t+1)$. They are \"contemporaneous\" in the Dynare notation, but the fact that the riskpremium is a state means that the new timing convention might need the shift. Also possibly the intertemporal marginal rate of substitution shock could have timing off; it's worth checking, at least. The way to check these is the IRFs, so let's do it."
   ]
  },
  {
   "cell_type": "code",
   "execution_count": 28,
   "id": "dd3c1fb2-968c-4378-8925-d7a564c9bf43",
   "metadata": {},
   "outputs": [
    {
     "data": {
      "text/plain": [
       "retcode: Success\n",
       "Interpolation: Piecewise constant interpolation\n",
       "t: 0:40\n",
       "u: 41-element Vector{Vector{Float64}}:\n",
       " [0.0, 0.0, 0.0, 0.0, 0.0, 0.0, 0.0]\n",
       " [0.0, 0.0, 0.0, 0.0129, 0.0, 0.0, 0.0]\n",
       " [0.011618843866397183, 0.00867017503961149, 0.0002155295537212956, 0.005417999999999997, 8.621182148865155e-6, 5.083989448852661e-19, -3.5840580010655323e-19]\n",
       " [0.001587902654489551, 0.007902671434934729, 2.9455594240537093e-5, 0.002275559999999997, 1.1782237696297492e-6, 4.1226126555376137e-19, -4.735912056332541e-19]\n",
       " [-0.00972244952828505, 0.00547274780179216, -0.00018035143874983937, 0.0009557351999999979, -7.214057549989608e-6, 2.282390455463764e-19, -5.038997801154122e-19]\n",
       " [-0.017835935906235886, 0.0034445218849599468, -0.0003308566110607699, 0.0004014087839999988, -1.3234264442429672e-5, 8.327023728583902e-20, -5.072280426237539e-19]\n",
       " [-0.02282213458474444, 0.002110693361049175, -0.00042335059654707066, 0.00016859168927999931, -1.693402386188339e-5, -9.666798473338009e-21, -5.035327651876673e-19]\n",
       " [-0.025642049254086644, 0.0013197538611563059, -0.00047566001366335033, 7.080850949759962e-5, -1.9026400546535515e-5, -6.385778596158846e-20, -4.990137846602146e-19]\n",
       " [-0.027144628153851956, 0.0008769054068290498, -0.0005035328522539872, 2.9739573988991778e-5, -2.0141314090161495e-5, -9.372935005751073e-20, -4.951928443351652e-19]\n",
       " [-0.027899264679778255, 0.000637645275743072, -0.0005175313598099148, 1.2490621075376501e-5, -2.070125439239886e-5, -1.095471068878409e-19, -4.921761262773068e-19]\n",
       " [-0.028246824265833262, 0.000511321984818812, -0.0005239785901312328, 5.2460608516580896e-6, -2.0959143605251704e-5, -1.1762867115135512e-19, -4.897472148945651e-19]\n",
       " [-0.028379085331264414, 0.0004455429310463664, -0.0005264320328949791, 2.203345557696359e-6, -2.1057281315801625e-5, -1.215853304662417e-19, -4.876879472840062e-19]\n",
       " [-0.028399829093330074, 0.0004114597321716176, -0.0005268168296812965, 9.254051342324338e-7, -2.1072673187254345e-5, -1.233914562589194e-19, -4.858448573764094e-19]\n",
       " ⋮\n",
       " [-0.02696505455402511, 0.0003580667727864389, -0.0005002017619771873, 3.643927866327133e-13, -2.0008070479089886e-5, -1.1878268903371518e-19, -4.592110184858626e-19]\n",
       " [-0.026876633599319962, 0.00035689255740525914, -0.0004985615532674069, 1.530449364325571e-13, -1.9942462130698655e-5, -1.1839319341243214e-19, -4.577052170748651e-19]\n",
       " [-0.02678850244944469, 0.00035572223256750767, -0.0004969267204372205, 6.42788394598279e-14, -1.9877068817491188e-5, -1.1800497230005684e-19, -4.562043537267565e-19]\n",
       " [-0.026700660225197362, 0.0003545557646246378, -0.0004952972471774325, 2.699707884225276e-14, -1.981188988709966e-5, -1.1761802291530675e-19, -4.547084120502063e-19]\n",
       " [-0.026613106013288593, 0.00035339313089861017, -0.0004936731165465248, 1.1338739493478339e-14, -1.9746924661863344e-5, -1.1723234175921024e-19, -4.532173758107202e-19]\n",
       " [-0.026525838885668753, 0.0003522343140030729, -0.0004920543113291766, 4.762237077237478e-15, -1.968217245316941e-5, -1.1684792499515014e-19, -4.517312288767447e-19]\n",
       " [-0.026438857908809725, 0.00035107929911350904, -0.0004904408142084415, 2.0001061722991875e-15, -1.9617632568340006e-5, -1.164647686314983e-19, -4.502499551935636e-19]\n",
       " [-0.026352162148156645, 0.00034992807265589335, -0.0004888326078483268, 8.400113017476484e-16, -1.9553304313935407e-5, -1.160828686093088e-19, -4.48773538770626e-19]\n",
       " [-0.026265750670259085, 0.0003487806216771206, -0.0004872296749333271, 3.5277156527940406e-16, -1.948918699733541e-5, -1.157022208443866e-19, -4.473019636753541e-19]\n",
       " [-0.026179622543788056, 0.0003476369335428815, -0.0004856319981872895, 1.4813098476818302e-16, -1.9425279927493892e-5, -1.1532282124744598e-19, -4.458352140300757e-19]\n",
       " [-0.026093776840018377, 0.0003464969957927105, -0.00048403956038236184, 6.218204940212625e-17, -1.9361582415296786e-5, -1.1494466573375405e-19, -4.4437327401046065e-19]\n",
       " [-0.026008212633054664, 0.00034536079607043355, -0.0004824523443431849, 2.608360464142353e-17, -1.9298093773729698e-5, -1.145677502277296e-19, -4.42916127844682e-19]"
      ]
     },
     "execution_count": 28,
     "metadata": {},
     "output_type": "execute_result"
    }
   ],
   "source": [
    "#Generate an IRF to a TFP shock \n",
    "T = 40\n",
    "ϵ01 = [1.0, 0.0, 0.0]\n",
    "ϵ02 = [0.0, 1.0, 0.0]\n",
    "ϵ03 = [0.0, 0.0, 1.0]\n",
    "val1 = irf(sol, ϵ01, T) #e TFP shock"
   ]
  },
  {
   "cell_type": "code",
   "execution_count": 29,
   "id": "13aa7218-aa70-4840-afa7-8d8d6badd0ba",
   "metadata": {},
   "outputs": [
    {
     "data": {
      "text/plain": [
       "retcode: Success\n",
       "Interpolation: Piecewise constant interpolation\n",
       "t: 0:40\n",
       "u: 41-element Vector{Vector{Float64}}:\n",
       " [0.0, 0.0, 0.0, 0.0, 0.0, 0.0, 0.0]\n",
       " [0.0, 0.0, 0.0, 0.0, 0.0, 0.003, 0.0]\n",
       " [-0.05503642504056681, -0.01595911627070582, 0.07397907431549719, 1.3639938069403426e-18, 0.002959162972619893, 0.0005999999999999995, 2.1060806496272403e-19]\n",
       " [-0.03564345837640269, -0.010827705172015128, 0.01433881384711783, 9.10750495612211e-19, 0.0005735525538847064, 0.00011999999999999952, 1.6877235302562517e-19]\n",
       " [-0.018263191377154205, -0.005823463022549313, 0.002661217799953881, 4.860206721796131e-19, 0.00010644871199815021, 2.399999999999969e-5, 1.0276210917452673e-19]\n",
       " [-0.00833636743455629, -0.0029213962394913752, 0.00044536038408903283, 2.4280796396702427e-19, 1.781441536355862e-5, 4.799999999999832e-6, 6.34268700317063e-20]\n",
       " [-0.0032700706220240884, -0.0014323038638323962, 5.934018996148004e-5, 1.1911061668101794e-19, 2.3736075984579118e-6, 9.599999999999171e-7, 4.3615131406454935e-20]\n",
       " [-0.0007864227750868794, -0.0007001718079551266, 9.411857522152105e-6, 5.874352174518363e-20, 3.7647430088552325e-7, 1.9199999999996239e-7, 3.414086114757007e-20]\n",
       " [0.0004109733798353651, -0.00034614586978681463, 1.2423556195953258e-5, 2.97421561984988e-20, 4.969422478379292e-7, 3.839999999998516e-8, 2.9669231433251736e-20]\n",
       " [0.000983252028642563, -0.0001760949270755902, 1.9199325131323635e-5, 1.5890708504073117e-20, 7.679730052529184e-7, 7.679999999996294e-9, 2.754528798133306e-20]\n",
       " [0.0012546988321505371, -9.462470354958641e-5, 2.346666333639505e-5, 9.286376103057312e-21, 9.386665334558587e-7, 1.536000000001669e-9, 2.6512543854458614e-20]\n",
       " [0.001381961771843059, -5.5620716331531235e-5, 2.567379086769061e-5, 6.136325138738964e-21, 1.0269516347077206e-6, 3.0720000000423985e-10, 2.598634554987072e-20]\n",
       " [0.0014402401170723923, -3.693890316842488e-5, 2.672413417169439e-5, 4.6308543274457e-21, 1.0689653668678905e-6, 6.144000000546037e-11, 2.5695793298730525e-20]\n",
       " ⋮\n",
       " [0.001416756318776786, -1.8813047168687004e-5, 2.628082971331053e-5, 3.0932096923048214e-21, 1.0512331885325469e-6, 6.321424806129183e-21, 2.4127160827828758e-20]\n",
       " [0.0014121107338548313, -1.8751325909617684e-5, 2.6194654113008255e-5, 3.0830642893646303e-21, 1.047786164520455e-6, 6.2365378498069734e-21, 2.4048045050765152e-20]\n",
       " [0.0014074803267708832, -1.8689823392947236e-5, 2.610876006160101e-5, 3.0729534320652798e-21, 1.0443504024641651e-6, 6.2032565063456894e-21, 2.396918886364323e-20]\n",
       " [0.0014028650767394246, -1.8628530364538666e-5, 2.602314717351745e-5, 3.0628763397753474e-21, 1.0409258869408223e-6, 6.180349443981757e-21, 2.3890591331065927e-20]\n",
       " [0.0013982649479113494, -1.8567442057428877e-5, 2.5937814783756655e-5, 3.0528325829710416e-21, 1.03751259135039e-6, 6.159570380669903e-21, 2.381225156469527e-20]\n",
       " [0.0013936798973231727, -1.8506555850342834e-5, 2.5852762095345976e-5, 3.0428219000354922e-21, 1.0341104838139624e-6, 6.139269961549506e-21, 2.373416870010315e-20]\n",
       " [0.0013891098786959271, -1.8445870148621123e-5, 2.5767988249810567e-5, 3.032844109749471e-21, 1.0307195299925457e-6, 6.119118177942024e-21, 2.3656341885719894e-20]\n",
       " [0.001384554844250495, -1.8385383849376832e-5, 2.5683492360847793e-5, 3.0228990694878056e-21, 1.0273396944340344e-6, 6.099048871941479e-21, 2.3578770277554415e-20]\n",
       " [0.0013800147455749346, -1.8325096085873726e-5, 2.559927353041614e-5, 3.0129866552481224e-21, 1.023970941216768e-6, 6.079048647268245e-21, 2.3501453036668847e-20]\n",
       " [0.0013754895340387279, -1.8265006105353015e-5, 2.551533085641951e-5, 3.003106752108965e-21, 1.0206132342569019e-6, 6.059114656187408e-21, 2.342438932796796e-20]\n",
       " [0.0013709791609904862, -1.8205113210639284e-5, 2.5431663436374618e-5, 2.993259249670342e-21, 1.0172665374551062e-6, 6.039246159160499e-21, 2.3347578319616363e-20]\n",
       " [0.0013664835778521658, -1.8145416732228552e-5, 2.5348270369158772e-5, 2.983444039874666e-21, 1.0139308147664718e-6, 6.01944283785885e-21, 2.327101918275544e-20]"
      ]
     },
     "execution_count": 29,
     "metadata": {},
     "output_type": "execute_result"
    }
   ],
   "source": [
    "val2 = irf(sol, ϵ02, T) #u risk premium shock"
   ]
  },
  {
   "cell_type": "code",
   "execution_count": 30,
   "id": "6f804c5c-619b-4954-aa50-6e27ee114465",
   "metadata": {},
   "outputs": [
    {
     "data": {
      "text/plain": [
       "retcode: Success\n",
       "Interpolation: Piecewise constant interpolation\n",
       "t: 0:40\n",
       "u: 41-element Vector{Vector{Float64}}:\n",
       " [0.0, 0.0, 0.0, 0.0, 0.0, 0.0, 0.0]\n",
       " [0.0, 0.0, 0.0, 0.0, 0.0, 0.0, 0.1]\n",
       " [-0.03188185628247125, 0.000265645130281385, -0.0005914084340417476, 2.2733230115672377e-18, -2.365633736162592e-5, 4.898273828324319e-18, 0.04000000000000001]\n",
       " [-0.04426424811738434, 0.00044932148777318, -0.0008211018025781393, 1.8253066799946744e-18, -3.284407210311082e-5, 2.8260658398519636e-18, 0.016000000000000007]\n",
       " [-0.04898683805107594, 0.0005590840158102501, -0.0009087058458477218, 1.0757890840991985e-18, -3.6348233833905775e-5, 1.1927040084118465e-18, 0.006400000000000003]\n",
       " [-0.05071258485177786, 0.0006196277910422738, -0.0009407184490006042, 5.364106108061562e-19, -3.762873796002569e-5, 3.7952299864438016e-19, 0.002560000000000001]\n",
       " [-0.051271827293605715, 0.0006510934970037905, -0.0009510923962964598, 2.2008669890265523e-19, -3.804369585186175e-5, 2.297635821626915e-20, 0.0010240000000000002]\n",
       " [-0.051380046935030614, 0.0006664422397830067, -0.0009530998706448717, 5.1406121357271805e-20, -3.8123994825798956e-5, -1.2537986726256723e-19, 0.0004095999999999996]\n",
       " [-0.05131547638933769, 0.0006732026259824068, -0.0009519020870222604, -3.366025007482475e-20, -3.807608348089477e-5, -1.8543719547742373e-19, 0.00016383999999999935]\n",
       " [-0.051185603797826634, 0.0006755064394953852, -0.000949492950449727, -7.495778952659791e-20, -3.7979718017993535e-5, -2.0921146064509938e-19, 6.553599999999925e-5]\n",
       " [-0.05103160536900291, 0.0006755418322090406, -0.000946636279595046, -9.440786370140946e-20, -3.786545118380632e-5, -2.1830002119042437e-19, 2.6214399999999184e-5]\n",
       " [-0.05086908164231683, 0.0006744399599757661, -0.0009436214644650184, -1.0329438493368983e-19, -3.774485857860522e-5, -2.2149007258936715e-19, 1.0485759999999157e-5]\n",
       " [-0.05070385649773056, 0.0006727755778734899, -0.0009405565380329426, -1.0718852498142234e-19, -3.762226152132219e-5, -2.2232138470065484e-19, 4.194303999999147e-6]\n",
       " ⋮\n",
       " [-0.047950824688134254, 0.0006367348330654926, -0.000889487797964929, -1.0469104845633419e-19, -3.55795119186014e-5, -2.1122628385534644e-19, 7.205751237836223e-13]\n",
       " [-0.04779358894537905, 0.0006346469144009662, -0.0008865710749368198, -1.0434775710330326e-19, -3.546284299747703e-5, -2.1053365094954253e-19, 2.8822956223375424e-13]\n",
       " [-0.047636868796693134, 0.0006325658416899988, -0.0008836639161786959, -1.040055905951704e-19, -3.5346556647152055e-5, -2.0984328922992157e-19, 1.1529133921164777e-13]\n",
       " [-0.04748066255050306, 0.0006304915927702675, -0.0008807662903118699, -1.0366454572396924e-19, -3.523065161247901e-5, -2.091551912693792e-19, 4.611605159540647e-14]\n",
       " [-0.0473249685212381, 0.0006284241454028181, -0.0008778781660690049, -1.0332461901846102e-19, -3.511512664276438e-5, -2.084693496514532e-19, 1.8445938136288935e-14]\n",
       " [-0.04716978502907687, 0.0006263634773501737, -0.0008749995122894136, -1.0298580690095336e-19, -3.499998049158072e-5, -2.0778575697929963e-19, 7.377894334815726e-15]\n",
       " [-0.047015110399814146, 0.0006243095664135949, -0.0008721302979165902, -1.0264810575480408e-19, -3.4885211916667776e-5, -2.0710440587882366e-19, 2.950678391212136e-15]\n",
       " [-0.0468609429647869, 0.0006222623904507822, -0.0008692704919968343, -1.0231151195344265e-19, -3.477081967987752e-5, -2.0642528899968778e-19, 1.1797935855852949e-15]\n",
       " [-0.04670728106082901, 0.0006202219273842234, -0.0008664200636784156, -1.0197602187282708e-19, -3.4656802547140765e-5, -2.057483990155732e-19, 4.714412299950101e-16]\n",
       " [-0.046554123030240285, 0.0006181881552050599, -0.0008635789822109949, -1.0164163189677543e-19, -3.45431592884439e-5, -2.050737286241922e-19, 1.8810184928210527e-16]\n",
       " [-0.046401467220762126, 0.0006161610519748152, -0.0008607472169451746, -1.0130833841923464e-19, -3.44298886778111e-5, -2.0440127054722464e-19, 7.476765339975558e-17]\n",
       " [-0.04624931198555669, 0.0006141405958260953, -0.0008579247373321138, -1.0097613784523318e-19, -3.431698949328865e-5, -2.0373101753023518e-19, 2.9435526346021304e-17]"
      ]
     },
     "execution_count": 30,
     "metadata": {},
     "output_type": "execute_result"
    }
   ],
   "source": [
    "val3 = irf(sol, ϵ03, T) #v demand shock"
   ]
  },
  {
   "cell_type": "code",
   "execution_count": 31,
   "id": "f8bce179-bc90-416f-b3c8-6585395faa45",
   "metadata": {},
   "outputs": [
    {
     "data": {
      "image/svg+xml": [
       "<?xml version=\"1.0\" encoding=\"utf-8\"?>\n",
       "<svg xmlns=\"http://www.w3.org/2000/svg\" xmlns:xlink=\"http://www.w3.org/1999/xlink\" width=\"600\" height=\"400\" viewBox=\"0 0 2400 1600\">\n",
       "<defs>\n",
       "  <clipPath id=\"clip210\">\n",
       "    <rect x=\"0\" y=\"0\" width=\"2400\" height=\"1600\"/>\n",
       "  </clipPath>\n",
       "</defs>\n",
       "<path clip-path=\"url(#clip210)\" d=\"\n",
       "M0 1600 L2400 1600 L2400 0 L0 0  Z\n",
       "  \" fill=\"#ffffff\" fill-rule=\"evenodd\" fill-opacity=\"1\"/>\n",
       "<defs>\n",
       "  <clipPath id=\"clip211\">\n",
       "    <rect x=\"480\" y=\"0\" width=\"1681\" height=\"1600\"/>\n",
       "  </clipPath>\n",
       "</defs>\n",
       "<path clip-path=\"url(#clip210)\" d=\"\n",
       "M222.871 1423.18 L2352.76 1423.18 L2352.76 47.2441 L222.871 47.2441  Z\n",
       "  \" fill=\"#ffffff\" fill-rule=\"evenodd\" fill-opacity=\"1\"/>\n",
       "<defs>\n",
       "  <clipPath id=\"clip212\">\n",
       "    <rect x=\"222\" y=\"47\" width=\"2131\" height=\"1377\"/>\n",
       "  </clipPath>\n",
       "</defs>\n",
       "<polyline clip-path=\"url(#clip212)\" style=\"stroke:#000000; stroke-linecap:butt; stroke-linejoin:round; stroke-width:2; stroke-opacity:0.1; fill:none\" points=\"\n",
       "  222.871,1423.18 222.871,47.2441 \n",
       "  \"/>\n",
       "<polyline clip-path=\"url(#clip212)\" style=\"stroke:#000000; stroke-linecap:butt; stroke-linejoin:round; stroke-width:2; stroke-opacity:0.1; fill:none\" points=\"\n",
       "  755.342,1423.18 755.342,47.2441 \n",
       "  \"/>\n",
       "<polyline clip-path=\"url(#clip212)\" style=\"stroke:#000000; stroke-linecap:butt; stroke-linejoin:round; stroke-width:2; stroke-opacity:0.1; fill:none\" points=\"\n",
       "  1287.81,1423.18 1287.81,47.2441 \n",
       "  \"/>\n",
       "<polyline clip-path=\"url(#clip212)\" style=\"stroke:#000000; stroke-linecap:butt; stroke-linejoin:round; stroke-width:2; stroke-opacity:0.1; fill:none\" points=\"\n",
       "  1820.28,1423.18 1820.28,47.2441 \n",
       "  \"/>\n",
       "<polyline clip-path=\"url(#clip212)\" style=\"stroke:#000000; stroke-linecap:butt; stroke-linejoin:round; stroke-width:2; stroke-opacity:0.1; fill:none\" points=\"\n",
       "  2352.76,1423.18 2352.76,47.2441 \n",
       "  \"/>\n",
       "<polyline clip-path=\"url(#clip210)\" style=\"stroke:#000000; stroke-linecap:butt; stroke-linejoin:round; stroke-width:4; stroke-opacity:1; fill:none\" points=\"\n",
       "  222.871,1423.18 2352.76,1423.18 \n",
       "  \"/>\n",
       "<polyline clip-path=\"url(#clip210)\" style=\"stroke:#000000; stroke-linecap:butt; stroke-linejoin:round; stroke-width:4; stroke-opacity:1; fill:none\" points=\"\n",
       "  222.871,1423.18 222.871,1404.28 \n",
       "  \"/>\n",
       "<polyline clip-path=\"url(#clip210)\" style=\"stroke:#000000; stroke-linecap:butt; stroke-linejoin:round; stroke-width:4; stroke-opacity:1; fill:none\" points=\"\n",
       "  755.342,1423.18 755.342,1404.28 \n",
       "  \"/>\n",
       "<polyline clip-path=\"url(#clip210)\" style=\"stroke:#000000; stroke-linecap:butt; stroke-linejoin:round; stroke-width:4; stroke-opacity:1; fill:none\" points=\"\n",
       "  1287.81,1423.18 1287.81,1404.28 \n",
       "  \"/>\n",
       "<polyline clip-path=\"url(#clip210)\" style=\"stroke:#000000; stroke-linecap:butt; stroke-linejoin:round; stroke-width:4; stroke-opacity:1; fill:none\" points=\"\n",
       "  1820.28,1423.18 1820.28,1404.28 \n",
       "  \"/>\n",
       "<polyline clip-path=\"url(#clip210)\" style=\"stroke:#000000; stroke-linecap:butt; stroke-linejoin:round; stroke-width:4; stroke-opacity:1; fill:none\" points=\"\n",
       "  2352.76,1423.18 2352.76,1404.28 \n",
       "  \"/>\n",
       "<path clip-path=\"url(#clip210)\" d=\"M222.871 1454.1 Q219.26 1454.1 217.431 1457.66 Q215.626 1461.2 215.626 1468.33 Q215.626 1475.44 217.431 1479.01 Q219.26 1482.55 222.871 1482.55 Q226.505 1482.55 228.311 1479.01 Q230.14 1475.44 230.14 1468.33 Q230.14 1461.2 228.311 1457.66 Q226.505 1454.1 222.871 1454.1 M222.871 1450.39 Q228.681 1450.39 231.737 1455 Q234.815 1459.58 234.815 1468.33 Q234.815 1477.06 231.737 1481.67 Q228.681 1486.25 222.871 1486.25 Q217.061 1486.25 213.982 1481.67 Q210.927 1477.06 210.927 1468.33 Q210.927 1459.58 213.982 1455 Q217.061 1450.39 222.871 1450.39 Z\" fill=\"#000000\" fill-rule=\"evenodd\" fill-opacity=\"1\" /><path clip-path=\"url(#clip210)\" d=\"M730.03 1481.64 L737.669 1481.64 L737.669 1455.28 L729.359 1456.95 L729.359 1452.69 L737.622 1451.02 L742.298 1451.02 L742.298 1481.64 L749.937 1481.64 L749.937 1485.58 L730.03 1485.58 L730.03 1481.64 Z\" fill=\"#000000\" fill-rule=\"evenodd\" fill-opacity=\"1\" /><path clip-path=\"url(#clip210)\" d=\"M769.382 1454.1 Q765.77 1454.1 763.942 1457.66 Q762.136 1461.2 762.136 1468.33 Q762.136 1475.44 763.942 1479.01 Q765.77 1482.55 769.382 1482.55 Q773.016 1482.55 774.821 1479.01 Q776.65 1475.44 776.65 1468.33 Q776.65 1461.2 774.821 1457.66 Q773.016 1454.1 769.382 1454.1 M769.382 1450.39 Q775.192 1450.39 778.247 1455 Q781.326 1459.58 781.326 1468.33 Q781.326 1477.06 778.247 1481.67 Q775.192 1486.25 769.382 1486.25 Q763.571 1486.25 760.493 1481.67 Q757.437 1477.06 757.437 1468.33 Q757.437 1459.58 760.493 1455 Q763.571 1450.39 769.382 1450.39 Z\" fill=\"#000000\" fill-rule=\"evenodd\" fill-opacity=\"1\" /><path clip-path=\"url(#clip210)\" d=\"M1266.59 1481.64 L1282.91 1481.64 L1282.91 1485.58 L1260.96 1485.58 L1260.96 1481.64 Q1263.62 1478.89 1268.21 1474.26 Q1272.81 1469.61 1273.99 1468.27 Q1276.24 1465.74 1277.12 1464.01 Q1278.02 1462.25 1278.02 1460.56 Q1278.02 1457.8 1276.08 1456.07 Q1274.16 1454.33 1271.05 1454.33 Q1268.86 1454.33 1266.4 1455.09 Q1263.97 1455.86 1261.19 1457.41 L1261.19 1452.69 Q1264.02 1451.55 1266.47 1450.97 Q1268.92 1450.39 1270.96 1450.39 Q1276.33 1450.39 1279.53 1453.08 Q1282.72 1455.77 1282.72 1460.26 Q1282.72 1462.39 1281.91 1464.31 Q1281.12 1466.2 1279.02 1468.8 Q1278.44 1469.47 1275.34 1472.69 Q1272.23 1475.88 1266.59 1481.64 Z\" fill=\"#000000\" fill-rule=\"evenodd\" fill-opacity=\"1\" /><path clip-path=\"url(#clip210)\" d=\"M1302.72 1454.1 Q1299.11 1454.1 1297.28 1457.66 Q1295.48 1461.2 1295.48 1468.33 Q1295.48 1475.44 1297.28 1479.01 Q1299.11 1482.55 1302.72 1482.55 Q1306.36 1482.55 1308.16 1479.01 Q1309.99 1475.44 1309.99 1468.33 Q1309.99 1461.2 1308.16 1457.66 Q1306.36 1454.1 1302.72 1454.1 M1302.72 1450.39 Q1308.53 1450.39 1311.59 1455 Q1314.67 1459.58 1314.67 1468.33 Q1314.67 1477.06 1311.59 1481.67 Q1308.53 1486.25 1302.72 1486.25 Q1296.91 1486.25 1293.83 1481.67 Q1290.78 1477.06 1290.78 1468.33 Q1290.78 1459.58 1293.83 1455 Q1296.91 1450.39 1302.72 1450.39 Z\" fill=\"#000000\" fill-rule=\"evenodd\" fill-opacity=\"1\" /><path clip-path=\"url(#clip210)\" d=\"M1809.13 1466.95 Q1812.48 1467.66 1814.36 1469.93 Q1816.26 1472.2 1816.26 1475.53 Q1816.26 1480.65 1812.74 1483.45 Q1809.22 1486.25 1802.74 1486.25 Q1800.56 1486.25 1798.25 1485.81 Q1795.96 1485.39 1793.5 1484.54 L1793.5 1480.02 Q1795.45 1481.16 1797.76 1481.74 Q1800.08 1482.32 1802.6 1482.32 Q1807 1482.32 1809.29 1480.58 Q1811.6 1478.84 1811.6 1475.53 Q1811.6 1472.48 1809.45 1470.77 Q1807.32 1469.03 1803.5 1469.03 L1799.47 1469.03 L1799.47 1465.19 L1803.69 1465.19 Q1807.14 1465.19 1808.97 1463.82 Q1810.79 1462.43 1810.79 1459.84 Q1810.79 1457.18 1808.9 1455.77 Q1807.02 1454.33 1803.5 1454.33 Q1801.58 1454.33 1799.38 1454.75 Q1797.18 1455.16 1794.54 1456.04 L1794.54 1451.88 Q1797.21 1451.14 1799.52 1450.77 Q1801.86 1450.39 1803.92 1450.39 Q1809.24 1450.39 1812.34 1452.83 Q1815.45 1455.23 1815.45 1459.35 Q1815.45 1462.22 1813.8 1464.21 Q1812.16 1466.18 1809.13 1466.95 Z\" fill=\"#000000\" fill-rule=\"evenodd\" fill-opacity=\"1\" /><path clip-path=\"url(#clip210)\" d=\"M1835.12 1454.1 Q1831.51 1454.1 1829.68 1457.66 Q1827.88 1461.2 1827.88 1468.33 Q1827.88 1475.44 1829.68 1479.01 Q1831.51 1482.55 1835.12 1482.55 Q1838.76 1482.55 1840.56 1479.01 Q1842.39 1475.44 1842.39 1468.33 Q1842.39 1461.2 1840.56 1457.66 Q1838.76 1454.1 1835.12 1454.1 M1835.12 1450.39 Q1840.93 1450.39 1843.99 1455 Q1847.07 1459.58 1847.07 1468.33 Q1847.07 1477.06 1843.99 1481.67 Q1840.93 1486.25 1835.12 1486.25 Q1829.31 1486.25 1826.23 1481.67 Q1823.18 1477.06 1823.18 1468.33 Q1823.18 1459.58 1826.23 1455 Q1829.31 1450.39 1835.12 1450.39 Z\" fill=\"#000000\" fill-rule=\"evenodd\" fill-opacity=\"1\" /><path clip-path=\"url(#clip210)\" d=\"M2340.93 1455.09 L2329.12 1473.54 L2340.93 1473.54 L2340.93 1455.09 M2339.7 1451.02 L2345.58 1451.02 L2345.58 1473.54 L2350.51 1473.54 L2350.51 1477.43 L2345.58 1477.43 L2345.58 1485.58 L2340.93 1485.58 L2340.93 1477.43 L2325.33 1477.43 L2325.33 1472.92 L2339.7 1451.02 Z\" fill=\"#000000\" fill-rule=\"evenodd\" fill-opacity=\"1\" /><path clip-path=\"url(#clip210)\" d=\"M2368.24 1454.1 Q2364.63 1454.1 2362.8 1457.66 Q2361 1461.2 2361 1468.33 Q2361 1475.44 2362.8 1479.01 Q2364.63 1482.55 2368.24 1482.55 Q2371.88 1482.55 2373.68 1479.01 Q2375.51 1475.44 2375.51 1468.33 Q2375.51 1461.2 2373.68 1457.66 Q2371.88 1454.1 2368.24 1454.1 M2368.24 1450.39 Q2374.05 1450.39 2377.11 1455 Q2380.19 1459.58 2380.19 1468.33 Q2380.19 1477.06 2377.11 1481.67 Q2374.05 1486.25 2368.24 1486.25 Q2362.43 1486.25 2359.35 1481.67 Q2356.3 1477.06 2356.3 1468.33 Q2356.3 1459.58 2359.35 1455 Q2362.43 1450.39 2368.24 1450.39 Z\" fill=\"#000000\" fill-rule=\"evenodd\" fill-opacity=\"1\" /><path clip-path=\"url(#clip210)\" d=\"M1286.87 1522.27 L1286.87 1532.4 L1298.94 1532.4 L1298.94 1536.95 L1286.87 1536.95 L1286.87 1556.3 Q1286.87 1560.66 1288.05 1561.9 Q1289.26 1563.14 1292.92 1563.14 L1298.94 1563.14 L1298.94 1568.04 L1292.92 1568.04 Q1286.14 1568.04 1283.56 1565.53 Q1280.99 1562.98 1280.99 1556.3 L1280.99 1536.95 L1276.69 1536.95 L1276.69 1532.4 L1280.99 1532.4 L1280.99 1522.27 L1286.87 1522.27 Z\" fill=\"#000000\" fill-rule=\"evenodd\" fill-opacity=\"1\" /><polyline clip-path=\"url(#clip212)\" style=\"stroke:#000000; stroke-linecap:butt; stroke-linejoin:round; stroke-width:2; stroke-opacity:0.1; fill:none\" points=\"\n",
       "  222.871,1120.23 2352.76,1120.23 \n",
       "  \"/>\n",
       "<polyline clip-path=\"url(#clip212)\" style=\"stroke:#000000; stroke-linecap:butt; stroke-linejoin:round; stroke-width:2; stroke-opacity:0.1; fill:none\" points=\"\n",
       "  222.871,805.932 2352.76,805.932 \n",
       "  \"/>\n",
       "<polyline clip-path=\"url(#clip212)\" style=\"stroke:#000000; stroke-linecap:butt; stroke-linejoin:round; stroke-width:2; stroke-opacity:0.1; fill:none\" points=\"\n",
       "  222.871,491.632 2352.76,491.632 \n",
       "  \"/>\n",
       "<polyline clip-path=\"url(#clip212)\" style=\"stroke:#000000; stroke-linecap:butt; stroke-linejoin:round; stroke-width:2; stroke-opacity:0.1; fill:none\" points=\"\n",
       "  222.871,177.333 2352.76,177.333 \n",
       "  \"/>\n",
       "<polyline clip-path=\"url(#clip210)\" style=\"stroke:#000000; stroke-linecap:butt; stroke-linejoin:round; stroke-width:4; stroke-opacity:1; fill:none\" points=\"\n",
       "  222.871,1423.18 222.871,47.2441 \n",
       "  \"/>\n",
       "<polyline clip-path=\"url(#clip210)\" style=\"stroke:#000000; stroke-linecap:butt; stroke-linejoin:round; stroke-width:4; stroke-opacity:1; fill:none\" points=\"\n",
       "  222.871,1120.23 241.769,1120.23 \n",
       "  \"/>\n",
       "<polyline clip-path=\"url(#clip210)\" style=\"stroke:#000000; stroke-linecap:butt; stroke-linejoin:round; stroke-width:4; stroke-opacity:1; fill:none\" points=\"\n",
       "  222.871,805.932 241.769,805.932 \n",
       "  \"/>\n",
       "<polyline clip-path=\"url(#clip210)\" style=\"stroke:#000000; stroke-linecap:butt; stroke-linejoin:round; stroke-width:4; stroke-opacity:1; fill:none\" points=\"\n",
       "  222.871,491.632 241.769,491.632 \n",
       "  \"/>\n",
       "<polyline clip-path=\"url(#clip210)\" style=\"stroke:#000000; stroke-linecap:butt; stroke-linejoin:round; stroke-width:4; stroke-opacity:1; fill:none\" points=\"\n",
       "  222.871,177.333 241.769,177.333 \n",
       "  \"/>\n",
       "<path clip-path=\"url(#clip210)\" d=\"M51.3625 1120.68 L81.0383 1120.68 L81.0383 1124.62 L51.3625 1124.62 L51.3625 1120.68 Z\" fill=\"#000000\" fill-rule=\"evenodd\" fill-opacity=\"1\" /><path clip-path=\"url(#clip210)\" d=\"M101.131 1106.03 Q97.5197 1106.03 95.691 1109.6 Q93.8854 1113.14 93.8854 1120.27 Q93.8854 1127.37 95.691 1130.94 Q97.5197 1134.48 101.131 1134.48 Q104.765 1134.48 106.571 1130.94 Q108.399 1127.37 108.399 1120.27 Q108.399 1113.14 106.571 1109.6 Q104.765 1106.03 101.131 1106.03 M101.131 1102.33 Q106.941 1102.33 109.996 1106.93 Q113.075 1111.52 113.075 1120.27 Q113.075 1128.99 109.996 1133.6 Q106.941 1138.18 101.131 1138.18 Q95.3206 1138.18 92.2419 1133.6 Q89.1864 1128.99 89.1864 1120.27 Q89.1864 1111.52 92.2419 1106.93 Q95.3206 1102.33 101.131 1102.33 Z\" fill=\"#000000\" fill-rule=\"evenodd\" fill-opacity=\"1\" /><path clip-path=\"url(#clip210)\" d=\"M121.293 1131.63 L126.177 1131.63 L126.177 1137.51 L121.293 1137.51 L121.293 1131.63 Z\" fill=\"#000000\" fill-rule=\"evenodd\" fill-opacity=\"1\" /><path clip-path=\"url(#clip210)\" d=\"M146.362 1106.03 Q142.751 1106.03 140.922 1109.6 Q139.117 1113.14 139.117 1120.27 Q139.117 1127.37 140.922 1130.94 Q142.751 1134.48 146.362 1134.48 Q149.996 1134.48 151.802 1130.94 Q153.63 1127.37 153.63 1120.27 Q153.63 1113.14 151.802 1109.6 Q149.996 1106.03 146.362 1106.03 M146.362 1102.33 Q152.172 1102.33 155.228 1106.93 Q158.306 1111.52 158.306 1120.27 Q158.306 1128.99 155.228 1133.6 Q152.172 1138.18 146.362 1138.18 Q140.552 1138.18 137.473 1133.6 Q134.418 1128.99 134.418 1120.27 Q134.418 1111.52 137.473 1106.93 Q140.552 1102.33 146.362 1102.33 Z\" fill=\"#000000\" fill-rule=\"evenodd\" fill-opacity=\"1\" /><path clip-path=\"url(#clip210)\" d=\"M170.552 1133.58 L186.871 1133.58 L186.871 1137.51 L164.927 1137.51 L164.927 1133.58 Q167.589 1130.82 172.172 1126.19 Q176.778 1121.54 177.959 1120.2 Q180.204 1117.67 181.084 1115.94 Q181.987 1114.18 181.987 1112.49 Q181.987 1109.73 180.042 1108 Q178.121 1106.26 175.019 1106.26 Q172.82 1106.26 170.366 1107.03 Q167.936 1107.79 165.158 1109.34 L165.158 1104.62 Q167.982 1103.48 170.436 1102.91 Q172.89 1102.33 174.927 1102.33 Q180.297 1102.33 183.491 1105.01 Q186.686 1107.7 186.686 1112.19 Q186.686 1114.32 185.876 1116.24 Q185.089 1118.14 182.982 1120.73 Q182.403 1121.4 179.302 1124.62 Q176.2 1127.81 170.552 1133.58 Z\" fill=\"#000000\" fill-rule=\"evenodd\" fill-opacity=\"1\" /><path clip-path=\"url(#clip210)\" d=\"M50.9921 806.383 L80.6679 806.383 L80.6679 810.319 L50.9921 810.319 L50.9921 806.383 Z\" fill=\"#000000\" fill-rule=\"evenodd\" fill-opacity=\"1\" /><path clip-path=\"url(#clip210)\" d=\"M100.76 791.731 Q97.1493 791.731 95.3206 795.296 Q93.515 798.837 93.515 805.967 Q93.515 813.073 95.3206 816.638 Q97.1493 820.18 100.76 820.18 Q104.395 820.18 106.2 816.638 Q108.029 813.073 108.029 805.967 Q108.029 798.837 106.2 795.296 Q104.395 791.731 100.76 791.731 M100.76 788.027 Q106.571 788.027 109.626 792.634 Q112.705 797.217 112.705 805.967 Q112.705 814.694 109.626 819.3 Q106.571 823.883 100.76 823.883 Q94.9502 823.883 91.8715 819.3 Q88.816 814.694 88.816 805.967 Q88.816 797.217 91.8715 792.634 Q94.9502 788.027 100.76 788.027 Z\" fill=\"#000000\" fill-rule=\"evenodd\" fill-opacity=\"1\" /><path clip-path=\"url(#clip210)\" d=\"M120.922 817.332 L125.807 817.332 L125.807 823.212 L120.922 823.212 L120.922 817.332 Z\" fill=\"#000000\" fill-rule=\"evenodd\" fill-opacity=\"1\" /><path clip-path=\"url(#clip210)\" d=\"M145.992 791.731 Q142.381 791.731 140.552 795.296 Q138.746 798.837 138.746 805.967 Q138.746 813.073 140.552 816.638 Q142.381 820.18 145.992 820.18 Q149.626 820.18 151.431 816.638 Q153.26 813.073 153.26 805.967 Q153.26 798.837 151.431 795.296 Q149.626 791.731 145.992 791.731 M145.992 788.027 Q151.802 788.027 154.857 792.634 Q157.936 797.217 157.936 805.967 Q157.936 814.694 154.857 819.3 Q151.802 823.883 145.992 823.883 Q140.181 823.883 137.103 819.3 Q134.047 814.694 134.047 805.967 Q134.047 797.217 137.103 792.634 Q140.181 788.027 145.992 788.027 Z\" fill=\"#000000\" fill-rule=\"evenodd\" fill-opacity=\"1\" /><path clip-path=\"url(#clip210)\" d=\"M166.964 819.277 L174.603 819.277 L174.603 792.911 L166.292 794.578 L166.292 790.319 L174.556 788.652 L179.232 788.652 L179.232 819.277 L186.871 819.277 L186.871 823.212 L166.964 823.212 L166.964 819.277 Z\" fill=\"#000000\" fill-rule=\"evenodd\" fill-opacity=\"1\" /><path clip-path=\"url(#clip210)\" d=\"M99.5335 477.431 Q95.9224 477.431 94.0937 480.996 Q92.2882 484.537 92.2882 491.667 Q92.2882 498.774 94.0937 502.338 Q95.9224 505.88 99.5335 505.88 Q103.168 505.88 104.973 502.338 Q106.802 498.774 106.802 491.667 Q106.802 484.537 104.973 480.996 Q103.168 477.431 99.5335 477.431 M99.5335 473.727 Q105.344 473.727 108.399 478.334 Q111.478 482.917 111.478 491.667 Q111.478 500.394 108.399 505 Q105.344 509.584 99.5335 509.584 Q93.7234 509.584 90.6447 505 Q87.5892 500.394 87.5892 491.667 Q87.5892 482.917 90.6447 478.334 Q93.7234 473.727 99.5335 473.727 Z\" fill=\"#000000\" fill-rule=\"evenodd\" fill-opacity=\"1\" /><path clip-path=\"url(#clip210)\" d=\"M119.695 503.033 L124.58 503.033 L124.58 508.912 L119.695 508.912 L119.695 503.033 Z\" fill=\"#000000\" fill-rule=\"evenodd\" fill-opacity=\"1\" /><path clip-path=\"url(#clip210)\" d=\"M144.765 477.431 Q141.154 477.431 139.325 480.996 Q137.519 484.537 137.519 491.667 Q137.519 498.774 139.325 502.338 Q141.154 505.88 144.765 505.88 Q148.399 505.88 150.205 502.338 Q152.033 498.774 152.033 491.667 Q152.033 484.537 150.205 480.996 Q148.399 477.431 144.765 477.431 M144.765 473.727 Q150.575 473.727 153.63 478.334 Q156.709 482.917 156.709 491.667 Q156.709 500.394 153.63 505 Q150.575 509.584 144.765 509.584 Q138.955 509.584 135.876 505 Q132.82 500.394 132.82 491.667 Q132.82 482.917 135.876 478.334 Q138.955 473.727 144.765 473.727 Z\" fill=\"#000000\" fill-rule=\"evenodd\" fill-opacity=\"1\" /><path clip-path=\"url(#clip210)\" d=\"M174.927 477.431 Q171.316 477.431 169.487 480.996 Q167.681 484.537 167.681 491.667 Q167.681 498.774 169.487 502.338 Q171.316 505.88 174.927 505.88 Q178.561 505.88 180.366 502.338 Q182.195 498.774 182.195 491.667 Q182.195 484.537 180.366 480.996 Q178.561 477.431 174.927 477.431 M174.927 473.727 Q180.737 473.727 183.792 478.334 Q186.871 482.917 186.871 491.667 Q186.871 500.394 183.792 505 Q180.737 509.584 174.927 509.584 Q169.116 509.584 166.038 505 Q162.982 500.394 162.982 491.667 Q162.982 482.917 166.038 478.334 Q169.116 473.727 174.927 473.727 Z\" fill=\"#000000\" fill-rule=\"evenodd\" fill-opacity=\"1\" /><path clip-path=\"url(#clip210)\" d=\"M100.76 163.131 Q97.1493 163.131 95.3206 166.696 Q93.515 170.238 93.515 177.367 Q93.515 184.474 95.3206 188.039 Q97.1493 191.58 100.76 191.58 Q104.395 191.58 106.2 188.039 Q108.029 184.474 108.029 177.367 Q108.029 170.238 106.2 166.696 Q104.395 163.131 100.76 163.131 M100.76 159.428 Q106.571 159.428 109.626 164.034 Q112.705 168.617 112.705 177.367 Q112.705 186.094 109.626 190.701 Q106.571 195.284 100.76 195.284 Q94.9502 195.284 91.8715 190.701 Q88.816 186.094 88.816 177.367 Q88.816 168.617 91.8715 164.034 Q94.9502 159.428 100.76 159.428 Z\" fill=\"#000000\" fill-rule=\"evenodd\" fill-opacity=\"1\" /><path clip-path=\"url(#clip210)\" d=\"M120.922 188.733 L125.807 188.733 L125.807 194.613 L120.922 194.613 L120.922 188.733 Z\" fill=\"#000000\" fill-rule=\"evenodd\" fill-opacity=\"1\" /><path clip-path=\"url(#clip210)\" d=\"M145.992 163.131 Q142.381 163.131 140.552 166.696 Q138.746 170.238 138.746 177.367 Q138.746 184.474 140.552 188.039 Q142.381 191.58 145.992 191.58 Q149.626 191.58 151.431 188.039 Q153.26 184.474 153.26 177.367 Q153.26 170.238 151.431 166.696 Q149.626 163.131 145.992 163.131 M145.992 159.428 Q151.802 159.428 154.857 164.034 Q157.936 168.617 157.936 177.367 Q157.936 186.094 154.857 190.701 Q151.802 195.284 145.992 195.284 Q140.181 195.284 137.103 190.701 Q134.047 186.094 134.047 177.367 Q134.047 168.617 137.103 164.034 Q140.181 159.428 145.992 159.428 Z\" fill=\"#000000\" fill-rule=\"evenodd\" fill-opacity=\"1\" /><path clip-path=\"url(#clip210)\" d=\"M166.964 190.677 L174.603 190.677 L174.603 164.312 L166.292 165.978 L166.292 161.719 L174.556 160.053 L179.232 160.053 L179.232 190.677 L186.871 190.677 L186.871 194.613 L166.964 194.613 L166.964 190.677 Z\" fill=\"#000000\" fill-rule=\"evenodd\" fill-opacity=\"1\" /><polyline clip-path=\"url(#clip212)\" style=\"stroke:#009af9; stroke-linecap:butt; stroke-linejoin:round; stroke-width:4; stroke-opacity:1; fill:none\" points=\"\n",
       "  222.871,491.632 276.118,491.632 329.365,126.452 382.612,441.725 435.86,797.209 489.107,1052.22 542.354,1208.93 595.601,1297.56 648.848,1344.79 702.095,1368.51 \n",
       "  755.342,1379.43 808.589,1383.59 861.836,1384.24 915.084,1383.1 968.331,1381.07 1021.58,1378.6 1074.82,1375.91 1128.07,1373.11 1181.32,1370.27 1234.57,1367.42 \n",
       "  1287.81,1364.56 1341.06,1361.7 1394.31,1358.85 1447.55,1356.01 1500.8,1353.18 1554.05,1350.35 1607.3,1347.54 1660.54,1344.73 1713.79,1341.93 1767.04,1339.14 \n",
       "  1820.28,1336.36 1873.53,1333.59 1926.78,1330.83 1980.03,1328.08 2033.27,1325.34 2086.52,1322.6 2139.77,1319.88 2193.01,1317.16 2246.26,1314.46 2299.51,1311.76 \n",
       "  2352.76,1309.07 \n",
       "  \"/>\n",
       "<polyline clip-path=\"url(#clip212)\" style=\"stroke:#e26f46; stroke-linecap:butt; stroke-linejoin:round; stroke-width:4; stroke-opacity:1; fill:none\" points=\"\n",
       "  222.871,491.632 276.118,491.632 329.365,219.129 382.612,243.252 435.86,319.624 489.107,383.371 542.354,425.293 595.601,450.153 648.848,464.071 702.095,471.591 \n",
       "  755.342,475.562 808.589,477.629 861.836,478.7 915.084,479.259 968.331,479.557 1021.58,479.725 1074.82,479.827 1128.07,479.896 1181.32,479.95 1234.57,479.996 \n",
       "  1287.81,480.037 1341.06,480.077 1394.31,480.116 1447.55,480.154 1500.8,480.192 1554.05,480.229 1607.3,480.267 1660.54,480.304 1713.79,480.341 1767.04,480.378 \n",
       "  1820.28,480.415 1873.53,480.452 1926.78,480.489 1980.03,480.525 2033.27,480.562 2086.52,480.598 2139.77,480.634 2193.01,480.67 2246.26,480.706 2299.51,480.742 \n",
       "  2352.76,480.778 \n",
       "  \"/>\n",
       "<polyline clip-path=\"url(#clip212)\" style=\"stroke:#3da44d; stroke-linecap:butt; stroke-linejoin:round; stroke-width:4; stroke-opacity:1; fill:none\" points=\"\n",
       "  222.871,491.632 276.118,491.632 329.365,484.858 382.612,490.707 435.86,497.301 489.107,502.031 542.354,504.938 595.601,506.582 648.848,507.458 702.095,507.898 \n",
       "  755.342,508.101 808.589,508.178 861.836,508.19 915.084,508.169 968.331,508.131 1021.58,508.086 1074.82,508.036 1128.07,507.984 1181.32,507.931 1234.57,507.878 \n",
       "  1287.81,507.825 1341.06,507.772 1394.31,507.719 1447.55,507.667 1500.8,507.614 1554.05,507.562 1607.3,507.509 1660.54,507.457 1713.79,507.405 1767.04,507.354 \n",
       "  1820.28,507.302 1873.53,507.251 1926.78,507.2 1980.03,507.148 2033.27,507.098 2086.52,507.047 2139.77,506.996 2193.01,506.946 2246.26,506.896 2299.51,506.846 \n",
       "  2352.76,506.796 \n",
       "  \"/>\n",
       "<polyline clip-path=\"url(#clip212)\" style=\"stroke:#c271d2; stroke-linecap:butt; stroke-linejoin:round; stroke-width:4; stroke-opacity:1; fill:none\" points=\"\n",
       "  222.871,491.632 276.118,86.1857 329.365,321.345 382.612,420.112 435.86,461.594 489.107,479.016 542.354,486.334 595.601,489.407 648.848,490.698 702.095,491.24 \n",
       "  755.342,491.467 808.589,491.563 861.836,491.603 915.084,491.62 968.331,491.627 1021.58,491.63 1074.82,491.631 1128.07,491.632 1181.32,491.632 1234.57,491.632 \n",
       "  1287.81,491.632 1341.06,491.632 1394.31,491.632 1447.55,491.632 1500.8,491.632 1554.05,491.632 1607.3,491.632 1660.54,491.632 1713.79,491.632 1767.04,491.632 \n",
       "  1820.28,491.632 1873.53,491.632 1926.78,491.632 1980.03,491.632 2033.27,491.632 2086.52,491.632 2139.77,491.632 2193.01,491.632 2246.26,491.632 2299.51,491.632 \n",
       "  2352.76,491.632 \n",
       "  \"/>\n",
       "<polyline clip-path=\"url(#clip212)\" style=\"stroke:#ac8d18; stroke-linecap:butt; stroke-linejoin:round; stroke-width:4; stroke-opacity:1; fill:none\" points=\"\n",
       "  222.871,491.632 276.118,491.632 329.365,491.361 382.612,491.595 435.86,491.859 489.107,492.048 542.354,492.165 595.601,492.23 648.848,492.265 702.095,492.283 \n",
       "  755.342,492.291 808.589,492.294 861.836,492.295 915.084,492.294 968.331,492.292 1021.58,492.29 1074.82,492.288 1128.07,492.286 1181.32,492.284 1234.57,492.282 \n",
       "  1287.81,492.28 1341.06,492.278 1394.31,492.276 1447.55,492.274 1500.8,492.272 1554.05,492.27 1607.3,492.267 1660.54,492.265 1713.79,492.263 1767.04,492.261 \n",
       "  1820.28,492.259 1873.53,492.257 1926.78,492.255 1980.03,492.253 2033.27,492.251 2086.52,492.249 2139.77,492.247 2193.01,492.245 2246.26,492.243 2299.51,492.241 \n",
       "  2352.76,492.239 \n",
       "  \"/>\n",
       "<polyline clip-path=\"url(#clip212)\" style=\"stroke:#00a9ad; stroke-linecap:butt; stroke-linejoin:round; stroke-width:4; stroke-opacity:1; fill:none\" points=\"\n",
       "  222.871,491.632 276.118,491.632 329.365,491.632 382.612,491.632 435.86,491.632 489.107,491.632 542.354,491.632 595.601,491.632 648.848,491.632 702.095,491.632 \n",
       "  755.342,491.632 808.589,491.632 861.836,491.632 915.084,491.632 968.331,491.632 1021.58,491.632 1074.82,491.632 1128.07,491.632 1181.32,491.632 1234.57,491.632 \n",
       "  1287.81,491.632 1341.06,491.632 1394.31,491.632 1447.55,491.632 1500.8,491.632 1554.05,491.632 1607.3,491.632 1660.54,491.632 1713.79,491.632 1767.04,491.632 \n",
       "  1820.28,491.632 1873.53,491.632 1926.78,491.632 1980.03,491.632 2033.27,491.632 2086.52,491.632 2139.77,491.632 2193.01,491.632 2246.26,491.632 2299.51,491.632 \n",
       "  2352.76,491.632 \n",
       "  \"/>\n",
       "<polyline clip-path=\"url(#clip212)\" style=\"stroke:#ed5d92; stroke-linecap:butt; stroke-linejoin:round; stroke-width:4; stroke-opacity:1; fill:none\" points=\"\n",
       "  222.871,491.632 276.118,491.632 329.365,491.632 382.612,491.632 435.86,491.632 489.107,491.632 542.354,491.632 595.601,491.632 648.848,491.632 702.095,491.632 \n",
       "  755.342,491.632 808.589,491.632 861.836,491.632 915.084,491.632 968.331,491.632 1021.58,491.632 1074.82,491.632 1128.07,491.632 1181.32,491.632 1234.57,491.632 \n",
       "  1287.81,491.632 1341.06,491.632 1394.31,491.632 1447.55,491.632 1500.8,491.632 1554.05,491.632 1607.3,491.632 1660.54,491.632 1713.79,491.632 1767.04,491.632 \n",
       "  1820.28,491.632 1873.53,491.632 1926.78,491.632 1980.03,491.632 2033.27,491.632 2086.52,491.632 2139.77,491.632 2193.01,491.632 2246.26,491.632 2299.51,491.632 \n",
       "  2352.76,491.632 \n",
       "  \"/>\n",
       "<path clip-path=\"url(#clip210)\" d=\"\n",
       "M1755.34 507.829 L2281.76 507.829 L2281.76 93.1086 L1755.34 93.1086  Z\n",
       "  \" fill=\"#ffffff\" fill-rule=\"evenodd\" fill-opacity=\"1\"/>\n",
       "<polyline clip-path=\"url(#clip210)\" style=\"stroke:#000000; stroke-linecap:butt; stroke-linejoin:round; stroke-width:4; stroke-opacity:1; fill:none\" points=\"\n",
       "  1755.34,507.829 2281.76,507.829 2281.76,93.1086 1755.34,93.1086 1755.34,507.829 \n",
       "  \"/>\n",
       "<polyline clip-path=\"url(#clip210)\" style=\"stroke:#009af9; stroke-linecap:butt; stroke-linejoin:round; stroke-width:4; stroke-opacity:1; fill:none\" points=\"\n",
       "  1779,144.949 1921,144.949 \n",
       "  \"/>\n",
       "<path clip-path=\"url(#clip210)\" d=\"M1963.57 140.238 L1963.57 126.21 L1967.83 126.21 L1967.83 162.229 L1963.57 162.229 L1963.57 158.34 Q1962.23 160.655 1960.17 161.789 Q1958.13 162.9 1955.26 162.9 Q1950.56 162.9 1947.6 159.15 Q1944.66 155.4 1944.66 149.289 Q1944.66 143.178 1947.6 139.428 Q1950.56 135.678 1955.26 135.678 Q1958.13 135.678 1960.17 136.812 Q1962.23 137.923 1963.57 140.238 M1949.06 149.289 Q1949.06 153.988 1950.98 156.673 Q1952.93 159.335 1956.31 159.335 Q1959.69 159.335 1961.63 156.673 Q1963.57 153.988 1963.57 149.289 Q1963.57 144.59 1961.63 141.928 Q1959.69 139.243 1956.31 139.243 Q1952.93 139.243 1950.98 141.928 Q1949.06 144.59 1949.06 149.289 Z\" fill=\"#000000\" fill-rule=\"evenodd\" fill-opacity=\"1\" /><polyline clip-path=\"url(#clip210)\" style=\"stroke:#e26f46; stroke-linecap:butt; stroke-linejoin:round; stroke-width:4; stroke-opacity:1; fill:none\" points=\"\n",
       "  1779,196.789 1921,196.789 \n",
       "  \"/>\n",
       "<path clip-path=\"url(#clip210)\" d=\"M1944.66 178.05 L1948.94 178.05 L1948.94 199.323 L1961.65 188.143 L1967.09 188.143 L1953.34 200.272 L1967.67 214.069 L1962.12 214.069 L1948.94 201.407 L1948.94 214.069 L1944.66 214.069 L1944.66 178.05 Z\" fill=\"#000000\" fill-rule=\"evenodd\" fill-opacity=\"1\" /><polyline clip-path=\"url(#clip210)\" style=\"stroke:#3da44d; stroke-linecap:butt; stroke-linejoin:round; stroke-width:4; stroke-opacity:1; fill:none\" points=\"\n",
       "  1779,248.629 1921,248.629 \n",
       "  \"/>\n",
       "<path clip-path=\"url(#clip210)\" d=\"M1959.85 243.964 Q1959.13 243.548 1958.27 243.362 Q1957.44 243.154 1956.42 243.154 Q1952.81 243.154 1950.87 245.515 Q1948.94 247.853 1948.94 252.251 L1948.94 265.909 L1944.66 265.909 L1944.66 239.983 L1948.94 239.983 L1948.94 244.011 Q1950.29 241.649 1952.44 240.515 Q1954.59 239.358 1957.67 239.358 Q1958.11 239.358 1958.64 239.427 Q1959.18 239.474 1959.82 239.589 L1959.85 243.964 Z\" fill=\"#000000\" fill-rule=\"evenodd\" fill-opacity=\"1\" /><polyline clip-path=\"url(#clip210)\" style=\"stroke:#c271d2; stroke-linecap:butt; stroke-linejoin:round; stroke-width:4; stroke-opacity:1; fill:none\" points=\"\n",
       "  1779,300.469 1921,300.469 \n",
       "  \"/>\n",
       "<path clip-path=\"url(#clip210)\" d=\"M1958.06 304.716 Q1952.9 304.716 1950.91 305.897 Q1948.92 307.077 1948.92 309.925 Q1948.92 312.193 1950.4 313.536 Q1951.91 314.855 1954.48 314.855 Q1958.02 314.855 1960.15 312.355 Q1962.3 309.832 1962.3 305.665 L1962.3 304.716 L1958.06 304.716 M1966.56 302.957 L1966.56 317.749 L1962.3 317.749 L1962.3 313.813 Q1960.84 316.175 1958.67 317.309 Q1956.49 318.42 1953.34 318.42 Q1949.36 318.42 1947 316.198 Q1944.66 313.952 1944.66 310.202 Q1944.66 305.827 1947.58 303.605 Q1950.52 301.383 1956.33 301.383 L1962.3 301.383 L1962.3 300.966 Q1962.3 298.027 1960.36 296.429 Q1958.44 294.809 1954.94 294.809 Q1952.72 294.809 1950.61 295.341 Q1948.5 295.874 1946.56 296.939 L1946.56 293.003 Q1948.9 292.101 1951.1 291.661 Q1953.3 291.198 1955.38 291.198 Q1961 291.198 1963.78 294.114 Q1966.56 297.031 1966.56 302.957 Z\" fill=\"#000000\" fill-rule=\"evenodd\" fill-opacity=\"1\" /><polyline clip-path=\"url(#clip210)\" style=\"stroke:#ac8d18; stroke-linecap:butt; stroke-linejoin:round; stroke-width:4; stroke-opacity:1; fill:none\" points=\"\n",
       "  1779,352.309 1921,352.309 \n",
       "  \"/>\n",
       "<path clip-path=\"url(#clip210)\" d=\"M1959.85 347.644 Q1959.13 347.228 1958.27 347.042 Q1957.44 346.834 1956.42 346.834 Q1952.81 346.834 1950.87 349.195 Q1948.94 351.533 1948.94 355.931 L1948.94 369.589 L1944.66 369.589 L1944.66 343.663 L1948.94 343.663 L1948.94 347.691 Q1950.29 345.329 1952.44 344.195 Q1954.59 343.038 1957.67 343.038 Q1958.11 343.038 1958.64 343.107 Q1959.18 343.154 1959.82 343.269 L1959.85 347.644 Z\" fill=\"#000000\" fill-rule=\"evenodd\" fill-opacity=\"1\" /><path clip-path=\"url(#clip210)\" d=\"M1964.31 343.663 L1968.57 343.663 L1968.57 369.589 L1964.31 369.589 L1964.31 343.663 M1964.31 333.57 L1968.57 333.57 L1968.57 338.964 L1964.31 338.964 L1964.31 333.57 Z\" fill=\"#000000\" fill-rule=\"evenodd\" fill-opacity=\"1\" /><path clip-path=\"url(#clip210)\" d=\"M1994.01 344.427 L1994.01 348.454 Q1992.21 347.529 1990.26 347.066 Q1988.32 346.603 1986.24 346.603 Q1983.06 346.603 1981.47 347.575 Q1979.89 348.547 1979.89 350.491 Q1979.89 351.973 1981.03 352.829 Q1982.16 353.663 1985.59 354.427 L1987.05 354.751 Q1991.58 355.723 1993.48 357.505 Q1995.4 359.265 1995.4 362.436 Q1995.4 366.047 1992.53 368.153 Q1989.68 370.26 1984.68 370.26 Q1982.6 370.26 1980.33 369.843 Q1978.09 369.45 1975.59 368.64 L1975.59 364.241 Q1977.95 365.468 1980.24 366.093 Q1982.53 366.695 1984.78 366.695 Q1987.79 366.695 1989.41 365.677 Q1991.03 364.635 1991.03 362.76 Q1991.03 361.024 1989.85 360.098 Q1988.69 359.172 1984.73 358.316 L1983.25 357.968 Q1979.29 357.135 1977.53 355.422 Q1975.77 353.686 1975.77 350.677 Q1975.77 347.019 1978.37 345.029 Q1980.96 343.038 1985.73 343.038 Q1988.09 343.038 1990.17 343.385 Q1992.25 343.732 1994.01 344.427 Z\" fill=\"#000000\" fill-rule=\"evenodd\" fill-opacity=\"1\" /><path clip-path=\"url(#clip210)\" d=\"M2002.02 333.57 L2006.31 333.57 L2006.31 354.843 L2019.01 343.663 L2024.45 343.663 L2010.7 355.792 L2025.03 369.589 L2019.48 369.589 L2006.31 356.927 L2006.31 369.589 L2002.02 369.589 L2002.02 333.57 Z\" fill=\"#000000\" fill-rule=\"evenodd\" fill-opacity=\"1\" /><path clip-path=\"url(#clip210)\" d=\"M2033.76 365.7 L2033.76 379.45 L2029.48 379.45 L2029.48 343.663 L2033.76 343.663 L2033.76 347.598 Q2035.1 345.283 2037.14 344.172 Q2039.2 343.038 2042.05 343.038 Q2046.77 343.038 2049.71 346.788 Q2052.67 350.538 2052.67 356.649 Q2052.67 362.76 2049.71 366.51 Q2046.77 370.26 2042.05 370.26 Q2039.2 370.26 2037.14 369.149 Q2035.1 368.015 2033.76 365.7 M2048.25 356.649 Q2048.25 351.95 2046.3 349.288 Q2044.38 346.603 2041 346.603 Q2037.62 346.603 2035.68 349.288 Q2033.76 351.95 2033.76 356.649 Q2033.76 361.348 2035.68 364.033 Q2037.62 366.695 2041 366.695 Q2044.38 366.695 2046.3 364.033 Q2048.25 361.348 2048.25 356.649 Z\" fill=\"#000000\" fill-rule=\"evenodd\" fill-opacity=\"1\" /><path clip-path=\"url(#clip210)\" d=\"M2074.75 347.644 Q2074.04 347.228 2073.18 347.042 Q2072.35 346.834 2071.33 346.834 Q2067.72 346.834 2065.77 349.195 Q2063.85 351.533 2063.85 355.931 L2063.85 369.589 L2059.57 369.589 L2059.57 343.663 L2063.85 343.663 L2063.85 347.691 Q2065.19 345.329 2067.35 344.195 Q2069.5 343.038 2072.58 343.038 Q2073.02 343.038 2073.55 343.107 Q2074.08 343.154 2074.73 343.269 L2074.75 347.644 Z\" fill=\"#000000\" fill-rule=\"evenodd\" fill-opacity=\"1\" /><path clip-path=\"url(#clip210)\" d=\"M2100.36 355.561 L2100.36 357.644 L2080.77 357.644 Q2081.05 362.042 2083.41 364.357 Q2085.8 366.649 2090.03 366.649 Q2092.49 366.649 2094.78 366.047 Q2097.09 365.445 2099.36 364.241 L2099.36 368.269 Q2097.07 369.241 2094.66 369.751 Q2092.25 370.26 2089.78 370.26 Q2083.57 370.26 2079.94 366.649 Q2076.33 363.038 2076.33 356.88 Q2076.33 350.515 2079.75 346.788 Q2083.2 343.038 2089.04 343.038 Q2094.27 343.038 2097.3 346.417 Q2100.36 349.774 2100.36 355.561 M2096.1 354.311 Q2096.05 350.816 2094.13 348.732 Q2092.23 346.649 2089.08 346.649 Q2085.52 346.649 2083.36 348.663 Q2081.24 350.677 2080.91 354.334 L2096.1 354.311 Z\" fill=\"#000000\" fill-rule=\"evenodd\" fill-opacity=\"1\" /><path clip-path=\"url(#clip210)\" d=\"M2127.53 348.64 Q2129.13 345.769 2131.35 344.404 Q2133.57 343.038 2136.58 343.038 Q2140.63 343.038 2142.83 345.885 Q2145.03 348.709 2145.03 353.941 L2145.03 369.589 L2140.75 369.589 L2140.75 354.079 Q2140.75 350.353 2139.43 348.547 Q2138.11 346.742 2135.4 346.742 Q2132.09 346.742 2130.17 348.941 Q2128.25 351.14 2128.25 354.936 L2128.25 369.589 L2123.97 369.589 L2123.97 354.079 Q2123.97 350.329 2122.65 348.547 Q2121.33 346.742 2118.57 346.742 Q2115.31 346.742 2113.39 348.964 Q2111.47 351.163 2111.47 354.936 L2111.47 369.589 L2107.18 369.589 L2107.18 343.663 L2111.47 343.663 L2111.47 347.691 Q2112.92 345.306 2114.96 344.172 Q2117 343.038 2119.8 343.038 Q2122.62 343.038 2124.59 344.473 Q2126.58 345.908 2127.53 348.64 Z\" fill=\"#000000\" fill-rule=\"evenodd\" fill-opacity=\"1\" /><path clip-path=\"url(#clip210)\" d=\"M2153.53 343.663 L2157.79 343.663 L2157.79 369.589 L2153.53 369.589 L2153.53 343.663 M2153.53 333.57 L2157.79 333.57 L2157.79 338.964 L2153.53 338.964 L2153.53 333.57 Z\" fill=\"#000000\" fill-rule=\"evenodd\" fill-opacity=\"1\" /><path clip-path=\"url(#clip210)\" d=\"M2166.26 359.357 L2166.26 343.663 L2170.52 343.663 L2170.52 359.195 Q2170.52 362.876 2171.95 364.728 Q2173.39 366.556 2176.26 366.556 Q2179.71 366.556 2181.7 364.357 Q2183.71 362.158 2183.71 358.362 L2183.71 343.663 L2187.97 343.663 L2187.97 369.589 L2183.71 369.589 L2183.71 365.607 Q2182.16 367.968 2180.1 369.126 Q2178.06 370.26 2175.36 370.26 Q2170.89 370.26 2168.57 367.482 Q2166.26 364.704 2166.26 359.357 M2176.98 343.038 L2176.98 343.038 Z\" fill=\"#000000\" fill-rule=\"evenodd\" fill-opacity=\"1\" /><path clip-path=\"url(#clip210)\" d=\"M2216.93 348.64 Q2218.53 345.769 2220.75 344.404 Q2222.97 343.038 2225.98 343.038 Q2230.03 343.038 2232.23 345.885 Q2234.43 348.709 2234.43 353.941 L2234.43 369.589 L2230.15 369.589 L2230.15 354.079 Q2230.15 350.353 2228.83 348.547 Q2227.51 346.742 2224.8 346.742 Q2221.49 346.742 2219.57 348.941 Q2217.65 351.14 2217.65 354.936 L2217.65 369.589 L2213.36 369.589 L2213.36 354.079 Q2213.36 350.329 2212.04 348.547 Q2210.73 346.742 2207.97 346.742 Q2204.71 346.742 2202.79 348.964 Q2200.86 351.163 2200.86 354.936 L2200.86 369.589 L2196.58 369.589 L2196.58 343.663 L2200.86 343.663 L2200.86 347.691 Q2202.32 345.306 2204.36 344.172 Q2206.4 343.038 2209.2 343.038 Q2212.02 343.038 2213.99 344.473 Q2215.98 345.908 2216.93 348.64 Z\" fill=\"#000000\" fill-rule=\"evenodd\" fill-opacity=\"1\" /><polyline clip-path=\"url(#clip210)\" style=\"stroke:#00a9ad; stroke-linecap:butt; stroke-linejoin:round; stroke-width:4; stroke-opacity:1; fill:none\" points=\"\n",
       "  1779,404.149 1921,404.149 \n",
       "  \"/>\n",
       "<path clip-path=\"url(#clip210)\" d=\"M1958.71 418.489 Q1961.77 418.512 1963.6 420.248 Q1965.54 422.077 1965.54 424.855 Q1965.54 427.517 1963.83 429.368 Q1961.98 431.382 1958.2 431.382 Q1958.2 429.646 1958.2 427.887 Q1959.8 428.003 1960.77 426.984 Q1961.51 426.174 1961.51 425.317 Q1961.51 424.091 1960.77 423.072 Q1960.06 422.1 1958.71 422.1 Q1944.69 422.1 1944.66 409.068 Q1944.66 397.679 1957.88 389.693 L1945.56 389.693 L1945.56 385.41 L1965.7 385.41 L1965.7 389.693 Q1948.94 398.119 1948.94 409.068 Q1948.94 418.489 1958.71 418.489 Z\" fill=\"#000000\" fill-rule=\"evenodd\" fill-opacity=\"1\" /><polyline clip-path=\"url(#clip210)\" style=\"stroke:#ed5d92; stroke-linecap:butt; stroke-linejoin:round; stroke-width:4; stroke-opacity:1; fill:none\" points=\"\n",
       "  1779,455.989 1921,455.989 \n",
       "  \"/>\n",
       "<path clip-path=\"url(#clip210)\" d=\"M1944.66 483.13 L1944.66 447.343 L1948.92 447.343 L1948.92 463.454 Q1948.92 466.81 1950.52 468.523 Q1952.12 470.236 1955.24 470.236 Q1958.67 470.236 1960.38 468.292 Q1962.12 466.347 1962.12 462.458 L1962.12 447.343 L1966.37 447.343 L1966.37 467.296 Q1966.37 468.685 1966.77 469.357 Q1967.19 470.005 1968.04 470.005 Q1968.25 470.005 1968.62 469.889 Q1968.99 469.75 1969.64 469.472 L1969.64 472.898 Q1968.69 473.431 1967.83 473.685 Q1967 473.94 1966.19 473.94 Q1964.59 473.94 1963.64 473.037 Q1962.69 472.134 1962.35 470.283 Q1961.19 472.111 1959.5 473.037 Q1957.83 473.94 1955.56 473.94 Q1953.2 473.94 1951.54 473.037 Q1949.89 472.134 1948.92 470.329 L1948.92 483.13 L1944.66 483.13 Z\" fill=\"#000000\" fill-rule=\"evenodd\" fill-opacity=\"1\" /></svg>\n"
      ]
     },
     "execution_count": 31,
     "metadata": {},
     "output_type": "execute_result"
    }
   ],
   "source": [
    "#Now plot them!\n",
    "plot(val1) #e TFP shock"
   ]
  },
  {
   "cell_type": "markdown",
   "id": "9ac0d6c8-9135-4e2c-8ffd-e23a9fb1d109",
   "metadata": {},
   "source": [
    "OK, TFP exactly same as above, as desired."
   ]
  },
  {
   "cell_type": "code",
   "execution_count": 32,
   "id": "59fc40df-9901-48ee-b815-6807f45f72be",
   "metadata": {},
   "outputs": [
    {
     "data": {
      "image/svg+xml": [
       "<?xml version=\"1.0\" encoding=\"utf-8\"?>\n",
       "<svg xmlns=\"http://www.w3.org/2000/svg\" xmlns:xlink=\"http://www.w3.org/1999/xlink\" width=\"600\" height=\"400\" viewBox=\"0 0 2400 1600\">\n",
       "<defs>\n",
       "  <clipPath id=\"clip250\">\n",
       "    <rect x=\"0\" y=\"0\" width=\"2400\" height=\"1600\"/>\n",
       "  </clipPath>\n",
       "</defs>\n",
       "<path clip-path=\"url(#clip250)\" d=\"\n",
       "M0 1600 L2400 1600 L2400 0 L0 0  Z\n",
       "  \" fill=\"#ffffff\" fill-rule=\"evenodd\" fill-opacity=\"1\"/>\n",
       "<defs>\n",
       "  <clipPath id=\"clip251\">\n",
       "    <rect x=\"480\" y=\"0\" width=\"1681\" height=\"1600\"/>\n",
       "  </clipPath>\n",
       "</defs>\n",
       "<path clip-path=\"url(#clip250)\" d=\"\n",
       "M224.584 1423.18 L2352.76 1423.18 L2352.76 47.2441 L224.584 47.2441  Z\n",
       "  \" fill=\"#ffffff\" fill-rule=\"evenodd\" fill-opacity=\"1\"/>\n",
       "<defs>\n",
       "  <clipPath id=\"clip252\">\n",
       "    <rect x=\"224\" y=\"47\" width=\"2129\" height=\"1377\"/>\n",
       "  </clipPath>\n",
       "</defs>\n",
       "<polyline clip-path=\"url(#clip252)\" style=\"stroke:#000000; stroke-linecap:butt; stroke-linejoin:round; stroke-width:2; stroke-opacity:0.1; fill:none\" points=\"\n",
       "  224.584,1423.18 224.584,47.2441 \n",
       "  \"/>\n",
       "<polyline clip-path=\"url(#clip252)\" style=\"stroke:#000000; stroke-linecap:butt; stroke-linejoin:round; stroke-width:2; stroke-opacity:0.1; fill:none\" points=\"\n",
       "  756.627,1423.18 756.627,47.2441 \n",
       "  \"/>\n",
       "<polyline clip-path=\"url(#clip252)\" style=\"stroke:#000000; stroke-linecap:butt; stroke-linejoin:round; stroke-width:2; stroke-opacity:0.1; fill:none\" points=\"\n",
       "  1288.67,1423.18 1288.67,47.2441 \n",
       "  \"/>\n",
       "<polyline clip-path=\"url(#clip252)\" style=\"stroke:#000000; stroke-linecap:butt; stroke-linejoin:round; stroke-width:2; stroke-opacity:0.1; fill:none\" points=\"\n",
       "  1820.71,1423.18 1820.71,47.2441 \n",
       "  \"/>\n",
       "<polyline clip-path=\"url(#clip252)\" style=\"stroke:#000000; stroke-linecap:butt; stroke-linejoin:round; stroke-width:2; stroke-opacity:0.1; fill:none\" points=\"\n",
       "  2352.76,1423.18 2352.76,47.2441 \n",
       "  \"/>\n",
       "<polyline clip-path=\"url(#clip250)\" style=\"stroke:#000000; stroke-linecap:butt; stroke-linejoin:round; stroke-width:4; stroke-opacity:1; fill:none\" points=\"\n",
       "  224.584,1423.18 2352.76,1423.18 \n",
       "  \"/>\n",
       "<polyline clip-path=\"url(#clip250)\" style=\"stroke:#000000; stroke-linecap:butt; stroke-linejoin:round; stroke-width:4; stroke-opacity:1; fill:none\" points=\"\n",
       "  224.584,1423.18 224.584,1404.28 \n",
       "  \"/>\n",
       "<polyline clip-path=\"url(#clip250)\" style=\"stroke:#000000; stroke-linecap:butt; stroke-linejoin:round; stroke-width:4; stroke-opacity:1; fill:none\" points=\"\n",
       "  756.627,1423.18 756.627,1404.28 \n",
       "  \"/>\n",
       "<polyline clip-path=\"url(#clip250)\" style=\"stroke:#000000; stroke-linecap:butt; stroke-linejoin:round; stroke-width:4; stroke-opacity:1; fill:none\" points=\"\n",
       "  1288.67,1423.18 1288.67,1404.28 \n",
       "  \"/>\n",
       "<polyline clip-path=\"url(#clip250)\" style=\"stroke:#000000; stroke-linecap:butt; stroke-linejoin:round; stroke-width:4; stroke-opacity:1; fill:none\" points=\"\n",
       "  1820.71,1423.18 1820.71,1404.28 \n",
       "  \"/>\n",
       "<polyline clip-path=\"url(#clip250)\" style=\"stroke:#000000; stroke-linecap:butt; stroke-linejoin:round; stroke-width:4; stroke-opacity:1; fill:none\" points=\"\n",
       "  2352.76,1423.18 2352.76,1404.28 \n",
       "  \"/>\n",
       "<path clip-path=\"url(#clip250)\" d=\"M224.584 1454.1 Q220.973 1454.1 219.144 1457.66 Q217.339 1461.2 217.339 1468.33 Q217.339 1475.44 219.144 1479.01 Q220.973 1482.55 224.584 1482.55 Q228.218 1482.55 230.024 1479.01 Q231.852 1475.44 231.852 1468.33 Q231.852 1461.2 230.024 1457.66 Q228.218 1454.1 224.584 1454.1 M224.584 1450.39 Q230.394 1450.39 233.45 1455 Q236.528 1459.58 236.528 1468.33 Q236.528 1477.06 233.45 1481.67 Q230.394 1486.25 224.584 1486.25 Q218.774 1486.25 215.695 1481.67 Q212.64 1477.06 212.64 1468.33 Q212.64 1459.58 215.695 1455 Q218.774 1450.39 224.584 1450.39 Z\" fill=\"#000000\" fill-rule=\"evenodd\" fill-opacity=\"1\" /><path clip-path=\"url(#clip250)\" d=\"M731.315 1481.64 L738.953 1481.64 L738.953 1455.28 L730.643 1456.95 L730.643 1452.69 L738.907 1451.02 L743.583 1451.02 L743.583 1481.64 L751.222 1481.64 L751.222 1485.58 L731.315 1485.58 L731.315 1481.64 Z\" fill=\"#000000\" fill-rule=\"evenodd\" fill-opacity=\"1\" /><path clip-path=\"url(#clip250)\" d=\"M770.666 1454.1 Q767.055 1454.1 765.226 1457.66 Q763.421 1461.2 763.421 1468.33 Q763.421 1475.44 765.226 1479.01 Q767.055 1482.55 770.666 1482.55 Q774.3 1482.55 776.106 1479.01 Q777.935 1475.44 777.935 1468.33 Q777.935 1461.2 776.106 1457.66 Q774.3 1454.1 770.666 1454.1 M770.666 1450.39 Q776.476 1450.39 779.532 1455 Q782.611 1459.58 782.611 1468.33 Q782.611 1477.06 779.532 1481.67 Q776.476 1486.25 770.666 1486.25 Q764.856 1486.25 761.777 1481.67 Q758.722 1477.06 758.722 1468.33 Q758.722 1459.58 761.777 1455 Q764.856 1450.39 770.666 1450.39 Z\" fill=\"#000000\" fill-rule=\"evenodd\" fill-opacity=\"1\" /><path clip-path=\"url(#clip250)\" d=\"M1267.44 1481.64 L1283.76 1481.64 L1283.76 1485.58 L1261.82 1485.58 L1261.82 1481.64 Q1264.48 1478.89 1269.06 1474.26 Q1273.67 1469.61 1274.85 1468.27 Q1277.1 1465.74 1277.98 1464.01 Q1278.88 1462.25 1278.88 1460.56 Q1278.88 1457.8 1276.93 1456.07 Q1275.01 1454.33 1271.91 1454.33 Q1269.71 1454.33 1267.26 1455.09 Q1264.83 1455.86 1262.05 1457.41 L1262.05 1452.69 Q1264.87 1451.55 1267.33 1450.97 Q1269.78 1450.39 1271.82 1450.39 Q1277.19 1450.39 1280.38 1453.08 Q1283.58 1455.77 1283.58 1460.26 Q1283.58 1462.39 1282.77 1464.31 Q1281.98 1466.2 1279.87 1468.8 Q1279.29 1469.47 1276.19 1472.69 Q1273.09 1475.88 1267.44 1481.64 Z\" fill=\"#000000\" fill-rule=\"evenodd\" fill-opacity=\"1\" /><path clip-path=\"url(#clip250)\" d=\"M1303.58 1454.1 Q1299.97 1454.1 1298.14 1457.66 Q1296.33 1461.2 1296.33 1468.33 Q1296.33 1475.44 1298.14 1479.01 Q1299.97 1482.55 1303.58 1482.55 Q1307.21 1482.55 1309.02 1479.01 Q1310.85 1475.44 1310.85 1468.33 Q1310.85 1461.2 1309.02 1457.66 Q1307.21 1454.1 1303.58 1454.1 M1303.58 1450.39 Q1309.39 1450.39 1312.44 1455 Q1315.52 1459.58 1315.52 1468.33 Q1315.52 1477.06 1312.44 1481.67 Q1309.39 1486.25 1303.58 1486.25 Q1297.77 1486.25 1294.69 1481.67 Q1291.63 1477.06 1291.63 1468.33 Q1291.63 1459.58 1294.69 1455 Q1297.77 1450.39 1303.58 1450.39 Z\" fill=\"#000000\" fill-rule=\"evenodd\" fill-opacity=\"1\" /><path clip-path=\"url(#clip250)\" d=\"M1809.56 1466.95 Q1812.91 1467.66 1814.79 1469.93 Q1816.69 1472.2 1816.69 1475.53 Q1816.69 1480.65 1813.17 1483.45 Q1809.65 1486.25 1803.17 1486.25 Q1800.99 1486.25 1798.68 1485.81 Q1796.38 1485.39 1793.93 1484.54 L1793.93 1480.02 Q1795.88 1481.16 1798.19 1481.74 Q1800.5 1482.32 1803.03 1482.32 Q1807.43 1482.32 1809.72 1480.58 Q1812.03 1478.84 1812.03 1475.53 Q1812.03 1472.48 1809.88 1470.77 Q1807.75 1469.03 1803.93 1469.03 L1799.9 1469.03 L1799.9 1465.19 L1804.12 1465.19 Q1807.56 1465.19 1809.39 1463.82 Q1811.22 1462.43 1811.22 1459.84 Q1811.22 1457.18 1809.32 1455.77 Q1807.45 1454.33 1803.93 1454.33 Q1802.01 1454.33 1799.81 1454.75 Q1797.61 1455.16 1794.97 1456.04 L1794.97 1451.88 Q1797.63 1451.14 1799.95 1450.77 Q1802.29 1450.39 1804.35 1450.39 Q1809.67 1450.39 1812.77 1452.83 Q1815.87 1455.23 1815.87 1459.35 Q1815.87 1462.22 1814.23 1464.21 Q1812.59 1466.18 1809.56 1466.95 Z\" fill=\"#000000\" fill-rule=\"evenodd\" fill-opacity=\"1\" /><path clip-path=\"url(#clip250)\" d=\"M1835.55 1454.1 Q1831.94 1454.1 1830.11 1457.66 Q1828.31 1461.2 1828.31 1468.33 Q1828.31 1475.44 1830.11 1479.01 Q1831.94 1482.55 1835.55 1482.55 Q1839.19 1482.55 1840.99 1479.01 Q1842.82 1475.44 1842.82 1468.33 Q1842.82 1461.2 1840.99 1457.66 Q1839.19 1454.1 1835.55 1454.1 M1835.55 1450.39 Q1841.36 1450.39 1844.42 1455 Q1847.5 1459.58 1847.5 1468.33 Q1847.5 1477.06 1844.42 1481.67 Q1841.36 1486.25 1835.55 1486.25 Q1829.74 1486.25 1826.66 1481.67 Q1823.61 1477.06 1823.61 1468.33 Q1823.61 1459.58 1826.66 1455 Q1829.74 1450.39 1835.55 1450.39 Z\" fill=\"#000000\" fill-rule=\"evenodd\" fill-opacity=\"1\" /><path clip-path=\"url(#clip250)\" d=\"M2340.93 1455.09 L2329.12 1473.54 L2340.93 1473.54 L2340.93 1455.09 M2339.7 1451.02 L2345.58 1451.02 L2345.58 1473.54 L2350.51 1473.54 L2350.51 1477.43 L2345.58 1477.43 L2345.58 1485.58 L2340.93 1485.58 L2340.93 1477.43 L2325.33 1477.43 L2325.33 1472.92 L2339.7 1451.02 Z\" fill=\"#000000\" fill-rule=\"evenodd\" fill-opacity=\"1\" /><path clip-path=\"url(#clip250)\" d=\"M2368.24 1454.1 Q2364.63 1454.1 2362.8 1457.66 Q2361 1461.2 2361 1468.33 Q2361 1475.44 2362.8 1479.01 Q2364.63 1482.55 2368.24 1482.55 Q2371.88 1482.55 2373.68 1479.01 Q2375.51 1475.44 2375.51 1468.33 Q2375.51 1461.2 2373.68 1457.66 Q2371.88 1454.1 2368.24 1454.1 M2368.24 1450.39 Q2374.05 1450.39 2377.11 1455 Q2380.19 1459.58 2380.19 1468.33 Q2380.19 1477.06 2377.11 1481.67 Q2374.05 1486.25 2368.24 1486.25 Q2362.43 1486.25 2359.35 1481.67 Q2356.3 1477.06 2356.3 1468.33 Q2356.3 1459.58 2359.35 1455 Q2362.43 1450.39 2368.24 1450.39 Z\" fill=\"#000000\" fill-rule=\"evenodd\" fill-opacity=\"1\" /><path clip-path=\"url(#clip250)\" d=\"M1287.73 1522.27 L1287.73 1532.4 L1299.79 1532.4 L1299.79 1536.95 L1287.73 1536.95 L1287.73 1556.3 Q1287.73 1560.66 1288.91 1561.9 Q1290.12 1563.14 1293.78 1563.14 L1299.79 1563.14 L1299.79 1568.04 L1293.78 1568.04 Q1287 1568.04 1284.42 1565.53 Q1281.84 1562.98 1281.84 1556.3 L1281.84 1536.95 L1277.55 1536.95 L1277.55 1532.4 L1281.84 1532.4 L1281.84 1522.27 L1287.73 1522.27 Z\" fill=\"#000000\" fill-rule=\"evenodd\" fill-opacity=\"1\" /><polyline clip-path=\"url(#clip252)\" style=\"stroke:#000000; stroke-linecap:butt; stroke-linejoin:round; stroke-width:2; stroke-opacity:0.1; fill:none\" points=\"\n",
       "  224.584,1232.95 2352.76,1232.95 \n",
       "  \"/>\n",
       "<polyline clip-path=\"url(#clip252)\" style=\"stroke:#000000; stroke-linecap:butt; stroke-linejoin:round; stroke-width:2; stroke-opacity:0.1; fill:none\" points=\"\n",
       "  224.584,1031.73 2352.76,1031.73 \n",
       "  \"/>\n",
       "<polyline clip-path=\"url(#clip252)\" style=\"stroke:#000000; stroke-linecap:butt; stroke-linejoin:round; stroke-width:2; stroke-opacity:0.1; fill:none\" points=\"\n",
       "  224.584,830.505 2352.76,830.505 \n",
       "  \"/>\n",
       "<polyline clip-path=\"url(#clip252)\" style=\"stroke:#000000; stroke-linecap:butt; stroke-linejoin:round; stroke-width:2; stroke-opacity:0.1; fill:none\" points=\"\n",
       "  224.584,629.281 2352.76,629.281 \n",
       "  \"/>\n",
       "<polyline clip-path=\"url(#clip252)\" style=\"stroke:#000000; stroke-linecap:butt; stroke-linejoin:round; stroke-width:2; stroke-opacity:0.1; fill:none\" points=\"\n",
       "  224.584,428.056 2352.76,428.056 \n",
       "  \"/>\n",
       "<polyline clip-path=\"url(#clip252)\" style=\"stroke:#000000; stroke-linecap:butt; stroke-linejoin:round; stroke-width:2; stroke-opacity:0.1; fill:none\" points=\"\n",
       "  224.584,226.832 2352.76,226.832 \n",
       "  \"/>\n",
       "<polyline clip-path=\"url(#clip250)\" style=\"stroke:#000000; stroke-linecap:butt; stroke-linejoin:round; stroke-width:4; stroke-opacity:1; fill:none\" points=\"\n",
       "  224.584,1423.18 224.584,47.2441 \n",
       "  \"/>\n",
       "<polyline clip-path=\"url(#clip250)\" style=\"stroke:#000000; stroke-linecap:butt; stroke-linejoin:round; stroke-width:4; stroke-opacity:1; fill:none\" points=\"\n",
       "  224.584,1232.95 243.482,1232.95 \n",
       "  \"/>\n",
       "<polyline clip-path=\"url(#clip250)\" style=\"stroke:#000000; stroke-linecap:butt; stroke-linejoin:round; stroke-width:4; stroke-opacity:1; fill:none\" points=\"\n",
       "  224.584,1031.73 243.482,1031.73 \n",
       "  \"/>\n",
       "<polyline clip-path=\"url(#clip250)\" style=\"stroke:#000000; stroke-linecap:butt; stroke-linejoin:round; stroke-width:4; stroke-opacity:1; fill:none\" points=\"\n",
       "  224.584,830.505 243.482,830.505 \n",
       "  \"/>\n",
       "<polyline clip-path=\"url(#clip250)\" style=\"stroke:#000000; stroke-linecap:butt; stroke-linejoin:round; stroke-width:4; stroke-opacity:1; fill:none\" points=\"\n",
       "  224.584,629.281 243.482,629.281 \n",
       "  \"/>\n",
       "<polyline clip-path=\"url(#clip250)\" style=\"stroke:#000000; stroke-linecap:butt; stroke-linejoin:round; stroke-width:4; stroke-opacity:1; fill:none\" points=\"\n",
       "  224.584,428.056 243.482,428.056 \n",
       "  \"/>\n",
       "<polyline clip-path=\"url(#clip250)\" style=\"stroke:#000000; stroke-linecap:butt; stroke-linejoin:round; stroke-width:4; stroke-opacity:1; fill:none\" points=\"\n",
       "  224.584,226.832 243.482,226.832 \n",
       "  \"/>\n",
       "<path clip-path=\"url(#clip250)\" d=\"M50.9921 1233.4 L80.6679 1233.4 L80.6679 1237.34 L50.9921 1237.34 L50.9921 1233.4 Z\" fill=\"#000000\" fill-rule=\"evenodd\" fill-opacity=\"1\" /><path clip-path=\"url(#clip250)\" d=\"M100.76 1218.75 Q97.1493 1218.75 95.3206 1222.32 Q93.515 1225.86 93.515 1232.99 Q93.515 1240.09 95.3206 1243.66 Q97.1493 1247.2 100.76 1247.2 Q104.395 1247.2 106.2 1243.66 Q108.029 1240.09 108.029 1232.99 Q108.029 1225.86 106.2 1222.32 Q104.395 1218.75 100.76 1218.75 M100.76 1215.05 Q106.571 1215.05 109.626 1219.66 Q112.705 1224.24 112.705 1232.99 Q112.705 1241.72 109.626 1246.32 Q106.571 1250.9 100.76 1250.9 Q94.9502 1250.9 91.8715 1246.32 Q88.816 1241.72 88.816 1232.99 Q88.816 1224.24 91.8715 1219.66 Q94.9502 1215.05 100.76 1215.05 Z\" fill=\"#000000\" fill-rule=\"evenodd\" fill-opacity=\"1\" /><path clip-path=\"url(#clip250)\" d=\"M120.922 1244.35 L125.807 1244.35 L125.807 1250.23 L120.922 1250.23 L120.922 1244.35 Z\" fill=\"#000000\" fill-rule=\"evenodd\" fill-opacity=\"1\" /><path clip-path=\"url(#clip250)\" d=\"M145.992 1218.75 Q142.381 1218.75 140.552 1222.32 Q138.746 1225.86 138.746 1232.99 Q138.746 1240.09 140.552 1243.66 Q142.381 1247.2 145.992 1247.2 Q149.626 1247.2 151.431 1243.66 Q153.26 1240.09 153.26 1232.99 Q153.26 1225.86 151.431 1222.32 Q149.626 1218.75 145.992 1218.75 M145.992 1215.05 Q151.802 1215.05 154.857 1219.66 Q157.936 1224.24 157.936 1232.99 Q157.936 1241.72 154.857 1246.32 Q151.802 1250.9 145.992 1250.9 Q140.181 1250.9 137.103 1246.32 Q134.047 1241.72 134.047 1232.99 Q134.047 1224.24 137.103 1219.66 Q140.181 1215.05 145.992 1215.05 Z\" fill=\"#000000\" fill-rule=\"evenodd\" fill-opacity=\"1\" /><path clip-path=\"url(#clip250)\" d=\"M179.001 1219.75 L167.195 1238.2 L179.001 1238.2 L179.001 1219.75 M177.774 1215.67 L183.653 1215.67 L183.653 1238.2 L188.584 1238.2 L188.584 1242.09 L183.653 1242.09 L183.653 1250.23 L179.001 1250.23 L179.001 1242.09 L163.399 1242.09 L163.399 1237.57 L177.774 1215.67 Z\" fill=\"#000000\" fill-rule=\"evenodd\" fill-opacity=\"1\" /><path clip-path=\"url(#clip250)\" d=\"M53.0754 1032.18 L82.7512 1032.18 L82.7512 1036.12 L53.0754 1036.12 L53.0754 1032.18 Z\" fill=\"#000000\" fill-rule=\"evenodd\" fill-opacity=\"1\" /><path clip-path=\"url(#clip250)\" d=\"M102.844 1017.53 Q99.2326 1017.53 97.4039 1021.09 Q95.5984 1024.63 95.5984 1031.76 Q95.5984 1038.87 97.4039 1042.44 Q99.2326 1045.98 102.844 1045.98 Q106.478 1045.98 108.283 1042.44 Q110.112 1038.87 110.112 1031.76 Q110.112 1024.63 108.283 1021.09 Q106.478 1017.53 102.844 1017.53 M102.844 1013.82 Q108.654 1013.82 111.709 1018.43 Q114.788 1023.01 114.788 1031.76 Q114.788 1040.49 111.709 1045.1 Q108.654 1049.68 102.844 1049.68 Q97.0335 1049.68 93.9549 1045.1 Q90.8993 1040.49 90.8993 1031.76 Q90.8993 1023.01 93.9549 1018.43 Q97.0335 1013.82 102.844 1013.82 Z\" fill=\"#000000\" fill-rule=\"evenodd\" fill-opacity=\"1\" /><path clip-path=\"url(#clip250)\" d=\"M123.006 1043.13 L127.89 1043.13 L127.89 1049.01 L123.006 1049.01 L123.006 1043.13 Z\" fill=\"#000000\" fill-rule=\"evenodd\" fill-opacity=\"1\" /><path clip-path=\"url(#clip250)\" d=\"M148.075 1017.53 Q144.464 1017.53 142.635 1021.09 Q140.83 1024.63 140.83 1031.76 Q140.83 1038.87 142.635 1042.44 Q144.464 1045.98 148.075 1045.98 Q151.709 1045.98 153.515 1042.44 Q155.343 1038.87 155.343 1031.76 Q155.343 1024.63 153.515 1021.09 Q151.709 1017.53 148.075 1017.53 M148.075 1013.82 Q153.885 1013.82 156.941 1018.43 Q160.019 1023.01 160.019 1031.76 Q160.019 1040.49 156.941 1045.1 Q153.885 1049.68 148.075 1049.68 Q142.265 1049.68 139.186 1045.1 Q136.131 1040.49 136.131 1031.76 Q136.131 1023.01 139.186 1018.43 Q142.265 1013.82 148.075 1013.82 Z\" fill=\"#000000\" fill-rule=\"evenodd\" fill-opacity=\"1\" /><path clip-path=\"url(#clip250)\" d=\"M172.265 1045.07 L188.584 1045.07 L188.584 1049.01 L166.64 1049.01 L166.64 1045.07 Q169.302 1042.32 173.885 1037.69 Q178.491 1033.04 179.672 1031.69 Q181.917 1029.17 182.797 1027.44 Q183.7 1025.68 183.7 1023.99 Q183.7 1021.23 181.755 1019.5 Q179.834 1017.76 176.732 1017.76 Q174.533 1017.76 172.079 1018.52 Q169.649 1019.29 166.871 1020.84 L166.871 1016.12 Q169.695 1014.98 172.149 1014.4 Q174.603 1013.82 176.64 1013.82 Q182.01 1013.82 185.204 1016.51 Q188.399 1019.19 188.399 1023.69 Q188.399 1025.81 187.589 1027.74 Q186.802 1029.63 184.695 1032.23 Q184.116 1032.9 181.015 1036.12 Q177.913 1039.31 172.265 1045.07 Z\" fill=\"#000000\" fill-rule=\"evenodd\" fill-opacity=\"1\" /><path clip-path=\"url(#clip250)\" d=\"M101.246 816.304 Q97.6354 816.304 95.8067 819.868 Q94.0012 823.41 94.0012 830.54 Q94.0012 837.646 95.8067 841.211 Q97.6354 844.753 101.246 844.753 Q104.881 844.753 106.686 841.211 Q108.515 837.646 108.515 830.54 Q108.515 823.41 106.686 819.868 Q104.881 816.304 101.246 816.304 M101.246 812.6 Q107.057 812.6 110.112 817.206 Q113.191 821.79 113.191 830.54 Q113.191 839.267 110.112 843.873 Q107.057 848.456 101.246 848.456 Q95.4363 848.456 92.3576 843.873 Q89.3021 839.267 89.3021 830.54 Q89.3021 821.79 92.3576 817.206 Q95.4363 812.6 101.246 812.6 Z\" fill=\"#000000\" fill-rule=\"evenodd\" fill-opacity=\"1\" /><path clip-path=\"url(#clip250)\" d=\"M121.408 841.905 L126.293 841.905 L126.293 847.785 L121.408 847.785 L121.408 841.905 Z\" fill=\"#000000\" fill-rule=\"evenodd\" fill-opacity=\"1\" /><path clip-path=\"url(#clip250)\" d=\"M146.478 816.304 Q142.867 816.304 141.038 819.868 Q139.232 823.41 139.232 830.54 Q139.232 837.646 141.038 841.211 Q142.867 844.753 146.478 844.753 Q150.112 844.753 151.918 841.211 Q153.746 837.646 153.746 830.54 Q153.746 823.41 151.918 819.868 Q150.112 816.304 146.478 816.304 M146.478 812.6 Q152.288 812.6 155.343 817.206 Q158.422 821.79 158.422 830.54 Q158.422 839.267 155.343 843.873 Q152.288 848.456 146.478 848.456 Q140.668 848.456 137.589 843.873 Q134.533 839.267 134.533 830.54 Q134.533 821.79 137.589 817.206 Q140.668 812.6 146.478 812.6 Z\" fill=\"#000000\" fill-rule=\"evenodd\" fill-opacity=\"1\" /><path clip-path=\"url(#clip250)\" d=\"M176.64 816.304 Q173.029 816.304 171.2 819.868 Q169.394 823.41 169.394 830.54 Q169.394 837.646 171.2 841.211 Q173.029 844.753 176.64 844.753 Q180.274 844.753 182.079 841.211 Q183.908 837.646 183.908 830.54 Q183.908 823.41 182.079 819.868 Q180.274 816.304 176.64 816.304 M176.64 812.6 Q182.45 812.6 185.505 817.206 Q188.584 821.79 188.584 830.54 Q188.584 839.267 185.505 843.873 Q182.45 848.456 176.64 848.456 Q170.829 848.456 167.751 843.873 Q164.695 839.267 164.695 830.54 Q164.695 821.79 167.751 817.206 Q170.829 812.6 176.64 812.6 Z\" fill=\"#000000\" fill-rule=\"evenodd\" fill-opacity=\"1\" /><path clip-path=\"url(#clip250)\" d=\"M102.844 615.079 Q99.2326 615.079 97.4039 618.644 Q95.5984 622.186 95.5984 629.315 Q95.5984 636.422 97.4039 639.987 Q99.2326 643.528 102.844 643.528 Q106.478 643.528 108.283 639.987 Q110.112 636.422 110.112 629.315 Q110.112 622.186 108.283 618.644 Q106.478 615.079 102.844 615.079 M102.844 611.376 Q108.654 611.376 111.709 615.982 Q114.788 620.565 114.788 629.315 Q114.788 638.042 111.709 642.649 Q108.654 647.232 102.844 647.232 Q97.0335 647.232 93.9549 642.649 Q90.8993 638.042 90.8993 629.315 Q90.8993 620.565 93.9549 615.982 Q97.0335 611.376 102.844 611.376 Z\" fill=\"#000000\" fill-rule=\"evenodd\" fill-opacity=\"1\" /><path clip-path=\"url(#clip250)\" d=\"M123.006 640.681 L127.89 640.681 L127.89 646.561 L123.006 646.561 L123.006 640.681 Z\" fill=\"#000000\" fill-rule=\"evenodd\" fill-opacity=\"1\" /><path clip-path=\"url(#clip250)\" d=\"M148.075 615.079 Q144.464 615.079 142.635 618.644 Q140.83 622.186 140.83 629.315 Q140.83 636.422 142.635 639.987 Q144.464 643.528 148.075 643.528 Q151.709 643.528 153.515 639.987 Q155.343 636.422 155.343 629.315 Q155.343 622.186 153.515 618.644 Q151.709 615.079 148.075 615.079 M148.075 611.376 Q153.885 611.376 156.941 615.982 Q160.019 620.565 160.019 629.315 Q160.019 638.042 156.941 642.649 Q153.885 647.232 148.075 647.232 Q142.265 647.232 139.186 642.649 Q136.131 638.042 136.131 629.315 Q136.131 620.565 139.186 615.982 Q142.265 611.376 148.075 611.376 Z\" fill=\"#000000\" fill-rule=\"evenodd\" fill-opacity=\"1\" /><path clip-path=\"url(#clip250)\" d=\"M172.265 642.626 L188.584 642.626 L188.584 646.561 L166.64 646.561 L166.64 642.626 Q169.302 639.871 173.885 635.241 Q178.491 630.589 179.672 629.246 Q181.917 626.723 182.797 624.987 Q183.7 623.228 183.7 621.538 Q183.7 618.783 181.755 617.047 Q179.834 615.311 176.732 615.311 Q174.533 615.311 172.079 616.075 Q169.649 616.839 166.871 618.39 L166.871 613.667 Q169.695 612.533 172.149 611.954 Q174.603 611.376 176.64 611.376 Q182.01 611.376 185.204 614.061 Q188.399 616.746 188.399 621.237 Q188.399 623.366 187.589 625.288 Q186.802 627.186 184.695 629.778 Q184.116 630.45 181.015 633.667 Q177.913 636.862 172.265 642.626 Z\" fill=\"#000000\" fill-rule=\"evenodd\" fill-opacity=\"1\" /><path clip-path=\"url(#clip250)\" d=\"M100.76 413.855 Q97.1493 413.855 95.3206 417.42 Q93.515 420.962 93.515 428.091 Q93.515 435.198 95.3206 438.762 Q97.1493 442.304 100.76 442.304 Q104.395 442.304 106.2 438.762 Q108.029 435.198 108.029 428.091 Q108.029 420.962 106.2 417.42 Q104.395 413.855 100.76 413.855 M100.76 410.151 Q106.571 410.151 109.626 414.758 Q112.705 419.341 112.705 428.091 Q112.705 436.818 109.626 441.424 Q106.571 446.008 100.76 446.008 Q94.9502 446.008 91.8715 441.424 Q88.816 436.818 88.816 428.091 Q88.816 419.341 91.8715 414.758 Q94.9502 410.151 100.76 410.151 Z\" fill=\"#000000\" fill-rule=\"evenodd\" fill-opacity=\"1\" /><path clip-path=\"url(#clip250)\" d=\"M120.922 439.457 L125.807 439.457 L125.807 445.336 L120.922 445.336 L120.922 439.457 Z\" fill=\"#000000\" fill-rule=\"evenodd\" fill-opacity=\"1\" /><path clip-path=\"url(#clip250)\" d=\"M145.992 413.855 Q142.381 413.855 140.552 417.42 Q138.746 420.962 138.746 428.091 Q138.746 435.198 140.552 438.762 Q142.381 442.304 145.992 442.304 Q149.626 442.304 151.431 438.762 Q153.26 435.198 153.26 428.091 Q153.26 420.962 151.431 417.42 Q149.626 413.855 145.992 413.855 M145.992 410.151 Q151.802 410.151 154.857 414.758 Q157.936 419.341 157.936 428.091 Q157.936 436.818 154.857 441.424 Q151.802 446.008 145.992 446.008 Q140.181 446.008 137.103 441.424 Q134.047 436.818 134.047 428.091 Q134.047 419.341 137.103 414.758 Q140.181 410.151 145.992 410.151 Z\" fill=\"#000000\" fill-rule=\"evenodd\" fill-opacity=\"1\" /><path clip-path=\"url(#clip250)\" d=\"M179.001 414.85 L167.195 433.299 L179.001 433.299 L179.001 414.85 M177.774 410.776 L183.653 410.776 L183.653 433.299 L188.584 433.299 L188.584 437.188 L183.653 437.188 L183.653 445.336 L179.001 445.336 L179.001 437.188 L163.399 437.188 L163.399 432.674 L177.774 410.776 Z\" fill=\"#000000\" fill-rule=\"evenodd\" fill-opacity=\"1\" /><path clip-path=\"url(#clip250)\" d=\"M101.084 212.631 Q97.4734 212.631 95.6447 216.196 Q93.8391 219.737 93.8391 226.867 Q93.8391 233.973 95.6447 237.538 Q97.4734 241.08 101.084 241.08 Q104.719 241.08 106.524 237.538 Q108.353 233.973 108.353 226.867 Q108.353 219.737 106.524 216.196 Q104.719 212.631 101.084 212.631 M101.084 208.927 Q106.895 208.927 109.95 213.534 Q113.029 218.117 113.029 226.867 Q113.029 235.594 109.95 240.2 Q106.895 244.783 101.084 244.783 Q95.2743 244.783 92.1956 240.2 Q89.1401 235.594 89.1401 226.867 Q89.1401 218.117 92.1956 213.534 Q95.2743 208.927 101.084 208.927 Z\" fill=\"#000000\" fill-rule=\"evenodd\" fill-opacity=\"1\" /><path clip-path=\"url(#clip250)\" d=\"M121.246 238.233 L126.131 238.233 L126.131 244.112 L121.246 244.112 L121.246 238.233 Z\" fill=\"#000000\" fill-rule=\"evenodd\" fill-opacity=\"1\" /><path clip-path=\"url(#clip250)\" d=\"M146.316 212.631 Q142.705 212.631 140.876 216.196 Q139.07 219.737 139.07 226.867 Q139.07 233.973 140.876 237.538 Q142.705 241.08 146.316 241.08 Q149.95 241.08 151.755 237.538 Q153.584 233.973 153.584 226.867 Q153.584 219.737 151.755 216.196 Q149.95 212.631 146.316 212.631 M146.316 208.927 Q152.126 208.927 155.181 213.534 Q158.26 218.117 158.26 226.867 Q158.26 235.594 155.181 240.2 Q152.126 244.783 146.316 244.783 Q140.506 244.783 137.427 240.2 Q134.371 235.594 134.371 226.867 Q134.371 218.117 137.427 213.534 Q140.506 208.927 146.316 208.927 Z\" fill=\"#000000\" fill-rule=\"evenodd\" fill-opacity=\"1\" /><path clip-path=\"url(#clip250)\" d=\"M177.056 224.969 Q173.908 224.969 172.056 227.121 Q170.228 229.274 170.228 233.024 Q170.228 236.751 172.056 238.927 Q173.908 241.08 177.056 241.08 Q180.204 241.08 182.033 238.927 Q183.885 236.751 183.885 233.024 Q183.885 229.274 182.033 227.121 Q180.204 224.969 177.056 224.969 M186.339 210.316 L186.339 214.575 Q184.579 213.742 182.774 213.302 Q180.991 212.862 179.232 212.862 Q174.603 212.862 172.149 215.987 Q169.718 219.112 169.371 225.432 Q170.737 223.418 172.797 222.353 Q174.857 221.265 177.334 221.265 Q182.542 221.265 185.552 224.436 Q188.584 227.584 188.584 233.024 Q188.584 238.348 185.436 241.566 Q182.288 244.783 177.056 244.783 Q171.061 244.783 167.89 240.2 Q164.718 235.594 164.718 226.867 Q164.718 218.672 168.607 213.811 Q172.496 208.927 179.047 208.927 Q180.806 208.927 182.589 209.274 Q184.394 209.622 186.339 210.316 Z\" fill=\"#000000\" fill-rule=\"evenodd\" fill-opacity=\"1\" /><polyline clip-path=\"url(#clip252)\" style=\"stroke:#009af9; stroke-linecap:butt; stroke-linejoin:round; stroke-width:4; stroke-opacity:1; fill:none\" points=\"\n",
       "  224.584,830.505 277.788,830.505 330.993,1384.24 384.197,1189.12 437.401,1014.25 490.605,914.379 543.81,863.406 597.014,838.417 650.218,826.37 703.423,820.612 \n",
       "  756.627,817.881 809.831,816.601 863.036,816.014 916.24,815.76 969.444,815.664 1022.65,815.644 1075.85,815.659 1129.06,815.692 1182.26,815.733 1235.47,815.778 \n",
       "  1288.67,815.825 1341.87,815.872 1395.08,815.92 1448.28,815.967 1501.49,816.015 1554.69,816.062 1607.9,816.11 1661.1,816.157 1714.3,816.204 1767.51,816.251 \n",
       "  1820.71,816.297 1873.92,816.344 1927.12,816.39 1980.33,816.437 2033.53,816.483 2086.73,816.529 2139.94,816.575 2193.14,816.62 2246.35,816.666 2299.55,816.711 \n",
       "  2352.76,816.757 \n",
       "  \"/>\n",
       "<polyline clip-path=\"url(#clip252)\" style=\"stroke:#e26f46; stroke-linecap:butt; stroke-linejoin:round; stroke-width:4; stroke-opacity:1; fill:none\" points=\"\n",
       "  224.584,830.505 277.788,830.505 330.993,991.073 384.197,939.445 437.401,889.096 490.605,859.898 543.81,844.916 597.014,837.55 650.218,833.988 703.423,832.277 \n",
       "  756.627,831.457 809.831,831.065 863.036,830.877 916.24,830.786 969.444,830.743 1022.65,830.722 1075.85,830.711 1129.06,830.706 1182.26,830.703 1235.47,830.702 \n",
       "  1288.67,830.7 1341.87,830.7 1395.08,830.699 1448.28,830.698 1501.49,830.697 1554.69,830.697 1607.9,830.696 1661.1,830.696 1714.3,830.695 1767.51,830.694 \n",
       "  1820.71,830.694 1873.92,830.693 1927.12,830.692 1980.33,830.692 2033.53,830.691 2086.73,830.691 2139.94,830.69 2193.14,830.689 2246.35,830.689 2299.55,830.688 \n",
       "  2352.76,830.688 \n",
       "  \"/>\n",
       "<polyline clip-path=\"url(#clip252)\" style=\"stroke:#3da44d; stroke-linecap:butt; stroke-linejoin:round; stroke-width:4; stroke-opacity:1; fill:none\" points=\"\n",
       "  224.584,830.505 277.788,830.505 330.993,86.1857 384.197,686.239 437.401,803.73 490.605,826.024 543.81,829.908 597.014,830.41 650.218,830.38 703.423,830.312 \n",
       "  756.627,830.269 809.831,830.247 863.036,830.236 916.24,830.231 969.444,830.23 1022.65,830.229 1075.85,830.23 1129.06,830.23 1182.26,830.231 1235.47,830.232 \n",
       "  1288.67,830.233 1341.87,830.234 1395.08,830.234 1448.28,830.235 1501.49,830.236 1554.69,830.237 1607.9,830.238 1661.1,830.239 1714.3,830.24 1767.51,830.241 \n",
       "  1820.71,830.241 1873.92,830.242 1927.12,830.243 1980.33,830.244 2033.53,830.245 2086.73,830.246 2139.94,830.247 2193.14,830.247 2246.35,830.248 2299.55,830.249 \n",
       "  2352.76,830.25 \n",
       "  \"/>\n",
       "<polyline clip-path=\"url(#clip252)\" style=\"stroke:#c271d2; stroke-linecap:butt; stroke-linejoin:round; stroke-width:4; stroke-opacity:1; fill:none\" points=\"\n",
       "  224.584,830.505 277.788,830.505 330.993,830.505 384.197,830.505 437.401,830.505 490.605,830.505 543.81,830.505 597.014,830.505 650.218,830.505 703.423,830.505 \n",
       "  756.627,830.505 809.831,830.505 863.036,830.505 916.24,830.505 969.444,830.505 1022.65,830.505 1075.85,830.505 1129.06,830.505 1182.26,830.505 1235.47,830.505 \n",
       "  1288.67,830.505 1341.87,830.505 1395.08,830.505 1448.28,830.505 1501.49,830.505 1554.69,830.505 1607.9,830.505 1661.1,830.505 1714.3,830.505 1767.51,830.505 \n",
       "  1820.71,830.505 1873.92,830.505 1927.12,830.505 1980.33,830.505 2033.53,830.505 2086.73,830.505 2139.94,830.505 2193.14,830.505 2246.35,830.505 2299.55,830.505 \n",
       "  2352.76,830.505 \n",
       "  \"/>\n",
       "<polyline clip-path=\"url(#clip252)\" style=\"stroke:#ac8d18; stroke-linecap:butt; stroke-linejoin:round; stroke-width:4; stroke-opacity:1; fill:none\" points=\"\n",
       "  224.584,830.505 277.788,830.505 330.993,800.732 384.197,824.734 437.401,829.434 490.605,830.326 543.81,830.481 597.014,830.501 650.218,830.5 703.423,830.497 \n",
       "  756.627,830.496 809.831,830.495 863.036,830.494 916.24,830.494 969.444,830.494 1022.65,830.494 1075.85,830.494 1129.06,830.494 1182.26,830.494 1235.47,830.494 \n",
       "  1288.67,830.494 1341.87,830.494 1395.08,830.494 1448.28,830.494 1501.49,830.494 1554.69,830.494 1607.9,830.494 1661.1,830.494 1714.3,830.494 1767.51,830.494 \n",
       "  1820.71,830.494 1873.92,830.494 1927.12,830.495 1980.33,830.495 2033.53,830.495 2086.73,830.495 2139.94,830.495 2193.14,830.495 2246.35,830.495 2299.55,830.495 \n",
       "  2352.76,830.495 \n",
       "  \"/>\n",
       "<polyline clip-path=\"url(#clip252)\" style=\"stroke:#00a9ad; stroke-linecap:butt; stroke-linejoin:round; stroke-width:4; stroke-opacity:1; fill:none\" points=\"\n",
       "  224.584,830.505 277.788,800.321 330.993,824.468 384.197,829.298 437.401,830.264 490.605,830.457 543.81,830.495 597.014,830.503 650.218,830.505 703.423,830.505 \n",
       "  756.627,830.505 809.831,830.505 863.036,830.505 916.24,830.505 969.444,830.505 1022.65,830.505 1075.85,830.505 1129.06,830.505 1182.26,830.505 1235.47,830.505 \n",
       "  1288.67,830.505 1341.87,830.505 1395.08,830.505 1448.28,830.505 1501.49,830.505 1554.69,830.505 1607.9,830.505 1661.1,830.505 1714.3,830.505 1767.51,830.505 \n",
       "  1820.71,830.505 1873.92,830.505 1927.12,830.505 1980.33,830.505 2033.53,830.505 2086.73,830.505 2139.94,830.505 2193.14,830.505 2246.35,830.505 2299.55,830.505 \n",
       "  2352.76,830.505 \n",
       "  \"/>\n",
       "<polyline clip-path=\"url(#clip252)\" style=\"stroke:#ed5d92; stroke-linecap:butt; stroke-linejoin:round; stroke-width:4; stroke-opacity:1; fill:none\" points=\"\n",
       "  224.584,830.505 277.788,830.505 330.993,830.505 384.197,830.505 437.401,830.505 490.605,830.505 543.81,830.505 597.014,830.505 650.218,830.505 703.423,830.505 \n",
       "  756.627,830.505 809.831,830.505 863.036,830.505 916.24,830.505 969.444,830.505 1022.65,830.505 1075.85,830.505 1129.06,830.505 1182.26,830.505 1235.47,830.505 \n",
       "  1288.67,830.505 1341.87,830.505 1395.08,830.505 1448.28,830.505 1501.49,830.505 1554.69,830.505 1607.9,830.505 1661.1,830.505 1714.3,830.505 1767.51,830.505 \n",
       "  1820.71,830.505 1873.92,830.505 1927.12,830.505 1980.33,830.505 2033.53,830.505 2086.73,830.505 2139.94,830.505 2193.14,830.505 2246.35,830.505 2299.55,830.505 \n",
       "  2352.76,830.505 \n",
       "  \"/>\n",
       "<path clip-path=\"url(#clip250)\" d=\"\n",
       "M1755.59 507.829 L2281.82 507.829 L2281.82 93.1086 L1755.59 93.1086  Z\n",
       "  \" fill=\"#ffffff\" fill-rule=\"evenodd\" fill-opacity=\"1\"/>\n",
       "<polyline clip-path=\"url(#clip250)\" style=\"stroke:#000000; stroke-linecap:butt; stroke-linejoin:round; stroke-width:4; stroke-opacity:1; fill:none\" points=\"\n",
       "  1755.59,507.829 2281.82,507.829 2281.82,93.1086 1755.59,93.1086 1755.59,507.829 \n",
       "  \"/>\n",
       "<polyline clip-path=\"url(#clip250)\" style=\"stroke:#009af9; stroke-linecap:butt; stroke-linejoin:round; stroke-width:4; stroke-opacity:1; fill:none\" points=\"\n",
       "  1779.23,144.949 1921.11,144.949 \n",
       "  \"/>\n",
       "<path clip-path=\"url(#clip250)\" d=\"M1963.67 140.238 L1963.67 126.21 L1967.93 126.21 L1967.93 162.229 L1963.67 162.229 L1963.67 158.34 Q1962.33 160.655 1960.27 161.789 Q1958.23 162.9 1955.36 162.9 Q1950.66 162.9 1947.7 159.15 Q1944.76 155.4 1944.76 149.289 Q1944.76 143.178 1947.7 139.428 Q1950.66 135.678 1955.36 135.678 Q1958.23 135.678 1960.27 136.812 Q1962.33 137.923 1963.67 140.238 M1949.16 149.289 Q1949.16 153.988 1951.08 156.673 Q1953.02 159.335 1956.4 159.335 Q1959.78 159.335 1961.72 156.673 Q1963.67 153.988 1963.67 149.289 Q1963.67 144.59 1961.72 141.928 Q1959.78 139.243 1956.4 139.243 Q1953.02 139.243 1951.08 141.928 Q1949.16 144.59 1949.16 149.289 Z\" fill=\"#000000\" fill-rule=\"evenodd\" fill-opacity=\"1\" /><polyline clip-path=\"url(#clip250)\" style=\"stroke:#e26f46; stroke-linecap:butt; stroke-linejoin:round; stroke-width:4; stroke-opacity:1; fill:none\" points=\"\n",
       "  1779.23,196.789 1921.11,196.789 \n",
       "  \"/>\n",
       "<path clip-path=\"url(#clip250)\" d=\"M1944.76 178.05 L1949.04 178.05 L1949.04 199.323 L1961.75 188.143 L1967.19 188.143 L1953.44 200.272 L1967.77 214.069 L1962.21 214.069 L1949.04 201.407 L1949.04 214.069 L1944.76 214.069 L1944.76 178.05 Z\" fill=\"#000000\" fill-rule=\"evenodd\" fill-opacity=\"1\" /><polyline clip-path=\"url(#clip250)\" style=\"stroke:#3da44d; stroke-linecap:butt; stroke-linejoin:round; stroke-width:4; stroke-opacity:1; fill:none\" points=\"\n",
       "  1779.23,248.629 1921.11,248.629 \n",
       "  \"/>\n",
       "<path clip-path=\"url(#clip250)\" d=\"M1959.94 243.964 Q1959.22 243.548 1958.37 243.362 Q1957.53 243.154 1956.52 243.154 Q1952.91 243.154 1950.96 245.515 Q1949.04 247.853 1949.04 252.251 L1949.04 265.909 L1944.76 265.909 L1944.76 239.983 L1949.04 239.983 L1949.04 244.011 Q1950.38 241.649 1952.53 240.515 Q1954.69 239.358 1957.77 239.358 Q1958.21 239.358 1958.74 239.427 Q1959.27 239.474 1959.92 239.589 L1959.94 243.964 Z\" fill=\"#000000\" fill-rule=\"evenodd\" fill-opacity=\"1\" /><polyline clip-path=\"url(#clip250)\" style=\"stroke:#c271d2; stroke-linecap:butt; stroke-linejoin:round; stroke-width:4; stroke-opacity:1; fill:none\" points=\"\n",
       "  1779.23,300.469 1921.11,300.469 \n",
       "  \"/>\n",
       "<path clip-path=\"url(#clip250)\" d=\"M1958.16 304.716 Q1953 304.716 1951.01 305.897 Q1949.02 307.077 1949.02 309.925 Q1949.02 312.193 1950.5 313.536 Q1952 314.855 1954.57 314.855 Q1958.11 314.855 1960.24 312.355 Q1962.4 309.832 1962.4 305.665 L1962.4 304.716 L1958.16 304.716 M1966.66 302.957 L1966.66 317.749 L1962.4 317.749 L1962.4 313.813 Q1960.94 316.175 1958.76 317.309 Q1956.59 318.42 1953.44 318.42 Q1949.46 318.42 1947.1 316.198 Q1944.76 313.952 1944.76 310.202 Q1944.76 305.827 1947.67 303.605 Q1950.61 301.383 1956.42 301.383 L1962.4 301.383 L1962.4 300.966 Q1962.4 298.027 1960.45 296.429 Q1958.53 294.809 1955.03 294.809 Q1952.81 294.809 1950.71 295.341 Q1948.6 295.874 1946.66 296.939 L1946.66 293.003 Q1948.99 292.101 1951.19 291.661 Q1953.39 291.198 1955.47 291.198 Q1961.1 291.198 1963.88 294.114 Q1966.66 297.031 1966.66 302.957 Z\" fill=\"#000000\" fill-rule=\"evenodd\" fill-opacity=\"1\" /><polyline clip-path=\"url(#clip250)\" style=\"stroke:#ac8d18; stroke-linecap:butt; stroke-linejoin:round; stroke-width:4; stroke-opacity:1; fill:none\" points=\"\n",
       "  1779.23,352.309 1921.11,352.309 \n",
       "  \"/>\n",
       "<path clip-path=\"url(#clip250)\" d=\"M1959.94 347.644 Q1959.22 347.228 1958.37 347.042 Q1957.53 346.834 1956.52 346.834 Q1952.91 346.834 1950.96 349.195 Q1949.04 351.533 1949.04 355.931 L1949.04 369.589 L1944.76 369.589 L1944.76 343.663 L1949.04 343.663 L1949.04 347.691 Q1950.38 345.329 1952.53 344.195 Q1954.69 343.038 1957.77 343.038 Q1958.21 343.038 1958.74 343.107 Q1959.27 343.154 1959.92 343.269 L1959.94 347.644 Z\" fill=\"#000000\" fill-rule=\"evenodd\" fill-opacity=\"1\" /><path clip-path=\"url(#clip250)\" d=\"M1964.41 343.663 L1968.67 343.663 L1968.67 369.589 L1964.41 369.589 L1964.41 343.663 M1964.41 333.57 L1968.67 333.57 L1968.67 338.964 L1964.41 338.964 L1964.41 333.57 Z\" fill=\"#000000\" fill-rule=\"evenodd\" fill-opacity=\"1\" /><path clip-path=\"url(#clip250)\" d=\"M1994.11 344.427 L1994.11 348.454 Q1992.3 347.529 1990.36 347.066 Q1988.41 346.603 1986.33 346.603 Q1983.16 346.603 1981.56 347.575 Q1979.99 348.547 1979.99 350.491 Q1979.99 351.973 1981.12 352.829 Q1982.26 353.663 1985.68 354.427 L1987.14 354.751 Q1991.68 355.723 1993.58 357.505 Q1995.5 359.265 1995.5 362.436 Q1995.5 366.047 1992.63 368.153 Q1989.78 370.26 1984.78 370.26 Q1982.7 370.26 1980.43 369.843 Q1978.18 369.45 1975.68 368.64 L1975.68 364.241 Q1978.04 365.468 1980.34 366.093 Q1982.63 366.695 1984.87 366.695 Q1987.88 366.695 1989.5 365.677 Q1991.12 364.635 1991.12 362.76 Q1991.12 361.024 1989.94 360.098 Q1988.78 359.172 1984.83 358.316 L1983.34 357.968 Q1979.39 357.135 1977.63 355.422 Q1975.87 353.686 1975.87 350.677 Q1975.87 347.019 1978.46 345.029 Q1981.05 343.038 1985.82 343.038 Q1988.18 343.038 1990.27 343.385 Q1992.35 343.732 1994.11 344.427 Z\" fill=\"#000000\" fill-rule=\"evenodd\" fill-opacity=\"1\" /><path clip-path=\"url(#clip250)\" d=\"M2002.12 333.57 L2006.4 333.57 L2006.4 354.843 L2019.11 343.663 L2024.55 343.663 L2010.8 355.792 L2025.13 369.589 L2019.57 369.589 L2006.4 356.927 L2006.4 369.589 L2002.12 369.589 L2002.12 333.57 Z\" fill=\"#000000\" fill-rule=\"evenodd\" fill-opacity=\"1\" /><path clip-path=\"url(#clip250)\" d=\"M2033.85 365.7 L2033.85 379.45 L2029.57 379.45 L2029.57 343.663 L2033.85 343.663 L2033.85 347.598 Q2035.2 345.283 2037.23 344.172 Q2039.29 343.038 2042.14 343.038 Q2046.86 343.038 2049.8 346.788 Q2052.77 350.538 2052.77 356.649 Q2052.77 362.76 2049.8 366.51 Q2046.86 370.26 2042.14 370.26 Q2039.29 370.26 2037.23 369.149 Q2035.2 368.015 2033.85 365.7 M2048.34 356.649 Q2048.34 351.95 2046.4 349.288 Q2044.48 346.603 2041.1 346.603 Q2037.72 346.603 2035.78 349.288 Q2033.85 351.95 2033.85 356.649 Q2033.85 361.348 2035.78 364.033 Q2037.72 366.695 2041.1 366.695 Q2044.48 366.695 2046.4 364.033 Q2048.34 361.348 2048.34 356.649 Z\" fill=\"#000000\" fill-rule=\"evenodd\" fill-opacity=\"1\" /><path clip-path=\"url(#clip250)\" d=\"M2074.85 347.644 Q2074.13 347.228 2073.27 347.042 Q2072.44 346.834 2071.42 346.834 Q2067.81 346.834 2065.87 349.195 Q2063.95 351.533 2063.95 355.931 L2063.95 369.589 L2059.66 369.589 L2059.66 343.663 L2063.95 343.663 L2063.95 347.691 Q2065.29 345.329 2067.44 344.195 Q2069.59 343.038 2072.67 343.038 Q2073.11 343.038 2073.65 343.107 Q2074.18 343.154 2074.83 343.269 L2074.85 347.644 Z\" fill=\"#000000\" fill-rule=\"evenodd\" fill-opacity=\"1\" /><path clip-path=\"url(#clip250)\" d=\"M2100.45 355.561 L2100.45 357.644 L2080.87 357.644 Q2081.15 362.042 2083.51 364.357 Q2085.89 366.649 2090.13 366.649 Q2092.58 366.649 2094.87 366.047 Q2097.19 365.445 2099.46 364.241 L2099.46 368.269 Q2097.16 369.241 2094.76 369.751 Q2092.35 370.26 2089.87 370.26 Q2083.67 370.26 2080.03 366.649 Q2076.42 363.038 2076.42 356.88 Q2076.42 350.515 2079.85 346.788 Q2083.3 343.038 2089.13 343.038 Q2094.36 343.038 2097.4 346.417 Q2100.45 349.774 2100.45 355.561 M2096.19 354.311 Q2096.15 350.816 2094.22 348.732 Q2092.33 346.649 2089.18 346.649 Q2085.61 346.649 2083.46 348.663 Q2081.33 350.677 2081.01 354.334 L2096.19 354.311 Z\" fill=\"#000000\" fill-rule=\"evenodd\" fill-opacity=\"1\" /><path clip-path=\"url(#clip250)\" d=\"M2127.63 348.64 Q2129.22 345.769 2131.45 344.404 Q2133.67 343.038 2136.68 343.038 Q2140.73 343.038 2142.93 345.885 Q2145.13 348.709 2145.13 353.941 L2145.13 369.589 L2140.84 369.589 L2140.84 354.079 Q2140.84 350.353 2139.52 348.547 Q2138.21 346.742 2135.5 346.742 Q2132.19 346.742 2130.27 348.941 Q2128.34 351.14 2128.34 354.936 L2128.34 369.589 L2124.06 369.589 L2124.06 354.079 Q2124.06 350.329 2122.74 348.547 Q2121.42 346.742 2118.67 346.742 Q2115.4 346.742 2113.48 348.964 Q2111.56 351.163 2111.56 354.936 L2111.56 369.589 L2107.28 369.589 L2107.28 343.663 L2111.56 343.663 L2111.56 347.691 Q2113.02 345.306 2115.06 344.172 Q2117.09 343.038 2119.9 343.038 Q2122.72 343.038 2124.69 344.473 Q2126.68 345.908 2127.63 348.64 Z\" fill=\"#000000\" fill-rule=\"evenodd\" fill-opacity=\"1\" /><path clip-path=\"url(#clip250)\" d=\"M2153.62 343.663 L2157.88 343.663 L2157.88 369.589 L2153.62 369.589 L2153.62 343.663 M2153.62 333.57 L2157.88 333.57 L2157.88 338.964 L2153.62 338.964 L2153.62 333.57 Z\" fill=\"#000000\" fill-rule=\"evenodd\" fill-opacity=\"1\" /><path clip-path=\"url(#clip250)\" d=\"M2166.35 359.357 L2166.35 343.663 L2170.61 343.663 L2170.61 359.195 Q2170.61 362.876 2172.05 364.728 Q2173.48 366.556 2176.35 366.556 Q2179.8 366.556 2181.79 364.357 Q2183.81 362.158 2183.81 358.362 L2183.81 343.663 L2188.07 343.663 L2188.07 369.589 L2183.81 369.589 L2183.81 365.607 Q2182.26 367.968 2180.2 369.126 Q2178.16 370.26 2175.45 370.26 Q2170.98 370.26 2168.67 367.482 Q2166.35 364.704 2166.35 359.357 M2177.07 343.038 L2177.07 343.038 Z\" fill=\"#000000\" fill-rule=\"evenodd\" fill-opacity=\"1\" /><path clip-path=\"url(#clip250)\" d=\"M2217.02 348.64 Q2218.62 345.769 2220.84 344.404 Q2223.07 343.038 2226.08 343.038 Q2230.13 343.038 2232.33 345.885 Q2234.52 348.709 2234.52 353.941 L2234.52 369.589 L2230.24 369.589 L2230.24 354.079 Q2230.24 350.353 2228.92 348.547 Q2227.6 346.742 2224.89 346.742 Q2221.58 346.742 2219.66 348.941 Q2217.74 351.14 2217.74 354.936 L2217.74 369.589 L2213.46 369.589 L2213.46 354.079 Q2213.46 350.329 2212.14 348.547 Q2210.82 346.742 2208.07 346.742 Q2204.8 346.742 2202.88 348.964 Q2200.96 351.163 2200.96 354.936 L2200.96 369.589 L2196.68 369.589 L2196.68 343.663 L2200.96 343.663 L2200.96 347.691 Q2202.42 345.306 2204.45 344.172 Q2206.49 343.038 2209.29 343.038 Q2212.12 343.038 2214.08 344.473 Q2216.08 345.908 2217.02 348.64 Z\" fill=\"#000000\" fill-rule=\"evenodd\" fill-opacity=\"1\" /><polyline clip-path=\"url(#clip250)\" style=\"stroke:#00a9ad; stroke-linecap:butt; stroke-linejoin:round; stroke-width:4; stroke-opacity:1; fill:none\" points=\"\n",
       "  1779.23,404.149 1921.11,404.149 \n",
       "  \"/>\n",
       "<path clip-path=\"url(#clip250)\" d=\"M1958.81 418.489 Q1961.86 418.512 1963.69 420.248 Q1965.64 422.077 1965.64 424.855 Q1965.64 427.517 1963.92 429.368 Q1962.07 431.382 1958.3 431.382 Q1958.3 429.646 1958.3 427.887 Q1959.9 428.003 1960.87 426.984 Q1961.61 426.174 1961.61 425.317 Q1961.61 424.091 1960.87 423.072 Q1960.15 422.1 1958.81 422.1 Q1944.78 422.1 1944.76 409.068 Q1944.76 397.679 1957.97 389.693 L1945.66 389.693 L1945.66 385.41 L1965.8 385.41 L1965.8 389.693 Q1949.04 398.119 1949.04 409.068 Q1949.04 418.489 1958.81 418.489 Z\" fill=\"#000000\" fill-rule=\"evenodd\" fill-opacity=\"1\" /><polyline clip-path=\"url(#clip250)\" style=\"stroke:#ed5d92; stroke-linecap:butt; stroke-linejoin:round; stroke-width:4; stroke-opacity:1; fill:none\" points=\"\n",
       "  1779.23,455.989 1921.11,455.989 \n",
       "  \"/>\n",
       "<path clip-path=\"url(#clip250)\" d=\"M1944.76 483.13 L1944.76 447.343 L1949.02 447.343 L1949.02 463.454 Q1949.02 466.81 1950.61 468.523 Q1952.21 470.236 1955.34 470.236 Q1958.76 470.236 1960.47 468.292 Q1962.21 466.347 1962.21 462.458 L1962.21 447.343 L1966.47 447.343 L1966.47 467.296 Q1966.47 468.685 1966.86 469.357 Q1967.28 470.005 1968.14 470.005 Q1968.35 470.005 1968.72 469.889 Q1969.09 469.75 1969.73 469.472 L1969.73 472.898 Q1968.78 473.431 1967.93 473.685 Q1967.1 473.94 1966.28 473.94 Q1964.69 473.94 1963.74 473.037 Q1962.79 472.134 1962.44 470.283 Q1961.28 472.111 1959.6 473.037 Q1957.93 473.94 1955.66 473.94 Q1953.3 473.94 1951.63 473.037 Q1949.99 472.134 1949.02 470.329 L1949.02 483.13 L1944.76 483.13 Z\" fill=\"#000000\" fill-rule=\"evenodd\" fill-opacity=\"1\" /></svg>\n"
      ]
     },
     "execution_count": 32,
     "metadata": {},
     "output_type": "execute_result"
    }
   ],
   "source": [
    "plot(val2) #u risk premium shock"
   ]
  },
  {
   "cell_type": "code",
   "execution_count": 33,
   "id": "59af756e-3985-423b-a1fa-50240f8c246d",
   "metadata": {},
   "outputs": [
    {
     "data": {
      "image/svg+xml": [
       "<?xml version=\"1.0\" encoding=\"utf-8\"?>\n",
       "<svg xmlns=\"http://www.w3.org/2000/svg\" xmlns:xlink=\"http://www.w3.org/1999/xlink\" width=\"600\" height=\"400\" viewBox=\"0 0 2400 1600\">\n",
       "<defs>\n",
       "  <clipPath id=\"clip290\">\n",
       "    <rect x=\"0\" y=\"0\" width=\"2400\" height=\"1600\"/>\n",
       "  </clipPath>\n",
       "</defs>\n",
       "<path clip-path=\"url(#clip290)\" d=\"\n",
       "M0 1600 L2400 1600 L2400 0 L0 0  Z\n",
       "  \" fill=\"#ffffff\" fill-rule=\"evenodd\" fill-opacity=\"1\"/>\n",
       "<defs>\n",
       "  <clipPath id=\"clip291\">\n",
       "    <rect x=\"480\" y=\"0\" width=\"1681\" height=\"1600\"/>\n",
       "  </clipPath>\n",
       "</defs>\n",
       "<path clip-path=\"url(#clip290)\" d=\"\n",
       "M223.45 1423.18 L2352.76 1423.18 L2352.76 47.2441 L223.45 47.2441  Z\n",
       "  \" fill=\"#ffffff\" fill-rule=\"evenodd\" fill-opacity=\"1\"/>\n",
       "<defs>\n",
       "  <clipPath id=\"clip292\">\n",
       "    <rect x=\"223\" y=\"47\" width=\"2130\" height=\"1377\"/>\n",
       "  </clipPath>\n",
       "</defs>\n",
       "<polyline clip-path=\"url(#clip292)\" style=\"stroke:#000000; stroke-linecap:butt; stroke-linejoin:round; stroke-width:2; stroke-opacity:0.1; fill:none\" points=\"\n",
       "  223.45,1423.18 223.45,47.2441 \n",
       "  \"/>\n",
       "<polyline clip-path=\"url(#clip292)\" style=\"stroke:#000000; stroke-linecap:butt; stroke-linejoin:round; stroke-width:2; stroke-opacity:0.1; fill:none\" points=\"\n",
       "  755.776,1423.18 755.776,47.2441 \n",
       "  \"/>\n",
       "<polyline clip-path=\"url(#clip292)\" style=\"stroke:#000000; stroke-linecap:butt; stroke-linejoin:round; stroke-width:2; stroke-opacity:0.1; fill:none\" points=\"\n",
       "  1288.1,1423.18 1288.1,47.2441 \n",
       "  \"/>\n",
       "<polyline clip-path=\"url(#clip292)\" style=\"stroke:#000000; stroke-linecap:butt; stroke-linejoin:round; stroke-width:2; stroke-opacity:0.1; fill:none\" points=\"\n",
       "  1820.43,1423.18 1820.43,47.2441 \n",
       "  \"/>\n",
       "<polyline clip-path=\"url(#clip292)\" style=\"stroke:#000000; stroke-linecap:butt; stroke-linejoin:round; stroke-width:2; stroke-opacity:0.1; fill:none\" points=\"\n",
       "  2352.76,1423.18 2352.76,47.2441 \n",
       "  \"/>\n",
       "<polyline clip-path=\"url(#clip290)\" style=\"stroke:#000000; stroke-linecap:butt; stroke-linejoin:round; stroke-width:4; stroke-opacity:1; fill:none\" points=\"\n",
       "  223.45,1423.18 2352.76,1423.18 \n",
       "  \"/>\n",
       "<polyline clip-path=\"url(#clip290)\" style=\"stroke:#000000; stroke-linecap:butt; stroke-linejoin:round; stroke-width:4; stroke-opacity:1; fill:none\" points=\"\n",
       "  223.45,1423.18 223.45,1404.28 \n",
       "  \"/>\n",
       "<polyline clip-path=\"url(#clip290)\" style=\"stroke:#000000; stroke-linecap:butt; stroke-linejoin:round; stroke-width:4; stroke-opacity:1; fill:none\" points=\"\n",
       "  755.776,1423.18 755.776,1404.28 \n",
       "  \"/>\n",
       "<polyline clip-path=\"url(#clip290)\" style=\"stroke:#000000; stroke-linecap:butt; stroke-linejoin:round; stroke-width:4; stroke-opacity:1; fill:none\" points=\"\n",
       "  1288.1,1423.18 1288.1,1404.28 \n",
       "  \"/>\n",
       "<polyline clip-path=\"url(#clip290)\" style=\"stroke:#000000; stroke-linecap:butt; stroke-linejoin:round; stroke-width:4; stroke-opacity:1; fill:none\" points=\"\n",
       "  1820.43,1423.18 1820.43,1404.28 \n",
       "  \"/>\n",
       "<polyline clip-path=\"url(#clip290)\" style=\"stroke:#000000; stroke-linecap:butt; stroke-linejoin:round; stroke-width:4; stroke-opacity:1; fill:none\" points=\"\n",
       "  2352.76,1423.18 2352.76,1404.28 \n",
       "  \"/>\n",
       "<path clip-path=\"url(#clip290)\" d=\"M223.45 1454.1 Q219.839 1454.1 218.01 1457.66 Q216.204 1461.2 216.204 1468.33 Q216.204 1475.44 218.01 1479.01 Q219.839 1482.55 223.45 1482.55 Q227.084 1482.55 228.89 1479.01 Q230.718 1475.44 230.718 1468.33 Q230.718 1461.2 228.89 1457.66 Q227.084 1454.1 223.45 1454.1 M223.45 1450.39 Q229.26 1450.39 232.315 1455 Q235.394 1459.58 235.394 1468.33 Q235.394 1477.06 232.315 1481.67 Q229.26 1486.25 223.45 1486.25 Q217.64 1486.25 214.561 1481.67 Q211.505 1477.06 211.505 1468.33 Q211.505 1459.58 214.561 1455 Q217.64 1450.39 223.45 1450.39 Z\" fill=\"#000000\" fill-rule=\"evenodd\" fill-opacity=\"1\" /><path clip-path=\"url(#clip290)\" d=\"M730.464 1481.64 L738.103 1481.64 L738.103 1455.28 L729.793 1456.95 L729.793 1452.69 L738.056 1451.02 L742.732 1451.02 L742.732 1481.64 L750.371 1481.64 L750.371 1485.58 L730.464 1485.58 L730.464 1481.64 Z\" fill=\"#000000\" fill-rule=\"evenodd\" fill-opacity=\"1\" /><path clip-path=\"url(#clip290)\" d=\"M769.816 1454.1 Q766.204 1454.1 764.376 1457.66 Q762.57 1461.2 762.57 1468.33 Q762.57 1475.44 764.376 1479.01 Q766.204 1482.55 769.816 1482.55 Q773.45 1482.55 775.255 1479.01 Q777.084 1475.44 777.084 1468.33 Q777.084 1461.2 775.255 1457.66 Q773.45 1454.1 769.816 1454.1 M769.816 1450.39 Q775.626 1450.39 778.681 1455 Q781.76 1459.58 781.76 1468.33 Q781.76 1477.06 778.681 1481.67 Q775.626 1486.25 769.816 1486.25 Q764.005 1486.25 760.927 1481.67 Q757.871 1477.06 757.871 1468.33 Q757.871 1459.58 760.927 1455 Q764.005 1450.39 769.816 1450.39 Z\" fill=\"#000000\" fill-rule=\"evenodd\" fill-opacity=\"1\" /><path clip-path=\"url(#clip290)\" d=\"M1266.88 1481.64 L1283.2 1481.64 L1283.2 1485.58 L1261.25 1485.58 L1261.25 1481.64 Q1263.91 1478.89 1268.5 1474.26 Q1273.1 1469.61 1274.28 1468.27 Q1276.53 1465.74 1277.41 1464.01 Q1278.31 1462.25 1278.31 1460.56 Q1278.31 1457.8 1276.37 1456.07 Q1274.45 1454.33 1271.34 1454.33 Q1269.14 1454.33 1266.69 1455.09 Q1264.26 1455.86 1261.48 1457.41 L1261.48 1452.69 Q1264.31 1451.55 1266.76 1450.97 Q1269.21 1450.39 1271.25 1450.39 Q1276.62 1450.39 1279.82 1453.08 Q1283.01 1455.77 1283.01 1460.26 Q1283.01 1462.39 1282.2 1464.31 Q1281.41 1466.2 1279.31 1468.8 Q1278.73 1469.47 1275.63 1472.69 Q1272.52 1475.88 1266.88 1481.64 Z\" fill=\"#000000\" fill-rule=\"evenodd\" fill-opacity=\"1\" /><path clip-path=\"url(#clip290)\" d=\"M1303.01 1454.1 Q1299.4 1454.1 1297.57 1457.66 Q1295.76 1461.2 1295.76 1468.33 Q1295.76 1475.44 1297.57 1479.01 Q1299.4 1482.55 1303.01 1482.55 Q1306.64 1482.55 1308.45 1479.01 Q1310.28 1475.44 1310.28 1468.33 Q1310.28 1461.2 1308.45 1457.66 Q1306.64 1454.1 1303.01 1454.1 M1303.01 1450.39 Q1308.82 1450.39 1311.88 1455 Q1314.95 1459.58 1314.95 1468.33 Q1314.95 1477.06 1311.88 1481.67 Q1308.82 1486.25 1303.01 1486.25 Q1297.2 1486.25 1294.12 1481.67 Q1291.07 1477.06 1291.07 1468.33 Q1291.07 1459.58 1294.12 1455 Q1297.2 1450.39 1303.01 1450.39 Z\" fill=\"#000000\" fill-rule=\"evenodd\" fill-opacity=\"1\" /><path clip-path=\"url(#clip290)\" d=\"M1809.27 1466.95 Q1812.63 1467.66 1814.5 1469.93 Q1816.4 1472.2 1816.4 1475.53 Q1816.4 1480.65 1812.88 1483.45 Q1809.36 1486.25 1802.88 1486.25 Q1800.71 1486.25 1798.39 1485.81 Q1796.1 1485.39 1793.65 1484.54 L1793.65 1480.02 Q1795.59 1481.16 1797.91 1481.74 Q1800.22 1482.32 1802.74 1482.32 Q1807.14 1482.32 1809.43 1480.58 Q1811.75 1478.84 1811.75 1475.53 Q1811.75 1472.48 1809.6 1470.77 Q1807.47 1469.03 1803.65 1469.03 L1799.62 1469.03 L1799.62 1465.19 L1803.83 1465.19 Q1807.28 1465.19 1809.11 1463.82 Q1810.94 1462.43 1810.94 1459.84 Q1810.94 1457.18 1809.04 1455.77 Q1807.17 1454.33 1803.65 1454.33 Q1801.73 1454.33 1799.53 1454.75 Q1797.33 1455.16 1794.69 1456.04 L1794.69 1451.88 Q1797.35 1451.14 1799.67 1450.77 Q1802 1450.39 1804.06 1450.39 Q1809.39 1450.39 1812.49 1452.83 Q1815.59 1455.23 1815.59 1459.35 Q1815.59 1462.22 1813.95 1464.21 Q1812.3 1466.18 1809.27 1466.95 Z\" fill=\"#000000\" fill-rule=\"evenodd\" fill-opacity=\"1\" /><path clip-path=\"url(#clip290)\" d=\"M1835.27 1454.1 Q1831.66 1454.1 1829.83 1457.66 Q1828.02 1461.2 1828.02 1468.33 Q1828.02 1475.44 1829.83 1479.01 Q1831.66 1482.55 1835.27 1482.55 Q1838.9 1482.55 1840.71 1479.01 Q1842.54 1475.44 1842.54 1468.33 Q1842.54 1461.2 1840.71 1457.66 Q1838.9 1454.1 1835.27 1454.1 M1835.27 1450.39 Q1841.08 1450.39 1844.13 1455 Q1847.21 1459.58 1847.21 1468.33 Q1847.21 1477.06 1844.13 1481.67 Q1841.08 1486.25 1835.27 1486.25 Q1829.46 1486.25 1826.38 1481.67 Q1823.32 1477.06 1823.32 1468.33 Q1823.32 1459.58 1826.38 1455 Q1829.46 1450.39 1835.27 1450.39 Z\" fill=\"#000000\" fill-rule=\"evenodd\" fill-opacity=\"1\" /><path clip-path=\"url(#clip290)\" d=\"M2340.93 1455.09 L2329.12 1473.54 L2340.93 1473.54 L2340.93 1455.09 M2339.7 1451.02 L2345.58 1451.02 L2345.58 1473.54 L2350.51 1473.54 L2350.51 1477.43 L2345.58 1477.43 L2345.58 1485.58 L2340.93 1485.58 L2340.93 1477.43 L2325.33 1477.43 L2325.33 1472.92 L2339.7 1451.02 Z\" fill=\"#000000\" fill-rule=\"evenodd\" fill-opacity=\"1\" /><path clip-path=\"url(#clip290)\" d=\"M2368.24 1454.1 Q2364.63 1454.1 2362.8 1457.66 Q2361 1461.2 2361 1468.33 Q2361 1475.44 2362.8 1479.01 Q2364.63 1482.55 2368.24 1482.55 Q2371.88 1482.55 2373.68 1479.01 Q2375.51 1475.44 2375.51 1468.33 Q2375.51 1461.2 2373.68 1457.66 Q2371.88 1454.1 2368.24 1454.1 M2368.24 1450.39 Q2374.05 1450.39 2377.11 1455 Q2380.19 1459.58 2380.19 1468.33 Q2380.19 1477.06 2377.11 1481.67 Q2374.05 1486.25 2368.24 1486.25 Q2362.43 1486.25 2359.35 1481.67 Q2356.3 1477.06 2356.3 1468.33 Q2356.3 1459.58 2359.35 1455 Q2362.43 1450.39 2368.24 1450.39 Z\" fill=\"#000000\" fill-rule=\"evenodd\" fill-opacity=\"1\" /><path clip-path=\"url(#clip290)\" d=\"M1287.16 1522.27 L1287.16 1532.4 L1299.23 1532.4 L1299.23 1536.95 L1287.16 1536.95 L1287.16 1556.3 Q1287.16 1560.66 1288.34 1561.9 Q1289.55 1563.14 1293.21 1563.14 L1299.23 1563.14 L1299.23 1568.04 L1293.21 1568.04 Q1286.43 1568.04 1283.85 1565.53 Q1281.28 1562.98 1281.28 1556.3 L1281.28 1536.95 L1276.98 1536.95 L1276.98 1532.4 L1281.28 1532.4 L1281.28 1522.27 L1287.16 1522.27 Z\" fill=\"#000000\" fill-rule=\"evenodd\" fill-opacity=\"1\" /><polyline clip-path=\"url(#clip292)\" style=\"stroke:#000000; stroke-linecap:butt; stroke-linejoin:round; stroke-width:2; stroke-opacity:0.1; fill:none\" points=\"\n",
       "  223.45,1200.91 2352.76,1200.91 \n",
       "  \"/>\n",
       "<polyline clip-path=\"url(#clip292)\" style=\"stroke:#000000; stroke-linecap:butt; stroke-linejoin:round; stroke-width:2; stroke-opacity:0.1; fill:none\" points=\"\n",
       "  223.45,943.665 2352.76,943.665 \n",
       "  \"/>\n",
       "<polyline clip-path=\"url(#clip292)\" style=\"stroke:#000000; stroke-linecap:butt; stroke-linejoin:round; stroke-width:2; stroke-opacity:0.1; fill:none\" points=\"\n",
       "  223.45,686.421 2352.76,686.421 \n",
       "  \"/>\n",
       "<polyline clip-path=\"url(#clip292)\" style=\"stroke:#000000; stroke-linecap:butt; stroke-linejoin:round; stroke-width:2; stroke-opacity:0.1; fill:none\" points=\"\n",
       "  223.45,429.177 2352.76,429.177 \n",
       "  \"/>\n",
       "<polyline clip-path=\"url(#clip292)\" style=\"stroke:#000000; stroke-linecap:butt; stroke-linejoin:round; stroke-width:2; stroke-opacity:0.1; fill:none\" points=\"\n",
       "  223.45,171.934 2352.76,171.934 \n",
       "  \"/>\n",
       "<polyline clip-path=\"url(#clip290)\" style=\"stroke:#000000; stroke-linecap:butt; stroke-linejoin:round; stroke-width:4; stroke-opacity:1; fill:none\" points=\"\n",
       "  223.45,1423.18 223.45,47.2441 \n",
       "  \"/>\n",
       "<polyline clip-path=\"url(#clip290)\" style=\"stroke:#000000; stroke-linecap:butt; stroke-linejoin:round; stroke-width:4; stroke-opacity:1; fill:none\" points=\"\n",
       "  223.45,1200.91 242.347,1200.91 \n",
       "  \"/>\n",
       "<polyline clip-path=\"url(#clip290)\" style=\"stroke:#000000; stroke-linecap:butt; stroke-linejoin:round; stroke-width:4; stroke-opacity:1; fill:none\" points=\"\n",
       "  223.45,943.665 242.347,943.665 \n",
       "  \"/>\n",
       "<polyline clip-path=\"url(#clip290)\" style=\"stroke:#000000; stroke-linecap:butt; stroke-linejoin:round; stroke-width:4; stroke-opacity:1; fill:none\" points=\"\n",
       "  223.45,686.421 242.347,686.421 \n",
       "  \"/>\n",
       "<polyline clip-path=\"url(#clip290)\" style=\"stroke:#000000; stroke-linecap:butt; stroke-linejoin:round; stroke-width:4; stroke-opacity:1; fill:none\" points=\"\n",
       "  223.45,429.177 242.347,429.177 \n",
       "  \"/>\n",
       "<polyline clip-path=\"url(#clip290)\" style=\"stroke:#000000; stroke-linecap:butt; stroke-linejoin:round; stroke-width:4; stroke-opacity:1; fill:none\" points=\"\n",
       "  223.45,171.934 242.347,171.934 \n",
       "  \"/>\n",
       "<path clip-path=\"url(#clip290)\" d=\"M50.9921 1201.36 L80.6679 1201.36 L80.6679 1205.3 L50.9921 1205.3 L50.9921 1201.36 Z\" fill=\"#000000\" fill-rule=\"evenodd\" fill-opacity=\"1\" /><path clip-path=\"url(#clip290)\" d=\"M100.76 1186.71 Q97.1493 1186.71 95.3206 1190.27 Q93.515 1193.81 93.515 1200.94 Q93.515 1208.05 95.3206 1211.61 Q97.1493 1215.16 100.76 1215.16 Q104.395 1215.16 106.2 1211.61 Q108.029 1208.05 108.029 1200.94 Q108.029 1193.81 106.2 1190.27 Q104.395 1186.71 100.76 1186.71 M100.76 1183 Q106.571 1183 109.626 1187.61 Q112.705 1192.19 112.705 1200.94 Q112.705 1209.67 109.626 1214.28 Q106.571 1218.86 100.76 1218.86 Q94.9502 1218.86 91.8715 1214.28 Q88.816 1209.67 88.816 1200.94 Q88.816 1192.19 91.8715 1187.61 Q94.9502 1183 100.76 1183 Z\" fill=\"#000000\" fill-rule=\"evenodd\" fill-opacity=\"1\" /><path clip-path=\"url(#clip290)\" d=\"M120.922 1212.31 L125.807 1212.31 L125.807 1218.19 L120.922 1218.19 L120.922 1212.31 Z\" fill=\"#000000\" fill-rule=\"evenodd\" fill-opacity=\"1\" /><path clip-path=\"url(#clip290)\" d=\"M145.992 1186.71 Q142.381 1186.71 140.552 1190.27 Q138.746 1193.81 138.746 1200.94 Q138.746 1208.05 140.552 1211.61 Q142.381 1215.16 145.992 1215.16 Q149.626 1215.16 151.431 1211.61 Q153.26 1208.05 153.26 1200.94 Q153.26 1193.81 151.431 1190.27 Q149.626 1186.71 145.992 1186.71 M145.992 1183 Q151.802 1183 154.857 1187.61 Q157.936 1192.19 157.936 1200.94 Q157.936 1209.67 154.857 1214.28 Q151.802 1218.86 145.992 1218.86 Q140.181 1218.86 137.103 1214.28 Q134.047 1209.67 134.047 1200.94 Q134.047 1192.19 137.103 1187.61 Q140.181 1183 145.992 1183 Z\" fill=\"#000000\" fill-rule=\"evenodd\" fill-opacity=\"1\" /><path clip-path=\"url(#clip290)\" d=\"M180.32 1199.55 Q183.677 1200.27 185.552 1202.54 Q187.45 1204.81 187.45 1208.14 Q187.45 1213.26 183.931 1216.06 Q180.413 1218.86 173.931 1218.86 Q171.755 1218.86 169.441 1218.42 Q167.149 1218 164.695 1217.15 L164.695 1212.63 Q166.64 1213.77 168.954 1214.35 Q171.269 1214.92 173.792 1214.92 Q178.191 1214.92 180.482 1213.19 Q182.797 1211.45 182.797 1208.14 Q182.797 1205.09 180.644 1203.37 Q178.515 1201.64 174.695 1201.64 L170.667 1201.64 L170.667 1197.8 L174.88 1197.8 Q178.329 1197.8 180.158 1196.43 Q181.987 1195.04 181.987 1192.45 Q181.987 1189.79 180.089 1188.37 Q178.214 1186.94 174.695 1186.94 Q172.774 1186.94 170.575 1187.36 Q168.376 1187.77 165.737 1188.65 L165.737 1184.49 Q168.399 1183.74 170.714 1183.37 Q173.052 1183 175.112 1183 Q180.436 1183 183.538 1185.43 Q186.64 1187.84 186.64 1191.96 Q186.64 1194.83 184.996 1196.82 Q183.353 1198.79 180.32 1199.55 Z\" fill=\"#000000\" fill-rule=\"evenodd\" fill-opacity=\"1\" /><path clip-path=\"url(#clip290)\" d=\"M100.112 929.464 Q96.5011 929.464 94.6724 933.028 Q92.8669 936.57 92.8669 943.7 Q92.8669 950.806 94.6724 954.371 Q96.5011 957.913 100.112 957.913 Q103.746 957.913 105.552 954.371 Q107.381 950.806 107.381 943.7 Q107.381 936.57 105.552 933.028 Q103.746 929.464 100.112 929.464 M100.112 925.76 Q105.922 925.76 108.978 930.366 Q112.057 934.95 112.057 943.7 Q112.057 952.427 108.978 957.033 Q105.922 961.616 100.112 961.616 Q94.3021 961.616 91.2234 957.033 Q88.1679 952.427 88.1679 943.7 Q88.1679 934.95 91.2234 930.366 Q94.3021 925.76 100.112 925.76 Z\" fill=\"#000000\" fill-rule=\"evenodd\" fill-opacity=\"1\" /><path clip-path=\"url(#clip290)\" d=\"M120.274 955.065 L125.158 955.065 L125.158 960.945 L120.274 960.945 L120.274 955.065 Z\" fill=\"#000000\" fill-rule=\"evenodd\" fill-opacity=\"1\" /><path clip-path=\"url(#clip290)\" d=\"M145.343 929.464 Q141.732 929.464 139.904 933.028 Q138.098 936.57 138.098 943.7 Q138.098 950.806 139.904 954.371 Q141.732 957.913 145.343 957.913 Q148.978 957.913 150.783 954.371 Q152.612 950.806 152.612 943.7 Q152.612 936.57 150.783 933.028 Q148.978 929.464 145.343 929.464 M145.343 925.76 Q151.154 925.76 154.209 930.366 Q157.288 934.95 157.288 943.7 Q157.288 952.427 154.209 957.033 Q151.154 961.616 145.343 961.616 Q139.533 961.616 136.455 957.033 Q133.399 952.427 133.399 943.7 Q133.399 934.95 136.455 930.366 Q139.533 925.76 145.343 925.76 Z\" fill=\"#000000\" fill-rule=\"evenodd\" fill-opacity=\"1\" /><path clip-path=\"url(#clip290)\" d=\"M175.505 929.464 Q171.894 929.464 170.066 933.028 Q168.26 936.57 168.26 943.7 Q168.26 950.806 170.066 954.371 Q171.894 957.913 175.505 957.913 Q179.14 957.913 180.945 954.371 Q182.774 950.806 182.774 943.7 Q182.774 936.57 180.945 933.028 Q179.14 929.464 175.505 929.464 M175.505 925.76 Q181.316 925.76 184.371 930.366 Q187.45 934.95 187.45 943.7 Q187.45 952.427 184.371 957.033 Q181.316 961.616 175.505 961.616 Q169.695 961.616 166.617 957.033 Q163.561 952.427 163.561 943.7 Q163.561 934.95 166.617 930.366 Q169.695 925.76 175.505 925.76 Z\" fill=\"#000000\" fill-rule=\"evenodd\" fill-opacity=\"1\" /><path clip-path=\"url(#clip290)\" d=\"M100.76 672.22 Q97.1493 672.22 95.3206 675.785 Q93.515 679.326 93.515 686.456 Q93.515 693.562 95.3206 697.127 Q97.1493 700.669 100.76 700.669 Q104.395 700.669 106.2 697.127 Q108.029 693.562 108.029 686.456 Q108.029 679.326 106.2 675.785 Q104.395 672.22 100.76 672.22 M100.76 668.516 Q106.571 668.516 109.626 673.123 Q112.705 677.706 112.705 686.456 Q112.705 695.183 109.626 699.789 Q106.571 704.372 100.76 704.372 Q94.9502 704.372 91.8715 699.789 Q88.816 695.183 88.816 686.456 Q88.816 677.706 91.8715 673.123 Q94.9502 668.516 100.76 668.516 Z\" fill=\"#000000\" fill-rule=\"evenodd\" fill-opacity=\"1\" /><path clip-path=\"url(#clip290)\" d=\"M120.922 697.822 L125.807 697.822 L125.807 703.701 L120.922 703.701 L120.922 697.822 Z\" fill=\"#000000\" fill-rule=\"evenodd\" fill-opacity=\"1\" /><path clip-path=\"url(#clip290)\" d=\"M145.992 672.22 Q142.381 672.22 140.552 675.785 Q138.746 679.326 138.746 686.456 Q138.746 693.562 140.552 697.127 Q142.381 700.669 145.992 700.669 Q149.626 700.669 151.431 697.127 Q153.26 693.562 153.26 686.456 Q153.26 679.326 151.431 675.785 Q149.626 672.22 145.992 672.22 M145.992 668.516 Q151.802 668.516 154.857 673.123 Q157.936 677.706 157.936 686.456 Q157.936 695.183 154.857 699.789 Q151.802 704.372 145.992 704.372 Q140.181 704.372 137.103 699.789 Q134.047 695.183 134.047 686.456 Q134.047 677.706 137.103 673.123 Q140.181 668.516 145.992 668.516 Z\" fill=\"#000000\" fill-rule=\"evenodd\" fill-opacity=\"1\" /><path clip-path=\"url(#clip290)\" d=\"M180.32 685.067 Q183.677 685.785 185.552 688.053 Q187.45 690.322 187.45 693.655 Q187.45 698.771 183.931 701.572 Q180.413 704.372 173.931 704.372 Q171.755 704.372 169.441 703.933 Q167.149 703.516 164.695 702.66 L164.695 698.146 Q166.64 699.28 168.954 699.859 Q171.269 700.437 173.792 700.437 Q178.191 700.437 180.482 698.701 Q182.797 696.965 182.797 693.655 Q182.797 690.599 180.644 688.886 Q178.515 687.15 174.695 687.15 L170.667 687.15 L170.667 683.308 L174.88 683.308 Q178.329 683.308 180.158 681.942 Q181.987 680.553 181.987 677.961 Q181.987 675.299 180.089 673.887 Q178.214 672.451 174.695 672.451 Q172.774 672.451 170.575 672.868 Q168.376 673.285 165.737 674.164 L165.737 669.998 Q168.399 669.257 170.714 668.887 Q173.052 668.516 175.112 668.516 Q180.436 668.516 183.538 670.947 Q186.64 673.354 186.64 677.474 Q186.64 680.345 184.996 682.336 Q183.353 684.303 180.32 685.067 Z\" fill=\"#000000\" fill-rule=\"evenodd\" fill-opacity=\"1\" /><path clip-path=\"url(#clip290)\" d=\"M99.9502 414.976 Q96.3391 414.976 94.5104 418.541 Q92.7049 422.083 92.7049 429.212 Q92.7049 436.319 94.5104 439.883 Q96.3391 443.425 99.9502 443.425 Q103.584 443.425 105.39 439.883 Q107.219 436.319 107.219 429.212 Q107.219 422.083 105.39 418.541 Q103.584 414.976 99.9502 414.976 M99.9502 411.272 Q105.76 411.272 108.816 415.879 Q111.895 420.462 111.895 429.212 Q111.895 437.939 108.816 442.545 Q105.76 447.129 99.9502 447.129 Q94.14 447.129 91.0614 442.545 Q88.0058 437.939 88.0058 429.212 Q88.0058 420.462 91.0614 415.879 Q94.14 411.272 99.9502 411.272 Z\" fill=\"#000000\" fill-rule=\"evenodd\" fill-opacity=\"1\" /><path clip-path=\"url(#clip290)\" d=\"M120.112 440.578 L124.996 440.578 L124.996 446.457 L120.112 446.457 L120.112 440.578 Z\" fill=\"#000000\" fill-rule=\"evenodd\" fill-opacity=\"1\" /><path clip-path=\"url(#clip290)\" d=\"M145.181 414.976 Q141.57 414.976 139.742 418.541 Q137.936 422.083 137.936 429.212 Q137.936 436.319 139.742 439.883 Q141.57 443.425 145.181 443.425 Q148.816 443.425 150.621 439.883 Q152.45 436.319 152.45 429.212 Q152.45 422.083 150.621 418.541 Q148.816 414.976 145.181 414.976 M145.181 411.272 Q150.992 411.272 154.047 415.879 Q157.126 420.462 157.126 429.212 Q157.126 437.939 154.047 442.545 Q150.992 447.129 145.181 447.129 Q139.371 447.129 136.293 442.545 Q133.237 437.939 133.237 429.212 Q133.237 420.462 136.293 415.879 Q139.371 411.272 145.181 411.272 Z\" fill=\"#000000\" fill-rule=\"evenodd\" fill-opacity=\"1\" /><path clip-path=\"url(#clip290)\" d=\"M175.922 427.314 Q172.774 427.314 170.922 429.467 Q169.093 431.62 169.093 435.369 Q169.093 439.096 170.922 441.272 Q172.774 443.425 175.922 443.425 Q179.07 443.425 180.899 441.272 Q182.751 439.096 182.751 435.369 Q182.751 431.62 180.899 429.467 Q179.07 427.314 175.922 427.314 M185.204 412.661 L185.204 416.921 Q183.445 416.087 181.64 415.647 Q179.857 415.208 178.098 415.208 Q173.468 415.208 171.015 418.333 Q168.584 421.458 168.237 427.777 Q169.603 425.763 171.663 424.698 Q173.723 423.61 176.2 423.61 Q181.408 423.61 184.417 426.782 Q187.45 429.93 187.45 435.369 Q187.45 440.694 184.302 443.911 Q181.153 447.129 175.922 447.129 Q169.927 447.129 166.755 442.545 Q163.584 437.939 163.584 429.212 Q163.584 421.018 167.473 416.157 Q171.362 411.272 177.913 411.272 Q179.672 411.272 181.454 411.62 Q183.26 411.967 185.204 412.661 Z\" fill=\"#000000\" fill-rule=\"evenodd\" fill-opacity=\"1\" /><path clip-path=\"url(#clip290)\" d=\"M100.297 157.732 Q96.6863 157.732 94.8576 161.297 Q93.0521 164.839 93.0521 171.968 Q93.0521 179.075 94.8576 182.64 Q96.6863 186.181 100.297 186.181 Q103.932 186.181 105.737 182.64 Q107.566 179.075 107.566 171.968 Q107.566 164.839 105.737 161.297 Q103.932 157.732 100.297 157.732 M100.297 154.029 Q106.108 154.029 109.163 158.635 Q112.242 163.218 112.242 171.968 Q112.242 180.695 109.163 185.302 Q106.108 189.885 100.297 189.885 Q94.4873 189.885 91.4086 185.302 Q88.353 180.695 88.353 171.968 Q88.353 163.218 91.4086 158.635 Q94.4873 154.029 100.297 154.029 Z\" fill=\"#000000\" fill-rule=\"evenodd\" fill-opacity=\"1\" /><path clip-path=\"url(#clip290)\" d=\"M120.459 183.334 L125.344 183.334 L125.344 189.214 L120.459 189.214 L120.459 183.334 Z\" fill=\"#000000\" fill-rule=\"evenodd\" fill-opacity=\"1\" /><path clip-path=\"url(#clip290)\" d=\"M145.529 157.732 Q141.918 157.732 140.089 161.297 Q138.283 164.839 138.283 171.968 Q138.283 179.075 140.089 182.64 Q141.918 186.181 145.529 186.181 Q149.163 186.181 150.968 182.64 Q152.797 179.075 152.797 171.968 Q152.797 164.839 150.968 161.297 Q149.163 157.732 145.529 157.732 M145.529 154.029 Q151.339 154.029 154.394 158.635 Q157.473 163.218 157.473 171.968 Q157.473 180.695 154.394 185.302 Q151.339 189.885 145.529 189.885 Q139.719 189.885 136.64 185.302 Q133.584 180.695 133.584 171.968 Q133.584 163.218 136.64 158.635 Q139.719 154.029 145.529 154.029 Z\" fill=\"#000000\" fill-rule=\"evenodd\" fill-opacity=\"1\" /><path clip-path=\"url(#clip290)\" d=\"M165.829 188.496 L165.829 184.237 Q167.589 185.07 169.394 185.51 Q171.2 185.95 172.936 185.95 Q177.566 185.95 179.996 182.848 Q182.45 179.723 182.797 173.38 Q181.454 175.371 179.394 176.436 Q177.334 177.501 174.834 177.501 Q169.649 177.501 166.617 174.376 Q163.607 171.228 163.607 165.788 Q163.607 160.464 166.755 157.246 Q169.904 154.029 175.135 154.029 Q181.13 154.029 184.278 158.635 Q187.45 163.218 187.45 171.968 Q187.45 180.14 183.561 185.024 Q179.695 189.885 173.144 189.885 Q171.385 189.885 169.579 189.538 Q167.774 189.19 165.829 188.496 M175.135 173.843 Q178.283 173.843 180.112 171.691 Q181.964 169.538 181.964 165.788 Q181.964 162.061 180.112 159.908 Q178.283 157.732 175.135 157.732 Q171.987 157.732 170.135 159.908 Q168.306 162.061 168.306 165.788 Q168.306 169.538 170.135 171.691 Q171.987 173.843 175.135 173.843 Z\" fill=\"#000000\" fill-rule=\"evenodd\" fill-opacity=\"1\" /><polyline clip-path=\"url(#clip292)\" style=\"stroke:#009af9; stroke-linecap:butt; stroke-linejoin:round; stroke-width:4; stroke-opacity:1; fill:none\" points=\"\n",
       "  223.45,943.665 276.682,943.665 329.915,1217.05 383.148,1323.22 436.38,1363.72 489.613,1378.51 542.846,1383.31 596.078,1384.24 649.311,1383.68 702.544,1382.57 \n",
       "  755.776,1381.25 809.009,1379.86 862.242,1378.44 915.474,1377.02 968.707,1375.6 1021.94,1374.18 1075.17,1372.77 1128.4,1371.36 1181.64,1369.96 1234.87,1368.56 \n",
       "  1288.1,1367.17 1341.34,1365.78 1394.57,1364.4 1447.8,1363.02 1501.03,1361.64 1554.27,1360.27 1607.5,1358.9 1660.73,1357.54 1713.96,1356.19 1767.2,1354.83 \n",
       "  1820.43,1353.49 1873.66,1352.14 1926.89,1350.8 1980.13,1349.47 2033.36,1348.14 2086.59,1346.81 2139.83,1345.49 2193.06,1344.17 2246.29,1342.86 2299.52,1341.55 \n",
       "  2352.76,1340.24 \n",
       "  \"/>\n",
       "<polyline clip-path=\"url(#clip292)\" style=\"stroke:#e26f46; stroke-linecap:butt; stroke-linejoin:round; stroke-width:4; stroke-opacity:1; fill:none\" points=\"\n",
       "  223.45,943.665 276.682,943.665 329.915,941.387 383.148,939.812 436.38,938.871 489.613,938.352 542.846,938.082 596.078,937.95 649.311,937.892 702.544,937.873 \n",
       "  755.776,937.872 809.009,937.882 862.242,937.896 915.474,937.913 968.707,937.93 1021.94,937.949 1075.17,937.967 1128.4,937.986 1181.64,938.004 1234.87,938.023 \n",
       "  1288.1,938.041 1341.34,938.06 1394.57,938.078 1447.8,938.096 1501.03,938.115 1554.27,938.133 1607.5,938.151 1660.73,938.169 1713.96,938.187 1767.2,938.205 \n",
       "  1820.43,938.223 1873.66,938.241 1926.89,938.259 1980.13,938.276 2033.36,938.294 2086.59,938.312 2139.83,938.329 2193.06,938.347 2246.29,938.364 2299.52,938.382 \n",
       "  2352.76,938.399 \n",
       "  \"/>\n",
       "<polyline clip-path=\"url(#clip292)\" style=\"stroke:#3da44d; stroke-linecap:butt; stroke-linejoin:round; stroke-width:4; stroke-opacity:1; fill:none\" points=\"\n",
       "  223.45,943.665 276.682,943.665 329.915,948.736 383.148,950.706 436.38,951.457 489.613,951.731 542.846,951.82 596.078,951.838 649.311,951.827 702.544,951.807 \n",
       "  755.776,951.782 809.009,951.756 862.242,951.73 915.474,951.704 968.707,951.677 1021.94,951.651 1075.17,951.625 1128.4,951.599 1181.64,951.573 1234.87,951.547 \n",
       "  1288.1,951.521 1341.34,951.495 1394.57,951.47 1447.8,951.444 1501.03,951.418 1554.27,951.393 1607.5,951.368 1660.73,951.342 1713.96,951.317 1767.2,951.292 \n",
       "  1820.43,951.267 1873.66,951.242 1926.89,951.217 1980.13,951.193 2033.36,951.168 2086.59,951.143 2139.83,951.119 2193.06,951.094 2246.29,951.07 2299.52,951.046 \n",
       "  2352.76,951.022 \n",
       "  \"/>\n",
       "<polyline clip-path=\"url(#clip292)\" style=\"stroke:#c271d2; stroke-linecap:butt; stroke-linejoin:round; stroke-width:4; stroke-opacity:1; fill:none\" points=\"\n",
       "  223.45,943.665 276.682,943.665 329.915,943.665 383.148,943.665 436.38,943.665 489.613,943.665 542.846,943.665 596.078,943.665 649.311,943.665 702.544,943.665 \n",
       "  755.776,943.665 809.009,943.665 862.242,943.665 915.474,943.665 968.707,943.665 1021.94,943.665 1075.17,943.665 1128.4,943.665 1181.64,943.665 1234.87,943.665 \n",
       "  1288.1,943.665 1341.34,943.665 1394.57,943.665 1447.8,943.665 1501.03,943.665 1554.27,943.665 1607.5,943.665 1660.73,943.665 1713.96,943.665 1767.2,943.665 \n",
       "  1820.43,943.665 1873.66,943.665 1926.89,943.665 1980.13,943.665 2033.36,943.665 2086.59,943.665 2139.83,943.665 2193.06,943.665 2246.29,943.665 2299.52,943.665 \n",
       "  2352.76,943.665 \n",
       "  \"/>\n",
       "<polyline clip-path=\"url(#clip292)\" style=\"stroke:#ac8d18; stroke-linecap:butt; stroke-linejoin:round; stroke-width:4; stroke-opacity:1; fill:none\" points=\"\n",
       "  223.45,943.665 276.682,943.665 329.915,943.868 383.148,943.947 436.38,943.977 489.613,943.988 542.846,943.991 596.078,943.992 649.311,943.991 702.544,943.991 \n",
       "  755.776,943.99 809.009,943.989 862.242,943.988 915.474,943.987 968.707,943.985 1021.94,943.984 1075.17,943.983 1128.4,943.982 1181.64,943.981 1234.87,943.98 \n",
       "  1288.1,943.979 1341.34,943.978 1394.57,943.977 1447.8,943.976 1501.03,943.975 1554.27,943.974 1607.5,943.973 1660.73,943.972 1713.96,943.971 1767.2,943.97 \n",
       "  1820.43,943.969 1873.66,943.968 1926.89,943.967 1980.13,943.966 2033.36,943.965 2086.59,943.964 2139.83,943.963 2193.06,943.962 2246.29,943.961 2299.52,943.96 \n",
       "  2352.76,943.959 \n",
       "  \"/>\n",
       "<polyline clip-path=\"url(#clip292)\" style=\"stroke:#00a9ad; stroke-linecap:butt; stroke-linejoin:round; stroke-width:4; stroke-opacity:1; fill:none\" points=\"\n",
       "  223.45,943.665 276.682,943.665 329.915,943.665 383.148,943.665 436.38,943.665 489.613,943.665 542.846,943.665 596.078,943.665 649.311,943.665 702.544,943.665 \n",
       "  755.776,943.665 809.009,943.665 862.242,943.665 915.474,943.665 968.707,943.665 1021.94,943.665 1075.17,943.665 1128.4,943.665 1181.64,943.665 1234.87,943.665 \n",
       "  1288.1,943.665 1341.34,943.665 1394.57,943.665 1447.8,943.665 1501.03,943.665 1554.27,943.665 1607.5,943.665 1660.73,943.665 1713.96,943.665 1767.2,943.665 \n",
       "  1820.43,943.665 1873.66,943.665 1926.89,943.665 1980.13,943.665 2033.36,943.665 2086.59,943.665 2139.83,943.665 2193.06,943.665 2246.29,943.665 2299.52,943.665 \n",
       "  2352.76,943.665 \n",
       "  \"/>\n",
       "<polyline clip-path=\"url(#clip292)\" style=\"stroke:#ed5d92; stroke-linecap:butt; stroke-linejoin:round; stroke-width:4; stroke-opacity:1; fill:none\" points=\"\n",
       "  223.45,943.665 276.682,86.1857 329.915,600.673 383.148,806.468 436.38,888.786 489.613,921.714 542.846,934.884 596.078,940.153 649.311,942.26 702.544,943.103 \n",
       "  755.776,943.44 809.009,943.575 862.242,943.629 915.474,943.651 968.707,943.659 1021.94,943.663 1075.17,943.664 1128.4,943.665 1181.64,943.665 1234.87,943.665 \n",
       "  1288.1,943.665 1341.34,943.665 1394.57,943.665 1447.8,943.665 1501.03,943.665 1554.27,943.665 1607.5,943.665 1660.73,943.665 1713.96,943.665 1767.2,943.665 \n",
       "  1820.43,943.665 1873.66,943.665 1926.89,943.665 1980.13,943.665 2033.36,943.665 2086.59,943.665 2139.83,943.665 2193.06,943.665 2246.29,943.665 2299.52,943.665 \n",
       "  2352.76,943.665 \n",
       "  \"/>\n",
       "<path clip-path=\"url(#clip290)\" d=\"\n",
       "M1755.42 507.829 L2281.78 507.829 L2281.78 93.1086 L1755.42 93.1086  Z\n",
       "  \" fill=\"#ffffff\" fill-rule=\"evenodd\" fill-opacity=\"1\"/>\n",
       "<polyline clip-path=\"url(#clip290)\" style=\"stroke:#000000; stroke-linecap:butt; stroke-linejoin:round; stroke-width:4; stroke-opacity:1; fill:none\" points=\"\n",
       "  1755.42,507.829 2281.78,507.829 2281.78,93.1086 1755.42,93.1086 1755.42,507.829 \n",
       "  \"/>\n",
       "<polyline clip-path=\"url(#clip290)\" style=\"stroke:#009af9; stroke-linecap:butt; stroke-linejoin:round; stroke-width:4; stroke-opacity:1; fill:none\" points=\"\n",
       "  1779.08,144.949 1921.04,144.949 \n",
       "  \"/>\n",
       "<path clip-path=\"url(#clip290)\" d=\"M1963.61 140.238 L1963.61 126.21 L1967.87 126.21 L1967.87 162.229 L1963.61 162.229 L1963.61 158.34 Q1962.26 160.655 1960.2 161.789 Q1958.17 162.9 1955.3 162.9 Q1950.6 162.9 1947.63 159.15 Q1944.69 155.4 1944.69 149.289 Q1944.69 143.178 1947.63 139.428 Q1950.6 135.678 1955.3 135.678 Q1958.17 135.678 1960.2 136.812 Q1962.26 137.923 1963.61 140.238 M1949.09 149.289 Q1949.09 153.988 1951.01 156.673 Q1952.96 159.335 1956.34 159.335 Q1959.72 159.335 1961.66 156.673 Q1963.61 153.988 1963.61 149.289 Q1963.61 144.59 1961.66 141.928 Q1959.72 139.243 1956.34 139.243 Q1952.96 139.243 1951.01 141.928 Q1949.09 144.59 1949.09 149.289 Z\" fill=\"#000000\" fill-rule=\"evenodd\" fill-opacity=\"1\" /><polyline clip-path=\"url(#clip290)\" style=\"stroke:#e26f46; stroke-linecap:butt; stroke-linejoin:round; stroke-width:4; stroke-opacity:1; fill:none\" points=\"\n",
       "  1779.08,196.789 1921.04,196.789 \n",
       "  \"/>\n",
       "<path clip-path=\"url(#clip290)\" d=\"M1944.69 178.05 L1948.98 178.05 L1948.98 199.323 L1961.68 188.143 L1967.12 188.143 L1953.37 200.272 L1967.7 214.069 L1962.15 214.069 L1948.98 201.407 L1948.98 214.069 L1944.69 214.069 L1944.69 178.05 Z\" fill=\"#000000\" fill-rule=\"evenodd\" fill-opacity=\"1\" /><polyline clip-path=\"url(#clip290)\" style=\"stroke:#3da44d; stroke-linecap:butt; stroke-linejoin:round; stroke-width:4; stroke-opacity:1; fill:none\" points=\"\n",
       "  1779.08,248.629 1921.04,248.629 \n",
       "  \"/>\n",
       "<path clip-path=\"url(#clip290)\" d=\"M1959.88 243.964 Q1959.16 243.548 1958.31 243.362 Q1957.47 243.154 1956.45 243.154 Q1952.84 243.154 1950.9 245.515 Q1948.98 247.853 1948.98 252.251 L1948.98 265.909 L1944.69 265.909 L1944.69 239.983 L1948.98 239.983 L1948.98 244.011 Q1950.32 241.649 1952.47 240.515 Q1954.62 239.358 1957.7 239.358 Q1958.14 239.358 1958.68 239.427 Q1959.21 239.474 1959.86 239.589 L1959.88 243.964 Z\" fill=\"#000000\" fill-rule=\"evenodd\" fill-opacity=\"1\" /><polyline clip-path=\"url(#clip290)\" style=\"stroke:#c271d2; stroke-linecap:butt; stroke-linejoin:round; stroke-width:4; stroke-opacity:1; fill:none\" points=\"\n",
       "  1779.08,300.469 1921.04,300.469 \n",
       "  \"/>\n",
       "<path clip-path=\"url(#clip290)\" d=\"M1958.1 304.716 Q1952.93 304.716 1950.94 305.897 Q1948.95 307.077 1948.95 309.925 Q1948.95 312.193 1950.43 313.536 Q1951.94 314.855 1954.51 314.855 Q1958.05 314.855 1960.18 312.355 Q1962.33 309.832 1962.33 305.665 L1962.33 304.716 L1958.1 304.716 M1966.59 302.957 L1966.59 317.749 L1962.33 317.749 L1962.33 313.813 Q1960.87 316.175 1958.7 317.309 Q1956.52 318.42 1953.37 318.42 Q1949.39 318.42 1947.03 316.198 Q1944.69 313.952 1944.69 310.202 Q1944.69 305.827 1947.61 303.605 Q1950.55 301.383 1956.36 301.383 L1962.33 301.383 L1962.33 300.966 Q1962.33 298.027 1960.39 296.429 Q1958.47 294.809 1954.97 294.809 Q1952.75 294.809 1950.64 295.341 Q1948.54 295.874 1946.59 296.939 L1946.59 293.003 Q1948.93 292.101 1951.13 291.661 Q1953.33 291.198 1955.41 291.198 Q1961.04 291.198 1963.81 294.114 Q1966.59 297.031 1966.59 302.957 Z\" fill=\"#000000\" fill-rule=\"evenodd\" fill-opacity=\"1\" /><polyline clip-path=\"url(#clip290)\" style=\"stroke:#ac8d18; stroke-linecap:butt; stroke-linejoin:round; stroke-width:4; stroke-opacity:1; fill:none\" points=\"\n",
       "  1779.08,352.309 1921.04,352.309 \n",
       "  \"/>\n",
       "<path clip-path=\"url(#clip290)\" d=\"M1959.88 347.644 Q1959.16 347.228 1958.31 347.042 Q1957.47 346.834 1956.45 346.834 Q1952.84 346.834 1950.9 349.195 Q1948.98 351.533 1948.98 355.931 L1948.98 369.589 L1944.69 369.589 L1944.69 343.663 L1948.98 343.663 L1948.98 347.691 Q1950.32 345.329 1952.47 344.195 Q1954.62 343.038 1957.7 343.038 Q1958.14 343.038 1958.68 343.107 Q1959.21 343.154 1959.86 343.269 L1959.88 347.644 Z\" fill=\"#000000\" fill-rule=\"evenodd\" fill-opacity=\"1\" /><path clip-path=\"url(#clip290)\" d=\"M1964.35 343.663 L1968.61 343.663 L1968.61 369.589 L1964.35 369.589 L1964.35 343.663 M1964.35 333.57 L1968.61 333.57 L1968.61 338.964 L1964.35 338.964 L1964.35 333.57 Z\" fill=\"#000000\" fill-rule=\"evenodd\" fill-opacity=\"1\" /><path clip-path=\"url(#clip290)\" d=\"M1994.05 344.427 L1994.05 348.454 Q1992.24 347.529 1990.3 347.066 Q1988.35 346.603 1986.27 346.603 Q1983.1 346.603 1981.5 347.575 Q1979.93 348.547 1979.93 350.491 Q1979.93 351.973 1981.06 352.829 Q1982.19 353.663 1985.62 354.427 L1987.08 354.751 Q1991.62 355.723 1993.51 357.505 Q1995.43 359.265 1995.43 362.436 Q1995.43 366.047 1992.56 368.153 Q1989.72 370.26 1984.72 370.26 Q1982.63 370.26 1980.37 369.843 Q1978.12 369.45 1975.62 368.64 L1975.62 364.241 Q1977.98 365.468 1980.27 366.093 Q1982.56 366.695 1984.81 366.695 Q1987.82 366.695 1989.44 365.677 Q1991.06 364.635 1991.06 362.76 Q1991.06 361.024 1989.88 360.098 Q1988.72 359.172 1984.76 358.316 L1983.28 357.968 Q1979.32 357.135 1977.56 355.422 Q1975.81 353.686 1975.81 350.677 Q1975.81 347.019 1978.4 345.029 Q1980.99 343.038 1985.76 343.038 Q1988.12 343.038 1990.2 343.385 Q1992.29 343.732 1994.05 344.427 Z\" fill=\"#000000\" fill-rule=\"evenodd\" fill-opacity=\"1\" /><path clip-path=\"url(#clip290)\" d=\"M2002.05 333.57 L2006.34 333.57 L2006.34 354.843 L2019.05 343.663 L2024.49 343.663 L2010.74 355.792 L2025.06 369.589 L2019.51 369.589 L2006.34 356.927 L2006.34 369.589 L2002.05 369.589 L2002.05 333.57 Z\" fill=\"#000000\" fill-rule=\"evenodd\" fill-opacity=\"1\" /><path clip-path=\"url(#clip290)\" d=\"M2033.79 365.7 L2033.79 379.45 L2029.51 379.45 L2029.51 343.663 L2033.79 343.663 L2033.79 347.598 Q2035.13 345.283 2037.17 344.172 Q2039.23 343.038 2042.08 343.038 Q2046.8 343.038 2049.74 346.788 Q2052.7 350.538 2052.7 356.649 Q2052.7 362.76 2049.74 366.51 Q2046.8 370.26 2042.08 370.26 Q2039.23 370.26 2037.17 369.149 Q2035.13 368.015 2033.79 365.7 M2048.28 356.649 Q2048.28 351.95 2046.34 349.288 Q2044.42 346.603 2041.04 346.603 Q2037.66 346.603 2035.71 349.288 Q2033.79 351.95 2033.79 356.649 Q2033.79 361.348 2035.71 364.033 Q2037.66 366.695 2041.04 366.695 Q2044.42 366.695 2046.34 364.033 Q2048.28 361.348 2048.28 356.649 Z\" fill=\"#000000\" fill-rule=\"evenodd\" fill-opacity=\"1\" /><path clip-path=\"url(#clip290)\" d=\"M2074.79 347.644 Q2074.07 347.228 2073.21 347.042 Q2072.38 346.834 2071.36 346.834 Q2067.75 346.834 2065.8 349.195 Q2063.88 351.533 2063.88 355.931 L2063.88 369.589 L2059.6 369.589 L2059.6 343.663 L2063.88 343.663 L2063.88 347.691 Q2065.23 345.329 2067.38 344.195 Q2069.53 343.038 2072.61 343.038 Q2073.05 343.038 2073.58 343.107 Q2074.11 343.154 2074.76 343.269 L2074.79 347.644 Z\" fill=\"#000000\" fill-rule=\"evenodd\" fill-opacity=\"1\" /><path clip-path=\"url(#clip290)\" d=\"M2100.39 355.561 L2100.39 357.644 L2080.8 357.644 Q2081.08 362.042 2083.44 364.357 Q2085.83 366.649 2090.06 366.649 Q2092.52 366.649 2094.81 366.047 Q2097.12 365.445 2099.39 364.241 L2099.39 368.269 Q2097.1 369.241 2094.69 369.751 Q2092.29 370.26 2089.81 370.26 Q2083.61 370.26 2079.97 366.649 Q2076.36 363.038 2076.36 356.88 Q2076.36 350.515 2079.79 346.788 Q2083.24 343.038 2089.07 343.038 Q2094.3 343.038 2097.33 346.417 Q2100.39 349.774 2100.39 355.561 M2096.13 354.311 Q2096.08 350.816 2094.16 348.732 Q2092.26 346.649 2089.11 346.649 Q2085.55 346.649 2083.4 348.663 Q2081.27 350.677 2080.94 354.334 L2096.13 354.311 Z\" fill=\"#000000\" fill-rule=\"evenodd\" fill-opacity=\"1\" /><path clip-path=\"url(#clip290)\" d=\"M2127.56 348.64 Q2129.16 345.769 2131.38 344.404 Q2133.61 343.038 2136.61 343.038 Q2140.67 343.038 2142.86 345.885 Q2145.06 348.709 2145.06 353.941 L2145.06 369.589 L2140.78 369.589 L2140.78 354.079 Q2140.78 350.353 2139.46 348.547 Q2138.14 346.742 2135.43 346.742 Q2132.12 346.742 2130.2 348.941 Q2128.28 351.14 2128.28 354.936 L2128.28 369.589 L2124 369.589 L2124 354.079 Q2124 350.329 2122.68 348.547 Q2121.36 346.742 2118.61 346.742 Q2115.34 346.742 2113.42 348.964 Q2111.5 351.163 2111.5 354.936 L2111.5 369.589 L2107.22 369.589 L2107.22 343.663 L2111.5 343.663 L2111.5 347.691 Q2112.96 345.306 2114.99 344.172 Q2117.03 343.038 2119.83 343.038 Q2122.66 343.038 2124.62 344.473 Q2126.61 345.908 2127.56 348.64 Z\" fill=\"#000000\" fill-rule=\"evenodd\" fill-opacity=\"1\" /><path clip-path=\"url(#clip290)\" d=\"M2153.56 343.663 L2157.82 343.663 L2157.82 369.589 L2153.56 369.589 L2153.56 343.663 M2153.56 333.57 L2157.82 333.57 L2157.82 338.964 L2153.56 338.964 L2153.56 333.57 Z\" fill=\"#000000\" fill-rule=\"evenodd\" fill-opacity=\"1\" /><path clip-path=\"url(#clip290)\" d=\"M2166.29 359.357 L2166.29 343.663 L2170.55 343.663 L2170.55 359.195 Q2170.55 362.876 2171.98 364.728 Q2173.42 366.556 2176.29 366.556 Q2179.74 366.556 2181.73 364.357 Q2183.74 362.158 2183.74 358.362 L2183.74 343.663 L2188 343.663 L2188 369.589 L2183.74 369.589 L2183.74 365.607 Q2182.19 367.968 2180.13 369.126 Q2178.1 370.26 2175.39 370.26 Q2170.92 370.26 2168.6 367.482 Q2166.29 364.704 2166.29 359.357 M2177.01 343.038 L2177.01 343.038 Z\" fill=\"#000000\" fill-rule=\"evenodd\" fill-opacity=\"1\" /><path clip-path=\"url(#clip290)\" d=\"M2216.96 348.64 Q2218.56 345.769 2220.78 344.404 Q2223 343.038 2226.01 343.038 Q2230.06 343.038 2232.26 345.885 Q2234.46 348.709 2234.46 353.941 L2234.46 369.589 L2230.18 369.589 L2230.18 354.079 Q2230.18 350.353 2228.86 348.547 Q2227.54 346.742 2224.83 346.742 Q2221.52 346.742 2219.6 348.941 Q2217.68 351.14 2217.68 354.936 L2217.68 369.589 L2213.4 369.589 L2213.4 354.079 Q2213.4 350.329 2212.08 348.547 Q2210.76 346.742 2208 346.742 Q2204.74 346.742 2202.82 348.964 Q2200.9 351.163 2200.9 354.936 L2200.9 369.589 L2196.61 369.589 L2196.61 343.663 L2200.9 343.663 L2200.9 347.691 Q2202.35 345.306 2204.39 344.172 Q2206.43 343.038 2209.23 343.038 Q2212.05 343.038 2214.02 344.473 Q2216.01 345.908 2216.96 348.64 Z\" fill=\"#000000\" fill-rule=\"evenodd\" fill-opacity=\"1\" /><polyline clip-path=\"url(#clip290)\" style=\"stroke:#00a9ad; stroke-linecap:butt; stroke-linejoin:round; stroke-width:4; stroke-opacity:1; fill:none\" points=\"\n",
       "  1779.08,404.149 1921.04,404.149 \n",
       "  \"/>\n",
       "<path clip-path=\"url(#clip290)\" d=\"M1958.75 418.489 Q1961.8 418.512 1963.63 420.248 Q1965.57 422.077 1965.57 424.855 Q1965.57 427.517 1963.86 429.368 Q1962.01 431.382 1958.24 431.382 Q1958.24 429.646 1958.24 427.887 Q1959.83 428.003 1960.81 426.984 Q1961.55 426.174 1961.55 425.317 Q1961.55 424.091 1960.81 423.072 Q1960.09 422.1 1958.75 422.1 Q1944.72 422.1 1944.69 409.068 Q1944.69 397.679 1957.91 389.693 L1945.6 389.693 L1945.6 385.41 L1965.74 385.41 L1965.74 389.693 Q1948.98 398.119 1948.98 409.068 Q1948.98 418.489 1958.75 418.489 Z\" fill=\"#000000\" fill-rule=\"evenodd\" fill-opacity=\"1\" /><polyline clip-path=\"url(#clip290)\" style=\"stroke:#ed5d92; stroke-linecap:butt; stroke-linejoin:round; stroke-width:4; stroke-opacity:1; fill:none\" points=\"\n",
       "  1779.08,455.989 1921.04,455.989 \n",
       "  \"/>\n",
       "<path clip-path=\"url(#clip290)\" d=\"M1944.69 483.13 L1944.69 447.343 L1948.95 447.343 L1948.95 463.454 Q1948.95 466.81 1950.55 468.523 Q1952.15 470.236 1955.27 470.236 Q1958.7 470.236 1960.41 468.292 Q1962.15 466.347 1962.15 462.458 L1962.15 447.343 L1966.41 447.343 L1966.41 467.296 Q1966.41 468.685 1966.8 469.357 Q1967.22 470.005 1968.07 470.005 Q1968.28 470.005 1968.65 469.889 Q1969.02 469.75 1969.67 469.472 L1969.67 472.898 Q1968.72 473.431 1967.87 473.685 Q1967.03 473.94 1966.22 473.94 Q1964.62 473.94 1963.68 473.037 Q1962.73 472.134 1962.38 470.283 Q1961.22 472.111 1959.53 473.037 Q1957.87 473.94 1955.6 473.94 Q1953.24 473.94 1951.57 473.037 Q1949.93 472.134 1948.95 470.329 L1948.95 483.13 L1944.69 483.13 Z\" fill=\"#000000\" fill-rule=\"evenodd\" fill-opacity=\"1\" /></svg>\n"
      ]
     },
     "execution_count": 33,
     "metadata": {},
     "output_type": "execute_result"
    }
   ],
   "source": [
    "plot(val3) #demand shock"
   ]
  },
  {
   "cell_type": "markdown",
   "id": "660a8005-2dd5-422d-ba57-1ba7a239de6d",
   "metadata": {},
   "source": [
    "Economically these look mostly reasonable. The scale of the demand shock results is such that it's hard to see impact on anything other than debt, so I will need to look at the numbers for the other parts. That's not actually all that implausble, since in a real model demand shifts are accommodated mainly by foreign borrowing.\n",
    "\n",
    "Checking the risk premium shock, all IRFs look qualitatively and qualitatively identical, up to the time shift. So, it looks like I \"got it right\" with $\\zeta(t)$ instead of $\\zeta(t+1)$, or at least it doesn't cause any problems.\n",
    "\n",
    "Checking the demand shock, it is indeed correct that the responses of $\\mu$ and $d$ are orders of magnitude larger than any other state variables (Consumption, a contemporaneous variable, is the other mover, which I should check). Inspecting the numbers, the other variables are all also fine. So, it looks like I nailed it! \n",
    "\n",
    "The next task will be estimation, etc. But before that, I will transfer these model updates to the corresponding files on Git and upload, so that Jesse and James can take care of the estimation. I think the Dynare estimation needs some updates with prior choice or whatever, and we may want to try using the same data for both if we can, which will mean needing a time shift, but otherwise this seems good to go."
   ]
  },
  {
   "cell_type": "code",
   "execution_count": 34,
   "id": "1c8ba541-3529-4b5d-800e-bded2c46c2e4",
   "metadata": {},
   "outputs": [
    {
     "ename": "LoadError",
     "evalue": "DimensionMismatch(\"vectors must have same lengths\")",
     "output_type": "error",
     "traceback": [
      "DimensionMismatch(\"vectors must have same lengths\")",
      "",
      "Stacktrace:",
      " [1] hcat",
      "   @ ./array.jl:1804 [inlined]",
      " [2] verify_steady_state(m::PerturbationModel{1, true, Matrix{Float64}, Matrix{Float64}}, p_d::NamedTuple{(:ρ, :α, :β), Tuple{Float64, Float64, Float64}}, p_f::NamedTuple{(:γ, :ω, :σe, :δ, :ψ, :ϕ, :r_w, :d_bar, :ρ_u, :σu, :ρ_v, :σv, :Ω_1), NTuple{13, Float64}}; atol::Float64, args::Base.Pairs{Symbol, Union{}, Tuple{}, NamedTuple{(), Tuple{}}})",
      "   @ DifferentiableStateSpaceModels ~/.julia/packages/DifferentiableStateSpaceModels/qRvKd/src/generate_perturbation.jl:31",
      " [3] verify_steady_state(m::PerturbationModel{1, true, Matrix{Float64}, Matrix{Float64}}, p_d::NamedTuple{(:ρ, :α, :β), Tuple{Float64, Float64, Float64}}, p_f::NamedTuple{(:γ, :ω, :σe, :δ, :ψ, :ϕ, :r_w, :d_bar, :ρ_u, :σu, :ρ_v, :σv, :Ω_1), NTuple{13, Float64}})",
      "   @ DifferentiableStateSpaceModels ~/.julia/packages/DifferentiableStateSpaceModels/qRvKd/src/generate_perturbation.jl:27",
      " [4] top-level scope",
      "   @ In[34]:2",
      " [5] eval",
      "   @ ./boot.jl:373 [inlined]",
      " [6] include_string(mapexpr::typeof(REPL.softscope), mod::Module, code::String, filename::String)",
      "   @ Base ./loading.jl:1196"
     ]
    }
   ],
   "source": [
    "#One more check of steady state\n",
    "verify_steady_state(model_sguex, p_d, p_f)"
   ]
  },
  {
   "cell_type": "markdown",
   "id": "013a561a-a182-457a-8e72-b76157f90efa",
   "metadata": {},
   "source": [
    "Ok, that's still wrong. Leave it for later."
   ]
  },
  {
   "cell_type": "markdown",
   "id": "ab713aad-f658-4ee9-a1bd-d19a6e282528",
   "metadata": {},
   "source": [
    "Now is later, so let's try to fix the steady state. Go back to 1 shock model, try analytic steady state. This is same as original except not using `steady_state_iv`, and putting the conditions in the right order, which may or may not matter."
   ]
  },
  {
   "cell_type": "code",
   "execution_count": 35,
   "id": "3fe12e5f-9adb-41bb-9279-ed7b00f786a6",
   "metadata": {},
   "outputs": [
    {
     "name": "stdout",
     "output_type": "stream",
     "text": [
      "\u001b[36mBuilding model up to order 1\u001b[39m\n",
      "\u001b[36mSubstituting and simplifying\u001b[39m\n",
      "\u001b[36mBuilding model functions\u001b[39m\n",
      "\u001b[36mSaved sgu6 to /Users/dchilder/.julia/packages/DifferentiableStateSpaceModels/qRvKd/.function_cache/sgu6.jl\u001b[39m\n"
     ]
    },
    {
     "data": {
      "text/plain": [
       "\"/Users/dchilder/.julia/packages/DifferentiableStateSpaceModels/qRvKd/.function_cache/sgu6.jl\""
      ]
     },
     "execution_count": 35,
     "metadata": {},
     "output_type": "execute_result"
    }
   ],
   "source": [
    "∞ = Inf\n",
    "# Parameters\n",
    "@variables γ, ω, ρ, σe, δ, ψ, α, ϕ, β, r_w, d_bar #, ρ_u, σu, ρ_v, σv\n",
    "# x and y\n",
    "@variables t::Integer, d(..), c(..), h(..), GDP(..), i(..), k(..), a(..), λ(..), tb(..),\n",
    "               ca(..), riskpremium(..), r(..), kfu(..)  #, ζ(..), μ(..)\n",
    "@variables Ω_1\n",
    "x = [d, k, r, a, riskpremium]\n",
    "y = [c, h, GDP, i, kfu, λ, tb, ca]\n",
    "p = [γ, ω, ρ, σe, δ, ψ, α, ϕ, β, r_w, d_bar, Ω_1] #ρ_u, σu, ρ_v, σv\n",
    "    \n",
    "# Model equations\n",
    "H = [d(t+1) - (1 + exp(r(t))) * d(t) + exp(GDP(t)) - exp(c(t)) - exp(i(t)) -\n",
    "    (ϕ / 2) * (exp(k(t+1)) - exp(k(t)))^2, #Debt evolution\n",
    "    exp(GDP(t)) - exp(a(t)) * (exp(k(t))^α) * (exp(h(t))^(1 - α)), #Production function\n",
    "    exp(k(t + 1)) - exp(i(t)) - (1 - δ) * exp(k(t)), #Capital evolution\n",
    "    exp(λ(t)) - β * (1 + exp(r(t+1))) * exp(λ(t + 1)), #* exp(μ(t)), #Euler equation\n",
    "    (exp(c(t)) - ((exp(h(t))^ω) / ω))^(-γ) - exp(λ(t)), #Marginal utility\n",
    "    ((exp(c(t)) - ((exp(h(t))^ω) / ω))^(-γ)) * (exp(h(t))^(ω - 1)) -\n",
    "    exp(λ(t)) * (1 - α) * exp(GDP(t)) / exp(h(t)), #Labor FOC\n",
    "    exp(λ(t)) * (1 + ϕ * (exp(k(t + 1)) - exp(k(t)))) -\n",
    "    β *\n",
    "    exp(λ(t + 1)) * # exp(μ(t)) *\n",
    "    (α * exp(GDP(t + 1)) / exp(k(t + 1)) + 1 - δ + ϕ * (exp(kfu(t + 1)) - exp(k(t + 1)))), #Investment FOC\n",
    "    exp(r(t+1)) - r_w - riskpremium(t+1), #Interest rate\n",
    "    riskpremium(t+1) - ψ * (exp(d(t+1) - d_bar) - 1), # - ζ(t), #Risk premium\n",
    "    tb(t) - 1 +\n",
    "    ((exp(c(t)) + exp(i(t)) + (ϕ / 2) * (exp(k(t + 1)) - exp(k(t)))^2) / exp(GDP(t))), #Trade Balance\n",
    "    ca(t) - (1 / -exp(GDP(t))) * (d(t) - d(t + 1)), #Current Account\n",
    "    kfu(t) - k(t + 1), #auxiliary future variable\n",
    "    a(t + 1) - ρ * a(t)] #, #TFP evolution\n",
    "    # ζ(t + 1) - ρ_u * ζ(t), #Risk premium shock\n",
    "    # μ(t + 1) - ρ_v * μ(t)] #Demand shock\n",
    "    \n",
    "#Define representations for steady state\n",
    "\n",
    "hstar = ((1 - α) * (α / (r_w + δ))^(α / (1 - α)))^(1 / (ω - 1))\n",
    "kstar = hstar / (((r_w + δ) / α)^(1 / (1 - α)))\n",
    "istar = δ * kstar\n",
    "GDPstar = (kstar^α) * (hstar^(1 - α))\n",
    "cstar = GDPstar - istar - r_w * d_bar\n",
    "tbstar = GDPstar - cstar - istar\n",
    "λstar = (cstar - ((hstar^ω) / ω))^(-γ)\n",
    "    \n",
    "#Steady state values\n",
    "    \n",
    "steady_states = [c(∞) ~ log(cstar), h(∞) ~ log(hstar),\n",
    "                 GDP(∞) ~ log(GDPstar), i(∞) ~ log(istar), kfu(∞) ~ log(kstar), \n",
    "                 λ(∞) ~ log(λstar), tb(∞) ~ tbstar, ca(∞) ~ 0,\n",
    "                 d(∞) ~ d_bar, k(∞) ~ log(kstar), r(∞) ~ log((1 - β) / β), a(∞) ~ 0, riskpremium(∞) ~ 0] #,\n",
    "                     #ζ(∞) ~ 0,\n",
    "                     #μ(∞) ~ 0]\n",
    "\n",
    "n_ϵ = 1 # 3\n",
    "n_x = length(x)\n",
    "n_y = length(y)\n",
    "Γ = [σe;;]\n",
    "#zeros(Num, n_ϵ, n_ϵ) # make sure it is not a float64 matrix\n",
    "#Γ[1, 1] = σe\n",
    "#Γ[2, 2] = σu\n",
    "#Γ[3, 3] = σv\n",
    "η = [0.; 0.; 0.; 1.; 0.;] #zeros(n_x, n_ϵ) # η is n_x * n_ϵ matrix\n",
    "#η[1, 1] = 1 # e\n",
    "#η[2, 2] = 1 # u\n",
    "#η[3, 3] = 1 # v\n",
    "\n",
    "n_z = 3 # number of observables\n",
    "Q = zeros(n_z, n_x + n_y) # the order is [y, x]\n",
    "Q[1, 3] = 1.0 # y i.e. GDP\n",
    "Q[2, 8] = 1.0 # ca\n",
    "Q[3, 11] = 1.0 # r\n",
    "\n",
    "Ω = [Ω_1, Ω_1, Ω_1]\n",
    "    \n",
    "# Generates the files and includes if required.\n",
    "#overwrite_model_cache  = true\n",
    "  \n",
    "model_sgu6 = make_perturbation_model(H; t, y, x, p, steady_states, Γ, Ω, η, Q, max_order = 1, model_name=\"sgu6\") "
   ]
  },
  {
   "cell_type": "code",
   "execution_count": 37,
   "id": "8c3f5dd5-de7c-4055-9c0c-663c40618c48",
   "metadata": {},
   "outputs": [
    {
     "data": {
      "text/plain": [
       "Main.sgu6"
      ]
     },
     "execution_count": 37,
     "metadata": {},
     "output_type": "execute_result"
    }
   ],
   "source": [
    "include(\"/Users/dchilder/.julia/packages/DifferentiableStateSpaceModels/qRvKd/.function_cache/sgu6.jl\")"
   ]
  },
  {
   "cell_type": "code",
   "execution_count": 38,
   "id": "b2abf357-7902-4c94-80a4-f7cfbec2c335",
   "metadata": {},
   "outputs": [
    {
     "data": {
      "text/plain": [
       "Perturbation Model: n_y = 8, n_x = 5, n_p = 12, n_ϵ = 1, n_z = 3\n",
       " y = [:c, :h, :GDP, :i, :kfu, :λ, :tb, :ca] \n",
       " x = [:d, :k, :r, :a, :riskpremium] \n",
       " p = [:γ, :ω, :ρ, :σe, :δ, :ψ, :α, :ϕ, :β, :r_w, :d_bar, :Ω_1]"
      ]
     },
     "execution_count": 38,
     "metadata": {},
     "output_type": "execute_result"
    }
   ],
   "source": [
    "model_sgu6 = DifferentiableStateSpaceModels.PerturbationModel(getfield(Main, Symbol(\"sgu6\")))"
   ]
  },
  {
   "cell_type": "code",
   "execution_count": 39,
   "id": "4a22508e-0423-4638-ae5f-04b2f3d8485a",
   "metadata": {},
   "outputs": [
    {
     "name": "stdout",
     "output_type": "stream",
     "text": [
      "sol.retcode = :Success\n"
     ]
    },
    {
     "data": {
      "text/plain": [
       ":Success"
      ]
     },
     "execution_count": 39,
     "metadata": {},
     "output_type": "execute_result"
    }
   ],
   "source": [
    "#Solve at a point: note extra parameters\n",
    "p_f = (; γ = 2.0, ω = 1.455, σe = 0.0129, δ = 0.1, ψ = 0.000742,\n",
    "              ϕ = 0.028, r_w = 0.04, d_bar = 0.7442, ρ_u = 0.2,\n",
    "              σu = 0.003, ρ_v = 0.4, σv = 0.1, Ω_1 = 0.00316)\n",
    "p_d = (; ρ = 0.42, α = 0.32, β = 1.0 / (1.0 + 0.04))\n",
    "\n",
    "sol = generate_perturbation(model_sgu6, p_d, p_f) # Solution to the first-order model\n",
    "@show sol.retcode"
   ]
  },
  {
   "cell_type": "code",
   "execution_count": 40,
   "id": "5f1d641a-2721-4f85-8ac5-b38d32ad773f",
   "metadata": {},
   "outputs": [
    {
     "ename": "LoadError",
     "evalue": "DimensionMismatch(\"vectors must have same lengths\")",
     "output_type": "error",
     "traceback": [
      "DimensionMismatch(\"vectors must have same lengths\")",
      "",
      "Stacktrace:",
      " [1] hcat",
      "   @ ./array.jl:1804 [inlined]",
      " [2] verify_steady_state(m::PerturbationModel{1, true, Matrix{Float64}, Matrix{Float64}}, p_d::NamedTuple{(:ρ, :α, :β), Tuple{Float64, Float64, Float64}}, p_f::NamedTuple{(:γ, :ω, :σe, :δ, :ψ, :ϕ, :r_w, :d_bar, :ρ_u, :σu, :ρ_v, :σv, :Ω_1), NTuple{13, Float64}}; atol::Float64, args::Base.Pairs{Symbol, Union{}, Tuple{}, NamedTuple{(), Tuple{}}})",
      "   @ DifferentiableStateSpaceModels ~/.julia/packages/DifferentiableStateSpaceModels/qRvKd/src/generate_perturbation.jl:31",
      " [3] verify_steady_state(m::PerturbationModel{1, true, Matrix{Float64}, Matrix{Float64}}, p_d::NamedTuple{(:ρ, :α, :β), Tuple{Float64, Float64, Float64}}, p_f::NamedTuple{(:γ, :ω, :σe, :δ, :ψ, :ϕ, :r_w, :d_bar, :ρ_u, :σu, :ρ_v, :σv, :Ω_1), NTuple{13, Float64}})",
      "   @ DifferentiableStateSpaceModels ~/.julia/packages/DifferentiableStateSpaceModels/qRvKd/src/generate_perturbation.jl:27",
      " [4] top-level scope",
      "   @ In[40]:1",
      " [5] eval",
      "   @ ./boot.jl:373 [inlined]",
      " [6] include_string(mapexpr::typeof(REPL.softscope), mod::Module, code::String, filename::String)",
      "   @ Base ./loading.jl:1196"
     ]
    }
   ],
   "source": [
    "verify_steady_state(model_sgu6, p_d, p_f)"
   ]
  },
  {
   "cell_type": "markdown",
   "id": "7b3b9156-1ddd-48c6-9236-e00bf749e14e",
   "metadata": {},
   "source": [
    "Okay, still getting `DimensionMismatch(\"vectors must have same lengths\")`, so that didn't fix things, unsurprisingly."
   ]
  },
  {
   "cell_type": "code",
   "execution_count": 53,
   "id": "15cdf677-6dce-41b5-8391-a58302f0043e",
   "metadata": {},
   "outputs": [
    {
     "data": {
      "text/plain": [
       "steady_state_mat (generic function with 1 method)"
      ]
     },
     "execution_count": 53,
     "metadata": {},
     "output_type": "execute_result"
    }
   ],
   "source": [
    "#Modify code to fix bugs and return more informative output\n",
    "order_vector_by_symbols(x, symbols) = [x[sym] for sym in symbols]\n",
    "function steady_state_mat(m, p_d, p_f; args...)\n",
    "    sol = generate_perturbation(m, p_d, p_f; args...)\n",
    "    p_d_symbols = collect(Symbol.(keys(p_d)))\n",
    "    p = order_vector_by_symbols(merge(p_d, p_f), m.mod.m.p_symbols)\n",
    "    w = vcat(sol.y, sol.x) # get a vector for the proposed steadystate\n",
    "    Hnew = Vector{Float64}(undef, length(w)) # allocate it, but leave undef to make sure we can see if it goes to 0 or not\n",
    "    m.mod.m.H̄!(Hnew, w, p)  # evaluate in place\n",
    "    return Hnew\n",
    "end"
   ]
  },
  {
   "cell_type": "code",
   "execution_count": 54,
   "id": "c2c22959-8bb5-470c-9868-bda88684bb37",
   "metadata": {},
   "outputs": [
    {
     "data": {
      "text/plain": [
       "13-element Vector{Float64}:\n",
       "  0.0\n",
       " -4.440892098500626e-16\n",
       "  0.0\n",
       "  0.0\n",
       "  0.0\n",
       "  8.881784197001252e-16\n",
       "  0.0\n",
       "  9.71445146547012e-17\n",
       "  0.0\n",
       "  0.009742265638169822\n",
       "  0.0\n",
       "  0.0\n",
       "  0.0"
      ]
     },
     "execution_count": 54,
     "metadata": {},
     "output_type": "execute_result"
    }
   ],
   "source": [
    "ss = steady_state_mat(model_sgu6, p_d, p_f)"
   ]
  },
  {
   "cell_type": "markdown",
   "id": "26a9ffda-523a-4e85-a502-39c4acfe1e8f",
   "metadata": {},
   "source": [
    "Progress! Now at least we can see which steady state variable is causing the problem. It's number 10 in `[y, x]`, which is... `k` capital! Weirdly, `istar`, which is defined as a function of kstar, has error 0. Likewise a few others, eg GDPstar and kfu, which is literally the same thing up to a time shift, so should be exactly identical. "
   ]
  },
  {
   "cell_type": "code",
   "execution_count": 68,
   "id": "18acafc5-e404-4434-a5ff-7f43e3b4e9b5",
   "metadata": {},
   "outputs": [
    {
     "name": "stdout",
     "output_type": "stream",
     "text": [
      "\u001b[36mBuilding model up to order 1\u001b[39m\n",
      "\u001b[36mSubstituting and simplifying\u001b[39m\n",
      "\u001b[36mBuilding model functions\u001b[39m\n",
      "\u001b[36mSaved sgu8 to /Users/dchilder/.julia/packages/DifferentiableStateSpaceModels/qRvKd/.function_cache/sgu8.jl\u001b[39m\n"
     ]
    },
    {
     "data": {
      "text/plain": [
       "\"/Users/dchilder/.julia/packages/DifferentiableStateSpaceModels/qRvKd/.function_cache/sgu8.jl\""
      ]
     },
     "execution_count": 68,
     "metadata": {},
     "output_type": "execute_result"
    }
   ],
   "source": [
    "∞ = Inf\n",
    "# Parameters\n",
    "@variables γ, ω, ρ, σe, δ, ψ, α, ϕ, β, r_w, d_bar #, ρ_u, σu, ρ_v, σv\n",
    "# x and y\n",
    "@variables t::Integer, d(..), c(..), h(..), GDP(..), i(..), k(..), a(..), λ(..), tb(..),\n",
    "               ca(..), riskpremium(..), r(..), kfu(..)  #, ζ(..), μ(..)\n",
    "@variables Ω_1\n",
    "x = [d, k, r, a, riskpremium]\n",
    "y = [c, h, GDP, i, kfu, λ, tb, ca]\n",
    "p = [γ, ω, ρ, σe, δ, ψ, α, ϕ, β, r_w, d_bar, Ω_1] #ρ_u, σu, ρ_v, σv\n",
    "    \n",
    "# Model equations\n",
    "H = [d(t+1) - (1 + exp(r(t))) * d(t) + exp(GDP(t)) - exp(c(t)) - exp(i(t)) -\n",
    "    (ϕ / 2) * (exp(k(t+1)) - exp(k(t)))^2, #Debt evolution\n",
    "    exp(GDP(t)) - exp(a(t)) * (exp(k(t))^α) * (exp(h(t))^(1 - α)), #Production function\n",
    "    exp(k(t + 1)) - exp(i(t)) - (1 - δ) * exp(k(t)), #Capital evolution\n",
    "    exp(λ(t)) - β * (1 + exp(r(t+1))) * exp(λ(t + 1)), #* exp(μ(t)), #Euler equation\n",
    "    (exp(c(t)) - ((exp(h(t))^ω) / ω))^(-γ) - exp(λ(t)), #Marginal utility\n",
    "    ((exp(c(t)) - ((exp(h(t))^ω) / ω))^(-γ)) * (exp(h(t))^(ω - 1)) -\n",
    "    exp(λ(t)) * (1 - α) * exp(GDP(t)) / exp(h(t)), #Labor FOC\n",
    "    exp(λ(t)) * (1 + ϕ * (exp(k(t + 1)) - exp(k(t)))) -\n",
    "    β *\n",
    "    exp(λ(t + 1)) * # exp(μ(t)) *\n",
    "    (α * exp(GDP(t + 1)) / exp(k(t + 1)) + 1 - δ + ϕ * (exp(kfu(t + 1)) - exp(k(t + 1)))), #Investment FOC\n",
    "    exp(r(t+1)) - r_w - riskpremium(t+1), #Interest rate\n",
    "    riskpremium(t+1) - ψ * (exp(d(t+1) - d_bar) - 1), # - ζ(t), #Risk premium\n",
    "    tb(t) - 1 +\n",
    "    ((exp(c(t)) + exp(i(t)) + (ϕ / 2) * (exp(k(t + 1)) - exp(k(t)))^2) / exp(GDP(t))), #Trade Balance\n",
    "    ca(t) - (1 / -exp(GDP(t))) * (d(t) - d(t + 1)), #Current Account\n",
    "    kfu(t) - k(t + 1), #auxiliary future variable\n",
    "    a(t + 1) - ρ * a(t)] #, #TFP evolution\n",
    "    # ζ(t + 1) - ρ_u * ζ(t), #Risk premium shock\n",
    "    # μ(t + 1) - ρ_v * μ(t)] #Demand shock\n",
    "    \n",
    "#Define representations for steady state\n",
    "\n",
    "hstar = ((1 - α) * (α / (r_w + δ))^(α / (1 - α)))^(1 / (ω - 1))\n",
    "kstar = hstar / (((r_w + δ) / α)^(1 / (1 - α)))\n",
    "istar = δ * kstar\n",
    "GDPstar = (kstar^α) * (hstar^(1 - α))\n",
    "cstar = GDPstar - istar - r_w * d_bar\n",
    "tbstar = 1 - ((cstar + istar) / GDPstar) #This is the one I fixed\n",
    "λstar = (cstar - ((hstar^ω) / ω))^(-γ)\n",
    "    \n",
    "#Steady state values\n",
    "    \n",
    "steady_states = [c(∞) ~ log(cstar), h(∞) ~ log(hstar),\n",
    "                 GDP(∞) ~ log(GDPstar), i(∞) ~ log(istar), kfu(∞) ~ log(kstar), \n",
    "                 λ(∞) ~ log(λstar), tb(∞) ~ tbstar, ca(∞) ~ 0,\n",
    "                 d(∞) ~ d_bar, k(∞) ~ log(kstar), r(∞) ~ log((1 - β) / β), a(∞) ~ 0, riskpremium(∞) ~ 0] #,\n",
    "                     #ζ(∞) ~ 0,\n",
    "                     #μ(∞) ~ 0]\n",
    "\n",
    "n_ϵ = 1 # 3\n",
    "n_x = length(x)\n",
    "n_y = length(y)\n",
    "Γ = [σe;;]\n",
    "#zeros(Num, n_ϵ, n_ϵ) # make sure it is not a float64 matrix\n",
    "#Γ[1, 1] = σe\n",
    "#Γ[2, 2] = σu\n",
    "#Γ[3, 3] = σv\n",
    "η = [0.; 0.; 0.; 1.; 0.;] #zeros(n_x, n_ϵ) # η is n_x * n_ϵ matrix\n",
    "#η[1, 1] = 1 # e\n",
    "#η[2, 2] = 1 # u\n",
    "#η[3, 3] = 1 # v\n",
    "\n",
    "n_z = 3 # number of observables\n",
    "Q = zeros(n_z, n_x + n_y) # the order is [y, x]\n",
    "Q[1, 3] = 1.0 # y i.e. GDP\n",
    "Q[2, 8] = 1.0 # ca\n",
    "Q[3, 11] = 1.0 # r\n",
    "\n",
    "Ω = [Ω_1, Ω_1, Ω_1]\n",
    "    \n",
    "# Generates the files and includes if required.\n",
    "#overwrite_model_cache  = true\n",
    "  \n",
    "model_sgu8 = make_perturbation_model(H; t, y, x, p, steady_states, Γ, Ω, η, Q, max_order = 1, model_name=\"sgu8\") "
   ]
  },
  {
   "cell_type": "code",
   "execution_count": 69,
   "id": "6cdb5092-3de2-4e94-a43e-e177bc350a10",
   "metadata": {},
   "outputs": [
    {
     "data": {
      "text/plain": [
       "Main.sgu8"
      ]
     },
     "execution_count": 69,
     "metadata": {},
     "output_type": "execute_result"
    }
   ],
   "source": [
    "include(\"/Users/dchilder/.julia/packages/DifferentiableStateSpaceModels/qRvKd/.function_cache/sgu8.jl\")"
   ]
  },
  {
   "cell_type": "code",
   "execution_count": 70,
   "id": "4b9662e5-5533-4833-9021-eedfee218f7d",
   "metadata": {},
   "outputs": [
    {
     "data": {
      "text/plain": [
       "Perturbation Model: n_y = 8, n_x = 5, n_p = 12, n_ϵ = 1, n_z = 3\n",
       " y = [:c, :h, :GDP, :i, :kfu, :λ, :tb, :ca] \n",
       " x = [:d, :k, :r, :a, :riskpremium] \n",
       " p = [:γ, :ω, :ρ, :σe, :δ, :ψ, :α, :ϕ, :β, :r_w, :d_bar, :Ω_1]"
      ]
     },
     "execution_count": 70,
     "metadata": {},
     "output_type": "execute_result"
    }
   ],
   "source": [
    "model_sgu8 = DifferentiableStateSpaceModels.PerturbationModel(getfield(Main, Symbol(\"sgu8\")))"
   ]
  },
  {
   "cell_type": "code",
   "execution_count": 71,
   "id": "774602d6-36c4-4555-b29e-8461eff0ba17",
   "metadata": {},
   "outputs": [
    {
     "name": "stdout",
     "output_type": "stream",
     "text": [
      "sol.retcode = :Success\n"
     ]
    },
    {
     "data": {
      "text/plain": [
       ":Success"
      ]
     },
     "execution_count": 71,
     "metadata": {},
     "output_type": "execute_result"
    }
   ],
   "source": [
    "#Solve at a point: note extra parameters\n",
    "p_f = (; γ = 2.0, ω = 1.455, σe = 0.0129, δ = 0.1, ψ = 0.000742,\n",
    "              ϕ = 0.028, r_w = 0.04, d_bar = 0.7442, ρ_u = 0.2,\n",
    "              σu = 0.003, ρ_v = 0.4, σv = 0.1, Ω_1 = 0.00316)\n",
    "p_d = (; ρ = 0.42, α = 0.32, β = 1.0 / (1.0 + 0.04))\n",
    "\n",
    "sol = generate_perturbation(model_sgu8, p_d, p_f) # Solution to the first-order model\n",
    "@show sol.retcode"
   ]
  },
  {
   "cell_type": "code",
   "execution_count": 72,
   "id": "d56f7f1c-b811-430d-8330-709462be621b",
   "metadata": {},
   "outputs": [
    {
     "data": {
      "text/plain": [
       "13-element Vector{Float64}:\n",
       "  0.0\n",
       " -4.440892098500626e-16\n",
       "  0.0\n",
       "  0.0\n",
       "  0.0\n",
       "  8.881784197001252e-16\n",
       "  0.0\n",
       "  9.71445146547012e-17\n",
       "  0.0\n",
       "  0.0\n",
       "  0.0\n",
       "  0.0\n",
       "  0.0"
      ]
     },
     "execution_count": 72,
     "metadata": {},
     "output_type": "execute_result"
    }
   ],
   "source": [
    "ss = steady_state_mat(model_sgu8, p_d, p_f)"
   ]
  },
  {
   "cell_type": "markdown",
   "id": "ad553391-c34e-4f72-a4e3-ab32f20b12cc",
   "metadata": {},
   "source": [
    "Okay, that changed the nesting parentheses in hstar, which looked complicated and I'd rather just rerun than count them, but it didn't work, and made lambda wrong too. So let's revert that and keep searching.. \n",
    "\n",
    "Update: second try, fixed the trade balance equation, everything works."
   ]
  },
  {
   "cell_type": "code",
   "execution_count": 73,
   "id": "fdb20240-bf51-48e2-91a2-2041152a65a1",
   "metadata": {},
   "outputs": [
    {
     "data": {
      "text/plain": [
       "DifferentiableStateSpaceModels.FirstOrderPerturbationSolution{Vector{Float64}, Vector{Float64}, Matrix{Float64}, Matrix{Float64}, Matrix{Float64}, Vector{Float64}, Matrix{Float64}, Matrix{Float64}, Matrix{Float64}, Matrix{Float64}, Matrix{Float64}}(:Success, [:d, :k, :r, :a, :riskpremium], [:c, :h, :GDP, :i, :kfu, :λ, :tb, :ca], [:γ, :ω, :ρ, :σe, :δ, :ψ, :α, :ϕ, :β, :r_w, :d_bar, :Ω_1], [:ρ, :α, :β], [:c, :h, :GDP, :i, :kfu, :λ, :tb, :ca, :d, :k, :r, :a, :riskpremium], 8, 5, 12, 1, 3, [0.11060245636938473, 0.007390615600776165, 0.3964158265111139, -1.0794906932984638, 1.2230943996955819, 1.7243861964374876, 0.020025734361830194, 0.0], [0.7442, 1.2230943996955819, -3.2188758248681983, 0.0, 0.0], [-0.0392063400291571 0.5064308876337922 … 1.2604305985051107 1.4385597265255705e-20; -1.6169790391154494e-16 0.41290322580645206 … 1.290322580645163 5.928867166769183e-35; … ; 0.04451868414563113 1.1217837540922624 … -0.6435121134448112 2.420117067788531e-20; -0.017609608142096927 -1.1338146985037036 … 0.6059154121590536 -1.6983159667258125e-20], [0.9738235409647154 -1.6854011610874897 … 0.9006855710385173 -2.3344614681814747e-19; -0.006588281444814504 0.50031132656806 … 0.6721065922179396 -7.132033996793642e-21; … ; 9.714747745405493e-19 2.5191695425121436e-18 … 0.42000000000000015 -7.856406763606847e-37; 0.0007225770673958506 -0.0012505676615270486 … 0.0006683086937105887 7.487571557567597e-21], [0.0; 0.0; … ; 0.0129; 0.0;;], [-1.0546054985491059e-16 0.6007741935483872 … 1.8774193548387108 3.866940760934722e-35; -0.017609608142096927 -1.1338146985037036 … 0.6059154121590536 -1.6983159667258125e-20; 0.0 0.0 … 0.0 0.0], [9.9856e-6, 9.9856e-6, 9.9856e-6], [0.0 0.0 … 0.0 0.0; 0.0 0.0 … 0.0 0.0; 0.0 0.0 … 0.0 0.0], [0.0; 0.0; … ; 1.0; 0.0;;], [0.12900776084154897 -0.0018026948896334048 … 4.303766190559362e-5 9.572375854443376e-5; -0.0018026948896334048 0.00020921800947910525 … 7.205881413606975e-5 -1.3375996081080644e-6; … ; 4.303766190559362e-5 7.205881413606975e-5 … 0.0002020519669742598 3.193394513397466e-8; 9.572375854443376e-5 -1.3375996081080644e-6 … 3.193394513397466e-8 7.102702883997313e-8], [0.0129;;])"
      ]
     },
     "execution_count": 73,
     "metadata": {},
     "output_type": "execute_result"
    }
   ],
   "source": [
    "sol"
   ]
  },
  {
   "cell_type": "code",
   "execution_count": 74,
   "id": "59bcd26e-1bfe-4979-8b9d-85913806c22a",
   "metadata": {},
   "outputs": [
    {
     "data": {
      "text/plain": [
       "1.007417993605465"
      ]
     },
     "execution_count": 74,
     "metadata": {},
     "output_type": "execute_result"
    }
   ],
   "source": [
    "hstar=((1 - p_d[:α]) * (p_d[:α] / (p_f[:r_w] + p_f[:δ]))^(p_d[:α] / (1 - p_d[:α])))^(1 / (p_f[:ω] - 1))"
   ]
  },
  {
   "cell_type": "code",
   "execution_count": 75,
   "id": "bc154a6c-0dc7-4668-89a6-0e06988abcf7",
   "metadata": {},
   "outputs": [
    {
     "data": {
      "text/plain": [
       "3.3976852797384494"
      ]
     },
     "execution_count": 75,
     "metadata": {},
     "output_type": "execute_result"
    }
   ],
   "source": [
    "kstar = hstar / (((p_f[:r_w] + p_f[:δ]) / p_d[:α])^(1 / (1 - p_d[:α])))"
   ]
  },
  {
   "cell_type": "code",
   "execution_count": 76,
   "id": "f3b0adf9-56ca-4dbf-8b90-c7783ca7f8fd",
   "metadata": {},
   "outputs": [
    {
     "data": {
      "text/plain": [
       "1.2230943996955819"
      ]
     },
     "execution_count": 76,
     "metadata": {},
     "output_type": "execute_result"
    }
   ],
   "source": [
    "kss = log(kstar)"
   ]
  },
  {
   "cell_type": "code",
   "execution_count": 77,
   "id": "8a62edf5-33fd-41fa-af7e-8831cccf7edb",
   "metadata": {},
   "outputs": [
    {
     "data": {
      "text/plain": [
       "0.007390615600776165"
      ]
     },
     "execution_count": 77,
     "metadata": {},
     "output_type": "execute_result"
    }
   ],
   "source": [
    "hss = log(hstar)"
   ]
  },
  {
   "cell_type": "markdown",
   "id": "5d852921-2a8f-4395-ae67-6061de548aad",
   "metadata": {},
   "source": [
    "Okay, a simple unit test is checking whether these values equal the ones found with the dynare versions of the formula. If not, that tells us the problem is, as I suspect, with the value of kstar."
   ]
  },
  {
   "cell_type": "code",
   "execution_count": 78,
   "id": "c171d6e4-07c8-4dee-ba16-6acc16ca5be2",
   "metadata": {},
   "outputs": [
    {
     "data": {
      "text/plain": [
       "0.007390615600776165"
      ]
     },
     "execution_count": 78,
     "metadata": {},
     "output_type": "execute_result"
    }
   ],
   "source": [
    "hd     = log(((1 - p_d[:α])*(p_d[:α] / (p_f[:r_w] + p_f[:δ]))^(p_d[:α] / (1 - p_d[:α])))^(1 / (p_f[:ω]-1)))"
   ]
  },
  {
   "cell_type": "code",
   "execution_count": 79,
   "id": "9c4a63fe-b0d8-4999-9aa9-1e9eeec13061",
   "metadata": {},
   "outputs": [
    {
     "data": {
      "text/plain": [
       "1.2230943996955819"
      ]
     },
     "execution_count": 79,
     "metadata": {},
     "output_type": "execute_result"
    }
   ],
   "source": [
    "kd     = log(exp(hd) / (((p_f[:r_w] + p_f[:δ]) / p_d[:α])^(1 / (1 - p_d[:α]))))"
   ]
  },
  {
   "cell_type": "markdown",
   "id": "93a8b51c-0dc6-4905-84af-62beaa9be823",
   "metadata": {},
   "source": [
    "Well shit, those are identical. So at least I know that the problem isn't that formula, which is apparently fine. It would have been nice for it to be just a typo..."
   ]
  },
  {
   "cell_type": "markdown",
   "id": "7c51f715-7d21-44b5-b08e-4e53e5e1a18d",
   "metadata": {},
   "source": [
    "Wait... I feel dumb. The steady state entries refer to equations, not to variables (which must be equal in cardinality). So I should be focusing on equation 10, not variable 10. That one is... trade balance.\n",
    "\n",
    "Update: Fixed it to match Dynare equation, everythign works fine!"
   ]
  },
  {
   "cell_type": "code",
   "execution_count": null,
   "id": "03a7df95-01c6-47b4-b5a9-916ca10db34b",
   "metadata": {},
   "outputs": [],
   "source": []
  }
 ],
 "metadata": {
  "kernelspec": {
   "display_name": "Julia 1.7.2",
   "language": "julia",
   "name": "julia-1.7"
  },
  "language_info": {
   "file_extension": ".jl",
   "mimetype": "application/julia",
   "name": "julia",
   "version": "1.7.2"
  }
 },
 "nbformat": 4,
 "nbformat_minor": 5
}
